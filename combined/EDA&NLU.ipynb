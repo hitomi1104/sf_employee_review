{
 "cells": [
  {
   "cell_type": "code",
   "execution_count": 1,
   "id": "ff5cdac9",
   "metadata": {},
   "outputs": [],
   "source": [
    "import nlu\n",
    "import os\n",
    "import numpy as np \n",
    "import pandas as pd \n",
    "\n",
    "# import\n",
    "import numpy as np\n",
    "import scipy.stats as stats\n",
    "import seaborn as sns\n",
    "import matplotlib.pyplot as plt\n",
    "import pandas as pd\n",
    "import altair as alt\n",
    "import warnings\n",
    "import streamlit as st\n",
    "from keras.layers import Dense, Activation\n",
    "from keras.models import Sequential\n",
    "from tensorflow import keras\n",
    "from sklearn.cluster import KMeans\n",
    "import warnings"
   ]
  },
  {
   "cell_type": "code",
   "execution_count": 2,
   "id": "d642e42f",
   "metadata": {},
   "outputs": [],
   "source": [
    "df = pd.read_csv(\"data/combined.csv\")"
   ]
  },
  {
   "cell_type": "code",
   "execution_count": 3,
   "id": "fa015a12",
   "metadata": {},
   "outputs": [],
   "source": [
    "df.drop(columns = ['Unnamed: 0'], inplace = True)"
   ]
  },
  {
   "cell_type": "code",
   "execution_count": 4,
   "id": "8bcdc062",
   "metadata": {},
   "outputs": [
    {
     "data": {
      "text/html": [
       "<div>\n",
       "<style scoped>\n",
       "    .dataframe tbody tr th:only-of-type {\n",
       "        vertical-align: middle;\n",
       "    }\n",
       "\n",
       "    .dataframe tbody tr th {\n",
       "        vertical-align: top;\n",
       "    }\n",
       "\n",
       "    .dataframe thead th {\n",
       "        text-align: right;\n",
       "    }\n",
       "</style>\n",
       "<table border=\"1\" class=\"dataframe\">\n",
       "  <thead>\n",
       "    <tr style=\"text-align: right;\">\n",
       "      <th></th>\n",
       "      <th>rating</th>\n",
       "      <th>pros</th>\n",
       "      <th>rating.1</th>\n",
       "      <th>cons</th>\n",
       "    </tr>\n",
       "  </thead>\n",
       "  <tbody>\n",
       "    <tr>\n",
       "      <th>0</th>\n",
       "      <td>4.7</td>\n",
       "      <td>[ ' working ' , ' hoursholidaysholidays ' , ' ...</td>\n",
       "      <td>4.7</td>\n",
       "      <td>[ ' working ' , ' hoursholidaysholidays ' , ' ...</td>\n",
       "    </tr>\n",
       "    <tr>\n",
       "      <th>1</th>\n",
       "      <td>4.9</td>\n",
       "      <td>[ ' corporate ' , ' culturecorporate ' , ' cul...</td>\n",
       "      <td>5.0</td>\n",
       "      <td>[ ' salary ' , ' system ' , ' 80 ' , ' ' , ' '...</td>\n",
       "    </tr>\n",
       "    <tr>\n",
       "      <th>2</th>\n",
       "      <td>5.0</td>\n",
       "      <td>[ ' corporate ' , ' culturecorporate ' , ' cul...</td>\n",
       "      <td>5.0</td>\n",
       "      <td>[ ' welfare ' , ' ' , ' ' , ' ' , ' good ' , '...</td>\n",
       "    </tr>\n",
       "    <tr>\n",
       "      <th>3</th>\n",
       "      <td>3.8</td>\n",
       "      <td>[ ' office ' , ' environment ' , ' ' , ' moved...</td>\n",
       "      <td>2.8</td>\n",
       "      <td>[ ' working ' , ' hoursholiday ' , ' leave ' ,...</td>\n",
       "    </tr>\n",
       "    <tr>\n",
       "      <th>4</th>\n",
       "      <td>4.5</td>\n",
       "      <td>[ ' working ' , ' hoursholidaysholidaysholiday...</td>\n",
       "      <td>4.7</td>\n",
       "      <td>[ ' working ' , ' hoursholidaysholidays ' , ' ...</td>\n",
       "    </tr>\n",
       "  </tbody>\n",
       "</table>\n",
       "</div>"
      ],
      "text/plain": [
       "   rating                                               pros  rating.1  \\\n",
       "0     4.7  [ ' working ' , ' hoursholidaysholidays ' , ' ...       4.7   \n",
       "1     4.9  [ ' corporate ' , ' culturecorporate ' , ' cul...       5.0   \n",
       "2     5.0  [ ' corporate ' , ' culturecorporate ' , ' cul...       5.0   \n",
       "3     3.8  [ ' office ' , ' environment ' , ' ' , ' moved...       2.8   \n",
       "4     4.5  [ ' working ' , ' hoursholidaysholidaysholiday...       4.7   \n",
       "\n",
       "                                                cons  \n",
       "0  [ ' working ' , ' hoursholidaysholidays ' , ' ...  \n",
       "1  [ ' salary ' , ' system ' , ' 80 ' , ' ' , ' '...  \n",
       "2  [ ' welfare ' , ' ' , ' ' , ' ' , ' good ' , '...  \n",
       "3  [ ' working ' , ' hoursholiday ' , ' leave ' ,...  \n",
       "4  [ ' working ' , ' hoursholidaysholidays ' , ' ...  "
      ]
     },
     "execution_count": 4,
     "metadata": {},
     "output_type": "execute_result"
    }
   ],
   "source": [
    "df.head()"
   ]
  },
  {
   "cell_type": "markdown",
   "id": "18056919",
   "metadata": {},
   "source": [
    "## Emotion analysis\n",
    "### Pros"
   ]
  },
  {
   "cell_type": "code",
   "execution_count": 5,
   "id": "70c9e01c",
   "metadata": {
    "scrolled": true
   },
   "outputs": [
    {
     "name": "stderr",
     "output_type": "stream",
     "text": [
      "22/08/21 19:36:55 WARN Utils: Your hostname, HITOMIs-MacBook-Pro.local resolves to a loopback address: 127.0.0.1; using 192.168.84.21 instead (on interface en0)\n",
      "22/08/21 19:36:55 WARN Utils: Set SPARK_LOCAL_IP if you need to bind to another address\n"
     ]
    },
    {
     "name": "stdout",
     "output_type": "stream",
     "text": [
      ":: loading settings :: url = jar:file:/Users/hitomihoshino/opt/anaconda3/lib/python3.8/site-packages/pyspark/jars/ivy-2.4.0.jar!/org/apache/ivy/core/settings/ivysettings.xml\n"
     ]
    },
    {
     "name": "stderr",
     "output_type": "stream",
     "text": [
      "Ivy Default Cache set to: /Users/hitomihoshino/.ivy2/cache\n",
      "The jars for the packages stored in: /Users/hitomihoshino/.ivy2/jars\n",
      "com.johnsnowlabs.nlp#spark-nlp_2.12 added as a dependency\n",
      ":: resolving dependencies :: org.apache.spark#spark-submit-parent-3a0f89cf-5ed3-4537-bd2a-dc4ad98a1e14;1.0\n",
      "\tconfs: [default]\n",
      "\tfound com.johnsnowlabs.nlp#spark-nlp_2.12;4.0.2 in central\n",
      "\tfound com.typesafe#config;1.4.2 in central\n",
      "\tfound org.rocksdb#rocksdbjni;6.29.5 in central\n",
      "\tfound com.amazonaws#aws-java-sdk-bundle;1.11.828 in central\n",
      "\tfound com.github.universal-automata#liblevenshtein;3.0.0 in central\n",
      "\tfound com.google.code.findbugs#annotations;3.0.1 in central\n",
      "\tfound net.jcip#jcip-annotations;1.0 in central\n",
      "\tfound com.google.code.findbugs#jsr305;3.0.1 in central\n",
      "\tfound com.google.protobuf#protobuf-java-util;3.0.0-beta-3 in central\n",
      "\tfound com.google.protobuf#protobuf-java;3.0.0-beta-3 in central\n",
      "\tfound com.google.code.gson#gson;2.3 in central\n",
      "\tfound it.unimi.dsi#fastutil;7.0.12 in central\n",
      "\tfound org.projectlombok#lombok;1.16.8 in central\n",
      "\tfound org.slf4j#slf4j-api;1.7.21 in central\n",
      "\tfound com.navigamez#greex;1.0 in central\n",
      "\tfound dk.brics.automaton#automaton;1.11-8 in central\n",
      "\tfound com.johnsnowlabs.nlp#tensorflow-cpu_2.12;0.4.2 in central\n",
      ":: resolution report :: resolve 379ms :: artifacts dl 11ms\n",
      "\t:: modules in use:\n",
      "\tcom.amazonaws#aws-java-sdk-bundle;1.11.828 from central in [default]\n",
      "\tcom.github.universal-automata#liblevenshtein;3.0.0 from central in [default]\n",
      "\tcom.google.code.findbugs#annotations;3.0.1 from central in [default]\n",
      "\tcom.google.code.findbugs#jsr305;3.0.1 from central in [default]\n",
      "\tcom.google.code.gson#gson;2.3 from central in [default]\n",
      "\tcom.google.protobuf#protobuf-java;3.0.0-beta-3 from central in [default]\n",
      "\tcom.google.protobuf#protobuf-java-util;3.0.0-beta-3 from central in [default]\n",
      "\tcom.johnsnowlabs.nlp#spark-nlp_2.12;4.0.2 from central in [default]\n",
      "\tcom.johnsnowlabs.nlp#tensorflow-cpu_2.12;0.4.2 from central in [default]\n",
      "\tcom.navigamez#greex;1.0 from central in [default]\n",
      "\tcom.typesafe#config;1.4.2 from central in [default]\n",
      "\tdk.brics.automaton#automaton;1.11-8 from central in [default]\n",
      "\tit.unimi.dsi#fastutil;7.0.12 from central in [default]\n",
      "\tnet.jcip#jcip-annotations;1.0 from central in [default]\n",
      "\torg.projectlombok#lombok;1.16.8 from central in [default]\n",
      "\torg.rocksdb#rocksdbjni;6.29.5 from central in [default]\n",
      "\torg.slf4j#slf4j-api;1.7.21 from central in [default]\n",
      "\t---------------------------------------------------------------------\n",
      "\t|                  |            modules            ||   artifacts   |\n",
      "\t|       conf       | number| search|dwnlded|evicted|| number|dwnlded|\n",
      "\t---------------------------------------------------------------------\n",
      "\t|      default     |   17  |   0   |   0   |   0   ||   17  |   0   |\n",
      "\t---------------------------------------------------------------------\n",
      ":: retrieving :: org.apache.spark#spark-submit-parent-3a0f89cf-5ed3-4537-bd2a-dc4ad98a1e14\n",
      "\tconfs: [default]\n",
      "\t0 artifacts copied, 17 already retrieved (0kB/15ms)\n",
      "22/08/21 19:36:56 WARN NativeCodeLoader: Unable to load native-hadoop library for your platform... using builtin-java classes where applicable\n",
      "Using Spark's default log4j profile: org/apache/spark/log4j-defaults.properties\n",
      "Setting default log level to \"WARN\".\n",
      "To adjust logging level use sc.setLogLevel(newLevel). For SparkR, use setLogLevel(newLevel).\n"
     ]
    },
    {
     "name": "stdout",
     "output_type": "stream",
     "text": [
      "classifierdl_use_emotion download started this may take some time.\n",
      "Approximate size to download 21.3 MB\n",
      "[ / ]classifierdl_use_emotion download started this may take some time.\n",
      "Approximate size to download 21.3 MB\n",
      "Download done! Loading the resource.\n",
      "[ | ]"
     ]
    },
    {
     "name": "stderr",
     "output_type": "stream",
     "text": [
      "2022-08-21 19:37:22.115163: I external/org_tensorflow/tensorflow/core/platform/cpu_feature_guard.cc:151] This TensorFlow binary is optimized with oneAPI Deep Neural Network Library (oneDNN) to use the following CPU instructions in performance-critical operations:  AVX2 FMA\n",
      "To enable them in other operations, rebuild TensorFlow with the appropriate compiler flags.\n"
     ]
    },
    {
     "name": "stdout",
     "output_type": "stream",
     "text": [
      "[OK!]\n",
      "tfhub_use download started this may take some time.\n",
      "Approximate size to download 923.7 MB\n",
      "[ / ]tfhub_use download started this may take some time.\n",
      "Approximate size to download 923.7 MB\n",
      "Download done! Loading the resource.\n",
      "[OK!]\n"
     ]
    },
    {
     "name": "stderr",
     "output_type": "stream",
     "text": [
      "                                                                                \r"
     ]
    },
    {
     "data": {
      "image/png": "[encoded data removed]",
      "text/plain": [
       "<Figure size 432x288 with 1 Axes>"
      ]
     },
     "metadata": {
      "needs_background": "light"
     },
     "output_type": "display_data"
    }
   ],
   "source": [
    "em_pros = nlu.load('emotion').predict(df['pros'],output_level='document')\n",
    "em_pros['emotion'].value_counts().plot.bar(title='Count of predicted emotion labels')\n",
    "plt.savefig('images/em_pro_bar.jpg', bbox_inches='tight')"
   ]
  },
  {
   "cell_type": "code",
   "execution_count": 6,
   "id": "1fff3735",
   "metadata": {
    "scrolled": true
   },
   "outputs": [
    {
     "name": "stdout",
     "output_type": "stream",
     "text": [
      "classifierdl_use_emotion download started this may take some time.\n",
      "Approximate size to download 21.3 MB\n",
      "[OK!]\n",
      "tfhub_use download started this may take some time.\n",
      "Approximate size to download 923.7 MB\n",
      "[OK!]\n"
     ]
    },
    {
     "name": "stderr",
     "output_type": "stream",
     "text": [
      "                                                                                \r"
     ]
    },
    {
     "data": {
      "image/png": "[encoded data removed]",
      "text/plain": [
       "<Figure size 432x288 with 1 Axes>"
      ]
     },
     "metadata": {
      "needs_background": "light"
     },
     "output_type": "display_data"
    }
   ],
   "source": [
    "em_cons = nlu.load('emotion').predict(df['cons'],output_level='document')\n",
    "em_cons['emotion'].value_counts().plot.bar(title='Count of predicted emotion labels')\n",
    "plt.savefig('images/em_con_bar.jpg', bbox_inches='tight')"
   ]
  },
  {
   "cell_type": "markdown",
   "id": "5e625ada",
   "metadata": {},
   "source": [
    "## Sentiment"
   ]
  },
  {
   "cell_type": "code",
   "execution_count": 7,
   "id": "806d77af",
   "metadata": {},
   "outputs": [
    {
     "name": "stdout",
     "output_type": "stream",
     "text": [
      "sentimentdl_glove_imdb download started this may take some time.\n",
      "Approximate size to download 8.7 MB\n",
      "[ | ]sentimentdl_glove_imdb download started this may take some time.\n",
      "Approximate size to download 8.7 MB\n",
      "[ / ]Download done! Loading the resource.\n",
      "[OK!]\n",
      "glove_100d download started this may take some time.\n",
      "Approximate size to download 145.3 MB\n",
      "[ | ]glove_100d download started this may take some time.\n",
      "Approximate size to download 145.3 MB\n",
      "Download done! Loading the resource.\n",
      "[OK!]\n"
     ]
    },
    {
     "name": "stderr",
     "output_type": "stream",
     "text": [
      "                                                                                \r"
     ]
    },
    {
     "data": {
      "text/plain": [
       "<AxesSubplot:title={'center':'Count of predicted sentiment labels'}>"
      ]
     },
     "execution_count": 7,
     "metadata": {},
     "output_type": "execute_result"
    },
    {
     "data": {
      "image/png": "[encoded data removed]",
      "text/plain": [
       "<Figure size 432x288 with 1 Axes>"
      ]
     },
     "metadata": {
      "needs_background": "light"
     },
     "output_type": "display_data"
    }
   ],
   "source": [
    "senti_pros = nlu.load('sentiment').predict(df['pros'],output_level='document')\n",
    "senti_pros['sentiment'].value_counts().plot.bar(title='Count of predicted sentiment labels')"
   ]
  },
  {
   "cell_type": "code",
   "execution_count": null,
   "id": "9fe4c7df",
   "metadata": {},
   "outputs": [
    {
     "name": "stdout",
     "output_type": "stream",
     "text": [
      "sentimentdl_glove_imdb download started this may take some time.\n",
      "Approximate size to download 8.7 MB\n",
      "[OK!]\n",
      "glove_100d download started this may take some time.\n",
      "Approximate size to download 145.3 MB\n",
      "[OK!]\n"
     ]
    },
    {
     "name": "stderr",
     "output_type": "stream",
     "text": [
      "                                                                                \r"
     ]
    }
   ],
   "source": [
    "senti_cons = nlu.load('sentiment').predict(df['cons'],output_level='document')\n",
    "senti_cons['sentiment'].value_counts().plot.bar(title='Count of predicted sentiment labels')"
   ]
  },
  {
   "cell_type": "code",
   "execution_count": null,
   "id": "52623f61",
   "metadata": {},
   "outputs": [],
   "source": [
    "# df['emotion'] = em_cons['emotion']\n",
    "# df['sentiment'] = senti_cons['sentiment']\n",
    "\n",
    "df['emotion+'] = em_pros['emotion']\n",
    "df['sentiment+'] = senti_pros['sentiment']\n",
    "df['emotion-'] = em_cons['emotion']\n",
    "df['sentiment-'] = senti_cons['sentiment']"
   ]
  },
  {
   "cell_type": "code",
   "execution_count": null,
   "id": "91ace244",
   "metadata": {},
   "outputs": [],
   "source": [
    "em_senti = df.loc['emotion+': 'sentiment+']"
   ]
  },
  {
   "cell_type": "code",
   "execution_count": null,
   "id": "df359ede",
   "metadata": {},
   "outputs": [],
   "source": [
    "em_senti = pd.get_dummies(em_senti, prefix = ['emotion+', 'sentiment+'], columns = ['emotion+', 'sentiment+'])"
   ]
  },
  {
   "cell_type": "code",
   "execution_count": null,
   "id": "e19245c8",
   "metadata": {},
   "outputs": [],
   "source": [
    "data = {'em': ['joy', 'surprise', 'sadness','fear'], \n",
    "       'pos': [8946, 390, 35, 511], \n",
    "       'neutral': [33, 4, 6, 0],\n",
    "       'negative': [297, 64, 28, 34]}"
   ]
  },
  {
   "cell_type": "code",
   "execution_count": null,
   "id": "f0a792d2",
   "metadata": {},
   "outputs": [],
   "source": [
    "data=pd.DataFrame(data)"
   ]
  },
  {
   "cell_type": "code",
   "execution_count": null,
   "id": "5cb73f84",
   "metadata": {
    "scrolled": true
   },
   "outputs": [],
   "source": [
    "# plt.figure(figsize = (10,10))\n",
    "\n",
    "# sns.heatmap(data, \n",
    "# #             mask = mask,\n",
    "#             annot=True, \n",
    "# #             cmap = 'RdPu_r',\n",
    "# #             cmap = 'cool_r',\n",
    "#             vmax=1,\n",
    "#             vmin=-1,\n",
    "#             linewidths=.5,\n",
    "#             robust=True)"
   ]
  },
  {
   "cell_type": "code",
   "execution_count": null,
   "id": "cc0cd664",
   "metadata": {},
   "outputs": [],
   "source": [
    "fear_x_neg = df[(df['emotion-'] == 'fear') & (df['sentiment-'] == 'neg')]\n",
    "fear_x_pos = df[(df['emotion-'] == 'fear') & (df['sentiment-'] == 'pos')]\n",
    "fear_x_neutral = df[(df['emotion-'] == 'fear') & (df['sentiment-'] == 'neutral')]\n",
    "joy_x_neg = df[(df['emotion-'] == 'joy') & (df['sentiment-'] == 'neg')]\n",
    "joy_x_neutral = df[(df['emotion-'] == 'joy') & (df['sentiment-'] == 'neutral')]\n",
    "joy_x_pos = df[(df['emotion-'] == 'joy') & (df['sentiment-'] == 'pos')]\n",
    "surprise_x_pos = df[(df['emotion-'] == 'surprise') & (df['sentiment-'] == 'pos')]\n",
    "surprise_x_neg = df[(df['emotion-'] == 'surprise') & (df['sentiment-'] == 'neg')]\n",
    "surprise_x_neutral = df[(df['emotion-'] == 'surprise') & (df['sentiment-'] == 'neutral')]\n",
    "sadness_x_pos = df[(df['emotion-'] == 'sadness') & (df['sentiment-'] == 'pos')]\n",
    "sadness_x_neg = df[(df['emotion-'] == 'sadness') & (df['sentiment-'] == 'neg')]\n",
    "sadness_x_neutral = df[(df['emotion-'] == 'sadness') & (df['sentiment-'] == 'neutral')]"
   ]
  },
  {
   "cell_type": "code",
   "execution_count": null,
   "id": "b3817b63",
   "metadata": {},
   "outputs": [],
   "source": [
    "fear_x_neg = df[(df['emotion+'] == 'fear') & (df['sentiment+'] == 'neg')]\n",
    "fear_x_pos = df[(df['emotion+'] == 'fear') & (df['sentiment+'] == 'pos')]\n",
    "fear_x_neutral = df[(df['emotion+'] == 'fear') & (df['sentiment+'] == 'neutral')]\n",
    "joy_x_neg = df[(df['emotion+'] == 'joy') & (df['sentiment+'] == 'neg')]\n",
    "joy_x_neutral = df[(df['emotion+'] == 'joy') & (df['sentiment+'] == 'neutral')]\n",
    "joy_x_pos = df[(df['emotion+'] == 'joy') & (df['sentiment+'] == 'pos')]\n",
    "surprise_x_pos = df[(df['emotion+'] == 'surprise') & (df['sentiment+'] == 'pos')]\n",
    "surprise_x_neg = df[(df['emotion+'] == 'surprise') & (df['sentiment+'] == 'neg')]\n",
    "surprise_x_neutral = df[(df['emotion+'] == 'surprise') & (df['sentiment+'] == 'neutral')]\n",
    "sadness_x_pos = df[(df['emotion+'] == 'sadness') & (df['sentiment+'] == 'pos')]\n",
    "sadness_x_neg = df[(df['emotion+'] == 'sadness') & (df['sentiment+'] == 'neg')]\n",
    "sadness_x_neutral = df[(df['emotion+'] == 'sadness') & (df['sentiment+'] == 'neutral')]"
   ]
  },
  {
   "cell_type": "code",
   "execution_count": null,
   "id": "28bf46b8",
   "metadata": {},
   "outputs": [],
   "source": [
    "print(len(joy_x_neg))\n",
    "print(len(joy_x_pos))\n",
    "print(len(joy_x_neutral))"
   ]
  },
  {
   "cell_type": "code",
   "execution_count": null,
   "id": "2592a50b",
   "metadata": {},
   "outputs": [],
   "source": [
    "print(len(surprise_x_neg))\n",
    "print(len(surprise_x_pos))\n",
    "print(len(surprise_x_neutral))"
   ]
  },
  {
   "cell_type": "code",
   "execution_count": null,
   "id": "78e9fe6a",
   "metadata": {},
   "outputs": [],
   "source": [
    "print(len(sadness_x_neg))\n",
    "print(len(sadness_x_pos))\n",
    "print(len(sadness_x_neutral))"
   ]
  },
  {
   "cell_type": "code",
   "execution_count": null,
   "id": "31f3ca38",
   "metadata": {
    "scrolled": true
   },
   "outputs": [],
   "source": [
    "print(len(fear_x_neg))\n",
    "print(len(fear_x_pos))\n",
    "print(len(fear_x_neutral))"
   ]
  },
  {
   "cell_type": "code",
   "execution_count": null,
   "id": "1808955d",
   "metadata": {},
   "outputs": [],
   "source": [
    "data1 = {'em': ['joy', 'surprise', 'sadness','fear'], \n",
    "       'pos': [2443,414,610,1472], \n",
    "       'neutral': [138,24,23,132],\n",
    "       'negative': [1907,751,760,1674]}"
   ]
  },
  {
   "cell_type": "code",
   "execution_count": null,
   "id": "4da065c4",
   "metadata": {},
   "outputs": [],
   "source": [
    "data1=pd.DataFrame(data1)"
   ]
  },
  {
   "cell_type": "code",
   "execution_count": null,
   "id": "ec2bce57",
   "metadata": {},
   "outputs": [],
   "source": [
    "data1"
   ]
  },
  {
   "cell_type": "code",
   "execution_count": null,
   "id": "e5d936d8",
   "metadata": {},
   "outputs": [],
   "source": [
    "df.to_csv('data/nlp.csv')"
   ]
  },
  {
   "cell_type": "code",
   "execution_count": null,
   "id": "52f40a43",
   "metadata": {},
   "outputs": [],
   "source": []
  }
 ],
 "metadata": {
  "kernelspec": {
   "display_name": "Python 3 (ipykernel)",
   "language": "python",
   "name": "python3"
  },
  "language_info": {
   "codemirror_mode": {
    "name": "ipython",
    "version": 3
   },
   "file_extension": ".py",
   "mimetype": "text/x-python",
   "name": "python",
   "nbconvert_exporter": "python",
   "pygments_lexer": "ipython3",
   "version": "3.8.8"
  },
  "toc": {
   "base_numbering": 1,
   "nav_menu": {},
   "number_sections": true,
   "sideBar": true,
   "skip_h1_title": false,
   "title_cell": "Table of Contents",
   "title_sidebar": "Contents",
   "toc_cell": false,
   "toc_position": {},
   "toc_section_display": true,
   "toc_window_display": false
  }
 },
 "nbformat": 4,
 "nbformat_minor": 5
}
