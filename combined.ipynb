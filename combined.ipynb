{
 "cells": [
  {
   "cell_type": "code",
   "execution_count": 1,
   "id": "eb59ce97",
   "metadata": {},
   "outputs": [],
   "source": [
    "# import\n",
    "import numpy as np\n",
    "import scipy.stats as stats\n",
    "import seaborn as sns\n",
    "import matplotlib.pyplot as plt\n",
    "import pandas as pd\n",
    "import altair as alt\n",
    "import warnings\n",
    "import streamlit as st\n",
    "from keras.layers import Dense, Activation\n",
    "from keras.models import Sequential\n",
    "from tensorflow import keras\n",
    "from sklearn.cluster import KMeans\n",
    "\n",
    "\n",
    "# NLP\n",
    "import nltk\n",
    "from nltk.corpus import stopwords\n",
    "from sklearn.feature_extraction.text import CountVectorizer, TfidfVectorizer\n",
    "from wordcloud import WordCloud, STOPWORDS, ImageColorGenerator\n",
    "from PIL import Image\n",
    "from nltk.tokenize import word_tokenize\n",
    "from nltk.util import ngrams\n",
    "import string\n",
    "\n",
    "# this line tells jupyter notebook to put the plots in the notebook rather than saving them to file\n",
    "%matplotlib inline\n",
    "\n",
    "# this line makes plots prettier on mac retina screens - if you don't have one it shouldn't do anything\n",
    "%config InlineBackend.figure_format = 'retina'\n",
    "\n",
    "\n",
    "# Style\n",
    "sns.set_style(style = 'darkgrid')"
   ]
  },
  {
   "cell_type": "code",
   "execution_count": 25,
   "id": "ba705d6a",
   "metadata": {},
   "outputs": [],
   "source": [
    "df = pd.read_csv(\"global/glassdoor_webscraped.csv\")\n",
    "df2 = pd.read_csv('japan/review_jp_nlp.csv')\n"
   ]
  },
  {
   "cell_type": "code",
   "execution_count": 26,
   "id": "d1dbc135",
   "metadata": {
    "scrolled": true
   },
   "outputs": [
    {
     "data": {
      "text/html": [
       "<div>\n",
       "<style scoped>\n",
       "    .dataframe tbody tr th:only-of-type {\n",
       "        vertical-align: middle;\n",
       "    }\n",
       "\n",
       "    .dataframe tbody tr th {\n",
       "        vertical-align: top;\n",
       "    }\n",
       "\n",
       "    .dataframe thead th {\n",
       "        text-align: right;\n",
       "    }\n",
       "</style>\n",
       "<table border=\"1\" class=\"dataframe\">\n",
       "  <thead>\n",
       "    <tr style=\"text-align: right;\">\n",
       "      <th></th>\n",
       "      <th>Unnamed: 0</th>\n",
       "      <th>reviewer_info</th>\n",
       "      <th>title</th>\n",
       "      <th>rating</th>\n",
       "      <th>review</th>\n",
       "      <th>date</th>\n",
       "      <th>review_translated</th>\n",
       "      <th>reviwe_translated_original</th>\n",
       "      <th>sentiment</th>\n",
       "      <th>emotion</th>\n",
       "      <th>em_x_senti</th>\n",
       "    </tr>\n",
       "  </thead>\n",
       "  <tbody>\n",
       "    <tr>\n",
       "      <th>0</th>\n",
       "      <td>0</td>\n",
       "      <td>男性/ 営業/ 現職（回答時）/ 中途入社/ 在籍3年未満/ 正社員</td>\n",
       "      <td>Work style (working hours/holidays/systems)</td>\n",
       "      <td>4.7</td>\n",
       "      <td>勤務時間・休日休暇:ワークライフバランスをとるかどうかは自分次第。ベースとなる勤務時間は9：...</td>\n",
       "      <td>2022年03月 6日</td>\n",
       "      <td>[ ' Working ' , ' HoursHolidaysHolidays ' , ' ...</td>\n",
       "      <td>Working Hours/Holidays/Holidays: It's up to yo...</td>\n",
       "      <td>neg</td>\n",
       "      <td>joy</td>\n",
       "      <td>('joy', 'neg')</td>\n",
       "    </tr>\n",
       "    <tr>\n",
       "      <th>1</th>\n",
       "      <td>1</td>\n",
       "      <td>男性/ 営業/ 現職（回答時）/ 中途入社/ 在籍3年未満/ 正社員</td>\n",
       "      <td>Work style (working hours/holidays/systems)</td>\n",
       "      <td>4.7</td>\n",
       "      <td>勤務時間・休日休暇:ワークライフバランスを保てるかどうかは自分次第。強制的に残業や休日の仕事...</td>\n",
       "      <td>2021年02月23日</td>\n",
       "      <td>[ ' Working ' , ' HoursHolidaysHolidays ' , ' ...</td>\n",
       "      <td>Working Hours/Holidays/Holidays: It's up to yo...</td>\n",
       "      <td>pos</td>\n",
       "      <td>joy</td>\n",
       "      <td>('joy', 'pos')</td>\n",
       "    </tr>\n",
       "    <tr>\n",
       "      <th>2</th>\n",
       "      <td>2</td>\n",
       "      <td>男性/ Solution Engineer/ 現職（回答時）/ 中途入社/ 在籍3～5年/ ...</td>\n",
       "      <td>Annual salary/salary</td>\n",
       "      <td>5.0</td>\n",
       "      <td>給与制度:提示される想定年収の8割が固定給で残り2割がインセンティブインセンティブは四半期ご...</td>\n",
       "      <td>2020年11月20日</td>\n",
       "      <td>[ ' Salary ' , ' system ' , ' 80 ' , ' ' , ' '...</td>\n",
       "      <td>Salary system: 80% of the estimated annual inc...</td>\n",
       "      <td>neg</td>\n",
       "      <td>joy</td>\n",
       "      <td>('joy', 'neg')</td>\n",
       "    </tr>\n",
       "    <tr>\n",
       "      <th>3</th>\n",
       "      <td>3</td>\n",
       "      <td>男性/ 6903/ 現職（回答時）/ 中途入社/ 在籍6～10年/ 正社員</td>\n",
       "      <td>Corporate culture/organizational system</td>\n",
       "      <td>4.9</td>\n",
       "      <td>企業カルチャー・社風:カスタマーサクセスを打ち出しており、導入後も運用をサポートする部門が支...</td>\n",
       "      <td>2021年04月 8日</td>\n",
       "      <td>[ ' Corporate ' , ' culturecorporate ' , ' cul...</td>\n",
       "      <td>Corporate culture/corporate culture: The compa...</td>\n",
       "      <td>pos</td>\n",
       "      <td>joy</td>\n",
       "      <td>('joy', 'pos')</td>\n",
       "    </tr>\n",
       "    <tr>\n",
       "      <th>4</th>\n",
       "      <td>4</td>\n",
       "      <td>男性/ カスタマーサクセス/ 現職（回答時）/ 中途入社/ 在籍11～15年/ 正社員/ デ...</td>\n",
       "      <td>Benefits/office environment</td>\n",
       "      <td>5.0</td>\n",
       "      <td>福利厚生:オフィス内のカフェテリアは充実している。エスプレッソマシンは自動であるが、豆もそれ...</td>\n",
       "      <td>2020年06月 2日</td>\n",
       "      <td>[ ' Welfare ' , ' ' , ' ' , ' ' , ' good ' , '...</td>\n",
       "      <td>Welfare: There is a good cafeteria in the offi...</td>\n",
       "      <td>neg</td>\n",
       "      <td>joy</td>\n",
       "      <td>('joy', 'neg')</td>\n",
       "    </tr>\n",
       "  </tbody>\n",
       "</table>\n",
       "</div>"
      ],
      "text/plain": [
       "   Unnamed: 0                                      reviewer_info  \\\n",
       "0           0                 男性/ 営業/ 現職（回答時）/ 中途入社/ 在籍3年未満/ 正社員   \n",
       "1           1                 男性/ 営業/ 現職（回答時）/ 中途入社/ 在籍3年未満/ 正社員   \n",
       "2           2  男性/ Solution Engineer/ 現職（回答時）/ 中途入社/ 在籍3～5年/ ...   \n",
       "3           3              男性/ 6903/ 現職（回答時）/ 中途入社/ 在籍6～10年/ 正社員   \n",
       "4           4  男性/ カスタマーサクセス/ 現職（回答時）/ 中途入社/ 在籍11～15年/ 正社員/ デ...   \n",
       "\n",
       "                                         title  rating  \\\n",
       "0  Work style (working hours/holidays/systems)     4.7   \n",
       "1  Work style (working hours/holidays/systems)     4.7   \n",
       "2                         Annual salary/salary     5.0   \n",
       "3      Corporate culture/organizational system     4.9   \n",
       "4                  Benefits/office environment     5.0   \n",
       "\n",
       "                                              review         date  \\\n",
       "0  勤務時間・休日休暇:ワークライフバランスをとるかどうかは自分次第。ベースとなる勤務時間は9：...  2022年03月 6日   \n",
       "1  勤務時間・休日休暇:ワークライフバランスを保てるかどうかは自分次第。強制的に残業や休日の仕事...  2021年02月23日   \n",
       "2  給与制度:提示される想定年収の8割が固定給で残り2割がインセンティブインセンティブは四半期ご...  2020年11月20日   \n",
       "3  企業カルチャー・社風:カスタマーサクセスを打ち出しており、導入後も運用をサポートする部門が支...  2021年04月 8日   \n",
       "4  福利厚生:オフィス内のカフェテリアは充実している。エスプレッソマシンは自動であるが、豆もそれ...  2020年06月 2日   \n",
       "\n",
       "                                   review_translated  \\\n",
       "0  [ ' Working ' , ' HoursHolidaysHolidays ' , ' ...   \n",
       "1  [ ' Working ' , ' HoursHolidaysHolidays ' , ' ...   \n",
       "2  [ ' Salary ' , ' system ' , ' 80 ' , ' ' , ' '...   \n",
       "3  [ ' Corporate ' , ' culturecorporate ' , ' cul...   \n",
       "4  [ ' Welfare ' , ' ' , ' ' , ' ' , ' good ' , '...   \n",
       "\n",
       "                          reviwe_translated_original sentiment emotion  \\\n",
       "0  Working Hours/Holidays/Holidays: It's up to yo...       neg     joy   \n",
       "1  Working Hours/Holidays/Holidays: It's up to yo...       pos     joy   \n",
       "2  Salary system: 80% of the estimated annual inc...       neg     joy   \n",
       "3  Corporate culture/corporate culture: The compa...       pos     joy   \n",
       "4  Welfare: There is a good cafeteria in the offi...       neg     joy   \n",
       "\n",
       "       em_x_senti  \n",
       "0  ('joy', 'neg')  \n",
       "1  ('joy', 'pos')  \n",
       "2  ('joy', 'neg')  \n",
       "3  ('joy', 'pos')  \n",
       "4  ('joy', 'neg')  "
      ]
     },
     "execution_count": 26,
     "metadata": {},
     "output_type": "execute_result"
    }
   ],
   "source": [
    "df2.head()"
   ]
  },
  {
   "cell_type": "code",
   "execution_count": 21,
   "id": "e2377dba",
   "metadata": {},
   "outputs": [],
   "source": [
    "df = df.loc[:, 'rating':'cons']\n",
    "df2 = df2.loc[:, 'rating':'reviwe_translated_original']"
   ]
  },
  {
   "cell_type": "code",
   "execution_count": 20,
   "id": "931c639c",
   "metadata": {
    "scrolled": true
   },
   "outputs": [
    {
     "data": {
      "text/plain": [
       "Index(['Unnamed: 0', 'reviewer_info', 'title', 'rating', 'review', 'date',\n",
       "       'review_translated', 'reviwe_translated_original'],\n",
       "      dtype='object')"
      ]
     },
     "execution_count": 20,
     "metadata": {},
     "output_type": "execute_result"
    }
   ],
   "source": [
    "df2.columns"
   ]
  },
  {
   "cell_type": "code",
   "execution_count": null,
   "id": "aff446db",
   "metadata": {},
   "outputs": [],
   "source": []
  },
  {
   "cell_type": "code",
   "execution_count": null,
   "id": "be68fe23",
   "metadata": {},
   "outputs": [],
   "source": []
  },
  {
   "cell_type": "code",
   "execution_count": null,
   "id": "8b6f0b21",
   "metadata": {},
   "outputs": [],
   "source": []
  },
  {
   "cell_type": "code",
   "execution_count": null,
   "id": "70501fad",
   "metadata": {},
   "outputs": [],
   "source": []
  },
  {
   "cell_type": "code",
   "execution_count": null,
   "id": "21728a17",
   "metadata": {},
   "outputs": [],
   "source": []
  }
 ],
 "metadata": {
  "kernelspec": {
   "display_name": "Python 3 (ipykernel)",
   "language": "python",
   "name": "python3"
  },
  "language_info": {
   "codemirror_mode": {
    "name": "ipython",
    "version": 3
   },
   "file_extension": ".py",
   "mimetype": "text/x-python",
   "name": "python",
   "nbconvert_exporter": "python",
   "pygments_lexer": "ipython3",
   "version": "3.8.8"
  },
  "toc": {
   "base_numbering": 1,
   "nav_menu": {},
   "number_sections": true,
   "sideBar": true,
   "skip_h1_title": false,
   "title_cell": "Table of Contents",
   "title_sidebar": "Contents",
   "toc_cell": false,
   "toc_position": {},
   "toc_section_display": true,
   "toc_window_display": false
  }
 },
 "nbformat": 4,
 "nbformat_minor": 5
}
