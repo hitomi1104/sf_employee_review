{
 "cells": [
  {
   "cell_type": "markdown",
   "id": "efbf5b14",
   "metadata": {},
   "source": [
    "https://www.kaggle.com/code/kasimchristianloan/nlu-covid-emotion-showcase"
   ]
  },
  {
   "cell_type": "code",
   "execution_count": 9,
   "id": "ff5cdac9",
   "metadata": {},
   "outputs": [],
   "source": [
    "import nlu"
   ]
  },
  {
   "cell_type": "code",
   "execution_count": 10,
   "id": "5782b956",
   "metadata": {},
   "outputs": [],
   "source": [
    "import os\n",
    "import numpy as np \n",
    "import pandas as pd \n",
    "\n"
   ]
  },
  {
   "cell_type": "code",
   "execution_count": 11,
   "id": "d642e42f",
   "metadata": {},
   "outputs": [],
   "source": [
    "df = pd.read_csv('jp_nlp_cleaned.csv')"
   ]
  },
  {
   "cell_type": "code",
   "execution_count": 12,
   "id": "0fd4765a",
   "metadata": {
    "scrolled": true
   },
   "outputs": [
    {
     "data": {
      "text/html": [
       "<div>\n",
       "<style scoped>\n",
       "    .dataframe tbody tr th:only-of-type {\n",
       "        vertical-align: middle;\n",
       "    }\n",
       "\n",
       "    .dataframe tbody tr th {\n",
       "        vertical-align: top;\n",
       "    }\n",
       "\n",
       "    .dataframe thead th {\n",
       "        text-align: right;\n",
       "    }\n",
       "</style>\n",
       "<table border=\"1\" class=\"dataframe\">\n",
       "  <thead>\n",
       "    <tr style=\"text-align: right;\">\n",
       "      <th></th>\n",
       "      <th>Unnamed: 0</th>\n",
       "      <th>reviewer_info</th>\n",
       "      <th>title</th>\n",
       "      <th>rating</th>\n",
       "      <th>review</th>\n",
       "      <th>year</th>\n",
       "      <th>review_translated</th>\n",
       "      <th>reviwe_translated_original</th>\n",
       "    </tr>\n",
       "  </thead>\n",
       "  <tbody>\n",
       "    <tr>\n",
       "      <th>0</th>\n",
       "      <td>0</td>\n",
       "      <td>男性/ 営業/ 現職（回答時）/ 中途入社/ 在籍3年未満/ 正社員</td>\n",
       "      <td>Work style (working hours/holidays/systems)</td>\n",
       "      <td>4.7</td>\n",
       "      <td>勤務時間・休日休暇:ワークライフバランスをとるかどうかは自分次第。ベースとなる勤務時間は9：...</td>\n",
       "      <td>2022年時点の情報</td>\n",
       "      <td>[ ' Working ' , ' HoursHolidaysHolidays ' , ' ...</td>\n",
       "      <td>Working Hours/Holidays/Holidays: It's up to yo...</td>\n",
       "    </tr>\n",
       "    <tr>\n",
       "      <th>1</th>\n",
       "      <td>1</td>\n",
       "      <td>男性/ 営業/ 現職（回答時）/ 中途入社/ 在籍3年未満/ 正社員</td>\n",
       "      <td>Work style (working hours/holidays/systems)</td>\n",
       "      <td>4.7</td>\n",
       "      <td>勤務時間・休日休暇:ワークライフバランスを保てるかどうかは自分次第。強制的に残業や休日の仕事...</td>\n",
       "      <td>2021年時点の情報</td>\n",
       "      <td>[ ' Working ' , ' HoursHolidaysHolidays ' , ' ...</td>\n",
       "      <td>Working Hours/Holidays/Holidays: It's up to yo...</td>\n",
       "    </tr>\n",
       "    <tr>\n",
       "      <th>2</th>\n",
       "      <td>2</td>\n",
       "      <td>男性/ Solution Engineer/ 現職（回答時）/ 中途入社/ 在籍3～5年/ ...</td>\n",
       "      <td>Annual salary/salary</td>\n",
       "      <td>5.0</td>\n",
       "      <td>給与制度:提示される想定年収の8割が固定給で残り2割がインセンティブインセンティブは四半期ご...</td>\n",
       "      <td>2020年時点の情報</td>\n",
       "      <td>[ ' Salary ' , ' system ' , ' 80 ' , ' ' , ' '...</td>\n",
       "      <td>Salary system: 80% of the estimated annual inc...</td>\n",
       "    </tr>\n",
       "  </tbody>\n",
       "</table>\n",
       "</div>"
      ],
      "text/plain": [
       "   Unnamed: 0                                      reviewer_info  \\\n",
       "0           0                 男性/ 営業/ 現職（回答時）/ 中途入社/ 在籍3年未満/ 正社員   \n",
       "1           1                 男性/ 営業/ 現職（回答時）/ 中途入社/ 在籍3年未満/ 正社員   \n",
       "2           2  男性/ Solution Engineer/ 現職（回答時）/ 中途入社/ 在籍3～5年/ ...   \n",
       "\n",
       "                                         title  rating  \\\n",
       "0  Work style (working hours/holidays/systems)     4.7   \n",
       "1  Work style (working hours/holidays/systems)     4.7   \n",
       "2                         Annual salary/salary     5.0   \n",
       "\n",
       "                                              review        year  \\\n",
       "0  勤務時間・休日休暇:ワークライフバランスをとるかどうかは自分次第。ベースとなる勤務時間は9：...  2022年時点の情報   \n",
       "1  勤務時間・休日休暇:ワークライフバランスを保てるかどうかは自分次第。強制的に残業や休日の仕事...  2021年時点の情報   \n",
       "2  給与制度:提示される想定年収の8割が固定給で残り2割がインセンティブインセンティブは四半期ご...  2020年時点の情報   \n",
       "\n",
       "                                   review_translated  \\\n",
       "0  [ ' Working ' , ' HoursHolidaysHolidays ' , ' ...   \n",
       "1  [ ' Working ' , ' HoursHolidaysHolidays ' , ' ...   \n",
       "2  [ ' Salary ' , ' system ' , ' 80 ' , ' ' , ' '...   \n",
       "\n",
       "                          reviwe_translated_original  \n",
       "0  Working Hours/Holidays/Holidays: It's up to yo...  \n",
       "1  Working Hours/Holidays/Holidays: It's up to yo...  \n",
       "2  Salary system: 80% of the estimated annual inc...  "
      ]
     },
     "execution_count": 12,
     "metadata": {},
     "output_type": "execute_result"
    }
   ],
   "source": [
    "df.head(3)"
   ]
  },
  {
   "cell_type": "code",
   "execution_count": 13,
   "id": "fa015a12",
   "metadata": {},
   "outputs": [],
   "source": [
    "df.drop(columns = ['Unnamed: 0'], inplace = True)"
   ]
  },
  {
   "cell_type": "code",
   "execution_count": 14,
   "id": "2edd56e1",
   "metadata": {},
   "outputs": [
    {
     "data": {
      "text/html": [
       "<div>\n",
       "<style scoped>\n",
       "    .dataframe tbody tr th:only-of-type {\n",
       "        vertical-align: middle;\n",
       "    }\n",
       "\n",
       "    .dataframe tbody tr th {\n",
       "        vertical-align: top;\n",
       "    }\n",
       "\n",
       "    .dataframe thead th {\n",
       "        text-align: right;\n",
       "    }\n",
       "</style>\n",
       "<table border=\"1\" class=\"dataframe\">\n",
       "  <thead>\n",
       "    <tr style=\"text-align: right;\">\n",
       "      <th></th>\n",
       "      <th>reviewer_info</th>\n",
       "      <th>title</th>\n",
       "      <th>rating</th>\n",
       "      <th>review</th>\n",
       "      <th>year</th>\n",
       "      <th>review_translated</th>\n",
       "      <th>reviwe_translated_original</th>\n",
       "    </tr>\n",
       "  </thead>\n",
       "  <tbody>\n",
       "    <tr>\n",
       "      <th>0</th>\n",
       "      <td>男性/ 営業/ 現職（回答時）/ 中途入社/ 在籍3年未満/ 正社員</td>\n",
       "      <td>Work style (working hours/holidays/systems)</td>\n",
       "      <td>4.7</td>\n",
       "      <td>勤務時間・休日休暇:ワークライフバランスをとるかどうかは自分次第。ベースとなる勤務時間は9：...</td>\n",
       "      <td>2022年時点の情報</td>\n",
       "      <td>[ ' Working ' , ' HoursHolidaysHolidays ' , ' ...</td>\n",
       "      <td>Working Hours/Holidays/Holidays: It's up to yo...</td>\n",
       "    </tr>\n",
       "    <tr>\n",
       "      <th>1</th>\n",
       "      <td>男性/ 営業/ 現職（回答時）/ 中途入社/ 在籍3年未満/ 正社員</td>\n",
       "      <td>Work style (working hours/holidays/systems)</td>\n",
       "      <td>4.7</td>\n",
       "      <td>勤務時間・休日休暇:ワークライフバランスを保てるかどうかは自分次第。強制的に残業や休日の仕事...</td>\n",
       "      <td>2021年時点の情報</td>\n",
       "      <td>[ ' Working ' , ' HoursHolidaysHolidays ' , ' ...</td>\n",
       "      <td>Working Hours/Holidays/Holidays: It's up to yo...</td>\n",
       "    </tr>\n",
       "  </tbody>\n",
       "</table>\n",
       "</div>"
      ],
      "text/plain": [
       "                        reviewer_info  \\\n",
       "0  男性/ 営業/ 現職（回答時）/ 中途入社/ 在籍3年未満/ 正社員   \n",
       "1  男性/ 営業/ 現職（回答時）/ 中途入社/ 在籍3年未満/ 正社員   \n",
       "\n",
       "                                         title  rating  \\\n",
       "0  Work style (working hours/holidays/systems)     4.7   \n",
       "1  Work style (working hours/holidays/systems)     4.7   \n",
       "\n",
       "                                              review        year  \\\n",
       "0  勤務時間・休日休暇:ワークライフバランスをとるかどうかは自分次第。ベースとなる勤務時間は9：...  2022年時点の情報   \n",
       "1  勤務時間・休日休暇:ワークライフバランスを保てるかどうかは自分次第。強制的に残業や休日の仕事...  2021年時点の情報   \n",
       "\n",
       "                                   review_translated  \\\n",
       "0  [ ' Working ' , ' HoursHolidaysHolidays ' , ' ...   \n",
       "1  [ ' Working ' , ' HoursHolidaysHolidays ' , ' ...   \n",
       "\n",
       "                          reviwe_translated_original  \n",
       "0  Working Hours/Holidays/Holidays: It's up to yo...  \n",
       "1  Working Hours/Holidays/Holidays: It's up to yo...  "
      ]
     },
     "execution_count": 14,
     "metadata": {},
     "output_type": "execute_result"
    }
   ],
   "source": [
    "df.head(2)"
   ]
  },
  {
   "cell_type": "code",
   "execution_count": null,
   "id": "70b9a6bb",
   "metadata": {},
   "outputs": [],
   "source": []
  },
  {
   "cell_type": "code",
   "execution_count": null,
   "id": "7d70ba05",
   "metadata": {},
   "outputs": [],
   "source": []
  },
  {
   "cell_type": "code",
   "execution_count": null,
   "id": "4df4e1f3",
   "metadata": {},
   "outputs": [],
   "source": []
  },
  {
   "cell_type": "markdown",
   "id": "18056919",
   "metadata": {},
   "source": [
    "## Emotion analysis"
   ]
  },
  {
   "cell_type": "code",
   "execution_count": 7,
   "id": "70c9e01c",
   "metadata": {
    "scrolled": true
   },
   "outputs": [
    {
     "name": "stderr",
     "output_type": "stream",
     "text": [
      "22/08/10 08:38:17 WARN Utils: Your hostname, HITOMIs-MacBook-Pro.local resolves to a loopback address: 127.0.0.1; using 192.168.84.21 instead (on interface en0)\n",
      "22/08/10 08:38:17 WARN Utils: Set SPARK_LOCAL_IP if you need to bind to another address\n"
     ]
    },
    {
     "name": "stdout",
     "output_type": "stream",
     "text": [
      ":: loading settings :: url = jar:file:/Users/hitomihoshino/opt/anaconda3/lib/python3.8/site-packages/pyspark/jars/ivy-2.4.0.jar!/org/apache/ivy/core/settings/ivysettings.xml\n"
     ]
    },
    {
     "name": "stderr",
     "output_type": "stream",
     "text": [
      "Ivy Default Cache set to: /Users/hitomihoshino/.ivy2/cache\n",
      "The jars for the packages stored in: /Users/hitomihoshino/.ivy2/jars\n",
      "com.johnsnowlabs.nlp#spark-nlp_2.12 added as a dependency\n",
      ":: resolving dependencies :: org.apache.spark#spark-submit-parent-19e1c573-1f6d-47ef-8579-a261a064d20a;1.0\n",
      "\tconfs: [default]\n",
      "\tfound com.johnsnowlabs.nlp#spark-nlp_2.12;4.0.2 in central\n",
      "\tfound com.typesafe#config;1.4.2 in central\n",
      "\tfound org.rocksdb#rocksdbjni;6.29.5 in central\n",
      "\tfound com.amazonaws#aws-java-sdk-bundle;1.11.828 in central\n",
      "\tfound com.github.universal-automata#liblevenshtein;3.0.0 in central\n",
      "\tfound com.google.code.findbugs#annotations;3.0.1 in central\n",
      "\tfound net.jcip#jcip-annotations;1.0 in central\n",
      "\tfound com.google.code.findbugs#jsr305;3.0.1 in central\n",
      "\tfound com.google.protobuf#protobuf-java-util;3.0.0-beta-3 in central\n",
      "\tfound com.google.protobuf#protobuf-java;3.0.0-beta-3 in central\n",
      "\tfound com.google.code.gson#gson;2.3 in central\n",
      "\tfound it.unimi.dsi#fastutil;7.0.12 in central\n",
      "\tfound org.projectlombok#lombok;1.16.8 in central\n",
      "\tfound org.slf4j#slf4j-api;1.7.21 in central\n",
      "\tfound com.navigamez#greex;1.0 in central\n",
      "\tfound dk.brics.automaton#automaton;1.11-8 in central\n",
      "\tfound com.johnsnowlabs.nlp#tensorflow-cpu_2.12;0.4.2 in central\n",
      ":: resolution report :: resolve 403ms :: artifacts dl 16ms\n",
      "\t:: modules in use:\n",
      "\tcom.amazonaws#aws-java-sdk-bundle;1.11.828 from central in [default]\n",
      "\tcom.github.universal-automata#liblevenshtein;3.0.0 from central in [default]\n",
      "\tcom.google.code.findbugs#annotations;3.0.1 from central in [default]\n",
      "\tcom.google.code.findbugs#jsr305;3.0.1 from central in [default]\n",
      "\tcom.google.code.gson#gson;2.3 from central in [default]\n",
      "\tcom.google.protobuf#protobuf-java;3.0.0-beta-3 from central in [default]\n",
      "\tcom.google.protobuf#protobuf-java-util;3.0.0-beta-3 from central in [default]\n",
      "\tcom.johnsnowlabs.nlp#spark-nlp_2.12;4.0.2 from central in [default]\n",
      "\tcom.johnsnowlabs.nlp#tensorflow-cpu_2.12;0.4.2 from central in [default]\n",
      "\tcom.navigamez#greex;1.0 from central in [default]\n",
      "\tcom.typesafe#config;1.4.2 from central in [default]\n",
      "\tdk.brics.automaton#automaton;1.11-8 from central in [default]\n",
      "\tit.unimi.dsi#fastutil;7.0.12 from central in [default]\n",
      "\tnet.jcip#jcip-annotations;1.0 from central in [default]\n",
      "\torg.projectlombok#lombok;1.16.8 from central in [default]\n",
      "\torg.rocksdb#rocksdbjni;6.29.5 from central in [default]\n",
      "\torg.slf4j#slf4j-api;1.7.21 from central in [default]\n",
      "\t---------------------------------------------------------------------\n",
      "\t|                  |            modules            ||   artifacts   |\n",
      "\t|       conf       | number| search|dwnlded|evicted|| number|dwnlded|\n",
      "\t---------------------------------------------------------------------\n",
      "\t|      default     |   17  |   0   |   0   |   0   ||   17  |   0   |\n",
      "\t---------------------------------------------------------------------\n",
      ":: retrieving :: org.apache.spark#spark-submit-parent-19e1c573-1f6d-47ef-8579-a261a064d20a\n",
      "\tconfs: [default]\n",
      "\t0 artifacts copied, 17 already retrieved (0kB/13ms)\n",
      "22/08/10 08:38:19 WARN NativeCodeLoader: Unable to load native-hadoop library for your platform... using builtin-java classes where applicable\n",
      "Using Spark's default log4j profile: org/apache/spark/log4j-defaults.properties\n",
      "Setting default log level to \"WARN\".\n",
      "To adjust logging level use sc.setLogLevel(newLevel). For SparkR, use setLogLevel(newLevel).\n"
     ]
    },
    {
     "name": "stdout",
     "output_type": "stream",
     "text": [
      "classifierdl_use_emotion download started this may take some time.\n",
      "Approximate size to download 21.3 MB\n",
      "[ / ]classifierdl_use_emotion download started this may take some time.\n",
      "Approximate size to download 21.3 MB\n",
      "Download done! Loading the resource.\n",
      "[ \\ ]"
     ]
    },
    {
     "name": "stderr",
     "output_type": "stream",
     "text": [
      "2022-08-10 08:38:45.990790: I external/org_tensorflow/tensorflow/core/platform/cpu_feature_guard.cc:151] This TensorFlow binary is optimized with oneAPI Deep Neural Network Library (oneDNN) to use the following CPU instructions in performance-critical operations:  AVX2 FMA\n",
      "To enable them in other operations, rebuild TensorFlow with the appropriate compiler flags.\n"
     ]
    },
    {
     "name": "stdout",
     "output_type": "stream",
     "text": [
      "[OK!]\n",
      "tfhub_use download started this may take some time.\n",
      "Approximate size to download 923.7 MB\n",
      "[ | ]tfhub_use download started this may take some time.\n",
      "Approximate size to download 923.7 MB\n",
      "[ / ]Download done! Loading the resource.\n",
      "[OK!]\n"
     ]
    },
    {
     "name": "stderr",
     "output_type": "stream",
     "text": [
      "                                                                                \r"
     ]
    },
    {
     "data": {
      "text/plain": [
       "<AxesSubplot:title={'center':'Count of predicted emotion labels'}>"
      ]
     },
     "execution_count": 7,
     "metadata": {},
     "output_type": "execute_result"
    },
    {
     "data": {
      "image/png": "[encoded data removed]",
      "text/plain": [
       "<Figure size 432x288 with 1 Axes>"
      ]
     },
     "metadata": {
      "needs_background": "light"
     },
     "output_type": "display_data"
    }
   ],
   "source": [
    "em_preds = nlu.load('emotion').predict(df['reviwe_translated_original'],output_level='document')\n",
    "em_preds['emotion'].value_counts().plot.bar(title='Count of predicted emotion labels')"
   ]
  },
  {
   "cell_type": "code",
   "execution_count": null,
   "id": "52623f61",
   "metadata": {},
   "outputs": [],
   "source": []
  },
  {
   "cell_type": "code",
   "execution_count": 8,
   "id": "800886b3",
   "metadata": {
    "scrolled": true
   },
   "outputs": [
    {
     "ename": "KeyError",
     "evalue": "'emotion'",
     "output_type": "error",
     "traceback": [
      "\u001b[0;31m---------------------------------------------------------------------------\u001b[0m",
      "\u001b[0;31mKeyError\u001b[0m                                  Traceback (most recent call last)",
      "File \u001b[0;32m~/opt/anaconda3/lib/python3.8/site-packages/pandas/core/indexes/base.py:3361\u001b[0m, in \u001b[0;36mIndex.get_loc\u001b[0;34m(self, key, method, tolerance)\u001b[0m\n\u001b[1;32m   3360\u001b[0m \u001b[38;5;28;01mtry\u001b[39;00m:\n\u001b[0;32m-> 3361\u001b[0m     \u001b[38;5;28;01mreturn\u001b[39;00m \u001b[38;5;28;43mself\u001b[39;49m\u001b[38;5;241;43m.\u001b[39;49m\u001b[43m_engine\u001b[49m\u001b[38;5;241;43m.\u001b[39;49m\u001b[43mget_loc\u001b[49m\u001b[43m(\u001b[49m\u001b[43mcasted_key\u001b[49m\u001b[43m)\u001b[49m\n\u001b[1;32m   3362\u001b[0m \u001b[38;5;28;01mexcept\u001b[39;00m \u001b[38;5;167;01mKeyError\u001b[39;00m \u001b[38;5;28;01mas\u001b[39;00m err:\n",
      "File \u001b[0;32m~/opt/anaconda3/lib/python3.8/site-packages/pandas/_libs/index.pyx:76\u001b[0m, in \u001b[0;36mpandas._libs.index.IndexEngine.get_loc\u001b[0;34m()\u001b[0m\n",
      "File \u001b[0;32m~/opt/anaconda3/lib/python3.8/site-packages/pandas/_libs/index.pyx:108\u001b[0m, in \u001b[0;36mpandas._libs.index.IndexEngine.get_loc\u001b[0;34m()\u001b[0m\n",
      "File \u001b[0;32mpandas/_libs/hashtable_class_helper.pxi:5198\u001b[0m, in \u001b[0;36mpandas._libs.hashtable.PyObjectHashTable.get_item\u001b[0;34m()\u001b[0m\n",
      "File \u001b[0;32mpandas/_libs/hashtable_class_helper.pxi:5206\u001b[0m, in \u001b[0;36mpandas._libs.hashtable.PyObjectHashTable.get_item\u001b[0;34m()\u001b[0m\n",
      "\u001b[0;31mKeyError\u001b[0m: 'emotion'",
      "\nThe above exception was the direct cause of the following exception:\n",
      "\u001b[0;31mKeyError\u001b[0m                                  Traceback (most recent call last)",
      "Input \u001b[0;32mIn [8]\u001b[0m, in \u001b[0;36m<cell line: 1>\u001b[0;34m()\u001b[0m\n\u001b[0;32m----> 1\u001b[0m em_joy \u001b[38;5;241m=\u001b[39m df[\u001b[43mdf\u001b[49m\u001b[43m[\u001b[49m\u001b[38;5;124;43m'\u001b[39;49m\u001b[38;5;124;43memotion\u001b[39;49m\u001b[38;5;124;43m'\u001b[39;49m\u001b[43m]\u001b[49m \u001b[38;5;241m==\u001b[39m \u001b[38;5;124m'\u001b[39m\u001b[38;5;124mjoy\u001b[39m\u001b[38;5;124m'\u001b[39m]\n\u001b[1;32m      2\u001b[0m em_fear \u001b[38;5;241m=\u001b[39m df[df[\u001b[38;5;124m'\u001b[39m\u001b[38;5;124memotion\u001b[39m\u001b[38;5;124m'\u001b[39m] \u001b[38;5;241m==\u001b[39m \u001b[38;5;124m'\u001b[39m\u001b[38;5;124mfear\u001b[39m\u001b[38;5;124m'\u001b[39m]\n\u001b[1;32m      3\u001b[0m em_sadness \u001b[38;5;241m=\u001b[39m df[df[\u001b[38;5;124m'\u001b[39m\u001b[38;5;124memotion\u001b[39m\u001b[38;5;124m'\u001b[39m] \u001b[38;5;241m==\u001b[39m \u001b[38;5;124m'\u001b[39m\u001b[38;5;124msadness\u001b[39m\u001b[38;5;124m'\u001b[39m]\n",
      "File \u001b[0;32m~/opt/anaconda3/lib/python3.8/site-packages/pandas/core/frame.py:3458\u001b[0m, in \u001b[0;36mDataFrame.__getitem__\u001b[0;34m(self, key)\u001b[0m\n\u001b[1;32m   3456\u001b[0m \u001b[38;5;28;01mif\u001b[39;00m \u001b[38;5;28mself\u001b[39m\u001b[38;5;241m.\u001b[39mcolumns\u001b[38;5;241m.\u001b[39mnlevels \u001b[38;5;241m>\u001b[39m \u001b[38;5;241m1\u001b[39m:\n\u001b[1;32m   3457\u001b[0m     \u001b[38;5;28;01mreturn\u001b[39;00m \u001b[38;5;28mself\u001b[39m\u001b[38;5;241m.\u001b[39m_getitem_multilevel(key)\n\u001b[0;32m-> 3458\u001b[0m indexer \u001b[38;5;241m=\u001b[39m \u001b[38;5;28;43mself\u001b[39;49m\u001b[38;5;241;43m.\u001b[39;49m\u001b[43mcolumns\u001b[49m\u001b[38;5;241;43m.\u001b[39;49m\u001b[43mget_loc\u001b[49m\u001b[43m(\u001b[49m\u001b[43mkey\u001b[49m\u001b[43m)\u001b[49m\n\u001b[1;32m   3459\u001b[0m \u001b[38;5;28;01mif\u001b[39;00m is_integer(indexer):\n\u001b[1;32m   3460\u001b[0m     indexer \u001b[38;5;241m=\u001b[39m [indexer]\n",
      "File \u001b[0;32m~/opt/anaconda3/lib/python3.8/site-packages/pandas/core/indexes/base.py:3363\u001b[0m, in \u001b[0;36mIndex.get_loc\u001b[0;34m(self, key, method, tolerance)\u001b[0m\n\u001b[1;32m   3361\u001b[0m         \u001b[38;5;28;01mreturn\u001b[39;00m \u001b[38;5;28mself\u001b[39m\u001b[38;5;241m.\u001b[39m_engine\u001b[38;5;241m.\u001b[39mget_loc(casted_key)\n\u001b[1;32m   3362\u001b[0m     \u001b[38;5;28;01mexcept\u001b[39;00m \u001b[38;5;167;01mKeyError\u001b[39;00m \u001b[38;5;28;01mas\u001b[39;00m err:\n\u001b[0;32m-> 3363\u001b[0m         \u001b[38;5;28;01mraise\u001b[39;00m \u001b[38;5;167;01mKeyError\u001b[39;00m(key) \u001b[38;5;28;01mfrom\u001b[39;00m \u001b[38;5;21;01merr\u001b[39;00m\n\u001b[1;32m   3365\u001b[0m \u001b[38;5;28;01mif\u001b[39;00m is_scalar(key) \u001b[38;5;129;01mand\u001b[39;00m isna(key) \u001b[38;5;129;01mand\u001b[39;00m \u001b[38;5;129;01mnot\u001b[39;00m \u001b[38;5;28mself\u001b[39m\u001b[38;5;241m.\u001b[39mhasnans:\n\u001b[1;32m   3366\u001b[0m     \u001b[38;5;28;01mraise\u001b[39;00m \u001b[38;5;167;01mKeyError\u001b[39;00m(key)\n",
      "\u001b[0;31mKeyError\u001b[0m: 'emotion'"
     ]
    }
   ],
   "source": [
    "em_joy = df[df['emotion'] == 'joy']\n",
    "em_fear = df[df['emotion'] == 'fear']\n",
    "em_sadness = df[df['emotion'] == 'sadness']\n",
    "em_surprise = df[df['emotion'] == 'surprise']\n",
    "\n",
    "\n",
    "em_joy['review'].to_csv('em_joy')\n",
    "em_fear['review'].to_csv('em_fear')\n",
    "em_sadness['review'].to_csv('em_sadness')\n",
    "em_surprise['review'].to_csv('em_surprise')"
   ]
  },
  {
   "cell_type": "code",
   "execution_count": null,
   "id": "cc0cd664",
   "metadata": {},
   "outputs": [],
   "source": []
  },
  {
   "cell_type": "markdown",
   "id": "52d9be52",
   "metadata": {},
   "source": [
    "## Sentiment"
   ]
  },
  {
   "cell_type": "code",
   "execution_count": 15,
   "id": "fd62383b",
   "metadata": {
    "scrolled": true
   },
   "outputs": [
    {
     "name": "stdout",
     "output_type": "stream",
     "text": [
      "sentimentdl_glove_imdb download started this may take some time.\n",
      "Approximate size to download 8.7 MB\n",
      "[ | ]sentimentdl_glove_imdb download started this may take some time.\n",
      "Approximate size to download 8.7 MB\n",
      "[ / ]Download done! Loading the resource.\n",
      "[OK!]\n",
      "glove_100d download started this may take some time.\n",
      "Approximate size to download 145.3 MB\n",
      "[ | ]glove_100d download started this may take some time.\n",
      "Approximate size to download 145.3 MB\n",
      "Download done! Loading the resource.\n",
      "[OK!]\n"
     ]
    },
    {
     "name": "stderr",
     "output_type": "stream",
     "text": [
      "                                                                                \r"
     ]
    },
    {
     "data": {
      "text/plain": [
       "<AxesSubplot:title={'center':'Count of predicted sentiment labels'}>"
      ]
     },
     "execution_count": 15,
     "metadata": {},
     "output_type": "execute_result"
    },
    {
     "data": {
      "image/png": "[encoded data removed]",
      "text/plain": [
       "<Figure size 432x288 with 1 Axes>"
      ]
     },
     "metadata": {
      "needs_background": "light"
     },
     "output_type": "display_data"
    }
   ],
   "source": [
    "senti_preds = nlu.load('sentiment').predict(df['reviwe_translated_original'],output_level='document')\n",
    "senti_preds['sentiment'].value_counts().plot.bar(title='Count of predicted sentiment labels')"
   ]
  },
  {
   "cell_type": "code",
   "execution_count": 19,
   "id": "35677915",
   "metadata": {
    "scrolled": true
   },
   "outputs": [],
   "source": []
  },
  {
   "cell_type": "code",
   "execution_count": 21,
   "id": "14b9eafa",
   "metadata": {},
   "outputs": [],
   "source": [
    "df['sentiment'] = senti_preds['sentiment']\n",
    "df['emotion'] = em_preds['emotion']"
   ]
  },
  {
   "cell_type": "code",
   "execution_count": 22,
   "id": "5a41af23",
   "metadata": {},
   "outputs": [
    {
     "data": {
      "text/html": [
       "<div>\n",
       "<style scoped>\n",
       "    .dataframe tbody tr th:only-of-type {\n",
       "        vertical-align: middle;\n",
       "    }\n",
       "\n",
       "    .dataframe tbody tr th {\n",
       "        vertical-align: top;\n",
       "    }\n",
       "\n",
       "    .dataframe thead th {\n",
       "        text-align: right;\n",
       "    }\n",
       "</style>\n",
       "<table border=\"1\" class=\"dataframe\">\n",
       "  <thead>\n",
       "    <tr style=\"text-align: right;\">\n",
       "      <th></th>\n",
       "      <th>reviewer_info</th>\n",
       "      <th>title</th>\n",
       "      <th>rating</th>\n",
       "      <th>review</th>\n",
       "      <th>year</th>\n",
       "      <th>review_translated</th>\n",
       "      <th>reviwe_translated_original</th>\n",
       "      <th>sentiment</th>\n",
       "      <th>emotion</th>\n",
       "    </tr>\n",
       "  </thead>\n",
       "  <tbody>\n",
       "    <tr>\n",
       "      <th>0</th>\n",
       "      <td>男性/ 営業/ 現職（回答時）/ 中途入社/ 在籍3年未満/ 正社員</td>\n",
       "      <td>Work style (working hours/holidays/systems)</td>\n",
       "      <td>4.7</td>\n",
       "      <td>勤務時間・休日休暇:ワークライフバランスをとるかどうかは自分次第。ベースとなる勤務時間は9：...</td>\n",
       "      <td>2022年時点の情報</td>\n",
       "      <td>[ ' Working ' , ' HoursHolidaysHolidays ' , ' ...</td>\n",
       "      <td>Working Hours/Holidays/Holidays: It's up to yo...</td>\n",
       "      <td>neg</td>\n",
       "      <td>joy</td>\n",
       "    </tr>\n",
       "    <tr>\n",
       "      <th>1</th>\n",
       "      <td>男性/ 営業/ 現職（回答時）/ 中途入社/ 在籍3年未満/ 正社員</td>\n",
       "      <td>Work style (working hours/holidays/systems)</td>\n",
       "      <td>4.7</td>\n",
       "      <td>勤務時間・休日休暇:ワークライフバランスを保てるかどうかは自分次第。強制的に残業や休日の仕事...</td>\n",
       "      <td>2021年時点の情報</td>\n",
       "      <td>[ ' Working ' , ' HoursHolidaysHolidays ' , ' ...</td>\n",
       "      <td>Working Hours/Holidays/Holidays: It's up to yo...</td>\n",
       "      <td>pos</td>\n",
       "      <td>joy</td>\n",
       "    </tr>\n",
       "  </tbody>\n",
       "</table>\n",
       "</div>"
      ],
      "text/plain": [
       "                        reviewer_info  \\\n",
       "0  男性/ 営業/ 現職（回答時）/ 中途入社/ 在籍3年未満/ 正社員   \n",
       "1  男性/ 営業/ 現職（回答時）/ 中途入社/ 在籍3年未満/ 正社員   \n",
       "\n",
       "                                         title  rating  \\\n",
       "0  Work style (working hours/holidays/systems)     4.7   \n",
       "1  Work style (working hours/holidays/systems)     4.7   \n",
       "\n",
       "                                              review        year  \\\n",
       "0  勤務時間・休日休暇:ワークライフバランスをとるかどうかは自分次第。ベースとなる勤務時間は9：...  2022年時点の情報   \n",
       "1  勤務時間・休日休暇:ワークライフバランスを保てるかどうかは自分次第。強制的に残業や休日の仕事...  2021年時点の情報   \n",
       "\n",
       "                                   review_translated  \\\n",
       "0  [ ' Working ' , ' HoursHolidaysHolidays ' , ' ...   \n",
       "1  [ ' Working ' , ' HoursHolidaysHolidays ' , ' ...   \n",
       "\n",
       "                          reviwe_translated_original sentiment emotion  \n",
       "0  Working Hours/Holidays/Holidays: It's up to yo...       neg     joy  \n",
       "1  Working Hours/Holidays/Holidays: It's up to yo...       pos     joy  "
      ]
     },
     "execution_count": 22,
     "metadata": {},
     "output_type": "execute_result"
    }
   ],
   "source": [
    "df.head(2)"
   ]
  },
  {
   "cell_type": "code",
   "execution_count": 23,
   "id": "7162d546",
   "metadata": {},
   "outputs": [],
   "source": [
    "senti_neg = df[df['sentiment'] == 'neg']\n",
    "senti_neutral = df[df['sentiment'] == 'neutral']\n",
    "senti_pos = df[df['sentiment'] == 'pos']\n",
    "\n",
    "senti_neg['review'].to_csv('sentiment_neg')\n",
    "senti_neutral['review'].to_csv('sentiment_neutral')\n",
    "senti_pos['review'].to_csv('sentiment_pos')"
   ]
  },
  {
   "cell_type": "code",
   "execution_count": 24,
   "id": "7abfacf3",
   "metadata": {},
   "outputs": [],
   "source": [
    "df['em_x_senti'] = list(zip(df.emotion, df.sentiment))"
   ]
  },
  {
   "cell_type": "code",
   "execution_count": 28,
   "id": "3efa9771",
   "metadata": {},
   "outputs": [
    {
     "data": {
      "text/plain": [
       "4"
      ]
     },
     "execution_count": 28,
     "metadata": {},
     "output_type": "execute_result"
    }
   ],
   "source": [
    "len(df['emotion'].unique())"
   ]
  },
  {
   "cell_type": "code",
   "execution_count": 29,
   "id": "c04387ea",
   "metadata": {},
   "outputs": [
    {
     "data": {
      "text/plain": [
       "3"
      ]
     },
     "execution_count": 29,
     "metadata": {},
     "output_type": "execute_result"
    }
   ],
   "source": [
    "len(df['sentiment'].unique())"
   ]
  },
  {
   "cell_type": "code",
   "execution_count": 27,
   "id": "75c71d40",
   "metadata": {},
   "outputs": [
    {
     "data": {
      "text/plain": [
       "9"
      ]
     },
     "execution_count": 27,
     "metadata": {},
     "output_type": "execute_result"
    }
   ],
   "source": [
    "# total possible value = 3x4 = 12\n",
    "len(df['em_x_senti'].unique())"
   ]
  },
  {
   "cell_type": "code",
   "execution_count": 32,
   "id": "12df613f",
   "metadata": {},
   "outputs": [
    {
     "data": {
      "text/plain": [
       "(joy, pos)         127\n",
       "(joy, neg)          61\n",
       "(fear, pos)         16\n",
       "(fear, neg)          7\n",
       "(joy, neutral)       6\n",
       "(surprise, pos)      5\n",
       "(sadness, pos)       1\n",
       "(sadness, neg)       1\n",
       "(surprise, neg)      1\n",
       "Name: em_x_senti, dtype: int64"
      ]
     },
     "execution_count": 32,
     "metadata": {},
     "output_type": "execute_result"
    }
   ],
   "source": [
    "df['em_x_senti'].value_counts()"
   ]
  },
  {
   "cell_type": "code",
   "execution_count": 58,
   "id": "1e477c93",
   "metadata": {
    "scrolled": true
   },
   "outputs": [],
   "source": [
    "fear_x_neg = df[(df['emotion'] == 'fear') & (df['sentiment'] == 'neg')]\n",
    "fear_x_neg['review'].to_csv('fear_x_neg')\n",
    "\n",
    "fear_x_neg = df[(df['emotion'] == 'joy') & (df['sentiment'] == 'pos')]\n",
    "fear_x_neg['review'].to_csv('joy_x_pos')\n",
    "\n",
    "fear_x_neg = df[(df['emotion'] == 'fear') & (df['sentiment'] == 'pos')]\n",
    "fear_x_neg['review'].to_csv('fear_x_pos')\n",
    "\n",
    "fear_x_neg = df[(df['emotion'] == 'joy') & (df['sentiment'] == 'neg')]\n",
    "fear_x_neg['review'].to_csv('joy_x_neg')\n",
    "\n",
    "fear_x_neg = df[(df['emotion'] == 'joy') & (df['sentiment'] == 'neutral')]\n",
    "fear_x_neg['review'].to_csv('joy_x_neutral')\n",
    "\n",
    "fear_x_neg = df[(df['emotion'] == 'surprise') & (df['sentiment'] == 'pos')]\n",
    "fear_x_neg['review'].to_csv('surprise_x_pos')\n",
    "\n",
    "fear_x_neg = df[(df['emotion'] == 'sadness') & (df['sentiment'] == 'pos')]\n",
    "fear_x_neg['review'].to_csv('sadness_x_pos')\n",
    "\n",
    "fear_x_neg = df[(df['emotion'] == 'sadness') & (df['sentiment'] == 'neg')]\n",
    "fear_x_neg['review'].to_csv('sadness_x_neg')\n",
    "\n",
    "fear_x_neg = df[(df['emotion'] == 'surprise') & (df['sentiment'] == 'neg')]\n",
    "fear_x_neg['review'].to_csv('surprise_x_neg')"
   ]
  },
  {
   "cell_type": "code",
   "execution_count": null,
   "id": "b89fa7f8",
   "metadata": {},
   "outputs": [],
   "source": []
  },
  {
   "cell_type": "code",
   "execution_count": null,
   "id": "49b9c47a",
   "metadata": {},
   "outputs": [],
   "source": []
  },
  {
   "cell_type": "code",
   "execution_count": null,
   "id": "a2e6d990",
   "metadata": {},
   "outputs": [],
   "source": []
  },
  {
   "cell_type": "code",
   "execution_count": null,
   "id": "e37436f1",
   "metadata": {},
   "outputs": [],
   "source": []
  },
  {
   "cell_type": "code",
   "execution_count": null,
   "id": "b21b3e0b",
   "metadata": {},
   "outputs": [],
   "source": []
  },
  {
   "cell_type": "code",
   "execution_count": null,
   "id": "9f3cd9f5",
   "metadata": {},
   "outputs": [],
   "source": []
  },
  {
   "cell_type": "code",
   "execution_count": null,
   "id": "f29240d7",
   "metadata": {},
   "outputs": [],
   "source": []
  },
  {
   "cell_type": "code",
   "execution_count": null,
   "id": "4985d4aa",
   "metadata": {},
   "outputs": [],
   "source": []
  },
  {
   "cell_type": "code",
   "execution_count": null,
   "id": "b5046079",
   "metadata": {},
   "outputs": [],
   "source": []
  },
  {
   "cell_type": "code",
   "execution_count": null,
   "id": "9d159a2b",
   "metadata": {},
   "outputs": [],
   "source": []
  },
  {
   "cell_type": "code",
   "execution_count": null,
   "id": "77739dbe",
   "metadata": {},
   "outputs": [],
   "source": []
  }
 ],
 "metadata": {
  "kernelspec": {
   "display_name": "Python 3 (ipykernel)",
   "language": "python",
   "name": "python3"
  },
  "language_info": {
   "codemirror_mode": {
    "name": "ipython",
    "version": 3
   },
   "file_extension": ".py",
   "mimetype": "text/x-python",
   "name": "python",
   "nbconvert_exporter": "python",
   "pygments_lexer": "ipython3",
   "version": "3.8.8"
  },
  "toc": {
   "base_numbering": 1,
   "nav_menu": {},
   "number_sections": true,
   "sideBar": true,
   "skip_h1_title": false,
   "title_cell": "Table of Contents",
   "title_sidebar": "Contents",
   "toc_cell": false,
   "toc_position": {},
   "toc_section_display": true,
   "toc_window_display": false
  }
 },
 "nbformat": 4,
 "nbformat_minor": 5
}
