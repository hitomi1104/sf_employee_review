{
 "cells": [
  {
   "cell_type": "code",
   "execution_count": null,
   "id": "17d2f0d3",
   "metadata": {},
   "outputs": [],
   "source": [
    "for i in range(3):\n",
    "    print(f'review/{i}')"
   ]
  },
  {
   "cell_type": "code",
   "execution_count": 41,
   "id": "0e8a71a0",
   "metadata": {},
   "outputs": [],
   "source": [
    "import requests\n",
    "from tqdm import tqdm\n",
    "from bs4 import BeautifulSoup\n",
    "import time\n",
    "import pandas as pd\n",
    "\n",
    "#selenium\n",
    "import selenium\n",
    "from selenium import webdriver\n",
    "import chromedriver_binary  # Adds chromedriver binary to path\n",
    "from selenium .webdriver.common.keys import Keys\n",
    "from selenium.webdriver.common.by import By\n",
    "from selenium.webdriver.support.ui import WebDriverWait\n",
    "from selenium.webdriver.support import expected_conditions as EC\n",
    "from selenium.common.exceptions import TimeoutException\n"
   ]
  },
  {
   "cell_type": "code",
   "execution_count": 18,
   "id": "6b5f8d41",
   "metadata": {},
   "outputs": [
    {
     "name": "stdout",
     "output_type": "stream",
     "text": [
      "セールスフォース・ジャパン（旧：セールスフォース・ドットコム）の就職・転職リサーチ\n",
      "入社理由と入社後ギャップ\n",
      "回答日2022年08月03日\n",
      "回答者 テクニカルサポート、在籍5～10年、現職（回答時）、中途入社、女性、セールスフォース・ジャパン（旧：セールスフォース・ドットコム）\n",
      "4.1\n",
      "入社を決めた理由： 成長中の企業であり、景気の良さがうかがえたこと。 前職よりも給与...\n",
      "無料のユーザー登録をお願いします\n",
      "Googleで登録\n",
      "Facebookで登録\n",
      "ログインはこちら >>\n",
      "記事URL\n",
      "GOOD！0\n",
      "TwitterでシェアするFacebookでシェアするURLをコピーする\n",
      "報告する\n"
     ]
    }
   ],
   "source": [
    "print(comments.text)"
   ]
  },
  {
   "cell_type": "code",
   "execution_count": 28,
   "id": "2bbb11fb",
   "metadata": {},
   "outputs": [
    {
     "name": "stdout",
     "output_type": "stream",
     "text": [
      "入社理由と入社後ギャップ\n"
     ]
    }
   ],
   "source": [
    "category = comments.find_element_by_xpath('//*[@id=\"anchor01\"]/article[1]/div[1]/h3/a').text\n",
    "print(category)"
   ]
  },
  {
   "cell_type": "code",
   "execution_count": 37,
   "id": "879ee6fa",
   "metadata": {},
   "outputs": [
    {
     "data": {
      "text/plain": [
       "'入社を決めた理由： 成長中の企業であり、景気の良さがうかがえたこと。 前職よりも給与...'"
      ]
     },
     "execution_count": 37,
     "metadata": {},
     "output_type": "execute_result"
    }
   ],
   "source": [
    "review = comments.find_element_by_xpath('//*[@id=\"anchor01\"]/article[1]/div[2]/dl/dd/span').text\n",
    "review"
   ]
  },
  {
   "cell_type": "code",
   "execution_count": 35,
   "id": "c90209cf",
   "metadata": {},
   "outputs": [
    {
     "name": "stdout",
     "output_type": "stream",
     "text": [
      "テクニカルサポート、在籍5～10年、現職（回答時）、中途入社、女性、セールスフォース・ジャパン（旧：セールスフォース・ドットコム）\n"
     ]
    }
   ],
   "source": [
    "reviewer = comments.find_element_by_xpath('//*[@id=\"anchor01\"]/article[3]/div[2]/dl/dt/a').text\n",
    "print(reviewer)"
   ]
  },
  {
   "cell_type": "code",
   "execution_count": 29,
   "id": "04890adc",
   "metadata": {},
   "outputs": [
    {
     "ename": "TypeError",
     "evalue": "'WebElement' object is not iterable",
     "output_type": "error",
     "traceback": [
      "\u001b[0;31m---------------------------------------------------------------------------\u001b[0m",
      "\u001b[0;31mTypeError\u001b[0m                                 Traceback (most recent call last)",
      "\u001b[0;32m<ipython-input-29-0484cd2a5988>\u001b[0m in \u001b[0;36m<module>\u001b[0;34m\u001b[0m\n\u001b[0;32m----> 1\u001b[0;31m \u001b[0;32mfor\u001b[0m \u001b[0mcomment\u001b[0m \u001b[0;32min\u001b[0m \u001b[0mcomments\u001b[0m\u001b[0;34m:\u001b[0m\u001b[0;34m\u001b[0m\u001b[0;34m\u001b[0m\u001b[0m\n\u001b[0m\u001b[1;32m      2\u001b[0m     \u001b[0mcategory\u001b[0m \u001b[0;34m=\u001b[0m \u001b[0mcomment\u001b[0m\u001b[0;34m.\u001b[0m\u001b[0mfind_element_by_xpath\u001b[0m\u001b[0;34m(\u001b[0m\u001b[0;34m'//*[@id=\"anchor01\"]/article[1]/div[1]/h3/a'\u001b[0m\u001b[0;34m)\u001b[0m\u001b[0;34m.\u001b[0m\u001b[0mtext\u001b[0m\u001b[0;34m\u001b[0m\u001b[0;34m\u001b[0m\u001b[0m\n\u001b[1;32m      3\u001b[0m \u001b[0;31m#     review = comment.find_element_by_xpath('.//*[@id=\"anchor01\"]/article[3]/div[2]/dl/dd/span').text\u001b[0m\u001b[0;34m\u001b[0m\u001b[0;34m\u001b[0m\u001b[0;34m\u001b[0m\u001b[0m\n\u001b[1;32m      4\u001b[0m \u001b[0;31m#     reviewer = comment.find_element_by_xpath('.//*[@id=\"anchor01\"]/article[3]/div[2]/dl/dt/a').text\u001b[0m\u001b[0;34m\u001b[0m\u001b[0;34m\u001b[0m\u001b[0;34m\u001b[0m\u001b[0m\n\u001b[1;32m      5\u001b[0m     \u001b[0mprint\u001b[0m\u001b[0;34m(\u001b[0m\u001b[0mcategory\u001b[0m\u001b[0;34m)\u001b[0m\u001b[0;34m\u001b[0m\u001b[0;34m\u001b[0m\u001b[0m\n",
      "\u001b[0;31mTypeError\u001b[0m: 'WebElement' object is not iterable"
     ]
    }
   ],
   "source": [
    "for comment in comments:\n",
    "    category = comment.find_element_by_xpath('//*[@id=\"anchor01\"]/article[1]/div[1]/h3/a').text\n",
    "#     review = comment.find_element_by_xpath('.//*[@id=\"anchor01\"]/article[3]/div[2]/dl/dd/span').text\n",
    "#     reviewer = comment.find_element_by_xpath('.//*[@id=\"anchor01\"]/article[3]/div[2]/dl/dt/a').text\n",
    "    print(category)"
   ]
  },
  {
   "cell_type": "code",
   "execution_count": null,
   "id": "df6b5aaa",
   "metadata": {},
   "outputs": [],
   "source": [
    "main = driver.find_element_by_id(\"main\")\n",
    "print(main.text)"
   ]
  },
  {
   "cell_type": "code",
   "execution_count": null,
   "id": "0c6379b9",
   "metadata": {},
   "outputs": [],
   "source": [
    "# search = driver.find_element_by_name(\"s\")\n",
    "# search.send_keys(\"test\")\n",
    "# search.send_keys(Keys.RETURN)\n",
    "# time.sleep(10)\n",
    "\n",
    "try:\n",
    "    main = WebDriverWait(driver, 10).until(\n",
    "        EC.presence_of_element_located((By.ID, \"main\"))\n",
    "    )\n",
    "    articles = main.find_elements_by_tag_name(\"article\")\n",
    "    for article in articles:\n",
    "        header =article.find_element_by_class_name(\"article_answer\")\n",
    "        print(header.text)\n",
    "# except:()\n",
    "#     driver.quit()\n",
    "except TimeoutException as ex:\n",
    "    isrunning = 0\n",
    "    print(\"Exception has been thrown. \" + str(ex))\n",
    "    driver.close()\n",
    "finally:\n",
    "    driver.quit()\n",
    "print(main.text)"
   ]
  },
  {
   "cell_type": "code",
   "execution_count": null,
   "id": "146bd6ec",
   "metadata": {},
   "outputs": [],
   "source": [
    "# Accessing the entire source code\n",
    "# print(driver.page_source)"
   ]
  },
  {
   "cell_type": "code",
   "execution_count": null,
   "id": "b1958c57",
   "metadata": {},
   "outputs": [],
   "source": [
    "# <article id=\"anchor01\">\n",
    "anchor01 = driver.find_element_by_id(\"anchor01\")"
   ]
  },
  {
   "cell_type": "code",
   "execution_count": null,
   "id": "9182026e",
   "metadata": {},
   "outputs": [],
   "source": []
  },
  {
   "cell_type": "code",
   "execution_count": null,
   "id": "ff2fc79a",
   "metadata": {},
   "outputs": [],
   "source": []
  },
  {
   "cell_type": "code",
   "execution_count": null,
   "id": "2f885d2b",
   "metadata": {},
   "outputs": [],
   "source": []
  },
  {
   "cell_type": "code",
   "execution_count": null,
   "id": "7cbaae13",
   "metadata": {},
   "outputs": [],
   "source": []
  },
  {
   "cell_type": "code",
   "execution_count": null,
   "id": "712b7c8f",
   "metadata": {},
   "outputs": [],
   "source": []
  },
  {
   "cell_type": "code",
   "execution_count": null,
   "id": "b28495bb",
   "metadata": {},
   "outputs": [],
   "source": []
  },
  {
   "cell_type": "code",
   "execution_count": null,
   "id": "fdbc212e",
   "metadata": {},
   "outputs": [],
   "source": []
  },
  {
   "cell_type": "code",
   "execution_count": null,
   "id": "8c92e676",
   "metadata": {},
   "outputs": [],
   "source": []
  },
  {
   "cell_type": "code",
   "execution_count": null,
   "id": "7827e8c9",
   "metadata": {},
   "outputs": [],
   "source": []
  },
  {
   "cell_type": "code",
   "execution_count": null,
   "id": "c9325963",
   "metadata": {},
   "outputs": [],
   "source": []
  },
  {
   "cell_type": "code",
   "execution_count": 42,
   "id": "b083c23e",
   "metadata": {},
   "outputs": [
    {
     "ename": "NameError",
     "evalue": "name 'soup' is not defined",
     "output_type": "error",
     "traceback": [
      "\u001b[0;31m---------------------------------------------------------------------------\u001b[0m",
      "\u001b[0;31mNameError\u001b[0m                                 Traceback (most recent call last)",
      "\u001b[0;32m<ipython-input-42-3024dd90972b>\u001b[0m in \u001b[0;36m<module>\u001b[0;34m\u001b[0m\n\u001b[1;32m      5\u001b[0m \u001b[0;34m\u001b[0m\u001b[0m\n\u001b[1;32m      6\u001b[0m \u001b[0;34m\u001b[0m\u001b[0m\n\u001b[0;32m----> 7\u001b[0;31m \u001b[0;32mfor\u001b[0m \u001b[0mr\u001b[0m \u001b[0;32min\u001b[0m \u001b[0msoup\u001b[0m\u001b[0;34m.\u001b[0m\u001b[0mfind_all\u001b[0m\u001b[0;34m(\u001b[0m\u001b[0;34m'div'\u001b[0m\u001b[0;34m,\u001b[0m \u001b[0mattrs\u001b[0m\u001b[0;34m=\u001b[0m\u001b[0;34m{\u001b[0m\u001b[0;34m'class'\u001b[0m\u001b[0;34m:\u001b[0m\u001b[0;34m'article_body'\u001b[0m\u001b[0;34m}\u001b[0m\u001b[0;34m)\u001b[0m\u001b[0;34m:\u001b[0m\u001b[0;34m\u001b[0m\u001b[0;34m\u001b[0m\u001b[0m\n\u001b[0m\u001b[1;32m      8\u001b[0m     \u001b[0;32mtry\u001b[0m\u001b[0;34m:\u001b[0m\u001b[0;34m\u001b[0m\u001b[0;34m\u001b[0m\u001b[0m\n\u001b[1;32m      9\u001b[0m         \u001b[0msf_reviews\u001b[0m\u001b[0;34m.\u001b[0m\u001b[0mappend\u001b[0m\u001b[0;34m(\u001b[0m\u001b[0mr\u001b[0m\u001b[0;34m.\u001b[0m\u001b[0mfind\u001b[0m\u001b[0;34m(\u001b[0m\u001b[0;34m'dd'\u001b[0m\u001b[0;34m,\u001b[0m \u001b[0mattrs\u001b[0m\u001b[0;34m=\u001b[0m\u001b[0;34m{\u001b[0m\u001b[0;34m'class'\u001b[0m\u001b[0;34m:\u001b[0m\u001b[0;34m'article_answer'\u001b[0m\u001b[0;34m}\u001b[0m\u001b[0;34m)\u001b[0m\u001b[0;34m.\u001b[0m\u001b[0mtext\u001b[0m\u001b[0;34m.\u001b[0m\u001b[0mstrip\u001b[0m\u001b[0;34m(\u001b[0m\u001b[0;34m)\u001b[0m\u001b[0;34m)\u001b[0m\u001b[0;34m\u001b[0m\u001b[0;34m\u001b[0m\u001b[0m\n",
      "\u001b[0;31mNameError\u001b[0m: name 'soup' is not defined"
     ]
    }
   ],
   "source": [
    "# declare a list\n",
    "sf_reviews = []\n",
    "df = pd.DataFrame(columns=['組織体制・企業文化'])\n",
    "\n",
    "\n",
    "\n",
    "for r in soup.find_all('div', attrs={'class':'article_body'}):\n",
    "    try:\n",
    "        sf_reviews.append(r.find('dd', attrs={'class':'article_answer'}).text.strip())\n",
    "    except:\n",
    "        sf_reviews.append(np.nan)\n",
    "\n",
    "\n",
    "\n",
    "print(\"Total number of reviews scraped: \" + str(len(sf_reviews)) + \"\\n\")\n",
    "\n",
    "df = df.append({'Quotes':reviews}, ignore_index=True)\n",
    "\n",
    "df.to_csv('new.csv', encoding='utf-8')\n",
    "df"
   ]
  },
  {
   "cell_type": "code",
   "execution_count": null,
   "id": "0336c7e7",
   "metadata": {},
   "outputs": [],
   "source": [
    "<article id=\"anchor01\">…</article>"
   ]
  },
  {
   "cell_type": "code",
   "execution_count": null,
   "id": "3446cc72",
   "metadata": {},
   "outputs": [],
   "source": [
    "<span class=\"d-b lh-high\">…</span>"
   ]
  },
  {
   "cell_type": "code",
   "execution_count": null,
   "id": "53ad4ac5",
   "metadata": {},
   "outputs": [],
   "source": [
    "<div class=\"article_header-white\">"
   ]
  },
  {
   "cell_type": "code",
   "execution_count": null,
   "id": "b2d80f30",
   "metadata": {},
   "outputs": [],
   "source": []
  },
  {
   "cell_type": "code",
   "execution_count": null,
   "id": "6de15d79",
   "metadata": {},
   "outputs": [],
   "source": []
  },
  {
   "cell_type": "code",
   "execution_count": null,
   "id": "2672af46",
   "metadata": {},
   "outputs": [],
   "source": []
  },
  {
   "cell_type": "code",
   "execution_count": null,
   "id": "62774190",
   "metadata": {},
   "outputs": [],
   "source": []
  },
  {
   "cell_type": "code",
   "execution_count": null,
   "id": "88193ac7",
   "metadata": {},
   "outputs": [],
   "source": []
  },
  {
   "cell_type": "code",
   "execution_count": null,
   "id": "215c9b69",
   "metadata": {},
   "outputs": [],
   "source": []
  },
  {
   "cell_type": "code",
   "execution_count": null,
   "id": "9b9eb9b0",
   "metadata": {},
   "outputs": [],
   "source": []
  },
  {
   "cell_type": "code",
   "execution_count": 40,
   "id": "26e2e615",
   "metadata": {},
   "outputs": [
    {
     "name": "stdout",
     "output_type": "stream",
     "text": [
      "page not found\n"
     ]
    },
    {
     "ename": "NameError",
     "evalue": "name 'r' is not defined",
     "output_type": "error",
     "traceback": [
      "\u001b[0;31m---------------------------------------------------------------------------\u001b[0m",
      "\u001b[0;31mNameError\u001b[0m                                 Traceback (most recent call last)",
      "\u001b[0;32m<ipython-input-40-7d5b043b4985>\u001b[0m in \u001b[0;36m<module>\u001b[0;34m\u001b[0m\n\u001b[1;32m     17\u001b[0m     \u001b[0mprint\u001b[0m\u001b[0;34m(\u001b[0m\u001b[0;34m'page not found'\u001b[0m\u001b[0;34m)\u001b[0m\u001b[0;34m\u001b[0m\u001b[0;34m\u001b[0m\u001b[0m\n\u001b[1;32m     18\u001b[0m \u001b[0;31m# turn into a BeautifulSoup object\u001b[0m\u001b[0;34m\u001b[0m\u001b[0;34m\u001b[0m\u001b[0;34m\u001b[0m\u001b[0m\n\u001b[0;32m---> 19\u001b[0;31m \u001b[0msoup\u001b[0m \u001b[0;34m=\u001b[0m \u001b[0mBeautifulSoup\u001b[0m\u001b[0;34m(\u001b[0m\u001b[0mr\u001b[0m\u001b[0;34m.\u001b[0m\u001b[0mtext\u001b[0m\u001b[0;34m,\u001b[0m \u001b[0;34m'html.parser'\u001b[0m\u001b[0;34m)\u001b[0m\u001b[0;34m\u001b[0m\u001b[0;34m\u001b[0m\u001b[0m\n\u001b[0m\u001b[1;32m     20\u001b[0m \u001b[0;34m\u001b[0m\u001b[0m\n\u001b[1;32m     21\u001b[0m \u001b[0;31m# find quotes on page\u001b[0m\u001b[0;34m\u001b[0m\u001b[0;34m\u001b[0m\u001b[0;34m\u001b[0m\u001b[0m\n",
      "\u001b[0;31mNameError\u001b[0m: name 'r' is not defined"
     ]
    }
   ],
   "source": [
    "# declare a list\n",
    "sf_reviews = []\n",
    "df = pd.DataFrame(columns=['組織体制・企業文化'])\n",
    "\n",
    "\n",
    "# iteraterate through the 25 pages of reviews\n",
    "# for page in tqdm(range(1, 26)):\n",
    "#     # add sleep time to slow down querying\n",
    "#     time.sleep(2)\n",
    "#     # make request for that page\n",
    "\n",
    "\n",
    "try:\n",
    "    r = requests.get(\n",
    "    url.format(page))\n",
    "except:\n",
    "    print('page not found')\n",
    "# turn into a BeautifulSoup object\n",
    "soup = BeautifulSoup(r.text, 'html.parser')\n",
    "\n",
    "# find quotes on page\n",
    "try:\n",
    "    review = soup.find_all(name='div', attrs={'class': \"article\"})\n",
    "\n",
    "    # add to our quotes list\n",
    "    for review in reviews:\n",
    "        sf_reviews.append(quote.text)\n",
    "except:\n",
    "    print('quote not found')\n",
    "print(\"Total number of reviews scraped: \" + str(len(sf_reviews)) + \"\\n\")\n",
    "\n",
    "df = df.append({'Quotes':reviews}, ignore_index=True)\n",
    "\n",
    "df.to_csv('new.csv', encoding='utf-8')"
   ]
  },
  {
   "cell_type": "code",
   "execution_count": null,
   "id": "e9adf5f1",
   "metadata": {},
   "outputs": [],
   "source": []
  }
 ],
 "metadata": {
  "kernelspec": {
   "display_name": "Python 3",
   "language": "python",
   "name": "python3"
  },
  "language_info": {
   "codemirror_mode": {
    "name": "ipython",
    "version": 3
   },
   "file_extension": ".py",
   "mimetype": "text/x-python",
   "name": "python",
   "nbconvert_exporter": "python",
   "pygments_lexer": "ipython3",
   "version": "3.8.8"
  },
  "toc": {
   "base_numbering": 1,
   "nav_menu": {},
   "number_sections": true,
   "sideBar": true,
   "skip_h1_title": false,
   "title_cell": "Table of Contents",
   "title_sidebar": "Contents",
   "toc_cell": false,
   "toc_position": {},
   "toc_section_display": true,
   "toc_window_display": false
  }
 },
 "nbformat": 4,
 "nbformat_minor": 5
}
