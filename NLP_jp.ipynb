{
 "cells": [
  {
   "cell_type": "code",
   "execution_count": 1,
   "id": "8699eb40",
   "metadata": {},
   "outputs": [],
   "source": [
    "# import\n",
    "import numpy as np\n",
    "import scipy.stats as stats\n",
    "import seaborn as sns\n",
    "import matplotlib.pyplot as plt\n",
    "import pandas as pd\n",
    "import altair as alt\n",
    "import warnings\n",
    "import streamlit as st\n",
    "from keras.layers import Dense, Activation\n",
    "from keras.models import Sequential\n",
    "from tensorflow import keras\n",
    "from sklearn.cluster import KMeans\n",
    "# folium\n",
    "import folium\n",
    "import folium.plugins as plugins\n",
    "from streamlit_folium import folium_static\n",
    "\n",
    "from sklearn.linear_model import LinearRegression, Lasso\n",
    "from sklearn.preprocessing import StandardScaler\n",
    "from sklearn.model_selection import train_test_split\n",
    "\n",
    "# NLP\n",
    "import nltk\n",
    "from nltk.corpus import stopwords\n",
    "from sklearn.feature_extraction.text import CountVectorizer, TfidfVectorizer\n",
    "from wordcloud import WordCloud, STOPWORDS, ImageColorGenerator\n",
    "from PIL import Image\n",
    "from nltk.tokenize import word_tokenize\n",
    "from nltk.util import ngrams\n",
    "import string\n",
    "\n",
    "# this line tells jupyter notebook to put the plots in the notebook rather than saving them to file\n",
    "%matplotlib inline\n",
    "\n",
    "# this line makes plots prettier on mac retina screens - if you don't have one it shouldn't do anything\n",
    "%config InlineBackend.figure_format = 'retina'\n",
    "\n",
    "\n",
    "# Style\n",
    "sns.set_style(style = 'darkgrid')\n",
    "\n",
    "\n",
    "\n",
    "\n",
    "\n",
    "\n",
    "\n",
    "\n",
    "\n",
    "font = {'family' : 'normal',\n",
    "        'weight' : 'bold',\n",
    "        'size'   : 18}\n",
    "\n",
    "plt.rc('font', **font)\n",
    "\n",
    "\n",
    "# from vaderSentiment.vaderSentiment import SentimentIntensityAnalyzer"
   ]
  },
  {
   "cell_type": "code",
   "execution_count": 2,
   "id": "eb4d2da1",
   "metadata": {},
   "outputs": [
    {
     "data": {
      "text/html": [
       "<div>\n",
       "<style scoped>\n",
       "    .dataframe tbody tr th:only-of-type {\n",
       "        vertical-align: middle;\n",
       "    }\n",
       "\n",
       "    .dataframe tbody tr th {\n",
       "        vertical-align: top;\n",
       "    }\n",
       "\n",
       "    .dataframe thead th {\n",
       "        text-align: right;\n",
       "    }\n",
       "</style>\n",
       "<table border=\"1\" class=\"dataframe\">\n",
       "  <thead>\n",
       "    <tr style=\"text-align: right;\">\n",
       "      <th></th>\n",
       "      <th>タイトル</th>\n",
       "      <th>タイトルリンク</th>\n",
       "      <th>typography-hy</th>\n",
       "      <th>point</th>\n",
       "      <th>w-100</th>\n",
       "      <th>口コミ投稿日</th>\n",
       "      <th>text-center</th>\n",
       "      <th>report</th>\n",
       "      <th>report1</th>\n",
       "    </tr>\n",
       "  </thead>\n",
       "  <tbody>\n",
       "    <tr>\n",
       "      <th>0</th>\n",
       "      <td>男性/ 営業/ 現職（回答時）/ 中途入社/ 在籍3年未満/ 正社員</td>\n",
       "      <td>https://en-hyouban.com/company/10025403019/use...</td>\n",
       "      <td>働き方（勤務時間・休日休暇・制度）</td>\n",
       "      <td>4.7</td>\n",
       "      <td>勤務時間・休日休暇:ワークライフバランスをとるかどうかは自分次第。ベースとなる勤務時間は9：...</td>\n",
       "      <td>2022年03月 6日</td>\n",
       "      <td>2022年時点の情報</td>\n",
       "      <td>https://en-hyouban.com/inquiry/?kuchikomi_id=6...</td>\n",
       "      <td>https://en-hyouban.com/company/10025403019/kuc...</td>\n",
       "    </tr>\n",
       "    <tr>\n",
       "      <th>1</th>\n",
       "      <td>男性/ 営業/ 現職（回答時）/ 中途入社/ 在籍3年未満/ 正社員</td>\n",
       "      <td>https://en-hyouban.com/company/10025403019/use...</td>\n",
       "      <td>働き方（勤務時間・休日休暇・制度）</td>\n",
       "      <td>4.7</td>\n",
       "      <td>勤務時間・休日休暇:ワークライフバランスを保てるかどうかは自分次第。強制的に残業や休日の仕事...</td>\n",
       "      <td>2021年02月23日</td>\n",
       "      <td>2021年時点の情報</td>\n",
       "      <td>https://en-hyouban.com/inquiry/?kuchikomi_id=5...</td>\n",
       "      <td>https://en-hyouban.com/company/10025403019/kuc...</td>\n",
       "    </tr>\n",
       "    <tr>\n",
       "      <th>2</th>\n",
       "      <td>男性/ Solution Engineer/ 現職（回答時）/ 中途入社/ 在籍3～5年/ ...</td>\n",
       "      <td>https://en-hyouban.com/company/10025403019/use...</td>\n",
       "      <td>年収・給与</td>\n",
       "      <td>5.0</td>\n",
       "      <td>給与制度:提示される想定年収の8割が固定給で残り2割がインセンティブインセンティブは四半期ご...</td>\n",
       "      <td>2020年11月20日</td>\n",
       "      <td>2020年時点の情報</td>\n",
       "      <td>https://en-hyouban.com/inquiry/?kuchikomi_id=5...</td>\n",
       "      <td>https://en-hyouban.com/company/10025403019/kuc...</td>\n",
       "    </tr>\n",
       "    <tr>\n",
       "      <th>3</th>\n",
       "      <td>男性/ 6903/ 現職（回答時）/ 中途入社/ 在籍6～10年/ 正社員</td>\n",
       "      <td>https://en-hyouban.com/company/10025403019/use...</td>\n",
       "      <td>企業カルチャー・組織体制</td>\n",
       "      <td>4.9</td>\n",
       "      <td>企業カルチャー・社風:カスタマーサクセスを打ち出しており、導入後も運用をサポートする部門が支...</td>\n",
       "      <td>2021年04月 8日</td>\n",
       "      <td>2021年時点の情報</td>\n",
       "      <td>https://en-hyouban.com/inquiry/?kuchikomi_id=5...</td>\n",
       "      <td>https://en-hyouban.com/company/10025403019/kuc...</td>\n",
       "    </tr>\n",
       "    <tr>\n",
       "      <th>4</th>\n",
       "      <td>男性/ カスタマーサクセス/ 現職（回答時）/ 中途入社/ 在籍11～15年/ 正社員/ デ...</td>\n",
       "      <td>https://en-hyouban.com/company/10025403019/use...</td>\n",
       "      <td>福利厚生・オフィス環境</td>\n",
       "      <td>5.0</td>\n",
       "      <td>福利厚生:オフィス内のカフェテリアは充実している。エスプレッソマシンは自動であるが、豆もそれ...</td>\n",
       "      <td>2020年06月 2日</td>\n",
       "      <td>2020年時点の情報</td>\n",
       "      <td>https://en-hyouban.com/inquiry/?kuchikomi_id=5...</td>\n",
       "      <td>https://en-hyouban.com/company/10025403019/kuc...</td>\n",
       "    </tr>\n",
       "    <tr>\n",
       "      <th>...</th>\n",
       "      <td>...</td>\n",
       "      <td>...</td>\n",
       "      <td>...</td>\n",
       "      <td>...</td>\n",
       "      <td>...</td>\n",
       "      <td>...</td>\n",
       "      <td>...</td>\n",
       "      <td>...</td>\n",
       "      <td>...</td>\n",
       "    </tr>\n",
       "    <tr>\n",
       "      <th>95</th>\n",
       "      <td>女性/ 営業系（営業、MR、営業企画 他）/ 現職（回答時）/ 非正社員</td>\n",
       "      <td>https://en-hyouban.com/company/10025403019/use...</td>\n",
       "      <td>働き方（勤務時間・休日休暇・制度）</td>\n",
       "      <td>NaN</td>\n",
       "      <td>勤務時間・休日休暇：【長期休暇の取得】社員は有給休暇の付与日数が法定よりも多い上に休暇をとて...</td>\n",
       "      <td>2019年11月19日</td>\n",
       "      <td>2019年時点の情報</td>\n",
       "      <td>https://en-hyouban.com/inquiry/?kuchikomi_id=4...</td>\n",
       "      <td>https://en-hyouban.com/company/10025403019/kuc...</td>\n",
       "    </tr>\n",
       "    <tr>\n",
       "      <th>96</th>\n",
       "      <td>女性/ 営業系（営業、MR、営業企画 他）/ 現職（回答時）/ 非正社員</td>\n",
       "      <td>https://en-hyouban.com/company/10025403019/use...</td>\n",
       "      <td>事業展望・強み・弱み</td>\n",
       "      <td>NaN</td>\n",
       "      <td>仕事内容：【個人の裁量】マネジメント能力がない上司をつけられてしまうとあれこれ指示されてまる...</td>\n",
       "      <td>2019年11月13日</td>\n",
       "      <td>2019年時点の情報</td>\n",
       "      <td>https://en-hyouban.com/inquiry/?kuchikomi_id=4...</td>\n",
       "      <td>https://en-hyouban.com/company/10025403019/kuc...</td>\n",
       "    </tr>\n",
       "    <tr>\n",
       "      <th>97</th>\n",
       "      <td>女性/ 営業系（営業、MR、営業企画 他）/ 現職（回答時）/ 非正社員</td>\n",
       "      <td>https://en-hyouban.com/company/10025403019/use...</td>\n",
       "      <td>働き方（勤務時間・休日休暇・制度）</td>\n",
       "      <td>NaN</td>\n",
       "      <td>勤務時間・休日休暇：休日休暇はとても自由に取得させていただけます。派遣社員であっても派遣会社...</td>\n",
       "      <td>2019年11月19日</td>\n",
       "      <td>2019年時点の情報</td>\n",
       "      <td>https://en-hyouban.com/inquiry/?kuchikomi_id=4...</td>\n",
       "      <td>https://en-hyouban.com/company/10025403019/kuc...</td>\n",
       "    </tr>\n",
       "    <tr>\n",
       "      <th>98</th>\n",
       "      <td>女性/ 営業系（営業、MR、営業企画 他）/ 現職（回答時）/ 非正社員</td>\n",
       "      <td>https://en-hyouban.com/company/10025403019/use...</td>\n",
       "      <td>働き方（勤務時間・休日休暇・制度）</td>\n",
       "      <td>NaN</td>\n",
       "      <td>勤務時間・休日休暇：【長期休暇の取得】夏休みやクリスマス～年末年始にかけてアメリカ本社や各国...</td>\n",
       "      <td>2019年11月19日</td>\n",
       "      <td>2019年時点の情報</td>\n",
       "      <td>https://en-hyouban.com/inquiry/?kuchikomi_id=4...</td>\n",
       "      <td>https://en-hyouban.com/company/10025403019/kuc...</td>\n",
       "    </tr>\n",
       "    <tr>\n",
       "      <th>99</th>\n",
       "      <td>女性/ SalesStrategyAccosiate/ 現職（回答時）/ 中途入社/ 在籍3...</td>\n",
       "      <td>https://en-hyouban.com/company/10025403019/use...</td>\n",
       "      <td>福利厚生・オフィス環境</td>\n",
       "      <td>2.8</td>\n",
       "      <td>福利厚生:住宅補助などはないが、月々の健康補助や在宅手当、持株会がある。オフィス環境:新社屋...</td>\n",
       "      <td>2022年02月21日</td>\n",
       "      <td>2022年時点の情報</td>\n",
       "      <td>https://en-hyouban.com/inquiry/?kuchikomi_id=6...</td>\n",
       "      <td>https://en-hyouban.com/company/10025403019/kuc...</td>\n",
       "    </tr>\n",
       "  </tbody>\n",
       "</table>\n",
       "<p>125 rows × 9 columns</p>\n",
       "</div>"
      ],
      "text/plain": [
       "                                                 タイトル  \\\n",
       "0                  男性/ 営業/ 現職（回答時）/ 中途入社/ 在籍3年未満/ 正社員   \n",
       "1                  男性/ 営業/ 現職（回答時）/ 中途入社/ 在籍3年未満/ 正社員   \n",
       "2   男性/ Solution Engineer/ 現職（回答時）/ 中途入社/ 在籍3～5年/ ...   \n",
       "3               男性/ 6903/ 現職（回答時）/ 中途入社/ 在籍6～10年/ 正社員   \n",
       "4   男性/ カスタマーサクセス/ 現職（回答時）/ 中途入社/ 在籍11～15年/ 正社員/ デ...   \n",
       "..                                                ...   \n",
       "95               女性/ 営業系（営業、MR、営業企画 他）/ 現職（回答時）/ 非正社員   \n",
       "96               女性/ 営業系（営業、MR、営業企画 他）/ 現職（回答時）/ 非正社員   \n",
       "97               女性/ 営業系（営業、MR、営業企画 他）/ 現職（回答時）/ 非正社員   \n",
       "98               女性/ 営業系（営業、MR、営業企画 他）/ 現職（回答時）/ 非正社員   \n",
       "99  女性/ SalesStrategyAccosiate/ 現職（回答時）/ 中途入社/ 在籍3...   \n",
       "\n",
       "                                              タイトルリンク      typography-hy  \\\n",
       "0   https://en-hyouban.com/company/10025403019/use...  働き方（勤務時間・休日休暇・制度）   \n",
       "1   https://en-hyouban.com/company/10025403019/use...  働き方（勤務時間・休日休暇・制度）   \n",
       "2   https://en-hyouban.com/company/10025403019/use...              年収・給与   \n",
       "3   https://en-hyouban.com/company/10025403019/use...       企業カルチャー・組織体制   \n",
       "4   https://en-hyouban.com/company/10025403019/use...        福利厚生・オフィス環境   \n",
       "..                                                ...                ...   \n",
       "95  https://en-hyouban.com/company/10025403019/use...  働き方（勤務時間・休日休暇・制度）   \n",
       "96  https://en-hyouban.com/company/10025403019/use...         事業展望・強み・弱み   \n",
       "97  https://en-hyouban.com/company/10025403019/use...  働き方（勤務時間・休日休暇・制度）   \n",
       "98  https://en-hyouban.com/company/10025403019/use...  働き方（勤務時間・休日休暇・制度）   \n",
       "99  https://en-hyouban.com/company/10025403019/use...        福利厚生・オフィス環境   \n",
       "\n",
       "    point                                              w-100       口コミ投稿日  \\\n",
       "0     4.7  勤務時間・休日休暇:ワークライフバランスをとるかどうかは自分次第。ベースとなる勤務時間は9：...  2022年03月 6日   \n",
       "1     4.7  勤務時間・休日休暇:ワークライフバランスを保てるかどうかは自分次第。強制的に残業や休日の仕事...  2021年02月23日   \n",
       "2     5.0  給与制度:提示される想定年収の8割が固定給で残り2割がインセンティブインセンティブは四半期ご...  2020年11月20日   \n",
       "3     4.9  企業カルチャー・社風:カスタマーサクセスを打ち出しており、導入後も運用をサポートする部門が支...  2021年04月 8日   \n",
       "4     5.0  福利厚生:オフィス内のカフェテリアは充実している。エスプレッソマシンは自動であるが、豆もそれ...  2020年06月 2日   \n",
       "..    ...                                                ...          ...   \n",
       "95    NaN  勤務時間・休日休暇：【長期休暇の取得】社員は有給休暇の付与日数が法定よりも多い上に休暇をとて...  2019年11月19日   \n",
       "96    NaN  仕事内容：【個人の裁量】マネジメント能力がない上司をつけられてしまうとあれこれ指示されてまる...  2019年11月13日   \n",
       "97    NaN  勤務時間・休日休暇：休日休暇はとても自由に取得させていただけます。派遣社員であっても派遣会社...  2019年11月19日   \n",
       "98    NaN  勤務時間・休日休暇：【長期休暇の取得】夏休みやクリスマス～年末年始にかけてアメリカ本社や各国...  2019年11月19日   \n",
       "99    2.8  福利厚生:住宅補助などはないが、月々の健康補助や在宅手当、持株会がある。オフィス環境:新社屋...  2022年02月21日   \n",
       "\n",
       "   text-center                                             report  \\\n",
       "0   2022年時点の情報  https://en-hyouban.com/inquiry/?kuchikomi_id=6...   \n",
       "1   2021年時点の情報  https://en-hyouban.com/inquiry/?kuchikomi_id=5...   \n",
       "2   2020年時点の情報  https://en-hyouban.com/inquiry/?kuchikomi_id=5...   \n",
       "3   2021年時点の情報  https://en-hyouban.com/inquiry/?kuchikomi_id=5...   \n",
       "4   2020年時点の情報  https://en-hyouban.com/inquiry/?kuchikomi_id=5...   \n",
       "..         ...                                                ...   \n",
       "95  2019年時点の情報  https://en-hyouban.com/inquiry/?kuchikomi_id=4...   \n",
       "96  2019年時点の情報  https://en-hyouban.com/inquiry/?kuchikomi_id=4...   \n",
       "97  2019年時点の情報  https://en-hyouban.com/inquiry/?kuchikomi_id=4...   \n",
       "98  2019年時点の情報  https://en-hyouban.com/inquiry/?kuchikomi_id=4...   \n",
       "99  2022年時点の情報  https://en-hyouban.com/inquiry/?kuchikomi_id=6...   \n",
       "\n",
       "                                              report1  \n",
       "0   https://en-hyouban.com/company/10025403019/kuc...  \n",
       "1   https://en-hyouban.com/company/10025403019/kuc...  \n",
       "2   https://en-hyouban.com/company/10025403019/kuc...  \n",
       "3   https://en-hyouban.com/company/10025403019/kuc...  \n",
       "4   https://en-hyouban.com/company/10025403019/kuc...  \n",
       "..                                                ...  \n",
       "95  https://en-hyouban.com/company/10025403019/kuc...  \n",
       "96  https://en-hyouban.com/company/10025403019/kuc...  \n",
       "97  https://en-hyouban.com/company/10025403019/kuc...  \n",
       "98  https://en-hyouban.com/company/10025403019/kuc...  \n",
       "99  https://en-hyouban.com/company/10025403019/kuc...  \n",
       "\n",
       "[125 rows x 9 columns]"
      ]
     },
     "execution_count": 2,
     "metadata": {},
     "output_type": "execute_result"
    }
   ],
   "source": [
    "df = pd.read_excel('sf_en_review25.xlsx')\n",
    "df2 = pd.read_excel('scrape2.xlsx')\n",
    "\n",
    "df = pd.concat([df,df2])\n",
    "df.drop_duplicates()"
   ]
  },
  {
   "cell_type": "code",
   "execution_count": 3,
   "id": "65a5d8c5",
   "metadata": {
    "scrolled": true
   },
   "outputs": [
    {
     "data": {
      "text/plain": [
       "Index(['タイトル', 'タイトルリンク', 'typography-hy', 'point', 'w-100', '口コミ投稿日',\n",
       "       'text-center', 'report', 'report1'],\n",
       "      dtype='object')"
      ]
     },
     "execution_count": 3,
     "metadata": {},
     "output_type": "execute_result"
    }
   ],
   "source": [
    "df.columns"
   ]
  },
  {
   "cell_type": "code",
   "execution_count": 4,
   "id": "541df545",
   "metadata": {},
   "outputs": [],
   "source": [
    "df.drop(['タイトルリンク', '口コミ投稿日', 'report', 'report1'], axis = 1, inplace = True)"
   ]
  },
  {
   "cell_type": "code",
   "execution_count": 5,
   "id": "24e88b48",
   "metadata": {},
   "outputs": [
    {
     "data": {
      "text/plain": [
       "(125, 5)"
      ]
     },
     "execution_count": 5,
     "metadata": {},
     "output_type": "execute_result"
    }
   ],
   "source": [
    "df.shape"
   ]
  },
  {
   "cell_type": "code",
   "execution_count": 6,
   "id": "a0e40d54",
   "metadata": {
    "scrolled": true
   },
   "outputs": [
    {
     "data": {
      "text/plain": [
       "Index(['タイトル', 'typography-hy', 'point', 'w-100', 'text-center'], dtype='object')"
      ]
     },
     "execution_count": 6,
     "metadata": {},
     "output_type": "execute_result"
    }
   ],
   "source": [
    "df.columns"
   ]
  },
  {
   "cell_type": "code",
   "execution_count": 7,
   "id": "2b545c6e",
   "metadata": {},
   "outputs": [],
   "source": [
    "df.rename(columns = {'タイトル': 'reviewer_info', \n",
    "                     'typography-hy': 'title', \n",
    "                     'point' : 'rating', \n",
    "                     'w-100': 'review', \n",
    "                     'text-center': 'year'}, inplace = True)"
   ]
  },
  {
   "cell_type": "code",
   "execution_count": 8,
   "id": "5c63767e",
   "metadata": {
    "scrolled": true
   },
   "outputs": [
    {
     "data": {
      "text/plain": [
       "reviewer_info     object\n",
       "title             object\n",
       "rating           float64\n",
       "review            object\n",
       "year              object\n",
       "dtype: object"
      ]
     },
     "execution_count": 8,
     "metadata": {},
     "output_type": "execute_result"
    }
   ],
   "source": [
    "df.dtypes"
   ]
  },
  {
   "cell_type": "code",
   "execution_count": 9,
   "id": "50c19fe2",
   "metadata": {
    "scrolled": true
   },
   "outputs": [
    {
     "data": {
      "text/plain": [
       "<AxesSubplot:>"
      ]
     },
     "execution_count": 9,
     "metadata": {},
     "output_type": "execute_result"
    },
    {
     "name": "stderr",
     "output_type": "stream",
     "text": [
      "2022-08-09 08:52:06.662 WARNING matplotlib.font_manager: findfont: Font family ['normal'] not found. Falling back to DejaVu Sans.\n"
     ]
    },
    {
     "data": {
      "image/png": "[encoded data removed]",
      "text/plain": [
       "<Figure size 432x288 with 1 Axes>"
      ]
     },
     "metadata": {
      "image/png": {
       "height": 255,
       "width": 388
      }
     },
     "output_type": "display_data"
    }
   ],
   "source": [
    "df['rating'].value_counts().sort_values().plot(kind = 'barh')"
   ]
  },
  {
   "cell_type": "code",
   "execution_count": 10,
   "id": "09a4f63f",
   "metadata": {
    "scrolled": true
   },
   "outputs": [
    {
     "data": {
      "text/plain": [
       "array(['働き方（勤務時間・休日休暇・制度）', '年収・給与', '企業カルチャー・組織体制', '福利厚生・オフィス環境',\n",
       "       '事業展望・強み・弱み', '入社前とのギャップ', '女性の働きやすさ', '成長・働きがい'], dtype=object)"
      ]
     },
     "execution_count": 10,
     "metadata": {},
     "output_type": "execute_result"
    }
   ],
   "source": [
    "df['title'].unique()"
   ]
  },
  {
   "cell_type": "code",
   "execution_count": 11,
   "id": "7830e270",
   "metadata": {},
   "outputs": [],
   "source": [
    "# df['column name'] = df['column name'].replace(['old value'],'new value')\n",
    "df['title'] = df['title'].replace(['働き方（勤務時間・休日休暇・制度）'], 'Work style (working hours/holidays/systems)')\n",
    "df['title'] = df['title'].replace(['年収・給与'], 'Annual salary/salary')\n",
    "df['title'] = df['title'].replace(['企業カルチャー・組織体制'], 'Corporate culture/organizational system')\n",
    "df['title'] = df['title'].replace(['福利厚生・オフィス環境'], 'Benefits/office environment')\n",
    "df['title'] = df['title'].replace(['事業展望・強み・弱み'], 'Business prospects/strengths/weaknesses')\n",
    "df['title'] = df['title'].replace(['入社前とのギャップ'], 'Gap before joining the company')\n",
    "df['title'] = df['title'].replace(['女性の働きやすさ'], 'working for women')\n",
    "df['title'] = df['title'].replace(['成長・働きがい'], 'Growth/motivation')"
   ]
  },
  {
   "cell_type": "code",
   "execution_count": 17,
   "id": "af17463b",
   "metadata": {
    "scrolled": true
   },
   "outputs": [
    {
     "data": {
      "text/plain": [
       "<AxesSubplot:>"
      ]
     },
     "execution_count": 17,
     "metadata": {},
     "output_type": "execute_result"
    },
    {
     "data": {
      "image/png": "[encoded data removed]",
      "text/plain": [
       "<Figure size 432x288 with 1 Axes>"
      ]
     },
     "metadata": {
      "image/png": {
       "height": 255,
       "width": 388
      }
     },
     "output_type": "display_data"
    }
   ],
   "source": [
    "work_balance = df[df['title'] == 'Work style (working hours/holidays/systems)']\n",
    "work_balance['rating'].value_counts().sort_values().plot(kind = 'barh')"
   ]
  },
  {
   "cell_type": "code",
   "execution_count": 18,
   "id": "3bcf00a2",
   "metadata": {},
   "outputs": [
    {
     "data": {
      "text/plain": [
       "<AxesSubplot:>"
      ]
     },
     "execution_count": 18,
     "metadata": {},
     "output_type": "execute_result"
    },
    {
     "data": {
      "image/png": "[encoded data removed]",
      "text/plain": [
       "<Figure size 432x288 with 1 Axes>"
      ]
     },
     "metadata": {
      "image/png": {
       "height": 255,
       "width": 388
      }
     },
     "output_type": "display_data"
    }
   ],
   "source": [
    "salary = df[df['title'] == 'Annual salary/salary']\n",
    "salary['rating'].value_counts().sort_values().plot(kind = 'barh')"
   ]
  },
  {
   "cell_type": "code",
   "execution_count": 19,
   "id": "53428d3b",
   "metadata": {},
   "outputs": [
    {
     "data": {
      "text/plain": [
       "<AxesSubplot:>"
      ]
     },
     "execution_count": 19,
     "metadata": {},
     "output_type": "execute_result"
    },
    {
     "data": {
      "image/png": "[encoded data removed]",
      "text/plain": [
       "<Figure size 432x288 with 1 Axes>"
      ]
     },
     "metadata": {
      "image/png": {
       "height": 255,
       "width": 388
      }
     },
     "output_type": "display_data"
    }
   ],
   "source": [
    "culture = df[df['title'] == 'Corporate culture/organizational system']\n",
    "culture['rating'].value_counts().sort_values().plot(kind = 'barh')"
   ]
  },
  {
   "cell_type": "code",
   "execution_count": 21,
   "id": "3666e6a5",
   "metadata": {},
   "outputs": [
    {
     "data": {
      "text/plain": [
       "<AxesSubplot:>"
      ]
     },
     "execution_count": 21,
     "metadata": {},
     "output_type": "execute_result"
    },
    {
     "data": {
      "image/png": "[encoded data removed]",
      "text/plain": [
       "<Figure size 432x288 with 1 Axes>"
      ]
     },
     "metadata": {
      "image/png": {
       "height": 255,
       "width": 388
      }
     },
     "output_type": "display_data"
    }
   ],
   "source": [
    "benefit = df[df['title'] == 'Benefits/office environment']\n",
    "benefit['rating'].value_counts().sort_values().plot(kind = 'barh')"
   ]
  },
  {
   "cell_type": "code",
   "execution_count": 22,
   "id": "9cccbcdd",
   "metadata": {},
   "outputs": [
    {
     "data": {
      "text/plain": [
       "<AxesSubplot:>"
      ]
     },
     "execution_count": 22,
     "metadata": {},
     "output_type": "execute_result"
    },
    {
     "data": {
      "image/png": "[encoded data removed]",
      "text/plain": [
       "<Figure size 432x288 with 1 Axes>"
      ]
     },
     "metadata": {
      "image/png": {
       "height": 255,
       "width": 388
      }
     },
     "output_type": "display_data"
    }
   ],
   "source": [
    "business = df[df['title'] == 'Business prospects/strengths/weaknesses']\n",
    "business['rating'].value_counts().sort_values().plot(kind = 'barh')"
   ]
  },
  {
   "cell_type": "code",
   "execution_count": 23,
   "id": "1d3f2ce5",
   "metadata": {},
   "outputs": [
    {
     "data": {
      "text/plain": [
       "<AxesSubplot:>"
      ]
     },
     "execution_count": 23,
     "metadata": {},
     "output_type": "execute_result"
    },
    {
     "data": {
      "image/png": "[encoded data removed]",
      "text/plain": [
       "<Figure size 432x288 with 1 Axes>"
      ]
     },
     "metadata": {
      "image/png": {
       "height": 255,
       "width": 388
      }
     },
     "output_type": "display_data"
    }
   ],
   "source": [
    "gap = df[df['title'] == 'Gap before joining the company']\n",
    "gap['rating'].value_counts().sort_values().plot(kind = 'barh')"
   ]
  },
  {
   "cell_type": "code",
   "execution_count": 24,
   "id": "f1524f98",
   "metadata": {},
   "outputs": [
    {
     "data": {
      "text/plain": [
       "<AxesSubplot:>"
      ]
     },
     "execution_count": 24,
     "metadata": {},
     "output_type": "execute_result"
    },
    {
     "data": {
      "image/png": "[encoded data removed]",
      "text/plain": [
       "<Figure size 432x288 with 1 Axes>"
      ]
     },
     "metadata": {
      "image/png": {
       "height": 255,
       "width": 388
      }
     },
     "output_type": "display_data"
    }
   ],
   "source": [
    "women = df[df['title'] == 'working for women']\n",
    "women['rating'].value_counts().sort_values().plot(kind = 'barh')"
   ]
  },
  {
   "cell_type": "code",
   "execution_count": 25,
   "id": "2202f02e",
   "metadata": {},
   "outputs": [
    {
     "data": {
      "text/plain": [
       "<AxesSubplot:>"
      ]
     },
     "execution_count": 25,
     "metadata": {},
     "output_type": "execute_result"
    },
    {
     "data": {
      "image/png": "[encoded data removed]",
      "text/plain": [
       "<Figure size 432x288 with 1 Axes>"
      ]
     },
     "metadata": {
      "image/png": {
       "height": 255,
       "width": 388
      }
     },
     "output_type": "display_data"
    }
   ],
   "source": [
    "motivation = df[df['title'] == 'Growth/motivation']\n",
    "motivation['rating'].value_counts().sort_values().plot(kind = 'barh')"
   ]
  },
  {
   "cell_type": "code",
   "execution_count": null,
   "id": "f1aa91d4",
   "metadata": {},
   "outputs": [],
   "source": []
  },
  {
   "cell_type": "code",
   "execution_count": null,
   "id": "c5947d27",
   "metadata": {},
   "outputs": [],
   "source": []
  },
  {
   "cell_type": "code",
   "execution_count": null,
   "id": "c42ef527",
   "metadata": {},
   "outputs": [],
   "source": []
  },
  {
   "cell_type": "code",
   "execution_count": null,
   "id": "a1064216",
   "metadata": {},
   "outputs": [],
   "source": []
  },
  {
   "cell_type": "code",
   "execution_count": null,
   "id": "775f69c9",
   "metadata": {},
   "outputs": [],
   "source": []
  },
  {
   "cell_type": "code",
   "execution_count": null,
   "id": "56ce39e8",
   "metadata": {},
   "outputs": [],
   "source": []
  },
  {
   "cell_type": "code",
   "execution_count": null,
   "id": "c2f467c3",
   "metadata": {},
   "outputs": [],
   "source": []
  },
  {
   "cell_type": "code",
   "execution_count": null,
   "id": "2fa5dcdf",
   "metadata": {},
   "outputs": [],
   "source": []
  },
  {
   "cell_type": "code",
   "execution_count": null,
   "id": "f96c7316",
   "metadata": {},
   "outputs": [],
   "source": []
  },
  {
   "cell_type": "code",
   "execution_count": null,
   "id": "e6ef7ebc",
   "metadata": {
    "scrolled": true
   },
   "outputs": [],
   "source": [
    "df"
   ]
  },
  {
   "cell_type": "code",
   "execution_count": null,
   "id": "5f0ec85e",
   "metadata": {},
   "outputs": [],
   "source": [
    "df.columns"
   ]
  },
  {
   "cell_type": "code",
   "execution_count": null,
   "id": "ab2b0280",
   "metadata": {},
   "outputs": [],
   "source": [
    "df.head(2)"
   ]
  },
  {
   "cell_type": "code",
   "execution_count": null,
   "id": "ea927843",
   "metadata": {
    "scrolled": true
   },
   "outputs": [],
   "source": [
    "df.review"
   ]
  },
  {
   "cell_type": "code",
   "execution_count": null,
   "id": "3923d27c",
   "metadata": {
    "scrolled": true
   },
   "outputs": [],
   "source": [
    "df.head(2)"
   ]
  },
  {
   "cell_type": "code",
   "execution_count": null,
   "id": "a36070cd",
   "metadata": {},
   "outputs": [],
   "source": [
    "from googletrans import Translator\n",
    "tr = Translator(service_urls=['translate.googleapis.com'])\n",
    "tr = Translator()\n",
    "tr.translate(text=\"こんにちは\", src=\"ja\", dest=\"en\").text"
   ]
  },
  {
   "cell_type": "code",
   "execution_count": null,
   "id": "9d8573a8",
   "metadata": {},
   "outputs": [],
   "source": [
    "df['review_translated'] = df['review'].apply(lambda x : tr.translate(x, src=\"ja\", dest=\"en\").text)"
   ]
  },
  {
   "cell_type": "code",
   "execution_count": null,
   "id": "8601d9af",
   "metadata": {},
   "outputs": [],
   "source": [
    "df['reviwe_translated_original'] = df['review_translated']"
   ]
  },
  {
   "cell_type": "code",
   "execution_count": null,
   "id": "ec9ba8e2",
   "metadata": {},
   "outputs": [],
   "source": [
    "from nltk.stem import WordNetLemmatizer\n",
    "from nltk.tokenize import word_tokenize,sent_tokenize\n",
    "from wordcloud import WordCloud,STOPWORDS\n",
    "from nltk.stem import WordNetLemmatizer\n",
    "from nltk.tokenize import word_tokenize,sent_tokenize\n",
    "from nltk.tokenize.toktok import ToktokTokenizer\n",
    "from nltk.stem import LancasterStemmer,WordNetLemmatizer\n",
    "from textblob import TextBlob\n",
    "from textblob import Word\n",
    "import re,string,unicodedata"
   ]
  },
  {
   "cell_type": "markdown",
   "id": "7b37c1c5",
   "metadata": {},
   "source": [
    "## Tokenizer"
   ]
  },
  {
   "cell_type": "code",
   "execution_count": null,
   "id": "6a25cffd",
   "metadata": {},
   "outputs": [],
   "source": [
    "#Tokenization of text\n",
    "tokenizer=ToktokTokenizer()\n",
    "#Setting English stopwords\n",
    "stopword_list=nltk.corpus.stopwords.words('english')"
   ]
  },
  {
   "cell_type": "markdown",
   "id": "76dd9d17",
   "metadata": {},
   "source": [
    "## Remove special Chars"
   ]
  },
  {
   "cell_type": "code",
   "execution_count": null,
   "id": "00d9f17e",
   "metadata": {},
   "outputs": [],
   "source": [
    "#Define function for removing special characters\n",
    "def remove_special_characters(text, remove_digits=True):\n",
    "    pattern=r'[^a-zA-z0-9\\s]'\n",
    "    text=re.sub(pattern,'',text)\n",
    "    return text\n",
    "#Apply function on review column\n",
    "df['review_translated']=df['review_translated'].apply(remove_special_characters)"
   ]
  },
  {
   "cell_type": "markdown",
   "id": "80834138",
   "metadata": {},
   "source": [
    "## Text Stemming"
   ]
  },
  {
   "cell_type": "code",
   "execution_count": null,
   "id": "a4fdd577",
   "metadata": {},
   "outputs": [],
   "source": [
    "# #Stemming the text\n",
    "# def simple_stemmer(text):\n",
    "#     ps=nltk.porter.PorterStemmer()\n",
    "#     text= ' '.join([ps.stem(word) for word in text.split()])\n",
    "#     return text\n",
    "# #Apply function on review column\n",
    "# df['Pros']=df['Pros'].apply(simple_stemmer)"
   ]
  },
  {
   "cell_type": "markdown",
   "id": "82f0364e",
   "metadata": {},
   "source": [
    "## Lemmatization"
   ]
  },
  {
   "cell_type": "code",
   "execution_count": null,
   "id": "66a505cc",
   "metadata": {},
   "outputs": [],
   "source": [
    "lemmatizer = nltk.stem.WordNetLemmatizer()\n",
    "w_tokenizer = nltk.tokenize.WhitespaceTokenizer()\n",
    "\n",
    "def lemmatize_text(text):\n",
    "    return [lemmatizer.lemmatize(w) for w in w_tokenizer.tokenize(text)]\n",
    "\n",
    "\n",
    "#Apply function on review column\n",
    "df['review_translated']=df['review_translated'].apply(lemmatize_text)"
   ]
  },
  {
   "cell_type": "code",
   "execution_count": null,
   "id": "aec1b03e",
   "metadata": {},
   "outputs": [],
   "source": [
    "#set stopwords to english\n",
    "stop=set(stopwords.words('english'))\n",
    "print(stop)\n",
    "\n",
    "#removing the stopwords\n",
    "def remove_stopwords(text, is_lower_case=False):\n",
    "    tokens = tokenizer.tokenize(text)\n",
    "    tokens = [token.strip() for token in tokens]\n",
    "    if is_lower_case:\n",
    "        filtered_tokens = [token for token in tokens if token not in stopword_list]\n",
    "    else:\n",
    "        filtered_tokens = [token for token in tokens if token.lower() not in stopword_list]\n",
    "    filtered_text = ' '.join(filtered_tokens)    \n",
    "    return filtered_text\n",
    "#Apply function on review column\n",
    "df['review_translated']=df['review_translated'].apply(remove_stopwords)"
   ]
  },
  {
   "cell_type": "code",
   "execution_count": null,
   "id": "7a0e481c",
   "metadata": {},
   "outputs": [],
   "source": []
  },
  {
   "cell_type": "code",
   "execution_count": null,
   "id": "cee61527",
   "metadata": {},
   "outputs": [],
   "source": [
    "tf = TfidfVectorizer(stop_words='english', min_df=3)\n",
    "tf.fit(df['review_translated'])\n",
    "\n",
    "pro_tf = tf.transform(df['review_translated'])\n",
    "pro_df = pd.DataFrame(pro_tf.todense(), columns=tf.get_feature_names())\n",
    "\n",
    "\n",
    "\n",
    "fig, ax = plt.subplots(figsize = (30,30))\n",
    "top_texts = pro_df.sum().sort_values(ascending=False)\n",
    "top_texts.head(100).plot(kind='barh')\n",
    "print(fig)"
   ]
  },
  {
   "cell_type": "code",
   "execution_count": null,
   "id": "f08bcc00",
   "metadata": {},
   "outputs": [],
   "source": [
    "df[df['review_translated'].str.contains('remote')]"
   ]
  },
  {
   "cell_type": "code",
   "execution_count": null,
   "id": "943de9f6",
   "metadata": {},
   "outputs": [],
   "source": [
    "tf = TfidfVectorizer(stop_words='english', min_df=3, ngram_range= (2,2))\n",
    "tf.fit(df['review_translated'])\n",
    "\n",
    "pro_tf = tf.transform(df['review_translated'])\n",
    "pro_df = pd.DataFrame(pro_tf.todense(), columns=tf.get_feature_names())\n",
    "\n",
    "\n",
    "\n",
    "fig, ax = plt.subplots(figsize = (30,30))\n",
    "top_texts = pro_df.sum().sort_values(ascending=False)\n",
    "top_texts.head(100).plot(kind='barh')\n",
    "print(fig)"
   ]
  },
  {
   "cell_type": "code",
   "execution_count": null,
   "id": "138af882",
   "metadata": {},
   "outputs": [],
   "source": []
  },
  {
   "cell_type": "code",
   "execution_count": null,
   "id": "8d2de1a0",
   "metadata": {},
   "outputs": [],
   "source": []
  },
  {
   "cell_type": "code",
   "execution_count": null,
   "id": "81bb0a8e",
   "metadata": {},
   "outputs": [],
   "source": []
  },
  {
   "cell_type": "code",
   "execution_count": null,
   "id": "09953dec",
   "metadata": {},
   "outputs": [],
   "source": []
  },
  {
   "cell_type": "code",
   "execution_count": null,
   "id": "d45afc23",
   "metadata": {},
   "outputs": [],
   "source": [
    "df.to_csv('jp_nlp_cleaned.csv')"
   ]
  },
  {
   "cell_type": "code",
   "execution_count": null,
   "id": "ebcb934b",
   "metadata": {},
   "outputs": [],
   "source": []
  },
  {
   "cell_type": "code",
   "execution_count": null,
   "id": "e06d23a3",
   "metadata": {},
   "outputs": [],
   "source": []
  },
  {
   "cell_type": "code",
   "execution_count": null,
   "id": "14c0df81",
   "metadata": {},
   "outputs": [],
   "source": []
  },
  {
   "cell_type": "code",
   "execution_count": null,
   "id": "5a76b17b",
   "metadata": {},
   "outputs": [],
   "source": []
  },
  {
   "cell_type": "code",
   "execution_count": null,
   "id": "e6361e79",
   "metadata": {},
   "outputs": [],
   "source": []
  },
  {
   "cell_type": "code",
   "execution_count": null,
   "id": "d85c2e06",
   "metadata": {},
   "outputs": [],
   "source": []
  },
  {
   "cell_type": "code",
   "execution_count": null,
   "id": "41da1060",
   "metadata": {},
   "outputs": [],
   "source": []
  },
  {
   "cell_type": "code",
   "execution_count": null,
   "id": "6ad7ab3f",
   "metadata": {},
   "outputs": [],
   "source": []
  },
  {
   "cell_type": "code",
   "execution_count": null,
   "id": "ffb42ca0",
   "metadata": {},
   "outputs": [],
   "source": []
  },
  {
   "cell_type": "code",
   "execution_count": null,
   "id": "5021d205",
   "metadata": {},
   "outputs": [],
   "source": []
  },
  {
   "cell_type": "code",
   "execution_count": null,
   "id": "a67eb9ab",
   "metadata": {},
   "outputs": [],
   "source": []
  },
  {
   "cell_type": "markdown",
   "id": "a87c607e",
   "metadata": {},
   "source": [
    "# Japanese NLP"
   ]
  },
  {
   "cell_type": "code",
   "execution_count": null,
   "id": "b60b698d",
   "metadata": {},
   "outputs": [],
   "source": [
    "li = df.review.tolist()"
   ]
  },
  {
   "cell_type": "code",
   "execution_count": null,
   "id": "d8ecdee9",
   "metadata": {},
   "outputs": [],
   "source": [
    "import sentencepiece as spm\n",
    "from sentencepiece import SentencePieceTrainer\n",
    "from sentencepiece import SentencePieceProcessor"
   ]
  },
  {
   "cell_type": "code",
   "execution_count": null,
   "id": "048c051a",
   "metadata": {},
   "outputs": [],
   "source": []
  },
  {
   "cell_type": "code",
   "execution_count": null,
   "id": "c16e30d4",
   "metadata": {},
   "outputs": [],
   "source": [
    "with open('text.txt', 'w') as f:\n",
    "    f.write(str(li))"
   ]
  },
  {
   "cell_type": "code",
   "execution_count": null,
   "id": "fba997bc",
   "metadata": {},
   "outputs": [],
   "source": [
    "import nltk\n",
    "from nltk.corpus.reader import *\n",
    "from nltk.corpus.reader.util import *\n",
    "from nltk.text import Text"
   ]
  },
  {
   "cell_type": "code",
   "execution_count": null,
   "id": "4a9eb373",
   "metadata": {},
   "outputs": [],
   "source": [
    "jp_sent_tokenizer = nltk.RegexpTokenizer(u'[^　「」！？。]*[！？。]')"
   ]
  },
  {
   "cell_type": "code",
   "execution_count": null,
   "id": "f2f446e8",
   "metadata": {},
   "outputs": [],
   "source": [
    "jp_chartype_tokenizer = nltk.RegexpTokenizer(u'([ぁ-んー]+|[ァ-ンー]+|[\\u4e00-\\u9FFF]+|[^ぁ-んァ-ンー\\u4e00-\\u9FFF]+)')"
   ]
  },
  {
   "cell_type": "code",
   "execution_count": null,
   "id": "182e2f0c",
   "metadata": {},
   "outputs": [],
   "source": []
  },
  {
   "cell_type": "code",
   "execution_count": null,
   "id": "1870ee31",
   "metadata": {},
   "outputs": [],
   "source": [
    "nlp = PlaintextCorpusReader( '/Users/hitomihoshino/Documents/DS/salesforce', r'text.txt',\n",
    "                               encoding='utf-8',\n",
    "                               para_block_reader=read_line_block,\n",
    "                               sent_tokenizer=jp_sent_tokenizer,\n",
    "                               word_tokenizer=jp_chartype_tokenizer)"
   ]
  },
  {
   "cell_type": "code",
   "execution_count": null,
   "id": "8885c116",
   "metadata": {},
   "outputs": [],
   "source": [
    "# nlp.raw()\n",
    "\n",
    "type(nlp_t)"
   ]
  },
  {
   "cell_type": "code",
   "execution_count": null,
   "id": "8f441e20",
   "metadata": {},
   "outputs": [],
   "source": [
    "nlp_t = Text(w.encode('utf-8') for w in nlp.words() )\n",
    "# nlp_t.concordance(\"マネージャー\") "
   ]
  },
  {
   "cell_type": "code",
   "execution_count": null,
   "id": "516c2b93",
   "metadata": {},
   "outputs": [],
   "source": []
  },
  {
   "cell_type": "code",
   "execution_count": null,
   "id": "3f4600d8",
   "metadata": {},
   "outputs": [],
   "source": []
  },
  {
   "cell_type": "code",
   "execution_count": null,
   "id": "cc2f099d",
   "metadata": {},
   "outputs": [],
   "source": []
  },
  {
   "cell_type": "code",
   "execution_count": null,
   "id": "75731a5c",
   "metadata": {},
   "outputs": [],
   "source": []
  },
  {
   "cell_type": "code",
   "execution_count": null,
   "id": "dada5dad",
   "metadata": {},
   "outputs": [],
   "source": []
  },
  {
   "cell_type": "code",
   "execution_count": null,
   "id": "8d40c702",
   "metadata": {},
   "outputs": [],
   "source": []
  },
  {
   "cell_type": "code",
   "execution_count": null,
   "id": "b850928a",
   "metadata": {},
   "outputs": [],
   "source": []
  },
  {
   "cell_type": "code",
   "execution_count": null,
   "id": "63d99e5d",
   "metadata": {},
   "outputs": [],
   "source": []
  },
  {
   "cell_type": "code",
   "execution_count": null,
   "id": "01c44787",
   "metadata": {},
   "outputs": [],
   "source": []
  },
  {
   "cell_type": "code",
   "execution_count": null,
   "id": "23e2c934",
   "metadata": {},
   "outputs": [],
   "source": []
  },
  {
   "cell_type": "code",
   "execution_count": null,
   "id": "c68f9771",
   "metadata": {},
   "outputs": [],
   "source": []
  }
 ],
 "metadata": {
  "kernelspec": {
   "display_name": "Python 3 (ipykernel)",
   "language": "python",
   "name": "python3"
  },
  "language_info": {
   "codemirror_mode": {
    "name": "ipython",
    "version": 3
   },
   "file_extension": ".py",
   "mimetype": "text/x-python",
   "name": "python",
   "nbconvert_exporter": "python",
   "pygments_lexer": "ipython3",
   "version": "3.8.8"
  },
  "toc": {
   "base_numbering": 1,
   "nav_menu": {},
   "number_sections": true,
   "sideBar": true,
   "skip_h1_title": false,
   "title_cell": "Table of Contents",
   "title_sidebar": "Contents",
   "toc_cell": false,
   "toc_position": {},
   "toc_section_display": true,
   "toc_window_display": false
  }
 },
 "nbformat": 4,
 "nbformat_minor": 5
}
