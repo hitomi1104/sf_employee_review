{
 "cells": [
  {
   "cell_type": "markdown",
   "id": "ef7f8326",
   "metadata": {},
   "source": [
    "https://boxil.jp/service/197/reviews/"
   ]
  },
  {
   "cell_type": "code",
   "execution_count": null,
   "id": "8d1239a2",
   "metadata": {},
   "outputs": [],
   "source": [
    "# import\n",
    "import numpy as np\n",
    "import scipy.stats as stats\n",
    "import seaborn as sns\n",
    "import matplotlib.pyplot as plt\n",
    "import pandas as pd\n",
    "import altair as alt\n",
    "import warnings\n",
    "import streamlit as st\n",
    "from keras.layers import Dense, Activation\n",
    "from keras.models import Sequential\n",
    "from tensorflow import keras\n",
    "from sklearn.cluster import KMeans\n",
    "import warnings"
   ]
  },
  {
   "cell_type": "code",
   "execution_count": null,
   "id": "0af58c9d",
   "metadata": {},
   "outputs": [],
   "source": [
    "df = pd.read_csv('customer_review.csv')"
   ]
  },
  {
   "cell_type": "markdown",
   "id": "e0661061",
   "metadata": {},
   "source": [
    "## data cleaning"
   ]
  },
  {
   "cell_type": "code",
   "execution_count": 3,
   "id": "871b0811",
   "metadata": {},
   "outputs": [],
   "source": [
    "df.drop_duplicates(inplace = True)"
   ]
  },
  {
   "cell_type": "code",
   "execution_count": 4,
   "id": "5e2d538e",
   "metadata": {},
   "outputs": [
    {
     "data": {
      "text/plain": [
       "タイトル                                                                      1\n",
       "利用状況                                                                      1\n",
       "reputationAnswerItemTopRightItemBlock__typeOfBusiness                     3\n",
       "投稿日                                                                       3\n",
       "reputationAnswerItemStatusScoreBlock__scoreNum                            1\n",
       "reputationAnswerItemBasicBlock__description                               1\n",
       "利用アカウント数                                                                  1\n",
       "reputationAnswerItemFirstQuestionBlock__answer                            1\n",
       "reputationAnswerSectionFunctionRateQuestionBlock__answer__rateNumber      1\n",
       "reputationAnswerSectionFunctionRateQuestionBlock__answer__rateNumber1     1\n",
       "reputationAnswerSectionFunctionRateQuestionBlock__answer__rateNumber2     1\n",
       "reputationAnswerSectionFunctionRateQuestionBlock__answer__rateNumber3     2\n",
       "reputationAnswerSectionFunctionRateQuestionBlock__answer__rateNumber4    17\n",
       "dtype: int64"
      ]
     },
     "execution_count": 4,
     "metadata": {},
     "output_type": "execute_result"
    }
   ],
   "source": [
    "df.isna().sum()"
   ]
  },
  {
   "cell_type": "code",
   "execution_count": 5,
   "id": "25c3cc94",
   "metadata": {},
   "outputs": [],
   "source": [
    "# df.drop(columns = [])"
   ]
  },
  {
   "cell_type": "code",
   "execution_count": 32,
   "id": "5079266f",
   "metadata": {},
   "outputs": [],
   "source": [
    "# change col names\n",
    "df.columns = ['topic', 'usage situation', 'type of business', 'review date', 'overall rating', 'review', \n",
    "             'number of accounts used', \n",
    "             'effects after introducing the service', 'rate ease of use', 'rate helpfulness', 'rate customizability',\n",
    "              'rate functional satisfaction', 'rate service stability']"
   ]
  },
  {
   "cell_type": "code",
   "execution_count": 7,
   "id": "3700c674",
   "metadata": {
    "scrolled": true
   },
   "outputs": [
    {
     "data": {
      "text/plain": [
       "Index(['topic', 'usage situation', 'type of business', 'review date',\n",
       "       'overall rating', 'review', 'number of accounts used',\n",
       "       'Effects after introducing the service', 'rate ease of use',\n",
       "       'rate helpfulness', 'rate customizability',\n",
       "       'rate functional satisfaction', 'rate service stability'],\n",
       "      dtype='object')"
      ]
     },
     "execution_count": 7,
     "metadata": {},
     "output_type": "execute_result"
    }
   ],
   "source": [
    "df.columns"
   ]
  },
  {
   "cell_type": "code",
   "execution_count": 8,
   "id": "f27a434a",
   "metadata": {},
   "outputs": [],
   "source": [
    "df.drop([24,25], axis=0, inplace=True)"
   ]
  },
  {
   "cell_type": "code",
   "execution_count": 9,
   "id": "984b308f",
   "metadata": {
    "scrolled": false
   },
   "outputs": [
    {
     "data": {
      "text/html": [
       "<div>\n",
       "<style scoped>\n",
       "    .dataframe tbody tr th:only-of-type {\n",
       "        vertical-align: middle;\n",
       "    }\n",
       "\n",
       "    .dataframe tbody tr th {\n",
       "        vertical-align: top;\n",
       "    }\n",
       "\n",
       "    .dataframe thead th {\n",
       "        text-align: right;\n",
       "    }\n",
       "</style>\n",
       "<table border=\"1\" class=\"dataframe\">\n",
       "  <thead>\n",
       "    <tr style=\"text-align: right;\">\n",
       "      <th></th>\n",
       "      <th>topic</th>\n",
       "      <th>usage situation</th>\n",
       "      <th>type of business</th>\n",
       "      <th>review date</th>\n",
       "      <th>overall rating</th>\n",
       "      <th>review</th>\n",
       "      <th>number of accounts used</th>\n",
       "      <th>Effects after introducing the service</th>\n",
       "      <th>rate ease of use</th>\n",
       "      <th>rate helpfulness</th>\n",
       "      <th>rate customizability</th>\n",
       "      <th>rate functional satisfaction</th>\n",
       "      <th>rate service stability</th>\n",
       "    </tr>\n",
       "  </thead>\n",
       "  <tbody>\n",
       "    <tr>\n",
       "      <th>22</th>\n",
       "      <td>営業情報共有ツールの定番</td>\n",
       "      <td>利用中</td>\n",
       "      <td>NaN</td>\n",
       "      <td>NaN</td>\n",
       "      <td>4/5</td>\n",
       "      <td>社員が多い当社においては得意先アプローチ情報の共有が容易ではなく、このような情報共有ツールは...</td>\n",
       "      <td>1000件以上</td>\n",
       "      <td>10000人近く所属している社員同士の情報共有が容易にできる。アプローチしたい得意先に関する...</td>\n",
       "      <td>3.0</td>\n",
       "      <td>3.0</td>\n",
       "      <td>4.0</td>\n",
       "      <td>4.0</td>\n",
       "      <td>4.0</td>\n",
       "    </tr>\n",
       "    <tr>\n",
       "      <th>185</th>\n",
       "      <td>わかりやすいサービスでした！</td>\n",
       "      <td>現在は利用していない</td>\n",
       "      <td>NaN</td>\n",
       "      <td>NaN</td>\n",
       "      <td>4/5</td>\n",
       "      <td>自分の能力もそうでしたが、とても働きやすい環境ではありました。またいろんなサービスを利用でき...</td>\n",
       "      <td>1件</td>\n",
       "      <td>タスクの管理が難しく感じました。スケジュールが立てづらいのもありましたが、そこは仕方なかった...</td>\n",
       "      <td>5.0</td>\n",
       "      <td>5.0</td>\n",
       "      <td>5.0</td>\n",
       "      <td>5.0</td>\n",
       "      <td>4.0</td>\n",
       "    </tr>\n",
       "  </tbody>\n",
       "</table>\n",
       "</div>"
      ],
      "text/plain": [
       "              topic usage situation type of business review date  \\\n",
       "22     営業情報共有ツールの定番             利用中              NaN         NaN   \n",
       "185  わかりやすいサービスでした！      現在は利用していない              NaN         NaN   \n",
       "\n",
       "    overall rating                                             review  \\\n",
       "22             4/5  社員が多い当社においては得意先アプローチ情報の共有が容易ではなく、このような情報共有ツールは...   \n",
       "185            4/5  自分の能力もそうでしたが、とても働きやすい環境ではありました。またいろんなサービスを利用でき...   \n",
       "\n",
       "    number of accounts used  \\\n",
       "22                  1000件以上   \n",
       "185                      1件   \n",
       "\n",
       "                 Effects after introducing the service  rate ease of use  \\\n",
       "22   10000人近く所属している社員同士の情報共有が容易にできる。アプローチしたい得意先に関する...               3.0   \n",
       "185  タスクの管理が難しく感じました。スケジュールが立てづらいのもありましたが、そこは仕方なかった...               5.0   \n",
       "\n",
       "     rate helpfulness  rate customizability  rate functional satisfaction  \\\n",
       "22                3.0                   4.0                           4.0   \n",
       "185               5.0                   5.0                           5.0   \n",
       "\n",
       "     rate service stability  \n",
       "22                      4.0  \n",
       "185                     4.0  "
      ]
     },
     "execution_count": 9,
     "metadata": {},
     "output_type": "execute_result"
    }
   ],
   "source": [
    "df[df['type of business'].isna()]"
   ]
  },
  {
   "cell_type": "code",
   "execution_count": 10,
   "id": "c9795902",
   "metadata": {
    "scrolled": true
   },
   "outputs": [],
   "source": [
    "df['type of business'].value_counts()\n",
    "# fill na with mode\n",
    "df['type of business'] = df['type of business'].fillna(df['type of business'].mode()[0])\n",
    "df['review date'] = df['review date'].fillna(df['review date'].mode()[0])"
   ]
  },
  {
   "cell_type": "code",
   "execution_count": 11,
   "id": "d6e4f959",
   "metadata": {
    "scrolled": true
   },
   "outputs": [
    {
     "name": "stdout",
     "output_type": "stream",
     "text": [
      "mean of rate of service stability:  4.266666666666667\n"
     ]
    }
   ],
   "source": [
    "df['rate service stability'].value_counts()\n",
    "print('mean of rate of service stability: ', (df['rate service stability'].mean()))\n",
    "## fill with 4 \n",
    "df['rate service stability'] = df['rate service stability'].fillna(4.0)\n",
    "df[df['rate functional satisfaction'].isna()]\n",
    "## fill with 2\n",
    "df['rate functional satisfaction'] = df['rate functional satisfaction'].fillna(2.0)"
   ]
  },
  {
   "cell_type": "code",
   "execution_count": 12,
   "id": "832847b7",
   "metadata": {
    "scrolled": false
   },
   "outputs": [
    {
     "data": {
      "text/plain": [
       "topic                                    0\n",
       "usage situation                          0\n",
       "type of business                         0\n",
       "review date                              0\n",
       "overall rating                           0\n",
       "review                                   0\n",
       "number of accounts used                  0\n",
       "Effects after introducing the service    0\n",
       "rate ease of use                         0\n",
       "rate helpfulness                         0\n",
       "rate customizability                     0\n",
       "rate functional satisfaction             0\n",
       "rate service stability                   0\n",
       "dtype: int64"
      ]
     },
     "execution_count": 12,
     "metadata": {},
     "output_type": "execute_result"
    }
   ],
   "source": [
    "df.isna().sum()"
   ]
  },
  {
   "cell_type": "code",
   "execution_count": 13,
   "id": "02b51bcb",
   "metadata": {},
   "outputs": [],
   "source": [
    "df.loc[df['overall rating'].str.contains('1', na=False, regex=True), 'overall rating'] = 1\n",
    "df.loc[df['overall rating'].str.contains('2', na=False, regex=True), 'overall rating'] = 2\n",
    "df.loc[df['overall rating'].str.contains('3', na=False, regex=True), 'overall rating'] = 3\n",
    "df.loc[df['overall rating'].str.contains('4', na=False, regex=True), 'overall rating'] = 4\n",
    "df.loc[df['overall rating'].str.contains('5', na=False, regex=True), 'overall rating'] = 5"
   ]
  },
  {
   "cell_type": "code",
   "execution_count": 14,
   "id": "2f3009de",
   "metadata": {},
   "outputs": [
    {
     "data": {
      "text/plain": [
       "0      4\n",
       "1      5\n",
       "2      3\n",
       "3      4\n",
       "4      5\n",
       "      ..\n",
       "247    5\n",
       "248    4\n",
       "249    4\n",
       "250    5\n",
       "251    4\n",
       "Name: overall rating, Length: 241, dtype: int64"
      ]
     },
     "execution_count": 14,
     "metadata": {},
     "output_type": "execute_result"
    }
   ],
   "source": [
    "df['overall rating'].apply(pd.to_numeric)"
   ]
  },
  {
   "cell_type": "code",
   "execution_count": 18,
   "id": "447c0ba8",
   "metadata": {},
   "outputs": [],
   "source": [
    "df.loc[df['number of accounts used'].str.contains('以上', na=False, regex=True), 'number of accounts used'] = '>1000'\n",
    "df.loc[df['number of accounts used'].str.contains('〜1000件', na=False, regex=True), 'number of accounts used'] = '501-1000'\n",
    "df.loc[df['number of accounts used'].str.contains('〜500件', na=False, regex=True), 'number of accounts used'] = '301-500'\n",
    "df.loc[df['number of accounts used'].str.contains('〜300件', na=False, regex=True), 'number of accounts used'] = '>201-300'\n",
    "df.loc[df['number of accounts used'].str.contains('〜200件', na=False, regex=True), 'number of accounts used'] = '>101-200'\n",
    "df.loc[df['number of accounts used'].str.contains('〜100件', na=False, regex=True), 'number of accounts used'] = '>51-100'\n",
    "df.loc[df['number of accounts used'].str.contains('〜50件', na=False, regex=True), 'number of accounts used'] = '>31-50'\n",
    "df.loc[df['number of accounts used'].str.contains('〜30件', na=False, regex=True), 'number of accounts used'] = '>11-30'\n",
    "df.loc[df['number of accounts used'].str.contains('〜10件', na=False, regex=True), 'number of accounts used'] = '2-10'\n",
    "df.loc[df['number of accounts used'].str.contains('1件', na=False, regex=True), 'number of accounts used'] = '>1'"
   ]
  },
  {
   "cell_type": "code",
   "execution_count": 20,
   "id": "de8ce719",
   "metadata": {
    "scrolled": false
   },
   "outputs": [
    {
     "data": {
      "text/plain": [
       "10"
      ]
     },
     "execution_count": 20,
     "metadata": {},
     "output_type": "execute_result"
    }
   ],
   "source": [
    "df['number of accounts used'].nunique()"
   ]
  },
  {
   "cell_type": "code",
   "execution_count": 23,
   "id": "6dd5a724",
   "metadata": {},
   "outputs": [],
   "source": [
    "df.loc[df['usage situation'].str.contains('利用中', na=False, regex=True), 'usage situation'] = 'using'\n",
    "df.loc[df['usage situation'].str.contains('していない', na=False, regex=True), 'usage situation'] = 'currently not using'"
   ]
  },
  {
   "cell_type": "code",
   "execution_count": 24,
   "id": "023cd4a2",
   "metadata": {},
   "outputs": [
    {
     "data": {
      "text/plain": [
       "array(['using', 'currently not using'], dtype=object)"
      ]
     },
     "execution_count": 24,
     "metadata": {},
     "output_type": "execute_result"
    }
   ],
   "source": [
    "df['usage situation'].unique()"
   ]
  },
  {
   "cell_type": "code",
   "execution_count": 40,
   "id": "19be734b",
   "metadata": {
    "scrolled": false
   },
   "outputs": [
    {
     "data": {
      "text/html": [
       "<div>\n",
       "<style scoped>\n",
       "    .dataframe tbody tr th:only-of-type {\n",
       "        vertical-align: middle;\n",
       "    }\n",
       "\n",
       "    .dataframe tbody tr th {\n",
       "        vertical-align: top;\n",
       "    }\n",
       "\n",
       "    .dataframe thead th {\n",
       "        text-align: right;\n",
       "    }\n",
       "</style>\n",
       "<table border=\"1\" class=\"dataframe\">\n",
       "  <thead>\n",
       "    <tr style=\"text-align: right;\">\n",
       "      <th></th>\n",
       "      <th>topic</th>\n",
       "      <th>usage situation</th>\n",
       "      <th>type of business</th>\n",
       "      <th>review date</th>\n",
       "      <th>overall rating</th>\n",
       "      <th>review</th>\n",
       "      <th>number of accounts used</th>\n",
       "      <th>effects after introducing the service</th>\n",
       "      <th>rate ease of use</th>\n",
       "      <th>rate helpfulness</th>\n",
       "      <th>rate customizability</th>\n",
       "      <th>rate functional satisfaction</th>\n",
       "      <th>rate service stability</th>\n",
       "    </tr>\n",
       "  </thead>\n",
       "  <tbody>\n",
       "    <tr>\n",
       "      <th>0</th>\n",
       "      <td>カスタマーサポートで大活躍</td>\n",
       "      <td>using</td>\n",
       "      <td>Consulting Service</td>\n",
       "      <td>2022-07-28</td>\n",
       "      <td>4</td>\n",
       "      <td>顧客ごとで以前のやり取りの履歴が管理できたり、進行状況なども一括管理することができる。\\n複...</td>\n",
       "      <td>&gt;201-300</td>\n",
       "      <td>以前は営業管理や人事管理が曖昧で生産性が下がっていたが、サービス導入によりシステムで一元管理...</td>\n",
       "      <td>4.0</td>\n",
       "      <td>4.0</td>\n",
       "      <td>4.0</td>\n",
       "      <td>4.0</td>\n",
       "      <td>4.0</td>\n",
       "    </tr>\n",
       "    <tr>\n",
       "      <th>1</th>\n",
       "      <td>顧客管理を一つのアプリで共有できます。</td>\n",
       "      <td>using</td>\n",
       "      <td>IT related Service</td>\n",
       "      <td>2022-07-28</td>\n",
       "      <td>5</td>\n",
       "      <td>社内の顧客情報をSalesforceにまとめて管理することで部署を超えた業務のコラボレーショ...</td>\n",
       "      <td>&gt;51-100</td>\n",
       "      <td>営業活動のデータにはそれぞれの顧客との会話、反応や特徴を書き込むことができ、蓄積されるにつれ...</td>\n",
       "      <td>4.0</td>\n",
       "      <td>4.0</td>\n",
       "      <td>5.0</td>\n",
       "      <td>5.0</td>\n",
       "      <td>4.0</td>\n",
       "    </tr>\n",
       "    <tr>\n",
       "      <th>2</th>\n",
       "      <td>導入時のコンサルに時間をかけないと使い勝手が悪くなる</td>\n",
       "      <td>using</td>\n",
       "      <td>Food and Leisure Service</td>\n",
       "      <td>2022-07-22</td>\n",
       "      <td>3</td>\n",
       "      <td>導入時のコンサルが成功のカギ。時間をかけないで曖昧な部分を残すと、使い勝手の悪いものになる。...</td>\n",
       "      <td>&gt;51-100</td>\n",
       "      <td>事業部ごとにバラバラに管理していたデータを集約できたのはとても良かった。事業部ごとのそれぞれ...</td>\n",
       "      <td>2.0</td>\n",
       "      <td>3.0</td>\n",
       "      <td>2.0</td>\n",
       "      <td>2.0</td>\n",
       "      <td>5.0</td>\n",
       "    </tr>\n",
       "    <tr>\n",
       "      <th>3</th>\n",
       "      <td>顧客管理が簡単に</td>\n",
       "      <td>using</td>\n",
       "      <td>IT related Service</td>\n",
       "      <td>2022-07-20</td>\n",
       "      <td>4</td>\n",
       "      <td>このサービスは顧客の情報を細かく管理することができ、それを簡単に閲覧できるので、営業の質のア...</td>\n",
       "      <td>&gt;1</td>\n",
       "      <td>顧客管理を紙で行っていたのですが、クラウドで行えるようになったので、データ消失の心配がなくな...</td>\n",
       "      <td>2.0</td>\n",
       "      <td>4.0</td>\n",
       "      <td>3.0</td>\n",
       "      <td>4.0</td>\n",
       "      <td>3.0</td>\n",
       "    </tr>\n",
       "    <tr>\n",
       "      <th>4</th>\n",
       "      <td>部門間の連をがより強固にすることが可能</td>\n",
       "      <td>using</td>\n",
       "      <td>Manufacturer/manufacturing system</td>\n",
       "      <td>2022-07-19</td>\n",
       "      <td>5</td>\n",
       "      <td>Salesforce Sales Cloudはとても見やすいUIを有しているので、プロジェク...</td>\n",
       "      <td>2-10</td>\n",
       "      <td>Salesforce Sales Cloudを使うことによって、各営業担当に進歩状況を都度メ...</td>\n",
       "      <td>4.0</td>\n",
       "      <td>5.0</td>\n",
       "      <td>3.0</td>\n",
       "      <td>4.0</td>\n",
       "      <td>3.0</td>\n",
       "    </tr>\n",
       "  </tbody>\n",
       "</table>\n",
       "</div>"
      ],
      "text/plain": [
       "                        topic usage situation  \\\n",
       "0               カスタマーサポートで大活躍           using   \n",
       "1         顧客管理を一つのアプリで共有できます。           using   \n",
       "2  導入時のコンサルに時間をかけないと使い勝手が悪くなる           using   \n",
       "3                    顧客管理が簡単に           using   \n",
       "4         部門間の連をがより強固にすることが可能           using   \n",
       "\n",
       "                    type of business review date overall rating  \\\n",
       "0                 Consulting Service  2022-07-28              4   \n",
       "1                 IT related Service  2022-07-28              5   \n",
       "2           Food and Leisure Service  2022-07-22              3   \n",
       "3                 IT related Service  2022-07-20              4   \n",
       "4  Manufacturer/manufacturing system  2022-07-19              5   \n",
       "\n",
       "                                              review number of accounts used  \\\n",
       "0  顧客ごとで以前のやり取りの履歴が管理できたり、進行状況なども一括管理することができる。\\n複...                >201-300   \n",
       "1  社内の顧客情報をSalesforceにまとめて管理することで部署を超えた業務のコラボレーショ...                 >51-100   \n",
       "2  導入時のコンサルが成功のカギ。時間をかけないで曖昧な部分を残すと、使い勝手の悪いものになる。...                 >51-100   \n",
       "3  このサービスは顧客の情報を細かく管理することができ、それを簡単に閲覧できるので、営業の質のア...                      >1   \n",
       "4  Salesforce Sales Cloudはとても見やすいUIを有しているので、プロジェク...                    2-10   \n",
       "\n",
       "               effects after introducing the service  rate ease of use  \\\n",
       "0  以前は営業管理や人事管理が曖昧で生産性が下がっていたが、サービス導入によりシステムで一元管理...               4.0   \n",
       "1  営業活動のデータにはそれぞれの顧客との会話、反応や特徴を書き込むことができ、蓄積されるにつれ...               4.0   \n",
       "2  事業部ごとにバラバラに管理していたデータを集約できたのはとても良かった。事業部ごとのそれぞれ...               2.0   \n",
       "3  顧客管理を紙で行っていたのですが、クラウドで行えるようになったので、データ消失の心配がなくな...               2.0   \n",
       "4  Salesforce Sales Cloudを使うことによって、各営業担当に進歩状況を都度メ...               4.0   \n",
       "\n",
       "   rate helpfulness  rate customizability  rate functional satisfaction  \\\n",
       "0               4.0                   4.0                           4.0   \n",
       "1               4.0                   5.0                           5.0   \n",
       "2               3.0                   2.0                           2.0   \n",
       "3               4.0                   3.0                           4.0   \n",
       "4               5.0                   3.0                           4.0   \n",
       "\n",
       "   rate service stability  \n",
       "0                     4.0  \n",
       "1                     4.0  \n",
       "2                     5.0  \n",
       "3                     3.0  \n",
       "4                     3.0  "
      ]
     },
     "execution_count": 40,
     "metadata": {},
     "output_type": "execute_result"
    }
   ],
   "source": [
    "df.head()"
   ]
  },
  {
   "cell_type": "code",
   "execution_count": 29,
   "id": "bb1bcee0",
   "metadata": {},
   "outputs": [
    {
     "name": "stdout",
     "output_type": "stream",
     "text": [
      "<class 'pandas.core.frame.DataFrame'>\n",
      "Int64Index: 241 entries, 0 to 251\n",
      "Data columns (total 13 columns):\n",
      " #   Column                                 Non-Null Count  Dtype         \n",
      "---  ------                                 --------------  -----         \n",
      " 0   topic                                  241 non-null    object        \n",
      " 1   usage situation                        241 non-null    object        \n",
      " 2   type of business                       241 non-null    object        \n",
      " 3   review date                            241 non-null    datetime64[ns]\n",
      " 4   overall rating                         241 non-null    object        \n",
      " 5   review                                 241 non-null    object        \n",
      " 6   number of accounts used                241 non-null    object        \n",
      " 7   Effects after introducing the service  241 non-null    object        \n",
      " 8   rate ease of use                       241 non-null    float64       \n",
      " 9   rate helpfulness                       241 non-null    float64       \n",
      " 10  rate customizability                   241 non-null    float64       \n",
      " 11  rate functional satisfaction           241 non-null    float64       \n",
      " 12  rate service stability                 241 non-null    float64       \n",
      "dtypes: datetime64[ns](1), float64(5), object(7)\n",
      "memory usage: 26.4+ KB\n"
     ]
    }
   ],
   "source": [
    "df.info()"
   ]
  },
  {
   "cell_type": "code",
   "execution_count": 28,
   "id": "01715fa8",
   "metadata": {},
   "outputs": [],
   "source": [
    "df['review date'] =  pd.to_datetime(df['review date'], infer_datetime_format=True)"
   ]
  },
  {
   "cell_type": "code",
   "execution_count": 36,
   "id": "d3882152",
   "metadata": {},
   "outputs": [],
   "source": [
    "df.loc[df['type of business'].str.contains('コンサル', na=False, regex=True), 'type of business'] = 'Consulting Service'\n",
    "df.loc[df['type of business'].str.contains('IT', na=False, regex=True), 'type of business'] = 'IT related Service'\n",
    "df.loc[df['type of business'].str.contains('外食', na=False, regex=True), 'type of business'] = 'Food and Leisure Service'\n",
    "df.loc[df['type of business'].str.contains('メーカー', na=False, regex=True), 'type of business'] = 'Manufacturer/manufacturing system'\n",
    "df.loc[df['type of business'].str.contains('不動産', na=False, regex=True), 'type of business'] = 'Real Estate/Construction/Equipment'\n",
    "df.loc[df['type of business'].str.contains('金融', na=False, regex=True), 'type of business'] = 'Finance/Insurance'\n",
    "df.loc[df['type of business'].str.contains('マスコミ', na=False, regex=True), 'type of business'] = 'Mass Media/Advertising/Design/Game/Entertainment'\n",
    "df.loc[df['type of business'].str.contains('輸送', na=False, regex=True), 'type of business'] = 'Transportation/Traffic/Logistics/Warehouse system'\n",
    "df.loc[df['type of business'].str.contains('小売', na=False, regex=True), 'type of business'] = 'Retail/distribution/trading companies'\n",
    "df.loc[df['type of business'].str.contains('医療系', na=False, regex=True), 'type of business'] = 'Medical'\n"
   ]
  },
  {
   "cell_type": "code",
   "execution_count": 38,
   "id": "d5a0d712",
   "metadata": {},
   "outputs": [
    {
     "data": {
      "text/plain": [
       "10"
      ]
     },
     "execution_count": 38,
     "metadata": {},
     "output_type": "execute_result"
    }
   ],
   "source": [
    "df['type of business'].nunique()"
   ]
  },
  {
   "cell_type": "code",
   "execution_count": 39,
   "id": "1713df3a",
   "metadata": {},
   "outputs": [],
   "source": [
    "df.to_csv('data_cleaned.csv')"
   ]
  },
  {
   "cell_type": "code",
   "execution_count": null,
   "id": "1b420e86",
   "metadata": {},
   "outputs": [],
   "source": []
  },
  {
   "cell_type": "code",
   "execution_count": 41,
   "id": "37fc077b",
   "metadata": {},
   "outputs": [],
   "source": [
    "from googletrans import Translator\n",
    "tr = Translator(service_urls=['translate.googleapis.com'])\n",
    "tr = Translator()\n",
    "\n",
    "\n",
    "df['topic'] = df['topic'].apply(lambda x : tr.translate(x, src=\"ja\", dest=\"en\").text)\n",
    "df['review'] = df['review'].apply(lambda x : tr.translate(x, src=\"ja\", dest=\"en\").text)\n",
    "df['effects after introducing the service'] = df['effects after introducing the service'].apply(lambda x : tr.translate(x, src=\"ja\", dest=\"en\").text)\n"
   ]
  },
  {
   "cell_type": "code",
   "execution_count": 43,
   "id": "98e1fddb",
   "metadata": {},
   "outputs": [],
   "source": [
    "df.to_csv('data_cleaned_translated.csv')"
   ]
  },
  {
   "cell_type": "code",
   "execution_count": null,
   "id": "7504d9fd",
   "metadata": {},
   "outputs": [],
   "source": []
  }
 ],
 "metadata": {
  "kernelspec": {
   "display_name": "Python 3 (ipykernel)",
   "language": "python",
   "name": "python3"
  },
  "language_info": {
   "codemirror_mode": {
    "name": "ipython",
    "version": 3
   },
   "file_extension": ".py",
   "mimetype": "text/x-python",
   "name": "python",
   "nbconvert_exporter": "python",
   "pygments_lexer": "ipython3",
   "version": "3.8.8"
  },
  "toc": {
   "base_numbering": 1,
   "nav_menu": {},
   "number_sections": true,
   "sideBar": true,
   "skip_h1_title": false,
   "title_cell": "Table of Contents",
   "title_sidebar": "Contents",
   "toc_cell": false,
   "toc_position": {},
   "toc_section_display": true,
   "toc_window_display": false
  }
 },
 "nbformat": 4,
 "nbformat_minor": 5
}
