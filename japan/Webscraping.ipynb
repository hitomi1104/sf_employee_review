{
 "cells": [
  {
   "cell_type": "code",
   "execution_count": null,
   "id": "76b2ad1a",
   "metadata": {},
   "outputs": [],
   "source": [
    "anese NLP\n",
    "li = df.review.tolist()\n",
    "import sentencepiece as spm\n",
    "from sentencepiece import SentencePieceTrainer\n",
    "from sentencepiece import SentencePieceProcessor\n",
    "\n",
    "\n",
    "with open('text.txt', 'w') as f:\n",
    "    f.write(str(li))\n",
    "import nltk\n",
    "from nltk.corpus.reader import *\n",
    "from nltk.corpus.reader.util import *\n",
    "from nltk.text import Text\n",
    "jp_sent_tokenizer = nltk.RegexpTokenizer(u'[^　「」！？。]*[！？。]')\n",
    "jp_chartype_tokenizer = nltk.RegexpTokenizer(u'([ぁ-んー]+|[ァ-ンー]+|[\\u4e00-\\u9FFF]+|[^ぁ-んァ-ンー\\u4e00-\\u9FFF]+)')\n",
    "\n",
    "\n",
    "nlp = PlaintextCorpusReader( '/Users/hitomihoshino/Documents/DS/salesforce', r'text.txt',\n",
    "                               encoding='utf-8',\n",
    "                               para_block_reader=read_line_block,\n",
    "                               sent_tokenizer=jp_sent_tokenizer,\n",
    "                               word_tokenizer=jp_chartype_tokenizer)\n"
   ]
  }
 ],
 "metadata": {
  "kernelspec": {
   "display_name": "Python 3 (ipykernel)",
   "language": "python",
   "name": "python3"
  },
  "language_info": {
   "codemirror_mode": {
    "name": "ipython",
    "version": 3
   },
   "file_extension": ".py",
   "mimetype": "text/x-python",
   "name": "python",
   "nbconvert_exporter": "python",
   "pygments_lexer": "ipython3",
   "version": "3.8.8"
  },
  "toc": {
   "base_numbering": 1,
   "nav_menu": {},
   "number_sections": true,
   "sideBar": true,
   "skip_h1_title": false,
   "title_cell": "Table of Contents",
   "title_sidebar": "Contents",
   "toc_cell": false,
   "toc_position": {},
   "toc_section_display": true,
   "toc_window_display": false
  }
 },
 "nbformat": 4,
 "nbformat_minor": 5
}
