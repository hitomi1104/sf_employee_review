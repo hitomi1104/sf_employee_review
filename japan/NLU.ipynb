{
 "cells": [
  {
   "cell_type": "markdown",
   "id": "efbf5b14",
   "metadata": {},
   "source": [
    "https://www.kaggle.com/code/kasimchristianloan/nlu-covid-emotion-showcase"
   ]
  },
  {
   "cell_type": "code",
   "execution_count": 1,
   "id": "ff5cdac9",
   "metadata": {},
   "outputs": [],
   "source": [
    "import nlu"
   ]
  },
  {
   "cell_type": "code",
   "execution_count": 2,
   "id": "5782b956",
   "metadata": {},
   "outputs": [],
   "source": [
    "import os\n",
    "import numpy as np \n",
    "import pandas as pd \n",
    "\n"
   ]
  },
  {
   "cell_type": "code",
   "execution_count": 3,
   "id": "d642e42f",
   "metadata": {},
   "outputs": [],
   "source": [
    "df = pd.read_csv('data/jp_nlp_cleaned.csv')"
   ]
  },
  {
   "cell_type": "code",
   "execution_count": 4,
   "id": "fa015a12",
   "metadata": {},
   "outputs": [
    {
     "data": {
      "text/html": [
       "<div>\n",
       "<style scoped>\n",
       "    .dataframe tbody tr th:only-of-type {\n",
       "        vertical-align: middle;\n",
       "    }\n",
       "\n",
       "    .dataframe tbody tr th {\n",
       "        vertical-align: top;\n",
       "    }\n",
       "\n",
       "    .dataframe thead th {\n",
       "        text-align: right;\n",
       "    }\n",
       "</style>\n",
       "<table border=\"1\" class=\"dataframe\">\n",
       "  <thead>\n",
       "    <tr style=\"text-align: right;\">\n",
       "      <th></th>\n",
       "      <th>reviewer_info</th>\n",
       "      <th>title</th>\n",
       "      <th>rating</th>\n",
       "      <th>review</th>\n",
       "      <th>date</th>\n",
       "      <th>review_translated</th>\n",
       "      <th>reviwe_translated_original</th>\n",
       "    </tr>\n",
       "  </thead>\n",
       "  <tbody>\n",
       "    <tr>\n",
       "      <th>0</th>\n",
       "      <td>男性/ 営業/ 現職（回答時）/ 中途入社/ 在籍3年未満/ 正社員</td>\n",
       "      <td>Work style (working hours/holidays/systems)</td>\n",
       "      <td>4.7</td>\n",
       "      <td>勤務時間・休日休暇:ワークライフバランスをとるかどうかは自分次第。ベースとなる勤務時間は9：...</td>\n",
       "      <td>2022年03月 6日</td>\n",
       "      <td>[ ' Working ' , ' HoursHolidaysHolidays ' , ' ...</td>\n",
       "      <td>Working Hours/Holidays/Holidays: It's up to yo...</td>\n",
       "    </tr>\n",
       "    <tr>\n",
       "      <th>1</th>\n",
       "      <td>男性/ 営業/ 現職（回答時）/ 中途入社/ 在籍3年未満/ 正社員</td>\n",
       "      <td>Work style (working hours/holidays/systems)</td>\n",
       "      <td>4.7</td>\n",
       "      <td>勤務時間・休日休暇:ワークライフバランスを保てるかどうかは自分次第。強制的に残業や休日の仕事...</td>\n",
       "      <td>2021年02月23日</td>\n",
       "      <td>[ ' Working ' , ' HoursHolidaysHolidays ' , ' ...</td>\n",
       "      <td>Working Hours/Holidays/Holidays: It's up to yo...</td>\n",
       "    </tr>\n",
       "    <tr>\n",
       "      <th>2</th>\n",
       "      <td>男性/ Solution Engineer/ 現職（回答時）/ 中途入社/ 在籍3～5年/ ...</td>\n",
       "      <td>Annual salary/salary</td>\n",
       "      <td>5.0</td>\n",
       "      <td>給与制度:提示される想定年収の8割が固定給で残り2割がインセンティブインセンティブは四半期ご...</td>\n",
       "      <td>2020年11月20日</td>\n",
       "      <td>[ ' Salary ' , ' system ' , ' 80 ' , ' ' , ' '...</td>\n",
       "      <td>Salary system: 80% of the estimated annual inc...</td>\n",
       "    </tr>\n",
       "    <tr>\n",
       "      <th>3</th>\n",
       "      <td>男性/ 6903/ 現職（回答時）/ 中途入社/ 在籍6～10年/ 正社員</td>\n",
       "      <td>Corporate culture/organizational system</td>\n",
       "      <td>4.9</td>\n",
       "      <td>企業カルチャー・社風:カスタマーサクセスを打ち出しており、導入後も運用をサポートする部門が支...</td>\n",
       "      <td>2021年04月 8日</td>\n",
       "      <td>[ ' Corporate ' , ' culturecorporate ' , ' cul...</td>\n",
       "      <td>Corporate culture/corporate culture: The compa...</td>\n",
       "    </tr>\n",
       "    <tr>\n",
       "      <th>4</th>\n",
       "      <td>男性/ カスタマーサクセス/ 現職（回答時）/ 中途入社/ 在籍11～15年/ 正社員/ デ...</td>\n",
       "      <td>Benefits/office environment</td>\n",
       "      <td>5.0</td>\n",
       "      <td>福利厚生:オフィス内のカフェテリアは充実している。エスプレッソマシンは自動であるが、豆もそれ...</td>\n",
       "      <td>2020年06月 2日</td>\n",
       "      <td>[ ' Welfare ' , ' ' , ' ' , ' ' , ' good ' , '...</td>\n",
       "      <td>Welfare: There is a good cafeteria in the offi...</td>\n",
       "    </tr>\n",
       "    <tr>\n",
       "      <th>...</th>\n",
       "      <td>...</td>\n",
       "      <td>...</td>\n",
       "      <td>...</td>\n",
       "      <td>...</td>\n",
       "      <td>...</td>\n",
       "      <td>...</td>\n",
       "      <td>...</td>\n",
       "    </tr>\n",
       "    <tr>\n",
       "      <th>356</th>\n",
       "      <td>女性/ IT系エンジニア（アプリ開発、ITコンサル 他）/ 現職（回答時）/ 非正社員</td>\n",
       "      <td>Corporate culture/organizational system</td>\n",
       "      <td>4.5</td>\n",
       "      <td>企業文化・社風・組織体制：若い会社である。個々は自立しているが、一人勝ちはしない様、困ったと...</td>\n",
       "      <td>2019年07月23日</td>\n",
       "      <td>[ ' Corporate ' , ' culturecorporate ' , ' sty...</td>\n",
       "      <td>Corporate culture/corporate style/organization...</td>\n",
       "    </tr>\n",
       "    <tr>\n",
       "      <th>357</th>\n",
       "      <td>女性/ 企画・事務・管理系（経営企画、広報、人事、事務 他）/ 現職（回答時）/ 非正社員</td>\n",
       "      <td>Business prospects/strengths/weaknesses</td>\n",
       "      <td>4.5</td>\n",
       "      <td>成長性・将来性：どんどん中途新人受け入れをしている。退職率は低い。これからどんどん伸びよく会...</td>\n",
       "      <td>2019年02月14日</td>\n",
       "      <td>[ ' Growth ' , ' potentialfuture ' , ' potenti...</td>\n",
       "      <td>Growth potential/future potential: We are acce...</td>\n",
       "    </tr>\n",
       "    <tr>\n",
       "      <th>358</th>\n",
       "      <td>女性/ 企画・事務・管理系（経営企画、広報、人事、事務 他）/ 退職済み/ 非正社員</td>\n",
       "      <td>Growth/motivation</td>\n",
       "      <td>4.5</td>\n",
       "      <td>教育・研修：【周囲からのサポート】親切な人を見つけることができれば、その親切な人から色々教え...</td>\n",
       "      <td>2018年10月25日</td>\n",
       "      <td>[ ' Educationtraining ' , ' [ Support ' , ' ' ...</td>\n",
       "      <td>Education/training: [Support from people aroun...</td>\n",
       "    </tr>\n",
       "    <tr>\n",
       "      <th>359</th>\n",
       "      <td>女性/ IT系エンジニア（アプリ開発、ITコンサル 他）/ 現職（回答時）/ 非正社員</td>\n",
       "      <td>Work style (working hours/holidays/systems)</td>\n",
       "      <td>4.5</td>\n",
       "      <td>多様な働き方支援：社員対象で自宅勤務も推奨している会社なのですが、派遣にも是非取りいれて欲し...</td>\n",
       "      <td>2019年07月23日</td>\n",
       "      <td>[ ' Diverse ' , ' work ' , ' style ' , ' suppo...</td>\n",
       "      <td>Diverse work style support: The company encour...</td>\n",
       "    </tr>\n",
       "    <tr>\n",
       "      <th>360</th>\n",
       "      <td>女性/ 企画・事務・管理系（経営企画、広報、人事、事務 他）/ 現職（回答時）/ 非正社員</td>\n",
       "      <td>Business prospects/strengths/weaknesses</td>\n",
       "      <td>4.5</td>\n",
       "      <td>成長性・将来性：IT業界の行く末を一番に考えているのは、IT業界そのものだと思うので、急に方...</td>\n",
       "      <td>2019年02月14日</td>\n",
       "      <td>[ ' Growth ' , ' potentialfuture ' , ' potenti...</td>\n",
       "      <td>Growth potential/future potential: I think tha...</td>\n",
       "    </tr>\n",
       "  </tbody>\n",
       "</table>\n",
       "<p>361 rows × 7 columns</p>\n",
       "</div>"
      ],
      "text/plain": [
       "                                         reviewer_info  \\\n",
       "0                   男性/ 営業/ 現職（回答時）/ 中途入社/ 在籍3年未満/ 正社員   \n",
       "1                   男性/ 営業/ 現職（回答時）/ 中途入社/ 在籍3年未満/ 正社員   \n",
       "2    男性/ Solution Engineer/ 現職（回答時）/ 中途入社/ 在籍3～5年/ ...   \n",
       "3                男性/ 6903/ 現職（回答時）/ 中途入社/ 在籍6～10年/ 正社員   \n",
       "4    男性/ カスタマーサクセス/ 現職（回答時）/ 中途入社/ 在籍11～15年/ 正社員/ デ...   \n",
       "..                                                 ...   \n",
       "356        女性/ IT系エンジニア（アプリ開発、ITコンサル 他）/ 現職（回答時）/ 非正社員   \n",
       "357      女性/ 企画・事務・管理系（経営企画、広報、人事、事務 他）/ 現職（回答時）/ 非正社員   \n",
       "358         女性/ 企画・事務・管理系（経営企画、広報、人事、事務 他）/ 退職済み/ 非正社員   \n",
       "359        女性/ IT系エンジニア（アプリ開発、ITコンサル 他）/ 現職（回答時）/ 非正社員   \n",
       "360      女性/ 企画・事務・管理系（経営企画、広報、人事、事務 他）/ 現職（回答時）/ 非正社員   \n",
       "\n",
       "                                           title  rating  \\\n",
       "0    Work style (working hours/holidays/systems)     4.7   \n",
       "1    Work style (working hours/holidays/systems)     4.7   \n",
       "2                           Annual salary/salary     5.0   \n",
       "3        Corporate culture/organizational system     4.9   \n",
       "4                    Benefits/office environment     5.0   \n",
       "..                                           ...     ...   \n",
       "356      Corporate culture/organizational system     4.5   \n",
       "357      Business prospects/strengths/weaknesses     4.5   \n",
       "358                            Growth/motivation     4.5   \n",
       "359  Work style (working hours/holidays/systems)     4.5   \n",
       "360      Business prospects/strengths/weaknesses     4.5   \n",
       "\n",
       "                                                review         date  \\\n",
       "0    勤務時間・休日休暇:ワークライフバランスをとるかどうかは自分次第。ベースとなる勤務時間は9：...  2022年03月 6日   \n",
       "1    勤務時間・休日休暇:ワークライフバランスを保てるかどうかは自分次第。強制的に残業や休日の仕事...  2021年02月23日   \n",
       "2    給与制度:提示される想定年収の8割が固定給で残り2割がインセンティブインセンティブは四半期ご...  2020年11月20日   \n",
       "3    企業カルチャー・社風:カスタマーサクセスを打ち出しており、導入後も運用をサポートする部門が支...  2021年04月 8日   \n",
       "4    福利厚生:オフィス内のカフェテリアは充実している。エスプレッソマシンは自動であるが、豆もそれ...  2020年06月 2日   \n",
       "..                                                 ...          ...   \n",
       "356  企業文化・社風・組織体制：若い会社である。個々は自立しているが、一人勝ちはしない様、困ったと...  2019年07月23日   \n",
       "357  成長性・将来性：どんどん中途新人受け入れをしている。退職率は低い。これからどんどん伸びよく会...  2019年02月14日   \n",
       "358  教育・研修：【周囲からのサポート】親切な人を見つけることができれば、その親切な人から色々教え...  2018年10月25日   \n",
       "359  多様な働き方支援：社員対象で自宅勤務も推奨している会社なのですが、派遣にも是非取りいれて欲し...  2019年07月23日   \n",
       "360  成長性・将来性：IT業界の行く末を一番に考えているのは、IT業界そのものだと思うので、急に方...  2019年02月14日   \n",
       "\n",
       "                                     review_translated  \\\n",
       "0    [ ' Working ' , ' HoursHolidaysHolidays ' , ' ...   \n",
       "1    [ ' Working ' , ' HoursHolidaysHolidays ' , ' ...   \n",
       "2    [ ' Salary ' , ' system ' , ' 80 ' , ' ' , ' '...   \n",
       "3    [ ' Corporate ' , ' culturecorporate ' , ' cul...   \n",
       "4    [ ' Welfare ' , ' ' , ' ' , ' ' , ' good ' , '...   \n",
       "..                                                 ...   \n",
       "356  [ ' Corporate ' , ' culturecorporate ' , ' sty...   \n",
       "357  [ ' Growth ' , ' potentialfuture ' , ' potenti...   \n",
       "358  [ ' Educationtraining ' , ' [ Support ' , ' ' ...   \n",
       "359  [ ' Diverse ' , ' work ' , ' style ' , ' suppo...   \n",
       "360  [ ' Growth ' , ' potentialfuture ' , ' potenti...   \n",
       "\n",
       "                            reviwe_translated_original  \n",
       "0    Working Hours/Holidays/Holidays: It's up to yo...  \n",
       "1    Working Hours/Holidays/Holidays: It's up to yo...  \n",
       "2    Salary system: 80% of the estimated annual inc...  \n",
       "3    Corporate culture/corporate culture: The compa...  \n",
       "4    Welfare: There is a good cafeteria in the offi...  \n",
       "..                                                 ...  \n",
       "356  Corporate culture/corporate style/organization...  \n",
       "357  Growth potential/future potential: We are acce...  \n",
       "358  Education/training: [Support from people aroun...  \n",
       "359  Diverse work style support: The company encour...  \n",
       "360  Growth potential/future potential: I think tha...  \n",
       "\n",
       "[361 rows x 7 columns]"
      ]
     },
     "execution_count": 4,
     "metadata": {},
     "output_type": "execute_result"
    }
   ],
   "source": [
    "df.drop(columns = ['Unnamed: 0'], inplace = True)\n",
    "df.drop_duplicates(inplace = True)\n",
    "df"
   ]
  },
  {
   "cell_type": "markdown",
   "id": "18056919",
   "metadata": {},
   "source": [
    "## Emotion analysis"
   ]
  },
  {
   "cell_type": "code",
   "execution_count": 5,
   "id": "70c9e01c",
   "metadata": {
    "scrolled": true
   },
   "outputs": [
    {
     "name": "stderr",
     "output_type": "stream",
     "text": [
      "22/08/21 02:58:25 WARN Utils: Your hostname, HITOMIs-MacBook-Pro.local resolves to a loopback address: 127.0.0.1; using 192.168.84.21 instead (on interface en0)\n",
      "22/08/21 02:58:25 WARN Utils: Set SPARK_LOCAL_IP if you need to bind to another address\n"
     ]
    },
    {
     "name": "stdout",
     "output_type": "stream",
     "text": [
      ":: loading settings :: url = jar:file:/Users/hitomihoshino/opt/anaconda3/lib/python3.8/site-packages/pyspark/jars/ivy-2.4.0.jar!/org/apache/ivy/core/settings/ivysettings.xml\n"
     ]
    },
    {
     "name": "stderr",
     "output_type": "stream",
     "text": [
      "Ivy Default Cache set to: /Users/hitomihoshino/.ivy2/cache\n",
      "The jars for the packages stored in: /Users/hitomihoshino/.ivy2/jars\n",
      "com.johnsnowlabs.nlp#spark-nlp_2.12 added as a dependency\n",
      ":: resolving dependencies :: org.apache.spark#spark-submit-parent-79af6d59-7aac-4a6f-a9f1-b109d0f32937;1.0\n",
      "\tconfs: [default]\n",
      "\tfound com.johnsnowlabs.nlp#spark-nlp_2.12;4.0.2 in central\n",
      "\tfound com.typesafe#config;1.4.2 in central\n",
      "\tfound org.rocksdb#rocksdbjni;6.29.5 in central\n",
      "\tfound com.amazonaws#aws-java-sdk-bundle;1.11.828 in central\n",
      "\tfound com.github.universal-automata#liblevenshtein;3.0.0 in central\n",
      "\tfound com.google.code.findbugs#annotations;3.0.1 in central\n",
      "\tfound net.jcip#jcip-annotations;1.0 in central\n",
      "\tfound com.google.code.findbugs#jsr305;3.0.1 in central\n",
      "\tfound com.google.protobuf#protobuf-java-util;3.0.0-beta-3 in central\n",
      "\tfound com.google.protobuf#protobuf-java;3.0.0-beta-3 in central\n",
      "\tfound com.google.code.gson#gson;2.3 in central\n",
      "\tfound it.unimi.dsi#fastutil;7.0.12 in central\n",
      "\tfound org.projectlombok#lombok;1.16.8 in central\n",
      "\tfound org.slf4j#slf4j-api;1.7.21 in central\n",
      "\tfound com.navigamez#greex;1.0 in central\n",
      "\tfound dk.brics.automaton#automaton;1.11-8 in central\n",
      "\tfound com.johnsnowlabs.nlp#tensorflow-cpu_2.12;0.4.2 in central\n",
      ":: resolution report :: resolve 444ms :: artifacts dl 12ms\n",
      "\t:: modules in use:\n",
      "\tcom.amazonaws#aws-java-sdk-bundle;1.11.828 from central in [default]\n",
      "\tcom.github.universal-automata#liblevenshtein;3.0.0 from central in [default]\n",
      "\tcom.google.code.findbugs#annotations;3.0.1 from central in [default]\n",
      "\tcom.google.code.findbugs#jsr305;3.0.1 from central in [default]\n",
      "\tcom.google.code.gson#gson;2.3 from central in [default]\n",
      "\tcom.google.protobuf#protobuf-java;3.0.0-beta-3 from central in [default]\n",
      "\tcom.google.protobuf#protobuf-java-util;3.0.0-beta-3 from central in [default]\n",
      "\tcom.johnsnowlabs.nlp#spark-nlp_2.12;4.0.2 from central in [default]\n",
      "\tcom.johnsnowlabs.nlp#tensorflow-cpu_2.12;0.4.2 from central in [default]\n",
      "\tcom.navigamez#greex;1.0 from central in [default]\n",
      "\tcom.typesafe#config;1.4.2 from central in [default]\n",
      "\tdk.brics.automaton#automaton;1.11-8 from central in [default]\n",
      "\tit.unimi.dsi#fastutil;7.0.12 from central in [default]\n",
      "\tnet.jcip#jcip-annotations;1.0 from central in [default]\n",
      "\torg.projectlombok#lombok;1.16.8 from central in [default]\n",
      "\torg.rocksdb#rocksdbjni;6.29.5 from central in [default]\n",
      "\torg.slf4j#slf4j-api;1.7.21 from central in [default]\n",
      "\t---------------------------------------------------------------------\n",
      "\t|                  |            modules            ||   artifacts   |\n",
      "\t|       conf       | number| search|dwnlded|evicted|| number|dwnlded|\n",
      "\t---------------------------------------------------------------------\n",
      "\t|      default     |   17  |   0   |   0   |   0   ||   17  |   0   |\n",
      "\t---------------------------------------------------------------------\n",
      ":: retrieving :: org.apache.spark#spark-submit-parent-79af6d59-7aac-4a6f-a9f1-b109d0f32937\n",
      "\tconfs: [default]\n",
      "\t0 artifacts copied, 17 already retrieved (0kB/9ms)\n",
      "22/08/21 02:58:26 WARN NativeCodeLoader: Unable to load native-hadoop library for your platform... using builtin-java classes where applicable\n",
      "Using Spark's default log4j profile: org/apache/spark/log4j-defaults.properties\n",
      "Setting default log level to \"WARN\".\n",
      "To adjust logging level use sc.setLogLevel(newLevel). For SparkR, use setLogLevel(newLevel).\n"
     ]
    },
    {
     "name": "stdout",
     "output_type": "stream",
     "text": [
      "classifierdl_use_emotion download started this may take some time.\n",
      "Approximate size to download 21.3 MB\n",
      "[ / ]classifierdl_use_emotion download started this may take some time.\n",
      "Approximate size to download 21.3 MB\n",
      "Download done! Loading the resource.\n",
      "[ — ]"
     ]
    },
    {
     "name": "stderr",
     "output_type": "stream",
     "text": [
      "\r",
      "[Stage 0:>                                                          (0 + 1) / 1]\r",
      "\r",
      "                                                                                \r"
     ]
    },
    {
     "name": "stdout",
     "output_type": "stream",
     "text": [
      "[ | ]"
     ]
    },
    {
     "name": "stderr",
     "output_type": "stream",
     "text": [
      "2022-08-21 02:58:50.023662: I external/org_tensorflow/tensorflow/core/platform/cpu_feature_guard.cc:151] This TensorFlow binary is optimized with oneAPI Deep Neural Network Library (oneDNN) to use the following CPU instructions in performance-critical operations:  AVX2 FMA\n",
      "To enable them in other operations, rebuild TensorFlow with the appropriate compiler flags.\n"
     ]
    },
    {
     "name": "stdout",
     "output_type": "stream",
     "text": [
      "[OK!]\n",
      "tfhub_use download started this may take some time.\n",
      "Approximate size to download 923.7 MB\n",
      "[ | ]tfhub_use download started this may take some time.\n",
      "Approximate size to download 923.7 MB\n",
      "[ / ]Download done! Loading the resource.\n",
      "[OK!]\n"
     ]
    },
    {
     "name": "stderr",
     "output_type": "stream",
     "text": [
      "                                                                                \r"
     ]
    },
    {
     "data": {
      "text/plain": [
       "<AxesSubplot:title={'center':'Count of predicted emotion labels'}>"
      ]
     },
     "execution_count": 5,
     "metadata": {},
     "output_type": "execute_result"
    },
    {
     "data": {
      "image/png": "[encoded data removed]",
      "text/plain": [
       "<Figure size 432x288 with 1 Axes>"
      ]
     },
     "metadata": {
      "needs_background": "light"
     },
     "output_type": "display_data"
    }
   ],
   "source": [
    "em_preds = nlu.load('emotion').predict(df['reviwe_translated_original'],output_level='document')\n",
    "em_preds['emotion'].value_counts().plot.bar(title='Count of predicted emotion labels')"
   ]
  },
  {
   "cell_type": "code",
   "execution_count": 6,
   "id": "800886b3",
   "metadata": {
    "scrolled": true
   },
   "outputs": [],
   "source": [
    "# em_joy = df[df['emotion'] == 'joy']\n",
    "# em_fear = df[df['emotion'] == 'fear']\n",
    "# em_sadness = df[df['emotion'] == 'sadness']\n",
    "# em_surprise = df[df['emotion'] == 'surprise']\n",
    "\n",
    "\n",
    "# em_joy['review'].to_csv('em_joy')\n",
    "# em_fear['review'].to_csv('em_fear')\n",
    "# em_sadness['review'].to_csv('em_sadness')\n",
    "# em_surprise['review'].to_csv('em_surprise')"
   ]
  },
  {
   "cell_type": "markdown",
   "id": "52d9be52",
   "metadata": {},
   "source": [
    "## Sentiment"
   ]
  },
  {
   "cell_type": "code",
   "execution_count": 7,
   "id": "fd62383b",
   "metadata": {
    "scrolled": true
   },
   "outputs": [
    {
     "name": "stdout",
     "output_type": "stream",
     "text": [
      "sentimentdl_glove_imdb download started this may take some time.\n",
      "Approximate size to download 8.7 MB\n",
      "[ | ]sentimentdl_glove_imdb download started this may take some time.\n",
      "Approximate size to download 8.7 MB\n",
      "[ / ]Download done! Loading the resource.\n",
      "[OK!]\n",
      "glove_100d download started this may take some time.\n",
      "Approximate size to download 145.3 MB\n",
      "[ | ]glove_100d download started this may take some time.\n",
      "Approximate size to download 145.3 MB\n",
      "[ / ]Download done! Loading the resource.\n",
      "[OK!]\n"
     ]
    },
    {
     "name": "stderr",
     "output_type": "stream",
     "text": [
      "                                                                                \r"
     ]
    },
    {
     "data": {
      "text/plain": [
       "<AxesSubplot:title={'center':'Count of predicted sentiment labels'}>"
      ]
     },
     "execution_count": 7,
     "metadata": {},
     "output_type": "execute_result"
    },
    {
     "data": {
      "image/png": "[encoded data removed]",
      "text/plain": [
       "<Figure size 432x288 with 1 Axes>"
      ]
     },
     "metadata": {
      "needs_background": "light"
     },
     "output_type": "display_data"
    }
   ],
   "source": [
    "senti_preds = nlu.load('sentiment').predict(df['reviwe_translated_original'],output_level='document')\n",
    "senti_preds['sentiment'].value_counts().plot.bar(title='Count of predicted sentiment labels')"
   ]
  },
  {
   "cell_type": "code",
   "execution_count": 8,
   "id": "14b9eafa",
   "metadata": {},
   "outputs": [],
   "source": [
    "df['sentiment'] = senti_preds['sentiment']\n",
    "df['emotion'] = em_preds['emotion']"
   ]
  },
  {
   "cell_type": "code",
   "execution_count": 9,
   "id": "7162d546",
   "metadata": {},
   "outputs": [],
   "source": [
    "senti_neg = df[df['sentiment'] == 'neg']\n",
    "senti_neutral = df[df['sentiment'] == 'neutral']\n",
    "senti_pos = df[df['sentiment'] == 'pos']\n",
    "\n",
    "senti_neg['review'].to_csv('sentiment_neg')\n",
    "senti_neutral['review'].to_csv('sentiment_neutral')\n",
    "senti_pos['review'].to_csv('sentiment_pos')"
   ]
  },
  {
   "cell_type": "code",
   "execution_count": 10,
   "id": "7abfacf3",
   "metadata": {},
   "outputs": [],
   "source": [
    "df['em_x_senti'] = list(zip(df.emotion, df.sentiment))"
   ]
  },
  {
   "cell_type": "code",
   "execution_count": 11,
   "id": "3efa9771",
   "metadata": {},
   "outputs": [
    {
     "data": {
      "text/plain": [
       "4"
      ]
     },
     "execution_count": 11,
     "metadata": {},
     "output_type": "execute_result"
    }
   ],
   "source": [
    "len(df['emotion'].unique())"
   ]
  },
  {
   "cell_type": "code",
   "execution_count": 12,
   "id": "c04387ea",
   "metadata": {},
   "outputs": [
    {
     "data": {
      "text/plain": [
       "3"
      ]
     },
     "execution_count": 12,
     "metadata": {},
     "output_type": "execute_result"
    }
   ],
   "source": [
    "len(df['sentiment'].unique())"
   ]
  },
  {
   "cell_type": "code",
   "execution_count": 13,
   "id": "75c71d40",
   "metadata": {},
   "outputs": [
    {
     "data": {
      "text/plain": [
       "10"
      ]
     },
     "execution_count": 13,
     "metadata": {},
     "output_type": "execute_result"
    }
   ],
   "source": [
    "# total possible value = 3x4 = 12\n",
    "len(df['em_x_senti'].unique())"
   ]
  },
  {
   "cell_type": "code",
   "execution_count": 14,
   "id": "12df613f",
   "metadata": {},
   "outputs": [
    {
     "data": {
      "text/plain": [
       "(joy, pos)         183\n",
       "(joy, neg)          80\n",
       "(fear, pos)         45\n",
       "(fear, neg)         18\n",
       "(surprise, pos)     12\n",
       "(joy, neutral)      11\n",
       "(surprise, neg)      6\n",
       "(sadness, pos)       4\n",
       "(sadness, neg)       1\n",
       "(fear, neutral)      1\n",
       "Name: em_x_senti, dtype: int64"
      ]
     },
     "execution_count": 14,
     "metadata": {},
     "output_type": "execute_result"
    }
   ],
   "source": [
    "df['em_x_senti'].value_counts()"
   ]
  },
  {
   "cell_type": "code",
   "execution_count": 15,
   "id": "a2e6d990",
   "metadata": {},
   "outputs": [],
   "source": [
    "df.to_csv('data/review_jp_nlp.csv')"
   ]
  },
  {
   "cell_type": "code",
   "execution_count": null,
   "id": "e37436f1",
   "metadata": {},
   "outputs": [],
   "source": []
  },
  {
   "cell_type": "code",
   "execution_count": null,
   "id": "b21b3e0b",
   "metadata": {},
   "outputs": [],
   "source": []
  },
  {
   "cell_type": "code",
   "execution_count": null,
   "id": "9f3cd9f5",
   "metadata": {},
   "outputs": [],
   "source": []
  },
  {
   "cell_type": "code",
   "execution_count": null,
   "id": "f29240d7",
   "metadata": {},
   "outputs": [],
   "source": []
  },
  {
   "cell_type": "code",
   "execution_count": null,
   "id": "4985d4aa",
   "metadata": {},
   "outputs": [],
   "source": []
  },
  {
   "cell_type": "code",
   "execution_count": null,
   "id": "b5046079",
   "metadata": {},
   "outputs": [],
   "source": []
  },
  {
   "cell_type": "code",
   "execution_count": null,
   "id": "9d159a2b",
   "metadata": {},
   "outputs": [],
   "source": []
  },
  {
   "cell_type": "code",
   "execution_count": null,
   "id": "77739dbe",
   "metadata": {},
   "outputs": [],
   "source": []
  }
 ],
 "metadata": {
  "kernelspec": {
   "display_name": "Python 3 (ipykernel)",
   "language": "python",
   "name": "python3"
  },
  "language_info": {
   "codemirror_mode": {
    "name": "ipython",
    "version": 3
   },
   "file_extension": ".py",
   "mimetype": "text/x-python",
   "name": "python",
   "nbconvert_exporter": "python",
   "pygments_lexer": "ipython3",
   "version": "3.8.8"
  },
  "toc": {
   "base_numbering": 1,
   "nav_menu": {},
   "number_sections": true,
   "sideBar": true,
   "skip_h1_title": false,
   "title_cell": "Table of Contents",
   "title_sidebar": "Contents",
   "toc_cell": false,
   "toc_position": {},
   "toc_section_display": true,
   "toc_window_display": false
  }
 },
 "nbformat": 4,
 "nbformat_minor": 5
}
