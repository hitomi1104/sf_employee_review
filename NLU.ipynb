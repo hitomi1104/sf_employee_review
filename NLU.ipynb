{
 "cells": [
  {
   "cell_type": "markdown",
   "id": "efbf5b14",
   "metadata": {},
   "source": [
    "https://www.kaggle.com/code/kasimchristianloan/nlu-covid-emotion-showcase"
   ]
  },
  {
   "cell_type": "code",
   "execution_count": 1,
   "id": "ff5cdac9",
   "metadata": {},
   "outputs": [],
   "source": [
    "import nlu"
   ]
  },
  {
   "cell_type": "code",
   "execution_count": 2,
   "id": "5782b956",
   "metadata": {},
   "outputs": [],
   "source": [
    "import os\n",
    "import numpy as np \n",
    "import pandas as pd \n",
    "\n"
   ]
  },
  {
   "cell_type": "code",
   "execution_count": 3,
   "id": "d642e42f",
   "metadata": {},
   "outputs": [],
   "source": [
    "df = pd.read_csv('reviews.csv')\n",
    "df2 = pd.read_csv('pros.csv')\n",
    "df3 = pd.read_csv('cons.csv')"
   ]
  },
  {
   "cell_type": "code",
   "execution_count": 4,
   "id": "fa015a12",
   "metadata": {},
   "outputs": [],
   "source": [
    "df.drop(columns = ['Unnamed: 0'], inplace = True)"
   ]
  },
  {
   "cell_type": "code",
   "execution_count": 5,
   "id": "47691333",
   "metadata": {},
   "outputs": [],
   "source": [
    "df['pros_lemma'] = df2['pros']\n",
    "df['cons_lemma'] = df3['cons']"
   ]
  },
  {
   "cell_type": "code",
   "execution_count": 6,
   "id": "c0145ea1",
   "metadata": {
    "scrolled": true
   },
   "outputs": [
    {
     "data": {
      "text/html": [
       "<div>\n",
       "<style scoped>\n",
       "    .dataframe tbody tr th:only-of-type {\n",
       "        vertical-align: middle;\n",
       "    }\n",
       "\n",
       "    .dataframe tbody tr th {\n",
       "        vertical-align: top;\n",
       "    }\n",
       "\n",
       "    .dataframe thead th {\n",
       "        text-align: right;\n",
       "    }\n",
       "</style>\n",
       "<table border=\"1\" class=\"dataframe\">\n",
       "  <thead>\n",
       "    <tr style=\"text-align: right;\">\n",
       "      <th></th>\n",
       "      <th>Summary</th>\n",
       "      <th>Date</th>\n",
       "      <th>JobTitle</th>\n",
       "      <th>AuthorLocation</th>\n",
       "      <th>OverallRating</th>\n",
       "      <th>Pros</th>\n",
       "      <th>Cons</th>\n",
       "      <th>pros_lemma</th>\n",
       "      <th>cons_lemma</th>\n",
       "    </tr>\n",
       "  </thead>\n",
       "  <tbody>\n",
       "    <tr>\n",
       "      <th>0</th>\n",
       "      <td>Amazing!</td>\n",
       "      <td>Aug 12, 2021</td>\n",
       "      <td>Senior Sales Recruiter</td>\n",
       "      <td>Aug 12, 2021 - Senior Sales Recruiter</td>\n",
       "      <td>5.0</td>\n",
       "      <td>-Unparalleled team, benefits, and overall comp...</td>\n",
       "      <td>-Hyper growth always means a big work load, bu...</td>\n",
       "      <td>[ ' [ ' , ' Unparalleled ' , ' team ' , ' bene...</td>\n",
       "      <td>[ ' Hyper ' , ' growth ' , ' always ' , ' mean...</td>\n",
       "    </tr>\n",
       "    <tr>\n",
       "      <th>1</th>\n",
       "      <td>Amazing Company</td>\n",
       "      <td>Aug 6, 2022</td>\n",
       "      <td>LMTS, Software Engineering</td>\n",
       "      <td>Aug 6, 2022 - LMTS, Software Engineering</td>\n",
       "      <td>5.0</td>\n",
       "      <td>Work life balance\\r\\nRespect\\r\\nSalesforce car...</td>\n",
       "      <td>May not offer salary like FAANG companies.</td>\n",
       "      <td>[ ' [ ' , ' Work ' , ' life ' , ' balance ' , ...</td>\n",
       "      <td>[ ' May ' , ' ' , ' offer ' , ' salary ' , ' l...</td>\n",
       "    </tr>\n",
       "    <tr>\n",
       "      <th>2</th>\n",
       "      <td>What a disappointment...</td>\n",
       "      <td>Nov 30, 2020</td>\n",
       "      <td>Account Executive- Core Team</td>\n",
       "      <td>in San Francisco, CA</td>\n",
       "      <td>3.0</td>\n",
       "      <td>- Benefits are top notch\\r\\n- Perks in the tow...</td>\n",
       "      <td>I came into Salesforce like every rep, excited...</td>\n",
       "      <td>[ ' [ ' , ' Benefits ' , ' top ' , ' notch ' ,...</td>\n",
       "      <td>[ ' ' , ' came ' , ' ' , ' Salesforce ' , ' li...</td>\n",
       "    </tr>\n",
       "    <tr>\n",
       "      <th>3</th>\n",
       "      <td>Great Company</td>\n",
       "      <td>Aug 4, 2022</td>\n",
       "      <td>Operations Analyst</td>\n",
       "      <td>Nov 30, 2020 - Account Executive- Core Team</td>\n",
       "      <td>5.0</td>\n",
       "      <td>Company is really great and the working cultur...</td>\n",
       "      <td>There are times promotions are political</td>\n",
       "      <td>[ ' [ ' , ' Company ' , ' really ' , ' great '...</td>\n",
       "      <td>[ ' ' , ' ' , ' time ' , ' promotion ' , ' ' ,...</td>\n",
       "    </tr>\n",
       "    <tr>\n",
       "      <th>4</th>\n",
       "      <td>Great Company Good Culture</td>\n",
       "      <td>Aug 5, 2022</td>\n",
       "      <td>Lead Engineer/Technologist</td>\n",
       "      <td>in San Francisco, CA</td>\n",
       "      <td>5.0</td>\n",
       "      <td>PTO\\nSalary\\nCulture\\nCEO &amp; Character</td>\n",
       "      <td>Project teams can be very silo'd which makes i...</td>\n",
       "      <td>[ ' [ ' , ' PTO ' , ' Salary ' , ' Culture ' ,...</td>\n",
       "      <td>[ ' Project ' , ' team ' , ' ' , ' ' , ' ' , '...</td>\n",
       "    </tr>\n",
       "  </tbody>\n",
       "</table>\n",
       "</div>"
      ],
      "text/plain": [
       "                      Summary          Date                       JobTitle  \\\n",
       "0                    Amazing!  Aug 12, 2021         Senior Sales Recruiter   \n",
       "1             Amazing Company   Aug 6, 2022     LMTS, Software Engineering   \n",
       "2    What a disappointment...  Nov 30, 2020   Account Executive- Core Team   \n",
       "3               Great Company   Aug 4, 2022             Operations Analyst   \n",
       "4  Great Company Good Culture   Aug 5, 2022     Lead Engineer/Technologist   \n",
       "\n",
       "                                AuthorLocation  OverallRating  \\\n",
       "0        Aug 12, 2021 - Senior Sales Recruiter            5.0   \n",
       "1     Aug 6, 2022 - LMTS, Software Engineering            5.0   \n",
       "2                         in San Francisco, CA            3.0   \n",
       "3  Nov 30, 2020 - Account Executive- Core Team            5.0   \n",
       "4                         in San Francisco, CA            5.0   \n",
       "\n",
       "                                                Pros  \\\n",
       "0  -Unparalleled team, benefits, and overall comp...   \n",
       "1  Work life balance\\r\\nRespect\\r\\nSalesforce car...   \n",
       "2  - Benefits are top notch\\r\\n- Perks in the tow...   \n",
       "3  Company is really great and the working cultur...   \n",
       "4              PTO\\nSalary\\nCulture\\nCEO & Character   \n",
       "\n",
       "                                                Cons  \\\n",
       "0  -Hyper growth always means a big work load, bu...   \n",
       "1         May not offer salary like FAANG companies.   \n",
       "2  I came into Salesforce like every rep, excited...   \n",
       "3           There are times promotions are political   \n",
       "4  Project teams can be very silo'd which makes i...   \n",
       "\n",
       "                                          pros_lemma  \\\n",
       "0  [ ' [ ' , ' Unparalleled ' , ' team ' , ' bene...   \n",
       "1  [ ' [ ' , ' Work ' , ' life ' , ' balance ' , ...   \n",
       "2  [ ' [ ' , ' Benefits ' , ' top ' , ' notch ' ,...   \n",
       "3  [ ' [ ' , ' Company ' , ' really ' , ' great '...   \n",
       "4  [ ' [ ' , ' PTO ' , ' Salary ' , ' Culture ' ,...   \n",
       "\n",
       "                                          cons_lemma  \n",
       "0  [ ' Hyper ' , ' growth ' , ' always ' , ' mean...  \n",
       "1  [ ' May ' , ' ' , ' offer ' , ' salary ' , ' l...  \n",
       "2  [ ' ' , ' came ' , ' ' , ' Salesforce ' , ' li...  \n",
       "3  [ ' ' , ' ' , ' time ' , ' promotion ' , ' ' ,...  \n",
       "4  [ ' Project ' , ' team ' , ' ' , ' ' , ' ' , '...  "
      ]
     },
     "execution_count": 6,
     "metadata": {},
     "output_type": "execute_result"
    }
   ],
   "source": [
    "df.head()"
   ]
  },
  {
   "cell_type": "code",
   "execution_count": 7,
   "id": "2edd56e1",
   "metadata": {},
   "outputs": [
    {
     "data": {
      "text/plain": [
       "(16920, 9)"
      ]
     },
     "execution_count": 7,
     "metadata": {},
     "output_type": "execute_result"
    }
   ],
   "source": [
    "df.shape"
   ]
  },
  {
   "cell_type": "code",
   "execution_count": null,
   "id": "70b9a6bb",
   "metadata": {},
   "outputs": [],
   "source": []
  },
  {
   "cell_type": "code",
   "execution_count": null,
   "id": "7d70ba05",
   "metadata": {},
   "outputs": [],
   "source": []
  },
  {
   "cell_type": "code",
   "execution_count": null,
   "id": "4df4e1f3",
   "metadata": {},
   "outputs": [],
   "source": []
  },
  {
   "cell_type": "markdown",
   "id": "18056919",
   "metadata": {},
   "source": [
    "## Emotion analysis"
   ]
  },
  {
   "cell_type": "code",
   "execution_count": 8,
   "id": "70c9e01c",
   "metadata": {
    "scrolled": true
   },
   "outputs": [
    {
     "name": "stderr",
     "output_type": "stream",
     "text": [
      "22/08/09 17:15:47 WARN Utils: Your hostname, HITOMIs-MacBook-Pro.local resolves to a loopback address: 127.0.0.1; using 192.168.84.21 instead (on interface en0)\n",
      "22/08/09 17:15:47 WARN Utils: Set SPARK_LOCAL_IP if you need to bind to another address\n"
     ]
    },
    {
     "name": "stdout",
     "output_type": "stream",
     "text": [
      ":: loading settings :: url = jar:file:/Users/hitomihoshino/opt/anaconda3/lib/python3.8/site-packages/pyspark/jars/ivy-2.4.0.jar!/org/apache/ivy/core/settings/ivysettings.xml\n"
     ]
    },
    {
     "name": "stderr",
     "output_type": "stream",
     "text": [
      "Ivy Default Cache set to: /Users/hitomihoshino/.ivy2/cache\n",
      "The jars for the packages stored in: /Users/hitomihoshino/.ivy2/jars\n",
      "com.johnsnowlabs.nlp#spark-nlp_2.12 added as a dependency\n",
      ":: resolving dependencies :: org.apache.spark#spark-submit-parent-045cb81b-fe83-45fb-8ae5-be4f2ac157ae;1.0\n",
      "\tconfs: [default]\n",
      "\tfound com.johnsnowlabs.nlp#spark-nlp_2.12;4.0.2 in central\n",
      "\tfound com.typesafe#config;1.4.2 in central\n",
      "\tfound org.rocksdb#rocksdbjni;6.29.5 in central\n",
      "\tfound com.amazonaws#aws-java-sdk-bundle;1.11.828 in central\n",
      "\tfound com.github.universal-automata#liblevenshtein;3.0.0 in central\n",
      "\tfound com.google.code.findbugs#annotations;3.0.1 in central\n",
      "\tfound net.jcip#jcip-annotations;1.0 in central\n",
      "\tfound com.google.code.findbugs#jsr305;3.0.1 in central\n",
      "\tfound com.google.protobuf#protobuf-java-util;3.0.0-beta-3 in central\n",
      "\tfound com.google.protobuf#protobuf-java;3.0.0-beta-3 in central\n",
      "\tfound com.google.code.gson#gson;2.3 in central\n",
      "\tfound it.unimi.dsi#fastutil;7.0.12 in central\n",
      "\tfound org.projectlombok#lombok;1.16.8 in central\n",
      "\tfound org.slf4j#slf4j-api;1.7.21 in central\n",
      "\tfound com.navigamez#greex;1.0 in central\n",
      "\tfound dk.brics.automaton#automaton;1.11-8 in central\n",
      "\tfound com.johnsnowlabs.nlp#tensorflow-cpu_2.12;0.4.2 in central\n",
      ":: resolution report :: resolve 366ms :: artifacts dl 9ms\n",
      "\t:: modules in use:\n",
      "\tcom.amazonaws#aws-java-sdk-bundle;1.11.828 from central in [default]\n",
      "\tcom.github.universal-automata#liblevenshtein;3.0.0 from central in [default]\n",
      "\tcom.google.code.findbugs#annotations;3.0.1 from central in [default]\n",
      "\tcom.google.code.findbugs#jsr305;3.0.1 from central in [default]\n",
      "\tcom.google.code.gson#gson;2.3 from central in [default]\n",
      "\tcom.google.protobuf#protobuf-java;3.0.0-beta-3 from central in [default]\n",
      "\tcom.google.protobuf#protobuf-java-util;3.0.0-beta-3 from central in [default]\n",
      "\tcom.johnsnowlabs.nlp#spark-nlp_2.12;4.0.2 from central in [default]\n",
      "\tcom.johnsnowlabs.nlp#tensorflow-cpu_2.12;0.4.2 from central in [default]\n",
      "\tcom.navigamez#greex;1.0 from central in [default]\n",
      "\tcom.typesafe#config;1.4.2 from central in [default]\n",
      "\tdk.brics.automaton#automaton;1.11-8 from central in [default]\n",
      "\tit.unimi.dsi#fastutil;7.0.12 from central in [default]\n",
      "\tnet.jcip#jcip-annotations;1.0 from central in [default]\n",
      "\torg.projectlombok#lombok;1.16.8 from central in [default]\n",
      "\torg.rocksdb#rocksdbjni;6.29.5 from central in [default]\n",
      "\torg.slf4j#slf4j-api;1.7.21 from central in [default]\n",
      "\t---------------------------------------------------------------------\n",
      "\t|                  |            modules            ||   artifacts   |\n",
      "\t|       conf       | number| search|dwnlded|evicted|| number|dwnlded|\n",
      "\t---------------------------------------------------------------------\n",
      "\t|      default     |   17  |   0   |   0   |   0   ||   17  |   0   |\n",
      "\t---------------------------------------------------------------------\n",
      ":: retrieving :: org.apache.spark#spark-submit-parent-045cb81b-fe83-45fb-8ae5-be4f2ac157ae\n",
      "\tconfs: [default]\n",
      "\t0 artifacts copied, 17 already retrieved (0kB/8ms)\n",
      "22/08/09 17:15:48 WARN NativeCodeLoader: Unable to load native-hadoop library for your platform... using builtin-java classes where applicable\n",
      "Using Spark's default log4j profile: org/apache/spark/log4j-defaults.properties\n",
      "Setting default log level to \"WARN\".\n",
      "To adjust logging level use sc.setLogLevel(newLevel). For SparkR, use setLogLevel(newLevel).\n"
     ]
    },
    {
     "name": "stdout",
     "output_type": "stream",
     "text": [
      "classifierdl_use_emotion download started this may take some time.\n",
      "Approximate size to download 21.3 MB\n",
      "[ | ]classifierdl_use_emotion download started this may take some time.\n",
      "Approximate size to download 21.3 MB\n",
      "[ / ]Download done! Loading the resource.\n",
      "[ \\ ]"
     ]
    },
    {
     "name": "stderr",
     "output_type": "stream",
     "text": [
      "2022-08-09 17:16:08.544924: I external/org_tensorflow/tensorflow/core/platform/cpu_feature_guard.cc:151] This TensorFlow binary is optimized with oneAPI Deep Neural Network Library (oneDNN) to use the following CPU instructions in performance-critical operations:  AVX2 FMA\n",
      "To enable them in other operations, rebuild TensorFlow with the appropriate compiler flags.\n"
     ]
    },
    {
     "name": "stdout",
     "output_type": "stream",
     "text": [
      "[OK!]\n",
      "tfhub_use download started this may take some time.\n",
      "Approximate size to download 923.7 MB\n",
      "[ | ]tfhub_use download started this may take some time.\n",
      "Approximate size to download 923.7 MB\n",
      "[ / ]Download done! Loading the resource.\n",
      "[OK!]\n"
     ]
    },
    {
     "name": "stderr",
     "output_type": "stream",
     "text": [
      "                                                                                \r"
     ]
    },
    {
     "data": {
      "text/plain": [
       "<AxesSubplot:title={'center':'Count of predicted emotion labels'}>"
      ]
     },
     "execution_count": 8,
     "metadata": {},
     "output_type": "execute_result"
    },
    {
     "data": {
      "image/png": "[encoded data removed]",
      "text/plain": [
       "<Figure size 432x288 with 1 Axes>"
      ]
     },
     "metadata": {
      "needs_background": "light"
     },
     "output_type": "display_data"
    }
   ],
   "source": [
    "em_sum = nlu.load('emotion').predict(df['Summary'],output_level='document')\n",
    "em_sum['emotion'].value_counts().plot.bar(title='Count of predicted emotion labels')"
   ]
  },
  {
   "cell_type": "code",
   "execution_count": 9,
   "id": "1fff3735",
   "metadata": {
    "scrolled": true
   },
   "outputs": [
    {
     "name": "stdout",
     "output_type": "stream",
     "text": [
      "classifierdl_use_emotion download started this may take some time.\n",
      "Approximate size to download 21.3 MB\n",
      "[OK!]\n",
      "tfhub_use download started this may take some time.\n",
      "Approximate size to download 923.7 MB\n",
      "[OK!]\n"
     ]
    },
    {
     "name": "stderr",
     "output_type": "stream",
     "text": [
      "                                                                                \r"
     ]
    },
    {
     "data": {
      "text/plain": [
       "<AxesSubplot:title={'center':'Count of predicted emotion labels'}>"
      ]
     },
     "execution_count": 9,
     "metadata": {},
     "output_type": "execute_result"
    },
    {
     "data": {
      "image/png": "[encoded data removed]",
      "text/plain": [
       "<Figure size 432x288 with 1 Axes>"
      ]
     },
     "metadata": {
      "needs_background": "light"
     },
     "output_type": "display_data"
    }
   ],
   "source": [
    "em_pros = nlu.load('emotion').predict(df['Pros'],output_level='document')\n",
    "em_pros['emotion'].value_counts().plot.bar(title='Count of predicted emotion labels')"
   ]
  },
  {
   "cell_type": "code",
   "execution_count": 10,
   "id": "1126de3a",
   "metadata": {},
   "outputs": [
    {
     "name": "stdout",
     "output_type": "stream",
     "text": [
      "classifierdl_use_emotion download started this may take some time.\n",
      "Approximate size to download 21.3 MB\n",
      "[OK!]\n",
      "tfhub_use download started this may take some time.\n",
      "Approximate size to download 923.7 MB\n",
      "[OK!]\n"
     ]
    },
    {
     "name": "stderr",
     "output_type": "stream",
     "text": [
      "                                                                                \r"
     ]
    },
    {
     "data": {
      "text/plain": [
       "<AxesSubplot:title={'center':'Count of predicted emotion labels'}>"
      ]
     },
     "execution_count": 10,
     "metadata": {},
     "output_type": "execute_result"
    },
    {
     "data": {
      "image/png": "[encoded data removed]",
      "text/plain": [
       "<Figure size 432x288 with 1 Axes>"
      ]
     },
     "metadata": {
      "needs_background": "light"
     },
     "output_type": "display_data"
    }
   ],
   "source": [
    "em_cons = nlu.load('emotion').predict(df['Cons'],output_level='document')\n",
    "em_cons['emotion'].value_counts().plot.bar(title='Count of predicted emotion labels')"
   ]
  },
  {
   "cell_type": "code",
   "execution_count": 11,
   "id": "52623f61",
   "metadata": {},
   "outputs": [],
   "source": [
    "df['emotion_pros'] = em_pros['emotion']\n",
    "df['emotion_cons'] = em_cons['emotion']\n",
    "df['emotion_sum'] = em_sum['emotion']"
   ]
  },
  {
   "cell_type": "code",
   "execution_count": 12,
   "id": "4b3b99ac",
   "metadata": {},
   "outputs": [
    {
     "data": {
      "text/html": [
       "<div>\n",
       "<style scoped>\n",
       "    .dataframe tbody tr th:only-of-type {\n",
       "        vertical-align: middle;\n",
       "    }\n",
       "\n",
       "    .dataframe tbody tr th {\n",
       "        vertical-align: top;\n",
       "    }\n",
       "\n",
       "    .dataframe thead th {\n",
       "        text-align: right;\n",
       "    }\n",
       "</style>\n",
       "<table border=\"1\" class=\"dataframe\">\n",
       "  <thead>\n",
       "    <tr style=\"text-align: right;\">\n",
       "      <th></th>\n",
       "      <th>Summary</th>\n",
       "      <th>Date</th>\n",
       "      <th>JobTitle</th>\n",
       "      <th>AuthorLocation</th>\n",
       "      <th>OverallRating</th>\n",
       "      <th>Pros</th>\n",
       "      <th>Cons</th>\n",
       "      <th>pros_lemma</th>\n",
       "      <th>cons_lemma</th>\n",
       "      <th>emotion_pros</th>\n",
       "      <th>emotion_cons</th>\n",
       "      <th>emotion_sum</th>\n",
       "    </tr>\n",
       "  </thead>\n",
       "  <tbody>\n",
       "    <tr>\n",
       "      <th>0</th>\n",
       "      <td>Amazing!</td>\n",
       "      <td>Aug 12, 2021</td>\n",
       "      <td>Senior Sales Recruiter</td>\n",
       "      <td>Aug 12, 2021 - Senior Sales Recruiter</td>\n",
       "      <td>5.0</td>\n",
       "      <td>-Unparalleled team, benefits, and overall comp...</td>\n",
       "      <td>-Hyper growth always means a big work load, bu...</td>\n",
       "      <td>[ ' [ ' , ' Unparalleled ' , ' team ' , ' bene...</td>\n",
       "      <td>[ ' Hyper ' , ' growth ' , ' always ' , ' mean...</td>\n",
       "      <td>joy</td>\n",
       "      <td>fear</td>\n",
       "      <td>surprise</td>\n",
       "    </tr>\n",
       "    <tr>\n",
       "      <th>1</th>\n",
       "      <td>Amazing Company</td>\n",
       "      <td>Aug 6, 2022</td>\n",
       "      <td>LMTS, Software Engineering</td>\n",
       "      <td>Aug 6, 2022 - LMTS, Software Engineering</td>\n",
       "      <td>5.0</td>\n",
       "      <td>Work life balance\\r\\nRespect\\r\\nSalesforce car...</td>\n",
       "      <td>May not offer salary like FAANG companies.</td>\n",
       "      <td>[ ' [ ' , ' Work ' , ' life ' , ' balance ' , ...</td>\n",
       "      <td>[ ' May ' , ' ' , ' offer ' , ' salary ' , ' l...</td>\n",
       "      <td>joy</td>\n",
       "      <td>joy</td>\n",
       "      <td>joy</td>\n",
       "    </tr>\n",
       "    <tr>\n",
       "      <th>2</th>\n",
       "      <td>What a disappointment...</td>\n",
       "      <td>Nov 30, 2020</td>\n",
       "      <td>Account Executive- Core Team</td>\n",
       "      <td>in San Francisco, CA</td>\n",
       "      <td>3.0</td>\n",
       "      <td>- Benefits are top notch\\r\\n- Perks in the tow...</td>\n",
       "      <td>I came into Salesforce like every rep, excited...</td>\n",
       "      <td>[ ' [ ' , ' Benefits ' , ' top ' , ' notch ' ,...</td>\n",
       "      <td>[ ' ' , ' came ' , ' ' , ' Salesforce ' , ' li...</td>\n",
       "      <td>joy</td>\n",
       "      <td>fear</td>\n",
       "      <td>sadness</td>\n",
       "    </tr>\n",
       "    <tr>\n",
       "      <th>3</th>\n",
       "      <td>Great Company</td>\n",
       "      <td>Aug 4, 2022</td>\n",
       "      <td>Operations Analyst</td>\n",
       "      <td>Nov 30, 2020 - Account Executive- Core Team</td>\n",
       "      <td>5.0</td>\n",
       "      <td>Company is really great and the working cultur...</td>\n",
       "      <td>There are times promotions are political</td>\n",
       "      <td>[ ' [ ' , ' Company ' , ' really ' , ' great '...</td>\n",
       "      <td>[ ' ' , ' ' , ' time ' , ' promotion ' , ' ' ,...</td>\n",
       "      <td>joy</td>\n",
       "      <td>fear</td>\n",
       "      <td>joy</td>\n",
       "    </tr>\n",
       "    <tr>\n",
       "      <th>4</th>\n",
       "      <td>Great Company Good Culture</td>\n",
       "      <td>Aug 5, 2022</td>\n",
       "      <td>Lead Engineer/Technologist</td>\n",
       "      <td>in San Francisco, CA</td>\n",
       "      <td>5.0</td>\n",
       "      <td>PTO\\nSalary\\nCulture\\nCEO &amp; Character</td>\n",
       "      <td>Project teams can be very silo'd which makes i...</td>\n",
       "      <td>[ ' [ ' , ' PTO ' , ' Salary ' , ' Culture ' ,...</td>\n",
       "      <td>[ ' Project ' , ' team ' , ' ' , ' ' , ' ' , '...</td>\n",
       "      <td>joy</td>\n",
       "      <td>joy</td>\n",
       "      <td>joy</td>\n",
       "    </tr>\n",
       "  </tbody>\n",
       "</table>\n",
       "</div>"
      ],
      "text/plain": [
       "                      Summary          Date                       JobTitle  \\\n",
       "0                    Amazing!  Aug 12, 2021         Senior Sales Recruiter   \n",
       "1             Amazing Company   Aug 6, 2022     LMTS, Software Engineering   \n",
       "2    What a disappointment...  Nov 30, 2020   Account Executive- Core Team   \n",
       "3               Great Company   Aug 4, 2022             Operations Analyst   \n",
       "4  Great Company Good Culture   Aug 5, 2022     Lead Engineer/Technologist   \n",
       "\n",
       "                                AuthorLocation  OverallRating  \\\n",
       "0        Aug 12, 2021 - Senior Sales Recruiter            5.0   \n",
       "1     Aug 6, 2022 - LMTS, Software Engineering            5.0   \n",
       "2                         in San Francisco, CA            3.0   \n",
       "3  Nov 30, 2020 - Account Executive- Core Team            5.0   \n",
       "4                         in San Francisco, CA            5.0   \n",
       "\n",
       "                                                Pros  \\\n",
       "0  -Unparalleled team, benefits, and overall comp...   \n",
       "1  Work life balance\\r\\nRespect\\r\\nSalesforce car...   \n",
       "2  - Benefits are top notch\\r\\n- Perks in the tow...   \n",
       "3  Company is really great and the working cultur...   \n",
       "4              PTO\\nSalary\\nCulture\\nCEO & Character   \n",
       "\n",
       "                                                Cons  \\\n",
       "0  -Hyper growth always means a big work load, bu...   \n",
       "1         May not offer salary like FAANG companies.   \n",
       "2  I came into Salesforce like every rep, excited...   \n",
       "3           There are times promotions are political   \n",
       "4  Project teams can be very silo'd which makes i...   \n",
       "\n",
       "                                          pros_lemma  \\\n",
       "0  [ ' [ ' , ' Unparalleled ' , ' team ' , ' bene...   \n",
       "1  [ ' [ ' , ' Work ' , ' life ' , ' balance ' , ...   \n",
       "2  [ ' [ ' , ' Benefits ' , ' top ' , ' notch ' ,...   \n",
       "3  [ ' [ ' , ' Company ' , ' really ' , ' great '...   \n",
       "4  [ ' [ ' , ' PTO ' , ' Salary ' , ' Culture ' ,...   \n",
       "\n",
       "                                          cons_lemma emotion_pros  \\\n",
       "0  [ ' Hyper ' , ' growth ' , ' always ' , ' mean...          joy   \n",
       "1  [ ' May ' , ' ' , ' offer ' , ' salary ' , ' l...          joy   \n",
       "2  [ ' ' , ' came ' , ' ' , ' Salesforce ' , ' li...          joy   \n",
       "3  [ ' ' , ' ' , ' time ' , ' promotion ' , ' ' ,...          joy   \n",
       "4  [ ' Project ' , ' team ' , ' ' , ' ' , ' ' , '...          joy   \n",
       "\n",
       "  emotion_cons emotion_sum  \n",
       "0         fear    surprise  \n",
       "1          joy         joy  \n",
       "2         fear     sadness  \n",
       "3         fear         joy  \n",
       "4          joy         joy  "
      ]
     },
     "execution_count": 12,
     "metadata": {},
     "output_type": "execute_result"
    }
   ],
   "source": [
    "df.head()"
   ]
  },
  {
   "cell_type": "code",
   "execution_count": 15,
   "id": "faf17a6f",
   "metadata": {},
   "outputs": [
    {
     "data": {
      "text/plain": [
       "Index(['Summary', 'Date', 'JobTitle', 'AuthorLocation', 'OverallRating',\n",
       "       'Pros', 'Cons', 'pros_lemma', 'cons_lemma', 'emotion_pros',\n",
       "       'emotion_cons', 'emotion_sum'],\n",
       "      dtype='object')"
      ]
     },
     "execution_count": 15,
     "metadata": {},
     "output_type": "execute_result"
    }
   ],
   "source": [
    "df.columns"
   ]
  },
  {
   "cell_type": "code",
   "execution_count": 18,
   "id": "31ab223d",
   "metadata": {},
   "outputs": [],
   "source": [
    "em_con_fear = df[df['emotion_cons'] == 'fear']\n",
    "em_con_fear = em_con_fear[['OverallRating', 'Cons', 'emotion_cons']]"
   ]
  },
  {
   "cell_type": "code",
   "execution_count": 19,
   "id": "d794d50d",
   "metadata": {},
   "outputs": [
    {
     "data": {
      "text/html": [
       "<div>\n",
       "<style scoped>\n",
       "    .dataframe tbody tr th:only-of-type {\n",
       "        vertical-align: middle;\n",
       "    }\n",
       "\n",
       "    .dataframe tbody tr th {\n",
       "        vertical-align: top;\n",
       "    }\n",
       "\n",
       "    .dataframe thead th {\n",
       "        text-align: right;\n",
       "    }\n",
       "</style>\n",
       "<table border=\"1\" class=\"dataframe\">\n",
       "  <thead>\n",
       "    <tr style=\"text-align: right;\">\n",
       "      <th></th>\n",
       "      <th>OverallRating</th>\n",
       "      <th>Cons</th>\n",
       "      <th>emotion_cons</th>\n",
       "    </tr>\n",
       "  </thead>\n",
       "  <tbody>\n",
       "    <tr>\n",
       "      <th>0</th>\n",
       "      <td>5.0</td>\n",
       "      <td>-Hyper growth always means a big work load, bu...</td>\n",
       "      <td>fear</td>\n",
       "    </tr>\n",
       "    <tr>\n",
       "      <th>2</th>\n",
       "      <td>3.0</td>\n",
       "      <td>I came into Salesforce like every rep, excited...</td>\n",
       "      <td>fear</td>\n",
       "    </tr>\n",
       "    <tr>\n",
       "      <th>3</th>\n",
       "      <td>5.0</td>\n",
       "      <td>There are times promotions are political</td>\n",
       "      <td>fear</td>\n",
       "    </tr>\n",
       "    <tr>\n",
       "      <th>9</th>\n",
       "      <td>5.0</td>\n",
       "      <td>Experiencing growing pains transitioning from ...</td>\n",
       "      <td>fear</td>\n",
       "    </tr>\n",
       "    <tr>\n",
       "      <th>10</th>\n",
       "      <td>5.0</td>\n",
       "      <td>-Hyper growth always means a big work load, bu...</td>\n",
       "      <td>fear</td>\n",
       "    </tr>\n",
       "    <tr>\n",
       "      <th>...</th>\n",
       "      <td>...</td>\n",
       "      <td>...</td>\n",
       "      <td>...</td>\n",
       "    </tr>\n",
       "    <tr>\n",
       "      <th>16908</th>\n",
       "      <td>5.0</td>\n",
       "      <td>There are times promotions are political</td>\n",
       "      <td>fear</td>\n",
       "    </tr>\n",
       "    <tr>\n",
       "      <th>16910</th>\n",
       "      <td>5.0</td>\n",
       "      <td>-Hyper growth always means a big work load, bu...</td>\n",
       "      <td>fear</td>\n",
       "    </tr>\n",
       "    <tr>\n",
       "      <th>16911</th>\n",
       "      <td>5.0</td>\n",
       "      <td>Large company. You can get lost in the numbers</td>\n",
       "      <td>fear</td>\n",
       "    </tr>\n",
       "    <tr>\n",
       "      <th>16912</th>\n",
       "      <td>3.0</td>\n",
       "      <td>I came into Salesforce like every rep, excited...</td>\n",
       "      <td>fear</td>\n",
       "    </tr>\n",
       "    <tr>\n",
       "      <th>16918</th>\n",
       "      <td>5.0</td>\n",
       "      <td>There are times promotions are political</td>\n",
       "      <td>fear</td>\n",
       "    </tr>\n",
       "  </tbody>\n",
       "</table>\n",
       "<p>6735 rows × 3 columns</p>\n",
       "</div>"
      ],
      "text/plain": [
       "       OverallRating                                               Cons  \\\n",
       "0                5.0  -Hyper growth always means a big work load, bu...   \n",
       "2                3.0  I came into Salesforce like every rep, excited...   \n",
       "3                5.0           There are times promotions are political   \n",
       "9                5.0  Experiencing growing pains transitioning from ...   \n",
       "10               5.0  -Hyper growth always means a big work load, bu...   \n",
       "...              ...                                                ...   \n",
       "16908            5.0           There are times promotions are political   \n",
       "16910            5.0  -Hyper growth always means a big work load, bu...   \n",
       "16911            5.0     Large company. You can get lost in the numbers   \n",
       "16912            3.0  I came into Salesforce like every rep, excited...   \n",
       "16918            5.0           There are times promotions are political   \n",
       "\n",
       "      emotion_cons  \n",
       "0             fear  \n",
       "2             fear  \n",
       "3             fear  \n",
       "9             fear  \n",
       "10            fear  \n",
       "...            ...  \n",
       "16908         fear  \n",
       "16910         fear  \n",
       "16911         fear  \n",
       "16912         fear  \n",
       "16918         fear  \n",
       "\n",
       "[6735 rows x 3 columns]"
      ]
     },
     "execution_count": 19,
     "metadata": {},
     "output_type": "execute_result"
    }
   ],
   "source": [
    "em_con_fear"
   ]
  },
  {
   "cell_type": "code",
   "execution_count": null,
   "id": "cc0cd664",
   "metadata": {},
   "outputs": [],
   "source": []
  },
  {
   "cell_type": "code",
   "execution_count": null,
   "id": "9a78ae90",
   "metadata": {},
   "outputs": [],
   "source": []
  },
  {
   "cell_type": "code",
   "execution_count": null,
   "id": "e5d936d8",
   "metadata": {},
   "outputs": [],
   "source": []
  },
  {
   "cell_type": "code",
   "execution_count": null,
   "id": "52f40a43",
   "metadata": {},
   "outputs": [],
   "source": []
  },
  {
   "cell_type": "code",
   "execution_count": null,
   "id": "125a2de9",
   "metadata": {},
   "outputs": [],
   "source": []
  },
  {
   "cell_type": "code",
   "execution_count": null,
   "id": "fe4d0949",
   "metadata": {},
   "outputs": [],
   "source": []
  },
  {
   "cell_type": "code",
   "execution_count": null,
   "id": "ffd903df",
   "metadata": {},
   "outputs": [],
   "source": []
  },
  {
   "cell_type": "code",
   "execution_count": null,
   "id": "575aadc7",
   "metadata": {},
   "outputs": [],
   "source": []
  },
  {
   "cell_type": "code",
   "execution_count": null,
   "id": "16c3bfac",
   "metadata": {},
   "outputs": [],
   "source": []
  },
  {
   "cell_type": "markdown",
   "id": "52d9be52",
   "metadata": {},
   "source": [
    "## Sentiment"
   ]
  },
  {
   "cell_type": "code",
   "execution_count": 13,
   "id": "fd62383b",
   "metadata": {
    "scrolled": true
   },
   "outputs": [],
   "source": [
    "# senti_predictions = nlu.load('sentiment').predict(df['Pros'],output_level='document')\n",
    "# senti_predictions['sentiment'].value_counts().plot.bar(title='Count of predicted sentiment labels')"
   ]
  },
  {
   "cell_type": "code",
   "execution_count": 14,
   "id": "35677915",
   "metadata": {
    "scrolled": true
   },
   "outputs": [],
   "source": [
    "# senti_predictions[senti_predictions['sentiment'] == 'neg']"
   ]
  },
  {
   "cell_type": "code",
   "execution_count": null,
   "id": "14b9eafa",
   "metadata": {},
   "outputs": [],
   "source": []
  },
  {
   "cell_type": "code",
   "execution_count": null,
   "id": "5a41af23",
   "metadata": {},
   "outputs": [],
   "source": []
  },
  {
   "cell_type": "code",
   "execution_count": null,
   "id": "7162d546",
   "metadata": {},
   "outputs": [],
   "source": []
  },
  {
   "cell_type": "code",
   "execution_count": null,
   "id": "7abfacf3",
   "metadata": {},
   "outputs": [],
   "source": []
  },
  {
   "cell_type": "code",
   "execution_count": null,
   "id": "75c71d40",
   "metadata": {},
   "outputs": [],
   "source": []
  },
  {
   "cell_type": "code",
   "execution_count": null,
   "id": "12df613f",
   "metadata": {},
   "outputs": [],
   "source": []
  },
  {
   "cell_type": "code",
   "execution_count": null,
   "id": "1e477c93",
   "metadata": {},
   "outputs": [],
   "source": []
  }
 ],
 "metadata": {
  "kernelspec": {
   "display_name": "Python 3 (ipykernel)",
   "language": "python",
   "name": "python3"
  },
  "language_info": {
   "codemirror_mode": {
    "name": "ipython",
    "version": 3
   },
   "file_extension": ".py",
   "mimetype": "text/x-python",
   "name": "python",
   "nbconvert_exporter": "python",
   "pygments_lexer": "ipython3",
   "version": "3.8.8"
  },
  "toc": {
   "base_numbering": 1,
   "nav_menu": {},
   "number_sections": true,
   "sideBar": true,
   "skip_h1_title": false,
   "title_cell": "Table of Contents",
   "title_sidebar": "Contents",
   "toc_cell": false,
   "toc_position": {},
   "toc_section_display": true,
   "toc_window_display": false
  }
 },
 "nbformat": 4,
 "nbformat_minor": 5
}
