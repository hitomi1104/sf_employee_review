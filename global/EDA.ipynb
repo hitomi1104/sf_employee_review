{
 "cells": [
  {
   "cell_type": "code",
   "execution_count": 48,
   "id": "f44420df",
   "metadata": {},
   "outputs": [],
   "source": [
    "# import\n",
    "import numpy as np\n",
    "import scipy.stats as stats\n",
    "import seaborn as sns\n",
    "import matplotlib.pyplot as plt\n",
    "import pandas as pd\n",
    "import altair as alt\n",
    "import warnings\n",
    "import streamlit as st\n",
    "from keras.layers import Dense, Activation\n",
    "from keras.models import Sequential\n",
    "from tensorflow import keras\n",
    "from sklearn.cluster import KMeans\n",
    "# folium\n",
    "import folium\n",
    "import folium.plugins as plugins\n",
    "from streamlit_folium import folium_static\n",
    "\n",
    "from sklearn.linear_model import LinearRegression, Lasso\n",
    "from sklearn.preprocessing import StandardScaler\n",
    "from sklearn.model_selection import train_test_split\n",
    "\n",
    "# NLP\n",
    "import nltk\n",
    "from nltk.corpus import stopwords\n",
    "from sklearn.feature_extraction.text import CountVectorizer, TfidfVectorizer\n",
    "from wordcloud import WordCloud, STOPWORDS, ImageColorGenerator\n",
    "from PIL import Image\n",
    "from nltk.tokenize import word_tokenize\n",
    "from nltk.util import ngrams\n",
    "import string\n",
    "\n",
    "# this line tells jupyter notebook to put the plots in the notebook rather than saving them to file\n",
    "%matplotlib inline\n",
    "\n",
    "# this line makes plots prettier on mac retina screens - if you don't have one it shouldn't do anything\n",
    "%config InlineBackend.figure_format = 'retina'\n",
    "\n",
    "\n",
    "# Style\n",
    "sns.set_style(style = 'darkgrid')"
   ]
  },
  {
   "cell_type": "code",
   "execution_count": 49,
   "id": "a0723fa9",
   "metadata": {},
   "outputs": [],
   "source": [
    "# # merging two csv files\n",
    "# df = pd.concat(\n",
    "#     map(pd.read_csv, ['reviews.csv', 'test.csv']), ignore_index=True)\n",
    "\n",
    "# df.drop_duplicates(keep=False)\n",
    "# df.to_csv('reviews.csv')\n",
    "\n",
    "df = pd.read_csv('glassdoor_webscraped.csv')\n",
    "# df.drop(columns = ['Unnamed: 0'], inplace = True)\n"
   ]
  },
  {
   "cell_type": "code",
   "execution_count": 50,
   "id": "778134ce",
   "metadata": {
    "scrolled": true
   },
   "outputs": [
    {
     "data": {
      "text/html": [
       "<div>\n",
       "<style scoped>\n",
       "    .dataframe tbody tr th:only-of-type {\n",
       "        vertical-align: middle;\n",
       "    }\n",
       "\n",
       "    .dataframe tbody tr th {\n",
       "        vertical-align: top;\n",
       "    }\n",
       "\n",
       "    .dataframe thead th {\n",
       "        text-align: right;\n",
       "    }\n",
       "</style>\n",
       "<table border=\"1\" class=\"dataframe\">\n",
       "  <thead>\n",
       "    <tr style=\"text-align: right;\">\n",
       "      <th></th>\n",
       "      <th>Unnamed: 0</th>\n",
       "      <th>Unnamed: 0.1</th>\n",
       "      <th>title</th>\n",
       "      <th>author_info</th>\n",
       "      <th>rating</th>\n",
       "      <th>pros</th>\n",
       "      <th>cons</th>\n",
       "      <th>helpful</th>\n",
       "    </tr>\n",
       "  </thead>\n",
       "  <tbody>\n",
       "    <tr>\n",
       "      <th>0</th>\n",
       "      <td>0</td>\n",
       "      <td>0</td>\n",
       "      <td>Great Place To Work</td>\n",
       "      <td>May 3, 2021 - Partner Account Manager in Washi...</td>\n",
       "      <td>5.0</td>\n",
       "      <td>Leader support, Transparency, Benefits, work/l...</td>\n",
       "      <td>I have not found any cons yet.</td>\n",
       "      <td>Be the first to find this review helpful</td>\n",
       "    </tr>\n",
       "    <tr>\n",
       "      <th>1</th>\n",
       "      <td>1</td>\n",
       "      <td>1</td>\n",
       "      <td>Opportunity for Growth</td>\n",
       "      <td>May 3, 2021 - Business Development Representat...</td>\n",
       "      <td>5.0</td>\n",
       "      <td>-Quickly move up -Access to networking with pe...</td>\n",
       "      <td>-Large company, there can be a decent amount o...</td>\n",
       "      <td>Be the first to find this review helpful</td>\n",
       "    </tr>\n",
       "    <tr>\n",
       "      <th>2</th>\n",
       "      <td>2</td>\n",
       "      <td>2</td>\n",
       "      <td>Great place to work</td>\n",
       "      <td>May 3, 2021 - Anonymous Employee</td>\n",
       "      <td>5.0</td>\n",
       "      <td>High income potential and upward mobility</td>\n",
       "      <td>Pressure cooker, high expectations and stress ...</td>\n",
       "      <td>Be the first to find this review helpful</td>\n",
       "    </tr>\n",
       "    <tr>\n",
       "      <th>3</th>\n",
       "      <td>3</td>\n",
       "      <td>3</td>\n",
       "      <td>Great culture and great opportunity for growth</td>\n",
       "      <td>May 3, 2021 - BDR in San Francisco, CA</td>\n",
       "      <td>5.0</td>\n",
       "      <td>Excellent growth and networking opportunities</td>\n",
       "      <td>Not many cons I can think of</td>\n",
       "      <td>Be the first to find this review helpful</td>\n",
       "    </tr>\n",
       "    <tr>\n",
       "      <th>4</th>\n",
       "      <td>4</td>\n",
       "      <td>4</td>\n",
       "      <td>Fabulous Place to Work!</td>\n",
       "      <td>May 3, 2021 - Customer Success Guide in Denver...</td>\n",
       "      <td>5.0</td>\n",
       "      <td>Once you’re in, you’re given the freedom and f...</td>\n",
       "      <td>Still a “startup mentality”—so keep in mind al...</td>\n",
       "      <td>Be the first to find this review helpful</td>\n",
       "    </tr>\n",
       "  </tbody>\n",
       "</table>\n",
       "</div>"
      ],
      "text/plain": [
       "   Unnamed: 0  Unnamed: 0.1                                           title  \\\n",
       "0           0             0                             Great Place To Work   \n",
       "1           1             1                          Opportunity for Growth   \n",
       "2           2             2                             Great place to work   \n",
       "3           3             3  Great culture and great opportunity for growth   \n",
       "4           4             4                         Fabulous Place to Work!   \n",
       "\n",
       "                                         author_info  rating  \\\n",
       "0  May 3, 2021 - Partner Account Manager in Washi...     5.0   \n",
       "1  May 3, 2021 - Business Development Representat...     5.0   \n",
       "2                   May 3, 2021 - Anonymous Employee     5.0   \n",
       "3             May 3, 2021 - BDR in San Francisco, CA     5.0   \n",
       "4  May 3, 2021 - Customer Success Guide in Denver...     5.0   \n",
       "\n",
       "                                                pros  \\\n",
       "0  Leader support, Transparency, Benefits, work/l...   \n",
       "1  -Quickly move up -Access to networking with pe...   \n",
       "2          High income potential and upward mobility   \n",
       "3      Excellent growth and networking opportunities   \n",
       "4  Once you’re in, you’re given the freedom and f...   \n",
       "\n",
       "                                                cons  \\\n",
       "0                     I have not found any cons yet.   \n",
       "1  -Large company, there can be a decent amount o...   \n",
       "2  Pressure cooker, high expectations and stress ...   \n",
       "3                       Not many cons I can think of   \n",
       "4  Still a “startup mentality”—so keep in mind al...   \n",
       "\n",
       "                                    helpful  \n",
       "0  Be the first to find this review helpful  \n",
       "1  Be the first to find this review helpful  \n",
       "2  Be the first to find this review helpful  \n",
       "3  Be the first to find this review helpful  \n",
       "4  Be the first to find this review helpful  "
      ]
     },
     "execution_count": 50,
     "metadata": {},
     "output_type": "execute_result"
    }
   ],
   "source": [
    "df.head()"
   ]
  },
  {
   "cell_type": "code",
   "execution_count": 51,
   "id": "b83603cd",
   "metadata": {
    "scrolled": false
   },
   "outputs": [
    {
     "data": {
      "text/plain": [
       "Index(['Unnamed: 0', 'Unnamed: 0.1', 'title', 'author_info', 'rating', 'pros',\n",
       "       'cons', 'helpful'],\n",
       "      dtype='object')"
      ]
     },
     "execution_count": 51,
     "metadata": {},
     "output_type": "execute_result"
    }
   ],
   "source": [
    "df.columns"
   ]
  },
  {
   "cell_type": "code",
   "execution_count": 52,
   "id": "c07a9177",
   "metadata": {},
   "outputs": [],
   "source": [
    "df.drop(columns = ['Unnamed: 0','Unnamed: 0.1', 'helpful'], axis = 1, inplace = True)"
   ]
  },
  {
   "cell_type": "code",
   "execution_count": 53,
   "id": "6c7fc831",
   "metadata": {},
   "outputs": [],
   "source": [
    "# df.to_csv('reviews.csv')"
   ]
  },
  {
   "cell_type": "code",
   "execution_count": 54,
   "id": "54199456",
   "metadata": {
    "scrolled": true
   },
   "outputs": [
    {
     "data": {
      "text/plain": [
       "(9888, 5)"
      ]
     },
     "execution_count": 54,
     "metadata": {},
     "output_type": "execute_result"
    }
   ],
   "source": [
    "df.shape"
   ]
  },
  {
   "cell_type": "code",
   "execution_count": 55,
   "id": "8ef46934",
   "metadata": {
    "scrolled": false
   },
   "outputs": [
    {
     "data": {
      "text/plain": [
       "title            31\n",
       "author_info    4759\n",
       "rating            1\n",
       "pros              1\n",
       "cons              1\n",
       "dtype: int64"
      ]
     },
     "execution_count": 55,
     "metadata": {},
     "output_type": "execute_result"
    }
   ],
   "source": [
    "df.isna().sum()"
   ]
  },
  {
   "cell_type": "code",
   "execution_count": 56,
   "id": "3712e261",
   "metadata": {
    "scrolled": false
   },
   "outputs": [
    {
     "data": {
      "text/html": [
       "<div>\n",
       "<style scoped>\n",
       "    .dataframe tbody tr th:only-of-type {\n",
       "        vertical-align: middle;\n",
       "    }\n",
       "\n",
       "    .dataframe tbody tr th {\n",
       "        vertical-align: top;\n",
       "    }\n",
       "\n",
       "    .dataframe thead th {\n",
       "        text-align: right;\n",
       "    }\n",
       "</style>\n",
       "<table border=\"1\" class=\"dataframe\">\n",
       "  <thead>\n",
       "    <tr style=\"text-align: right;\">\n",
       "      <th></th>\n",
       "      <th>title</th>\n",
       "      <th>author_info</th>\n",
       "      <th>rating</th>\n",
       "      <th>pros</th>\n",
       "      <th>cons</th>\n",
       "    </tr>\n",
       "  </thead>\n",
       "  <tbody>\n",
       "    <tr>\n",
       "      <th>8781</th>\n",
       "      <td>NaN</td>\n",
       "      <td>NaN</td>\n",
       "      <td>NaN</td>\n",
       "      <td>NaN</td>\n",
       "      <td>NaN</td>\n",
       "    </tr>\n",
       "  </tbody>\n",
       "</table>\n",
       "</div>"
      ],
      "text/plain": [
       "     title author_info  rating pros cons\n",
       "8781   NaN         NaN     NaN  NaN  NaN"
      ]
     },
     "execution_count": 56,
     "metadata": {},
     "output_type": "execute_result"
    }
   ],
   "source": [
    "df[df['rating'].isna() == True]"
   ]
  },
  {
   "cell_type": "code",
   "execution_count": 57,
   "id": "fd31a6b6",
   "metadata": {},
   "outputs": [],
   "source": [
    "df.drop([8780,8781], axis=0, inplace=True)"
   ]
  },
  {
   "cell_type": "code",
   "execution_count": 58,
   "id": "f0d8d995",
   "metadata": {},
   "outputs": [
    {
     "data": {
      "text/plain": [
       "title            30\n",
       "author_info    4757\n",
       "rating            0\n",
       "pros              0\n",
       "cons              0\n",
       "dtype: int64"
      ]
     },
     "execution_count": 58,
     "metadata": {},
     "output_type": "execute_result"
    }
   ],
   "source": [
    "df.isna().sum()"
   ]
  },
  {
   "cell_type": "code",
   "execution_count": 59,
   "id": "86e3ae7d",
   "metadata": {
    "scrolled": true
   },
   "outputs": [
    {
     "data": {
      "text/plain": [
       "<AxesSubplot:>"
      ]
     },
     "execution_count": 59,
     "metadata": {},
     "output_type": "execute_result"
    },
    {
     "data": {
      "image/png": "[encoded data removed]",
      "text/plain": [
       "<Figure size 432x288 with 1 Axes>"
      ]
     },
     "metadata": {
      "image/png": {
       "height": 248,
       "width": 370
      }
     },
     "output_type": "display_data"
    }
   ],
   "source": [
    "df['rating'].unique()\n",
    "df['rating'].value_counts().sort_values().plot(kind = 'barh')"
   ]
  },
  {
   "cell_type": "code",
   "execution_count": 62,
   "id": "8ffa84a0",
   "metadata": {
    "scrolled": true
   },
   "outputs": [],
   "source": [
    "df_author = df.dropna()"
   ]
  },
  {
   "cell_type": "code",
   "execution_count": 67,
   "id": "1a1ed9be",
   "metadata": {},
   "outputs": [],
   "source": [
    "df_author['author_info'].to_csv('author_info.csv')"
   ]
  },
  {
   "cell_type": "code",
   "execution_count": null,
   "id": "24ee34a3",
   "metadata": {},
   "outputs": [],
   "source": []
  }
 ],
 "metadata": {
  "kernelspec": {
   "display_name": "Python 3 (ipykernel)",
   "language": "python",
   "name": "python3"
  },
  "language_info": {
   "codemirror_mode": {
    "name": "ipython",
    "version": 3
   },
   "file_extension": ".py",
   "mimetype": "text/x-python",
   "name": "python",
   "nbconvert_exporter": "python",
   "pygments_lexer": "ipython3",
   "version": "3.8.8"
  },
  "toc": {
   "base_numbering": 1,
   "nav_menu": {},
   "number_sections": true,
   "sideBar": true,
   "skip_h1_title": false,
   "title_cell": "Table of Contents",
   "title_sidebar": "Contents",
   "toc_cell": false,
   "toc_position": {},
   "toc_section_display": true,
   "toc_window_display": false
  }
 },
 "nbformat": 4,
 "nbformat_minor": 5
}
