{
 "cells": [
  {
   "cell_type": "markdown",
   "id": "efbf5b14",
   "metadata": {},
   "source": [
    "https://www.kaggle.com/code/kasimchristianloan/nlu-covid-emotion-showcase"
   ]
  },
  {
   "cell_type": "code",
   "execution_count": 9,
   "id": "ff5cdac9",
   "metadata": {},
   "outputs": [],
   "source": [
    "import nlu\n",
    "import os\n",
    "import numpy as np \n",
    "import pandas as pd "
   ]
  },
  {
   "cell_type": "code",
   "execution_count": 10,
   "id": "d642e42f",
   "metadata": {},
   "outputs": [],
   "source": [
    "df = pd.read_csv(\"glassdoor_webscraped.csv\")"
   ]
  },
  {
   "cell_type": "code",
   "execution_count": 11,
   "id": "fa015a12",
   "metadata": {},
   "outputs": [],
   "source": [
    "df.drop(columns = ['Unnamed: 0', 'Unnamed: 0.1', 'helpful'], inplace = True)"
   ]
  },
  {
   "cell_type": "code",
   "execution_count": 12,
   "id": "07a46300",
   "metadata": {},
   "outputs": [
    {
     "data": {
      "text/plain": [
       "Index(['title', 'author_info', 'rating', 'pros', 'cons', 'helpful'], dtype='object')"
      ]
     },
     "execution_count": 12,
     "metadata": {},
     "output_type": "execute_result"
    }
   ],
   "source": [
    "df.columns"
   ]
  },
  {
   "cell_type": "code",
   "execution_count": 13,
   "id": "c0145ea1",
   "metadata": {
    "scrolled": false
   },
   "outputs": [
    {
     "data": {
      "text/html": [
       "<div>\n",
       "<style scoped>\n",
       "    .dataframe tbody tr th:only-of-type {\n",
       "        vertical-align: middle;\n",
       "    }\n",
       "\n",
       "    .dataframe tbody tr th {\n",
       "        vertical-align: top;\n",
       "    }\n",
       "\n",
       "    .dataframe thead th {\n",
       "        text-align: right;\n",
       "    }\n",
       "</style>\n",
       "<table border=\"1\" class=\"dataframe\">\n",
       "  <thead>\n",
       "    <tr style=\"text-align: right;\">\n",
       "      <th></th>\n",
       "      <th>title</th>\n",
       "      <th>author_info</th>\n",
       "      <th>rating</th>\n",
       "      <th>pros</th>\n",
       "      <th>cons</th>\n",
       "      <th>helpful</th>\n",
       "    </tr>\n",
       "  </thead>\n",
       "  <tbody>\n",
       "    <tr>\n",
       "      <th>0</th>\n",
       "      <td>Great Place To Work</td>\n",
       "      <td>May 3, 2021 - Partner Account Manager in Washi...</td>\n",
       "      <td>5.0</td>\n",
       "      <td>Leader support, Transparency, Benefits, work/l...</td>\n",
       "      <td>I have not found any cons yet.</td>\n",
       "      <td>Be the first to find this review helpful</td>\n",
       "    </tr>\n",
       "    <tr>\n",
       "      <th>1</th>\n",
       "      <td>Opportunity for Growth</td>\n",
       "      <td>May 3, 2021 - Business Development Representat...</td>\n",
       "      <td>5.0</td>\n",
       "      <td>-Quickly move up -Access to networking with pe...</td>\n",
       "      <td>-Large company, there can be a decent amount o...</td>\n",
       "      <td>Be the first to find this review helpful</td>\n",
       "    </tr>\n",
       "    <tr>\n",
       "      <th>2</th>\n",
       "      <td>Great place to work</td>\n",
       "      <td>May 3, 2021 - Anonymous Employee</td>\n",
       "      <td>5.0</td>\n",
       "      <td>High income potential and upward mobility</td>\n",
       "      <td>Pressure cooker, high expectations and stress ...</td>\n",
       "      <td>Be the first to find this review helpful</td>\n",
       "    </tr>\n",
       "    <tr>\n",
       "      <th>3</th>\n",
       "      <td>Great culture and great opportunity for growth</td>\n",
       "      <td>May 3, 2021 - BDR in San Francisco, CA</td>\n",
       "      <td>5.0</td>\n",
       "      <td>Excellent growth and networking opportunities</td>\n",
       "      <td>Not many cons I can think of</td>\n",
       "      <td>Be the first to find this review helpful</td>\n",
       "    </tr>\n",
       "    <tr>\n",
       "      <th>4</th>\n",
       "      <td>Fabulous Place to Work!</td>\n",
       "      <td>May 3, 2021 - Customer Success Guide in Denver...</td>\n",
       "      <td>5.0</td>\n",
       "      <td>Once you’re in, you’re given the freedom and f...</td>\n",
       "      <td>Still a “startup mentality”—so keep in mind al...</td>\n",
       "      <td>Be the first to find this review helpful</td>\n",
       "    </tr>\n",
       "  </tbody>\n",
       "</table>\n",
       "</div>"
      ],
      "text/plain": [
       "                                            title  \\\n",
       "0                             Great Place To Work   \n",
       "1                          Opportunity for Growth   \n",
       "2                             Great place to work   \n",
       "3  Great culture and great opportunity for growth   \n",
       "4                         Fabulous Place to Work!   \n",
       "\n",
       "                                         author_info  rating  \\\n",
       "0  May 3, 2021 - Partner Account Manager in Washi...     5.0   \n",
       "1  May 3, 2021 - Business Development Representat...     5.0   \n",
       "2                   May 3, 2021 - Anonymous Employee     5.0   \n",
       "3             May 3, 2021 - BDR in San Francisco, CA     5.0   \n",
       "4  May 3, 2021 - Customer Success Guide in Denver...     5.0   \n",
       "\n",
       "                                                pros  \\\n",
       "0  Leader support, Transparency, Benefits, work/l...   \n",
       "1  -Quickly move up -Access to networking with pe...   \n",
       "2          High income potential and upward mobility   \n",
       "3      Excellent growth and networking opportunities   \n",
       "4  Once you’re in, you’re given the freedom and f...   \n",
       "\n",
       "                                                cons  \\\n",
       "0                     I have not found any cons yet.   \n",
       "1  -Large company, there can be a decent amount o...   \n",
       "2  Pressure cooker, high expectations and stress ...   \n",
       "3                       Not many cons I can think of   \n",
       "4  Still a “startup mentality”—so keep in mind al...   \n",
       "\n",
       "                                    helpful  \n",
       "0  Be the first to find this review helpful  \n",
       "1  Be the first to find this review helpful  \n",
       "2  Be the first to find this review helpful  \n",
       "3  Be the first to find this review helpful  \n",
       "4  Be the first to find this review helpful  "
      ]
     },
     "execution_count": 13,
     "metadata": {},
     "output_type": "execute_result"
    }
   ],
   "source": [
    "df.head()"
   ]
  },
  {
   "cell_type": "code",
   "execution_count": 14,
   "id": "2edd56e1",
   "metadata": {},
   "outputs": [
    {
     "data": {
      "text/plain": [
       "(9888, 6)"
      ]
     },
     "execution_count": 14,
     "metadata": {},
     "output_type": "execute_result"
    }
   ],
   "source": [
    "df.shape"
   ]
  },
  {
   "cell_type": "code",
   "execution_count": null,
   "id": "70b9a6bb",
   "metadata": {},
   "outputs": [],
   "source": []
  },
  {
   "cell_type": "code",
   "execution_count": null,
   "id": "7d70ba05",
   "metadata": {},
   "outputs": [],
   "source": []
  },
  {
   "cell_type": "code",
   "execution_count": null,
   "id": "4df4e1f3",
   "metadata": {},
   "outputs": [],
   "source": []
  },
  {
   "cell_type": "markdown",
   "id": "18056919",
   "metadata": {},
   "source": [
    "## Emotion analysis\n",
    "### Pros"
   ]
  },
  {
   "cell_type": "code",
   "execution_count": 23,
   "id": "70c9e01c",
   "metadata": {
    "scrolled": true
   },
   "outputs": [
    {
     "name": "stdout",
     "output_type": "stream",
     "text": [
      "classifierdl_use_emotion download started this may take some time.\n",
      "Approximate size to download 21.3 MB\n",
      "[OK!]\n",
      "tfhub_use download started this may take some time.\n",
      "Approximate size to download 923.7 MB\n",
      "[OK!]\n"
     ]
    },
    {
     "name": "stderr",
     "output_type": "stream",
     "text": [
      "                                                                                \r"
     ]
    },
    {
     "data": {
      "text/plain": [
       "<AxesSubplot:title={'center':'Count of predicted emotion labels'}>"
      ]
     },
     "execution_count": 23,
     "metadata": {},
     "output_type": "execute_result"
    },
    {
     "data": {
      "image/png": "[encoded data removed]",
      "text/plain": [
       "<Figure size 432x288 with 1 Axes>"
      ]
     },
     "metadata": {
      "needs_background": "light"
     },
     "output_type": "display_data"
    }
   ],
   "source": [
    "em_pros = nlu.load('emotion').predict(df['pros'],output_level='document')\n",
    "em_pros['emotion'].value_counts().plot.bar(title='Count of predicted emotion labels')"
   ]
  },
  {
   "cell_type": "code",
   "execution_count": 24,
   "id": "1fff3735",
   "metadata": {
    "scrolled": true
   },
   "outputs": [
    {
     "name": "stdout",
     "output_type": "stream",
     "text": [
      "classifierdl_use_emotion download started this may take some time.\n",
      "Approximate size to download 21.3 MB\n",
      "[OK!]\n",
      "tfhub_use download started this may take some time.\n",
      "Approximate size to download 923.7 MB\n",
      "[OK!]\n"
     ]
    },
    {
     "name": "stderr",
     "output_type": "stream",
     "text": [
      "                                                                                \r"
     ]
    },
    {
     "data": {
      "text/plain": [
       "<AxesSubplot:title={'center':'Count of predicted emotion labels'}>"
      ]
     },
     "execution_count": 24,
     "metadata": {},
     "output_type": "execute_result"
    },
    {
     "data": {
      "image/png": "[encoded data removed]",
      "text/plain": [
       "<Figure size 432x288 with 1 Axes>"
      ]
     },
     "metadata": {
      "needs_background": "light"
     },
     "output_type": "display_data"
    }
   ],
   "source": [
    "em_cons = nlu.load('emotion').predict(df['cons'],output_level='document')\n",
    "em_cons['emotion'].value_counts().plot.bar(title='Count of predicted emotion labels')"
   ]
  },
  {
   "cell_type": "code",
   "execution_count": 25,
   "id": "bdc05f3f",
   "metadata": {},
   "outputs": [],
   "source": [
    "# em_pros.sentence_embedding_use.to_csv('sentence_embedding_use')"
   ]
  },
  {
   "cell_type": "code",
   "execution_count": 28,
   "id": "52623f61",
   "metadata": {},
   "outputs": [],
   "source": [
    "df['emotion_pros'] = em_pros['emotion']\n",
    "df['emotion_cons'] = em_cons['emotion']"
   ]
  },
  {
   "cell_type": "code",
   "execution_count": null,
   "id": "cc0cd664",
   "metadata": {},
   "outputs": [],
   "source": []
  },
  {
   "cell_type": "code",
   "execution_count": null,
   "id": "9a78ae90",
   "metadata": {},
   "outputs": [],
   "source": []
  },
  {
   "cell_type": "code",
   "execution_count": null,
   "id": "e5d936d8",
   "metadata": {},
   "outputs": [],
   "source": []
  },
  {
   "cell_type": "code",
   "execution_count": null,
   "id": "52f40a43",
   "metadata": {},
   "outputs": [],
   "source": []
  },
  {
   "cell_type": "code",
   "execution_count": null,
   "id": "125a2de9",
   "metadata": {},
   "outputs": [],
   "source": []
  },
  {
   "cell_type": "code",
   "execution_count": null,
   "id": "fe4d0949",
   "metadata": {},
   "outputs": [],
   "source": []
  },
  {
   "cell_type": "code",
   "execution_count": null,
   "id": "ffd903df",
   "metadata": {},
   "outputs": [],
   "source": []
  },
  {
   "cell_type": "code",
   "execution_count": null,
   "id": "575aadc7",
   "metadata": {},
   "outputs": [],
   "source": []
  },
  {
   "cell_type": "code",
   "execution_count": null,
   "id": "16c3bfac",
   "metadata": {},
   "outputs": [],
   "source": []
  },
  {
   "cell_type": "markdown",
   "id": "52d9be52",
   "metadata": {},
   "source": [
    "## Sentiment"
   ]
  },
  {
   "cell_type": "code",
   "execution_count": 29,
   "id": "fd62383b",
   "metadata": {
    "scrolled": true
   },
   "outputs": [
    {
     "name": "stdout",
     "output_type": "stream",
     "text": [
      "sentimentdl_glove_imdb download started this may take some time.\n",
      "Approximate size to download 8.7 MB\n",
      "[OK!]\n",
      "glove_100d download started this may take some time.\n",
      "Approximate size to download 145.3 MB\n",
      "[OK!]\n"
     ]
    },
    {
     "name": "stderr",
     "output_type": "stream",
     "text": [
      "                                                                                \r"
     ]
    },
    {
     "data": {
      "text/plain": [
       "<AxesSubplot:title={'center':'Count of predicted sentiment labels'}>"
      ]
     },
     "execution_count": 29,
     "metadata": {},
     "output_type": "execute_result"
    },
    {
     "data": {
      "image/png": "[encoded data removed]",
      "text/plain": [
       "<Figure size 432x288 with 1 Axes>"
      ]
     },
     "metadata": {
      "needs_background": "light"
     },
     "output_type": "display_data"
    }
   ],
   "source": [
    "senti_pros = nlu.load('sentiment').predict(df['pros'],output_level='document')\n",
    "senti_pros['sentiment'].value_counts().plot.bar(title='Count of predicted sentiment labels')"
   ]
  },
  {
   "cell_type": "code",
   "execution_count": 30,
   "id": "7d9ebda8",
   "metadata": {},
   "outputs": [
    {
     "name": "stdout",
     "output_type": "stream",
     "text": [
      "sentimentdl_glove_imdb download started this may take some time.\n",
      "Approximate size to download 8.7 MB\n",
      "[OK!]\n",
      "glove_100d download started this may take some time.\n",
      "Approximate size to download 145.3 MB\n",
      "[OK!]\n"
     ]
    },
    {
     "name": "stderr",
     "output_type": "stream",
     "text": [
      "                                                                                \r"
     ]
    },
    {
     "data": {
      "text/plain": [
       "<AxesSubplot:title={'center':'Count of predicted sentiment labels'}>"
      ]
     },
     "execution_count": 30,
     "metadata": {},
     "output_type": "execute_result"
    },
    {
     "data": {
      "image/png": "[encoded data removed]",
      "text/plain": [
       "<Figure size 432x288 with 1 Axes>"
      ]
     },
     "metadata": {
      "needs_background": "light"
     },
     "output_type": "display_data"
    }
   ],
   "source": [
    "senti_cons = nlu.load('sentiment').predict(df['cons'],output_level='document')\n",
    "senti_cons['sentiment'].value_counts().plot.bar(title='Count of predicted sentiment labels')"
   ]
  },
  {
   "cell_type": "code",
   "execution_count": 33,
   "id": "35677915",
   "metadata": {
    "scrolled": true
   },
   "outputs": [
    {
     "data": {
      "text/html": [
       "<div>\n",
       "<style scoped>\n",
       "    .dataframe tbody tr th:only-of-type {\n",
       "        vertical-align: middle;\n",
       "    }\n",
       "\n",
       "    .dataframe tbody tr th {\n",
       "        vertical-align: top;\n",
       "    }\n",
       "\n",
       "    .dataframe thead th {\n",
       "        text-align: right;\n",
       "    }\n",
       "</style>\n",
       "<table border=\"1\" class=\"dataframe\">\n",
       "  <thead>\n",
       "    <tr style=\"text-align: right;\">\n",
       "      <th></th>\n",
       "      <th>document</th>\n",
       "      <th>sentence_embedding_converter</th>\n",
       "      <th>sentiment</th>\n",
       "      <th>sentiment_confidence</th>\n",
       "      <th>word_embedding_glove</th>\n",
       "    </tr>\n",
       "  </thead>\n",
       "  <tbody>\n",
       "    <tr>\n",
       "      <th>0</th>\n",
       "      <td>I have not found any cons yet.</td>\n",
       "      <td>[-0.13198652863502502, 0.4641537368297577, 0.3...</td>\n",
       "      <td>neg</td>\n",
       "      <td>0.0</td>\n",
       "      <td>[[-0.046539001166820526, 0.6196600198745728, 0...</td>\n",
       "    </tr>\n",
       "    <tr>\n",
       "      <th>1</th>\n",
       "      <td>-Large company, there can be a decent amount o...</td>\n",
       "      <td>[-0.27638909220695496, 0.30506813526153564, 0....</td>\n",
       "      <td>neg</td>\n",
       "      <td>0.0</td>\n",
       "      <td>[[-1.2556999921798706, 0.6103600263595581, 0.5...</td>\n",
       "    </tr>\n",
       "    <tr>\n",
       "      <th>10</th>\n",
       "      <td>The boundaries are a bit difficult given work ...</td>\n",
       "      <td>[-0.2370644211769104, 0.2166195809841156, 0.46...</td>\n",
       "      <td>neg</td>\n",
       "      <td>0.0</td>\n",
       "      <td>[[-0.03819400072097778, -0.24487000703811646, ...</td>\n",
       "    </tr>\n",
       "    <tr>\n",
       "      <th>11</th>\n",
       "      <td>Management is a little bit messy... not sure w...</td>\n",
       "      <td>[-0.1409880369901657, 0.2940976619720459, 0.52...</td>\n",
       "      <td>neg</td>\n",
       "      <td>3.0</td>\n",
       "      <td>[[0.24654999375343323, -0.6539999842643738, 0....</td>\n",
       "    </tr>\n",
       "    <tr>\n",
       "      <th>13</th>\n",
       "      <td>Lack of mentorship on my specific teams. Lack ...</td>\n",
       "      <td>[-0.07167231291532516, 0.061229586601257324, 0...</td>\n",
       "      <td>neg</td>\n",
       "      <td>5.0</td>\n",
       "      <td>[[0.17274999618530273, 0.0689380019903183, 0.3...</td>\n",
       "    </tr>\n",
       "    <tr>\n",
       "      <th>...</th>\n",
       "      <td>...</td>\n",
       "      <td>...</td>\n",
       "      <td>...</td>\n",
       "      <td>...</td>\n",
       "      <td>...</td>\n",
       "    </tr>\n",
       "    <tr>\n",
       "      <th>9879</th>\n",
       "      <td>Promotion process is not clear</td>\n",
       "      <td>[-0.2399199903011322, -0.03726480156183243, 0....</td>\n",
       "      <td>neg</td>\n",
       "      <td>5.0</td>\n",
       "      <td>[[0.3856399953365326, -0.590719997882843, -0.5...</td>\n",
       "    </tr>\n",
       "    <tr>\n",
       "      <th>9880</th>\n",
       "      <td>pay, cross cloud deals, no unlimited PTO, perf...</td>\n",
       "      <td>[0.08641752600669861, 0.25048401951789856, 0.1...</td>\n",
       "      <td>neg</td>\n",
       "      <td>0.0</td>\n",
       "      <td>[[0.5533699989318848, 0.3379000127315521, -0.1...</td>\n",
       "    </tr>\n",
       "    <tr>\n",
       "      <th>9881</th>\n",
       "      <td>High stress Misunderstandings with management ...</td>\n",
       "      <td>[-0.1361120045185089, 0.0458877831697464, 0.27...</td>\n",
       "      <td>neg</td>\n",
       "      <td>4.0</td>\n",
       "      <td>[[0.23191000521183014, 0.12152999639511108, 0....</td>\n",
       "    </tr>\n",
       "    <tr>\n",
       "      <th>9886</th>\n",
       "      <td>- sometimes managers can be micromanagers - ev...</td>\n",
       "      <td>[-0.22854827344417572, 0.314942330121994, 0.37...</td>\n",
       "      <td>neg</td>\n",
       "      <td>0.0</td>\n",
       "      <td>[[-1.2556999921798706, 0.6103600263595581, 0.5...</td>\n",
       "    </tr>\n",
       "    <tr>\n",
       "      <th>9887</th>\n",
       "      <td>None that I seem to have found so far</td>\n",
       "      <td>[-0.0937165915966034, 0.46311154961586, 0.4866...</td>\n",
       "      <td>neg</td>\n",
       "      <td>0.0</td>\n",
       "      <td>[[0.10999999940395355, 0.6390500068664551, 0.6...</td>\n",
       "    </tr>\n",
       "  </tbody>\n",
       "</table>\n",
       "<p>4632 rows × 5 columns</p>\n",
       "</div>"
      ],
      "text/plain": [
       "                                               document  \\\n",
       "0                        I have not found any cons yet.   \n",
       "1     -Large company, there can be a decent amount o...   \n",
       "10    The boundaries are a bit difficult given work ...   \n",
       "11    Management is a little bit messy... not sure w...   \n",
       "13    Lack of mentorship on my specific teams. Lack ...   \n",
       "...                                                 ...   \n",
       "9879                     Promotion process is not clear   \n",
       "9880  pay, cross cloud deals, no unlimited PTO, perf...   \n",
       "9881  High stress Misunderstandings with management ...   \n",
       "9886  - sometimes managers can be micromanagers - ev...   \n",
       "9887              None that I seem to have found so far   \n",
       "\n",
       "                           sentence_embedding_converter sentiment  \\\n",
       "0     [-0.13198652863502502, 0.4641537368297577, 0.3...       neg   \n",
       "1     [-0.27638909220695496, 0.30506813526153564, 0....       neg   \n",
       "10    [-0.2370644211769104, 0.2166195809841156, 0.46...       neg   \n",
       "11    [-0.1409880369901657, 0.2940976619720459, 0.52...       neg   \n",
       "13    [-0.07167231291532516, 0.061229586601257324, 0...       neg   \n",
       "...                                                 ...       ...   \n",
       "9879  [-0.2399199903011322, -0.03726480156183243, 0....       neg   \n",
       "9880  [0.08641752600669861, 0.25048401951789856, 0.1...       neg   \n",
       "9881  [-0.1361120045185089, 0.0458877831697464, 0.27...       neg   \n",
       "9886  [-0.22854827344417572, 0.314942330121994, 0.37...       neg   \n",
       "9887  [-0.0937165915966034, 0.46311154961586, 0.4866...       neg   \n",
       "\n",
       "     sentiment_confidence                               word_embedding_glove  \n",
       "0                     0.0  [[-0.046539001166820526, 0.6196600198745728, 0...  \n",
       "1                     0.0  [[-1.2556999921798706, 0.6103600263595581, 0.5...  \n",
       "10                    0.0  [[-0.03819400072097778, -0.24487000703811646, ...  \n",
       "11                    3.0  [[0.24654999375343323, -0.6539999842643738, 0....  \n",
       "13                    5.0  [[0.17274999618530273, 0.0689380019903183, 0.3...  \n",
       "...                   ...                                                ...  \n",
       "9879                  5.0  [[0.3856399953365326, -0.590719997882843, -0.5...  \n",
       "9880                  0.0  [[0.5533699989318848, 0.3379000127315521, -0.1...  \n",
       "9881                  4.0  [[0.23191000521183014, 0.12152999639511108, 0....  \n",
       "9886                  0.0  [[-1.2556999921798706, 0.6103600263595581, 0.5...  \n",
       "9887                  0.0  [[0.10999999940395355, 0.6390500068664551, 0.6...  \n",
       "\n",
       "[4632 rows x 5 columns]"
      ]
     },
     "execution_count": 33,
     "metadata": {},
     "output_type": "execute_result"
    }
   ],
   "source": [
    "senti_cons[senti_cons['sentiment'] == 'neg']"
   ]
  },
  {
   "cell_type": "code",
   "execution_count": 35,
   "id": "14b9eafa",
   "metadata": {},
   "outputs": [],
   "source": [
    "df['senti_pros'] = senti_pros['sentiment']\n",
    "df['senti_cons'] = senti_cons['sentiment']"
   ]
  },
  {
   "cell_type": "code",
   "execution_count": 36,
   "id": "5a41af23",
   "metadata": {},
   "outputs": [
    {
     "data": {
      "text/html": [
       "<div>\n",
       "<style scoped>\n",
       "    .dataframe tbody tr th:only-of-type {\n",
       "        vertical-align: middle;\n",
       "    }\n",
       "\n",
       "    .dataframe tbody tr th {\n",
       "        vertical-align: top;\n",
       "    }\n",
       "\n",
       "    .dataframe thead th {\n",
       "        text-align: right;\n",
       "    }\n",
       "</style>\n",
       "<table border=\"1\" class=\"dataframe\">\n",
       "  <thead>\n",
       "    <tr style=\"text-align: right;\">\n",
       "      <th></th>\n",
       "      <th>title</th>\n",
       "      <th>author_info</th>\n",
       "      <th>rating</th>\n",
       "      <th>pros</th>\n",
       "      <th>cons</th>\n",
       "      <th>helpful</th>\n",
       "      <th>emotion_pros</th>\n",
       "      <th>emotion_cons</th>\n",
       "      <th>senti_pros</th>\n",
       "      <th>senti_cons</th>\n",
       "    </tr>\n",
       "  </thead>\n",
       "  <tbody>\n",
       "    <tr>\n",
       "      <th>0</th>\n",
       "      <td>Great Place To Work</td>\n",
       "      <td>May 3, 2021 - Partner Account Manager in Washi...</td>\n",
       "      <td>5.0</td>\n",
       "      <td>Leader support, Transparency, Benefits, work/l...</td>\n",
       "      <td>I have not found any cons yet.</td>\n",
       "      <td>Be the first to find this review helpful</td>\n",
       "      <td>joy</td>\n",
       "      <td>sadness</td>\n",
       "      <td>pos</td>\n",
       "      <td>neg</td>\n",
       "    </tr>\n",
       "    <tr>\n",
       "      <th>1</th>\n",
       "      <td>Opportunity for Growth</td>\n",
       "      <td>May 3, 2021 - Business Development Representat...</td>\n",
       "      <td>5.0</td>\n",
       "      <td>-Quickly move up -Access to networking with pe...</td>\n",
       "      <td>-Large company, there can be a decent amount o...</td>\n",
       "      <td>Be the first to find this review helpful</td>\n",
       "      <td>joy</td>\n",
       "      <td>joy</td>\n",
       "      <td>pos</td>\n",
       "      <td>neg</td>\n",
       "    </tr>\n",
       "    <tr>\n",
       "      <th>2</th>\n",
       "      <td>Great place to work</td>\n",
       "      <td>May 3, 2021 - Anonymous Employee</td>\n",
       "      <td>5.0</td>\n",
       "      <td>High income potential and upward mobility</td>\n",
       "      <td>Pressure cooker, high expectations and stress ...</td>\n",
       "      <td>Be the first to find this review helpful</td>\n",
       "      <td>joy</td>\n",
       "      <td>fear</td>\n",
       "      <td>pos</td>\n",
       "      <td>pos</td>\n",
       "    </tr>\n",
       "    <tr>\n",
       "      <th>3</th>\n",
       "      <td>Great culture and great opportunity for growth</td>\n",
       "      <td>May 3, 2021 - BDR in San Francisco, CA</td>\n",
       "      <td>5.0</td>\n",
       "      <td>Excellent growth and networking opportunities</td>\n",
       "      <td>Not many cons I can think of</td>\n",
       "      <td>Be the first to find this review helpful</td>\n",
       "      <td>joy</td>\n",
       "      <td>surprise</td>\n",
       "      <td>pos</td>\n",
       "      <td>pos</td>\n",
       "    </tr>\n",
       "    <tr>\n",
       "      <th>4</th>\n",
       "      <td>Fabulous Place to Work!</td>\n",
       "      <td>May 3, 2021 - Customer Success Guide in Denver...</td>\n",
       "      <td>5.0</td>\n",
       "      <td>Once you’re in, you’re given the freedom and f...</td>\n",
       "      <td>Still a “startup mentality”—so keep in mind al...</td>\n",
       "      <td>Be the first to find this review helpful</td>\n",
       "      <td>joy</td>\n",
       "      <td>fear</td>\n",
       "      <td>pos</td>\n",
       "      <td>pos</td>\n",
       "    </tr>\n",
       "  </tbody>\n",
       "</table>\n",
       "</div>"
      ],
      "text/plain": [
       "                                            title  \\\n",
       "0                             Great Place To Work   \n",
       "1                          Opportunity for Growth   \n",
       "2                             Great place to work   \n",
       "3  Great culture and great opportunity for growth   \n",
       "4                         Fabulous Place to Work!   \n",
       "\n",
       "                                         author_info  rating  \\\n",
       "0  May 3, 2021 - Partner Account Manager in Washi...     5.0   \n",
       "1  May 3, 2021 - Business Development Representat...     5.0   \n",
       "2                   May 3, 2021 - Anonymous Employee     5.0   \n",
       "3             May 3, 2021 - BDR in San Francisco, CA     5.0   \n",
       "4  May 3, 2021 - Customer Success Guide in Denver...     5.0   \n",
       "\n",
       "                                                pros  \\\n",
       "0  Leader support, Transparency, Benefits, work/l...   \n",
       "1  -Quickly move up -Access to networking with pe...   \n",
       "2          High income potential and upward mobility   \n",
       "3      Excellent growth and networking opportunities   \n",
       "4  Once you’re in, you’re given the freedom and f...   \n",
       "\n",
       "                                                cons  \\\n",
       "0                     I have not found any cons yet.   \n",
       "1  -Large company, there can be a decent amount o...   \n",
       "2  Pressure cooker, high expectations and stress ...   \n",
       "3                       Not many cons I can think of   \n",
       "4  Still a “startup mentality”—so keep in mind al...   \n",
       "\n",
       "                                    helpful emotion_pros emotion_cons  \\\n",
       "0  Be the first to find this review helpful          joy      sadness   \n",
       "1  Be the first to find this review helpful          joy          joy   \n",
       "2  Be the first to find this review helpful          joy         fear   \n",
       "3  Be the first to find this review helpful          joy     surprise   \n",
       "4  Be the first to find this review helpful          joy         fear   \n",
       "\n",
       "  senti_pros senti_cons  \n",
       "0        pos        neg  \n",
       "1        pos        neg  \n",
       "2        pos        pos  \n",
       "3        pos        pos  \n",
       "4        pos        pos  "
      ]
     },
     "execution_count": 36,
     "metadata": {},
     "output_type": "execute_result"
    }
   ],
   "source": [
    "df.head()"
   ]
  },
  {
   "cell_type": "code",
   "execution_count": null,
   "id": "7162d546",
   "metadata": {},
   "outputs": [],
   "source": []
  },
  {
   "cell_type": "code",
   "execution_count": null,
   "id": "7abfacf3",
   "metadata": {},
   "outputs": [],
   "source": []
  },
  {
   "cell_type": "code",
   "execution_count": null,
   "id": "75c71d40",
   "metadata": {},
   "outputs": [],
   "source": []
  },
  {
   "cell_type": "code",
   "execution_count": null,
   "id": "12df613f",
   "metadata": {},
   "outputs": [],
   "source": []
  },
  {
   "cell_type": "code",
   "execution_count": null,
   "id": "1e477c93",
   "metadata": {},
   "outputs": [],
   "source": []
  }
 ],
 "metadata": {
  "kernelspec": {
   "display_name": "Python 3 (ipykernel)",
   "language": "python",
   "name": "python3"
  },
  "language_info": {
   "codemirror_mode": {
    "name": "ipython",
    "version": 3
   },
   "file_extension": ".py",
   "mimetype": "text/x-python",
   "name": "python",
   "nbconvert_exporter": "python",
   "pygments_lexer": "ipython3",
   "version": "3.8.8"
  },
  "toc": {
   "base_numbering": 1,
   "nav_menu": {},
   "number_sections": true,
   "sideBar": true,
   "skip_h1_title": false,
   "title_cell": "Table of Contents",
   "title_sidebar": "Contents",
   "toc_cell": false,
   "toc_position": {},
   "toc_section_display": true,
   "toc_window_display": false
  }
 },
 "nbformat": 4,
 "nbformat_minor": 5
}
