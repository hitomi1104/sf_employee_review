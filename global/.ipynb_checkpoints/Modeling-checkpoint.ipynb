{
 "cells": [
  {
   "cell_type": "markdown",
   "id": "2204e136",
   "metadata": {},
   "source": [
    "reference : https://www.kaggle.com/code/heeraldedhia/text-classification-nlp/notebook"
   ]
  },
  {
   "cell_type": "code",
   "execution_count": 1,
   "id": "0c73f26c",
   "metadata": {},
   "outputs": [
    {
     "name": "stderr",
     "output_type": "stream",
     "text": [
      "/Users/hitomihoshino/opt/anaconda3/lib/python3.8/site-packages/gensim/similarities/__init__.py:15: UserWarning: The gensim.similarities.levenshtein submodule is disabled, because the optional Levenshtein package <https://pypi.org/project/python-Levenshtein/> is unavailable. Install Levenhstein (e.g. `pip install python-Levenshtein`) to suppress this warning.\n",
      "  warnings.warn(msg)\n"
     ]
    }
   ],
   "source": [
    "import pandas as pd\n",
    "import numpy as np\n",
    "\n",
    "import seaborn as sns\n",
    "import matplotlib.pyplot as plt\n",
    "\n",
    "#for text pre-processing\n",
    "import re, string\n",
    "import nltk\n",
    "from nltk.tokenize import word_tokenize\n",
    "from nltk.corpus import stopwords\n",
    "from nltk.tokenize import word_tokenize\n",
    "from nltk.stem import SnowballStemmer\n",
    "from nltk.corpus import wordnet\n",
    "from nltk.stem import WordNetLemmatizer\n",
    "\n",
    "# NLP\n",
    "# import nltk\n",
    "# from nltk.corpus import stopwords\n",
    "# from sklearn.feature_extraction.text import CountVectorizer, TfidfVectorizer\n",
    "# from wordcloud import WordCloud, STOPWORDS, ImageColorGenerator\n",
    "# from PIL import Image\n",
    "# from nltk.tokenize import word_tokenize\n",
    "# from nltk.util import ngrams\n",
    "# import string\n",
    "\n",
    "from nltk.stem import WordNetLemmatizer\n",
    "from nltk.tokenize import word_tokenize,sent_tokenize\n",
    "from wordcloud import WordCloud,STOPWORDS\n",
    "from nltk.stem import WordNetLemmatizer\n",
    "from nltk.tokenize import word_tokenize,sent_tokenize\n",
    "from nltk.tokenize.toktok import ToktokTokenizer\n",
    "from nltk.stem import LancasterStemmer,WordNetLemmatizer\n",
    "from textblob import TextBlob\n",
    "from textblob import Word\n",
    "import re,string,unicodedata\n",
    "\n",
    "# nltk.download('punkt')\n",
    "# nltk.download('averaged_perceptron_tagger')\n",
    "# nltk.download('wordnet')\n",
    "\n",
    "# bag of words\n",
    "from sklearn.feature_extraction.text import TfidfVectorizer\n",
    "from sklearn.feature_extraction.text import CountVectorizer\n",
    "\n",
    "#for word embedding\n",
    "import gensim\n",
    "from gensim.models import Word2Vec #Word2Vec is mostly used for huge datasets\n",
    "import warnings \n",
    "warnings.filterwarnings(\"ignore\")\n",
    "\n",
    "\n",
    "\n",
    "\n",
    "#Importing the basic librarires for building model - classification\n",
    "\n",
    "from sklearn.metrics import accuracy_score,r2_score\n",
    "from sklearn.preprocessing import StandardScaler\n",
    "from sklearn.model_selection import train_test_split\n",
    "from sklearn.model_selection import KFold\n",
    "from sklearn.model_selection import cross_val_score\n",
    "from sklearn.model_selection import GridSearchCV\n",
    "from sklearn.linear_model import LinearRegression\n",
    "from sklearn.linear_model import Lasso\n",
    "from sklearn.linear_model import ElasticNet\n",
    "from sklearn.linear_model import LogisticRegression\n",
    "from sklearn.tree import DecisionTreeRegressor\n",
    "from sklearn.neighbors import KNeighborsRegressor\n",
    "from sklearn.neighbors import KNeighborsClassifier\n",
    "from sklearn.svm import SVR\n",
    "from sklearn.pipeline import Pipeline\n",
    "from sklearn.ensemble import RandomForestRegressor\n",
    "from sklearn.ensemble import RandomForestClassifier\n",
    "from sklearn.ensemble import GradientBoostingRegressor\n",
    "from sklearn.ensemble import ExtraTreesRegressor\n",
    "from sklearn.ensemble import AdaBoostRegressor\n",
    "from sklearn.metrics import mean_squared_error\n",
    "from sklearn.tree import DecisionTreeClassifier\n",
    "from sklearn.neural_network import  MLPClassifier\n",
    "from sklearn.svm import SVC\n",
    "from xgboost import XGBClassifier\n",
    "from sklearn.naive_bayes import MultinomialNB\n",
    "\n",
    "from sklearn.feature_extraction.text import CountVectorizer \n",
    "\n",
    "from sklearn.preprocessing import LabelEncoder,StandardScaler"
   ]
  },
  {
   "cell_type": "code",
   "execution_count": 2,
   "id": "dc87e4d6",
   "metadata": {},
   "outputs": [],
   "source": [
    "df = pd.read_csv(\"data/glassdoor_webscraped.csv\")"
   ]
  },
  {
   "cell_type": "code",
   "execution_count": 3,
   "id": "eeb6c648",
   "metadata": {},
   "outputs": [],
   "source": [
    "df.head()\n",
    "df = df.loc[:, \"rating\":\"cons\"]"
   ]
  },
  {
   "cell_type": "code",
   "execution_count": 4,
   "id": "ecc5c5c3",
   "metadata": {},
   "outputs": [
    {
     "name": "stdout",
     "output_type": "stream",
     "text": [
      "<class 'pandas.core.frame.DataFrame'>\n",
      "RangeIndex: 9888 entries, 0 to 9887\n",
      "Data columns (total 3 columns):\n",
      " #   Column  Non-Null Count  Dtype  \n",
      "---  ------  --------------  -----  \n",
      " 0   rating  9887 non-null   float64\n",
      " 1   pros    9887 non-null   object \n",
      " 2   cons    9887 non-null   object \n",
      "dtypes: float64(1), object(2)\n",
      "memory usage: 231.9+ KB\n"
     ]
    }
   ],
   "source": [
    "df.info()"
   ]
  },
  {
   "cell_type": "code",
   "execution_count": 5,
   "id": "9a636f60",
   "metadata": {
    "scrolled": true
   },
   "outputs": [],
   "source": [
    "df.dropna(inplace = True)"
   ]
  },
  {
   "cell_type": "code",
   "execution_count": 6,
   "id": "af840d26",
   "metadata": {},
   "outputs": [],
   "source": [
    "df['pros'] = df['pros'].str.lower()\n",
    "df['cons'] = df['cons'].str.lower()"
   ]
  },
  {
   "cell_type": "code",
   "execution_count": 7,
   "id": "bc93e86a",
   "metadata": {},
   "outputs": [],
   "source": [
    "#Tokenization of text\n",
    "tokenizer=ToktokTokenizer()\n",
    "#Setting English stopwords\n",
    "stopword_list=nltk.corpus.stopwords.words('english')"
   ]
  },
  {
   "cell_type": "code",
   "execution_count": 8,
   "id": "0fd5dd1d",
   "metadata": {},
   "outputs": [
    {
     "name": "stdout",
     "output_type": "stream",
     "text": [
      "{'or', \"doesn't\", 'mightn', \"haven't\", 'yourself', 'because', 'than', 'o', 'now', 'shan', 'both', \"wouldn't\", 'about', \"she's\", \"mightn't\", 'was', 'ain', 'themselves', 'on', 'how', 't', 'most', 'this', 'at', \"needn't\", 'won', 'theirs', 've', \"isn't\", \"wasn't\", 'and', 'up', 'just', 'few', 'my', 'hers', 'under', 'couldn', 'weren', 'only', 'then', 'below', 'she', 'own', 'such', \"you've\", 'same', 'until', 'above', 'here', 'hasn', 'did', 'y', 'further', 'by', 'through', 'these', 'having', 'out', 'during', 'me', 'had', \"hadn't\", 'ourselves', 'it', 'of', \"aren't\", 'are', \"weren't\", 'am', 'a', 'when', 'off', 'were', 'over', 'if', 'their', 'haven', 'mustn', 'we', 'will', \"you'd\", 'been', 'what', \"don't\", \"should've\", 'her', 're', \"shouldn't\", 'yours', \"shan't\", 'isn', 'too', 'is', 'some', 'very', 'from', 'wasn', 'whom', 'against', 'those', 'there', \"you'll\", 'doing', \"that'll\", 'nor', 'each', \"won't\", 'for', 'can', 'down', 'itself', 'i', 'before', 'didn', 'any', 'as', 'needn', 'more', 'have', 'once', 'with', 'should', 'an', 'your', 'himself', \"it's\", 'being', 'our', 'where', 'into', 'herself', 'be', 'not', 'yourselves', \"mustn't\", 'aren', 'they', 'why', \"couldn't\", 'which', \"didn't\", 'his', 'do', 'but', 'no', 'after', 'hadn', 'while', 'again', 'its', 'wouldn', 'in', 'between', \"you're\", \"hasn't\", 'who', 'has', 'shouldn', 'ours', 'the', 'him', 'all', 'other', 'so', 'that', 'don', 's', 'you', 'd', 'myself', 'he', 'll', 'ma', 'to', 'does', 'them', 'doesn', 'm'}\n"
     ]
    }
   ],
   "source": [
    "#set stopwords to english\n",
    "stop=set(stopwords.words('english'))\n",
    "print(stop)\n",
    "\n",
    "#removing the stopwords\n",
    "def remove_stopwords(text, is_lower_case=False):\n",
    "    tokens = tokenizer.tokenize(text)\n",
    "    tokens = [token.strip() for token in tokens]\n",
    "    if is_lower_case:\n",
    "        filtered_tokens = [token for token in tokens if token not in stopword_list]\n",
    "    else:\n",
    "        filtered_tokens = [token for token in tokens if token.lower() not in stopword_list]\n",
    "    filtered_text = ' '.join(filtered_tokens)    \n",
    "    return filtered_text\n",
    "\n",
    "#Apply function on review column\n",
    "df['pros']=df['pros'].apply(remove_stopwords)\n",
    "df['cons']=df['cons'].apply(remove_stopwords)"
   ]
  },
  {
   "cell_type": "code",
   "execution_count": 9,
   "id": "c5a98b82",
   "metadata": {},
   "outputs": [],
   "source": [
    "#Define function for removing special characters\n",
    "def remove_special_characters(text, remove_digits=True):\n",
    "    pattern=r'[^a-zA-z0-9\\s]'\n",
    "    text=re.sub(pattern,'',str(text))\n",
    "    return text\n",
    "#Apply function on review column\n",
    "df['pros']=df['pros'].apply(remove_special_characters)\n",
    "df['cons']=df['cons'].apply(remove_special_characters)"
   ]
  },
  {
   "cell_type": "code",
   "execution_count": 10,
   "id": "dcf142c4",
   "metadata": {},
   "outputs": [],
   "source": [
    "lemmatizer = nltk.stem.WordNetLemmatizer()\n",
    "w_tokenizer = nltk.tokenize.WhitespaceTokenizer()\n",
    "\n",
    "def lemmatize_text(text):\n",
    "    return [lemmatizer.lemmatize(w) for w in w_tokenizer.tokenize(text)]\n",
    "\n",
    "\n",
    "#Apply function on review column\n",
    "df['pros']=df['pros'].apply(lemmatize_text)\n",
    "df['cons']=df['cons'].apply(lemmatize_text)"
   ]
  },
  {
   "cell_type": "code",
   "execution_count": 11,
   "id": "f574b950",
   "metadata": {},
   "outputs": [],
   "source": [
    "df['pros'] = [','.join(map(str, l)) for l in df['pros']]\n",
    "df['cons'] = [','.join(map(str, l)) for l in df['cons']]"
   ]
  },
  {
   "cell_type": "code",
   "execution_count": 12,
   "id": "3cea2589",
   "metadata": {},
   "outputs": [
    {
     "data": {
      "text/html": [
       "<div>\n",
       "<style scoped>\n",
       "    .dataframe tbody tr th:only-of-type {\n",
       "        vertical-align: middle;\n",
       "    }\n",
       "\n",
       "    .dataframe tbody tr th {\n",
       "        vertical-align: top;\n",
       "    }\n",
       "\n",
       "    .dataframe thead th {\n",
       "        text-align: right;\n",
       "    }\n",
       "</style>\n",
       "<table border=\"1\" class=\"dataframe\">\n",
       "  <thead>\n",
       "    <tr style=\"text-align: right;\">\n",
       "      <th></th>\n",
       "      <th>rating</th>\n",
       "      <th>pros</th>\n",
       "      <th>cons</th>\n",
       "    </tr>\n",
       "  </thead>\n",
       "  <tbody>\n",
       "    <tr>\n",
       "      <th>0</th>\n",
       "      <td>5.0</td>\n",
       "      <td>leader,support,transparency,benefit,worklife,b...</td>\n",
       "      <td>found,con,yet</td>\n",
       "    </tr>\n",
       "    <tr>\n",
       "      <th>1</th>\n",
       "      <td>5.0</td>\n",
       "      <td>quickly,move,access,networking,people,position...</td>\n",
       "      <td>large,company,decent,amount,red,tape</td>\n",
       "    </tr>\n",
       "    <tr>\n",
       "      <th>2</th>\n",
       "      <td>5.0</td>\n",
       "      <td>high,income,potential,upward,mobility</td>\n",
       "      <td>pressure,cooker,high,expectation,stress,expected</td>\n",
       "    </tr>\n",
       "    <tr>\n",
       "      <th>3</th>\n",
       "      <td>5.0</td>\n",
       "      <td>excellent,growth,networking,opportunity</td>\n",
       "      <td>many,con,think</td>\n",
       "    </tr>\n",
       "    <tr>\n",
       "      <th>4</th>\n",
       "      <td>5.0</td>\n",
       "      <td>given,freedom,flexibility,explore,multiple,rol...</td>\n",
       "      <td>still,startup,mentality,keep,mind,entail</td>\n",
       "    </tr>\n",
       "  </tbody>\n",
       "</table>\n",
       "</div>"
      ],
      "text/plain": [
       "   rating                                               pros  \\\n",
       "0     5.0  leader,support,transparency,benefit,worklife,b...   \n",
       "1     5.0  quickly,move,access,networking,people,position...   \n",
       "2     5.0              high,income,potential,upward,mobility   \n",
       "3     5.0            excellent,growth,networking,opportunity   \n",
       "4     5.0  given,freedom,flexibility,explore,multiple,rol...   \n",
       "\n",
       "                                               cons  \n",
       "0                                     found,con,yet  \n",
       "1              large,company,decent,amount,red,tape  \n",
       "2  pressure,cooker,high,expectation,stress,expected  \n",
       "3                                    many,con,think  \n",
       "4          still,startup,mentality,keep,mind,entail  "
      ]
     },
     "execution_count": 12,
     "metadata": {},
     "output_type": "execute_result"
    }
   ],
   "source": [
    "df.head()"
   ]
  },
  {
   "cell_type": "markdown",
   "id": "445af28b",
   "metadata": {},
   "source": [
    "### Pros"
   ]
  },
  {
   "cell_type": "code",
   "execution_count": 13,
   "id": "06ffd36e",
   "metadata": {},
   "outputs": [
    {
     "data": {
      "text/html": [
       "<div>\n",
       "<style scoped>\n",
       "    .dataframe tbody tr th:only-of-type {\n",
       "        vertical-align: middle;\n",
       "    }\n",
       "\n",
       "    .dataframe tbody tr th {\n",
       "        vertical-align: top;\n",
       "    }\n",
       "\n",
       "    .dataframe thead th {\n",
       "        text-align: right;\n",
       "    }\n",
       "</style>\n",
       "<table border=\"1\" class=\"dataframe\">\n",
       "  <thead>\n",
       "    <tr style=\"text-align: right;\">\n",
       "      <th></th>\n",
       "      <th>00</th>\n",
       "      <th>10</th>\n",
       "      <th>100</th>\n",
       "      <th>1000</th>\n",
       "      <th>10000</th>\n",
       "      <th>100k</th>\n",
       "      <th>100mo</th>\n",
       "      <th>100month</th>\n",
       "      <th>100mth</th>\n",
       "      <th>1010</th>\n",
       "      <th>...</th>\n",
       "      <th>yoy</th>\n",
       "      <th>yr</th>\n",
       "      <th>yummy</th>\n",
       "      <th>yummys</th>\n",
       "      <th>zahid</th>\n",
       "      <th>zealous</th>\n",
       "      <th>zero</th>\n",
       "      <th>zip</th>\n",
       "      <th>zone</th>\n",
       "      <th>zoo</th>\n",
       "    </tr>\n",
       "    <tr>\n",
       "      <th>rating</th>\n",
       "      <th></th>\n",
       "      <th></th>\n",
       "      <th></th>\n",
       "      <th></th>\n",
       "      <th></th>\n",
       "      <th></th>\n",
       "      <th></th>\n",
       "      <th></th>\n",
       "      <th></th>\n",
       "      <th></th>\n",
       "      <th></th>\n",
       "      <th></th>\n",
       "      <th></th>\n",
       "      <th></th>\n",
       "      <th></th>\n",
       "      <th></th>\n",
       "      <th></th>\n",
       "      <th></th>\n",
       "      <th></th>\n",
       "      <th></th>\n",
       "      <th></th>\n",
       "    </tr>\n",
       "  </thead>\n",
       "  <tbody>\n",
       "    <tr>\n",
       "      <th>5.0</th>\n",
       "      <td>0.0</td>\n",
       "      <td>0.0</td>\n",
       "      <td>0.0</td>\n",
       "      <td>0.0</td>\n",
       "      <td>0.0</td>\n",
       "      <td>0.0</td>\n",
       "      <td>0.0</td>\n",
       "      <td>0.0</td>\n",
       "      <td>0.0</td>\n",
       "      <td>0.0</td>\n",
       "      <td>...</td>\n",
       "      <td>0.0</td>\n",
       "      <td>0.0</td>\n",
       "      <td>0.0</td>\n",
       "      <td>0.0</td>\n",
       "      <td>0.0</td>\n",
       "      <td>0.0</td>\n",
       "      <td>0.0</td>\n",
       "      <td>0.0</td>\n",
       "      <td>0.0</td>\n",
       "      <td>0.0</td>\n",
       "    </tr>\n",
       "    <tr>\n",
       "      <th>5.0</th>\n",
       "      <td>0.0</td>\n",
       "      <td>0.0</td>\n",
       "      <td>0.0</td>\n",
       "      <td>0.0</td>\n",
       "      <td>0.0</td>\n",
       "      <td>0.0</td>\n",
       "      <td>0.0</td>\n",
       "      <td>0.0</td>\n",
       "      <td>0.0</td>\n",
       "      <td>0.0</td>\n",
       "      <td>...</td>\n",
       "      <td>0.0</td>\n",
       "      <td>0.0</td>\n",
       "      <td>0.0</td>\n",
       "      <td>0.0</td>\n",
       "      <td>0.0</td>\n",
       "      <td>0.0</td>\n",
       "      <td>0.0</td>\n",
       "      <td>0.0</td>\n",
       "      <td>0.0</td>\n",
       "      <td>0.0</td>\n",
       "    </tr>\n",
       "    <tr>\n",
       "      <th>5.0</th>\n",
       "      <td>0.0</td>\n",
       "      <td>0.0</td>\n",
       "      <td>0.0</td>\n",
       "      <td>0.0</td>\n",
       "      <td>0.0</td>\n",
       "      <td>0.0</td>\n",
       "      <td>0.0</td>\n",
       "      <td>0.0</td>\n",
       "      <td>0.0</td>\n",
       "      <td>0.0</td>\n",
       "      <td>...</td>\n",
       "      <td>0.0</td>\n",
       "      <td>0.0</td>\n",
       "      <td>0.0</td>\n",
       "      <td>0.0</td>\n",
       "      <td>0.0</td>\n",
       "      <td>0.0</td>\n",
       "      <td>0.0</td>\n",
       "      <td>0.0</td>\n",
       "      <td>0.0</td>\n",
       "      <td>0.0</td>\n",
       "    </tr>\n",
       "    <tr>\n",
       "      <th>5.0</th>\n",
       "      <td>0.0</td>\n",
       "      <td>0.0</td>\n",
       "      <td>0.0</td>\n",
       "      <td>0.0</td>\n",
       "      <td>0.0</td>\n",
       "      <td>0.0</td>\n",
       "      <td>0.0</td>\n",
       "      <td>0.0</td>\n",
       "      <td>0.0</td>\n",
       "      <td>0.0</td>\n",
       "      <td>...</td>\n",
       "      <td>0.0</td>\n",
       "      <td>0.0</td>\n",
       "      <td>0.0</td>\n",
       "      <td>0.0</td>\n",
       "      <td>0.0</td>\n",
       "      <td>0.0</td>\n",
       "      <td>0.0</td>\n",
       "      <td>0.0</td>\n",
       "      <td>0.0</td>\n",
       "      <td>0.0</td>\n",
       "    </tr>\n",
       "    <tr>\n",
       "      <th>5.0</th>\n",
       "      <td>0.0</td>\n",
       "      <td>0.0</td>\n",
       "      <td>0.0</td>\n",
       "      <td>0.0</td>\n",
       "      <td>0.0</td>\n",
       "      <td>0.0</td>\n",
       "      <td>0.0</td>\n",
       "      <td>0.0</td>\n",
       "      <td>0.0</td>\n",
       "      <td>0.0</td>\n",
       "      <td>...</td>\n",
       "      <td>0.0</td>\n",
       "      <td>0.0</td>\n",
       "      <td>0.0</td>\n",
       "      <td>0.0</td>\n",
       "      <td>0.0</td>\n",
       "      <td>0.0</td>\n",
       "      <td>0.0</td>\n",
       "      <td>0.0</td>\n",
       "      <td>0.0</td>\n",
       "      <td>0.0</td>\n",
       "    </tr>\n",
       "  </tbody>\n",
       "</table>\n",
       "<p>5 rows × 6092 columns</p>\n",
       "</div>"
      ],
      "text/plain": [
       "         00   10  100  1000  10000  100k  100mo  100month  100mth  1010  ...  \\\n",
       "rating                                                                   ...   \n",
       "5.0     0.0  0.0  0.0   0.0    0.0   0.0    0.0       0.0     0.0   0.0  ...   \n",
       "5.0     0.0  0.0  0.0   0.0    0.0   0.0    0.0       0.0     0.0   0.0  ...   \n",
       "5.0     0.0  0.0  0.0   0.0    0.0   0.0    0.0       0.0     0.0   0.0  ...   \n",
       "5.0     0.0  0.0  0.0   0.0    0.0   0.0    0.0       0.0     0.0   0.0  ...   \n",
       "5.0     0.0  0.0  0.0   0.0    0.0   0.0    0.0       0.0     0.0   0.0  ...   \n",
       "\n",
       "        yoy   yr  yummy  yummys  zahid  zealous  zero  zip  zone  zoo  \n",
       "rating                                                                 \n",
       "5.0     0.0  0.0    0.0     0.0    0.0      0.0   0.0  0.0   0.0  0.0  \n",
       "5.0     0.0  0.0    0.0     0.0    0.0      0.0   0.0  0.0   0.0  0.0  \n",
       "5.0     0.0  0.0    0.0     0.0    0.0      0.0   0.0  0.0   0.0  0.0  \n",
       "5.0     0.0  0.0    0.0     0.0    0.0      0.0   0.0  0.0   0.0  0.0  \n",
       "5.0     0.0  0.0    0.0     0.0    0.0      0.0   0.0  0.0   0.0  0.0  \n",
       "\n",
       "[5 rows x 6092 columns]"
      ]
     },
     "execution_count": 13,
     "metadata": {},
     "output_type": "execute_result"
    }
   ],
   "source": [
    "tfvec = TfidfVectorizer(stop_words='english')\n",
    "matrix = tfvec.fit_transform(df['pros'])\n",
    "counts = pd.DataFrame(matrix.toarray(),\n",
    "                  index=df['rating'],\n",
    "                  columns=tfvec.get_feature_names())\n",
    "\n",
    "counts.head()"
   ]
  },
  {
   "cell_type": "code",
   "execution_count": 56,
   "id": "5e6f9167",
   "metadata": {},
   "outputs": [
    {
     "data": {
      "text/html": [
       "<div>\n",
       "<style scoped>\n",
       "    .dataframe tbody tr th:only-of-type {\n",
       "        vertical-align: middle;\n",
       "    }\n",
       "\n",
       "    .dataframe tbody tr th {\n",
       "        vertical-align: top;\n",
       "    }\n",
       "\n",
       "    .dataframe thead th {\n",
       "        text-align: right;\n",
       "    }\n",
       "</style>\n",
       "<table border=\"1\" class=\"dataframe\">\n",
       "  <thead>\n",
       "    <tr style=\"text-align: right;\">\n",
       "      <th></th>\n",
       "      <th>0</th>\n",
       "      <th>1</th>\n",
       "      <th>2</th>\n",
       "      <th>3</th>\n",
       "      <th>4</th>\n",
       "      <th>5</th>\n",
       "      <th>6</th>\n",
       "      <th>7</th>\n",
       "      <th>8</th>\n",
       "      <th>9</th>\n",
       "      <th>...</th>\n",
       "      <th>9877</th>\n",
       "      <th>9878</th>\n",
       "      <th>9879</th>\n",
       "      <th>9880</th>\n",
       "      <th>9881</th>\n",
       "      <th>9882</th>\n",
       "      <th>9883</th>\n",
       "      <th>9884</th>\n",
       "      <th>9885</th>\n",
       "      <th>9886</th>\n",
       "    </tr>\n",
       "  </thead>\n",
       "  <tbody>\n",
       "    <tr>\n",
       "      <th>transparency</th>\n",
       "      <td>0.539598</td>\n",
       "      <td>0.0</td>\n",
       "      <td>0.0</td>\n",
       "      <td>0.0</td>\n",
       "      <td>0.0</td>\n",
       "      <td>0.000000</td>\n",
       "      <td>0.0</td>\n",
       "      <td>0.000000</td>\n",
       "      <td>0.000000</td>\n",
       "      <td>0.0</td>\n",
       "      <td>...</td>\n",
       "      <td>0.000000</td>\n",
       "      <td>0.000000</td>\n",
       "      <td>0.000000</td>\n",
       "      <td>0.0</td>\n",
       "      <td>0.000000</td>\n",
       "      <td>0.000000</td>\n",
       "      <td>0.0</td>\n",
       "      <td>0.000000</td>\n",
       "      <td>0.0</td>\n",
       "      <td>0.000000</td>\n",
       "    </tr>\n",
       "    <tr>\n",
       "      <th>leader</th>\n",
       "      <td>0.448614</td>\n",
       "      <td>0.0</td>\n",
       "      <td>0.0</td>\n",
       "      <td>0.0</td>\n",
       "      <td>0.0</td>\n",
       "      <td>0.000000</td>\n",
       "      <td>0.0</td>\n",
       "      <td>0.000000</td>\n",
       "      <td>0.000000</td>\n",
       "      <td>0.0</td>\n",
       "      <td>...</td>\n",
       "      <td>0.000000</td>\n",
       "      <td>0.000000</td>\n",
       "      <td>0.000000</td>\n",
       "      <td>0.0</td>\n",
       "      <td>0.000000</td>\n",
       "      <td>0.000000</td>\n",
       "      <td>0.0</td>\n",
       "      <td>0.000000</td>\n",
       "      <td>0.0</td>\n",
       "      <td>0.000000</td>\n",
       "    </tr>\n",
       "    <tr>\n",
       "      <th>support</th>\n",
       "      <td>0.426575</td>\n",
       "      <td>0.0</td>\n",
       "      <td>0.0</td>\n",
       "      <td>0.0</td>\n",
       "      <td>0.0</td>\n",
       "      <td>0.000000</td>\n",
       "      <td>0.0</td>\n",
       "      <td>0.000000</td>\n",
       "      <td>0.160818</td>\n",
       "      <td>0.0</td>\n",
       "      <td>...</td>\n",
       "      <td>0.000000</td>\n",
       "      <td>0.000000</td>\n",
       "      <td>0.394237</td>\n",
       "      <td>0.0</td>\n",
       "      <td>0.000000</td>\n",
       "      <td>0.000000</td>\n",
       "      <td>0.0</td>\n",
       "      <td>0.000000</td>\n",
       "      <td>0.0</td>\n",
       "      <td>0.000000</td>\n",
       "    </tr>\n",
       "    <tr>\n",
       "      <th>worklife</th>\n",
       "      <td>0.414642</td>\n",
       "      <td>0.0</td>\n",
       "      <td>0.0</td>\n",
       "      <td>0.0</td>\n",
       "      <td>0.0</td>\n",
       "      <td>0.000000</td>\n",
       "      <td>0.0</td>\n",
       "      <td>0.000000</td>\n",
       "      <td>0.000000</td>\n",
       "      <td>0.0</td>\n",
       "      <td>...</td>\n",
       "      <td>0.000000</td>\n",
       "      <td>0.000000</td>\n",
       "      <td>0.000000</td>\n",
       "      <td>0.0</td>\n",
       "      <td>0.000000</td>\n",
       "      <td>0.000000</td>\n",
       "      <td>0.0</td>\n",
       "      <td>0.000000</td>\n",
       "      <td>0.0</td>\n",
       "      <td>0.504476</td>\n",
       "    </tr>\n",
       "    <tr>\n",
       "      <th>balance</th>\n",
       "      <td>0.321626</td>\n",
       "      <td>0.0</td>\n",
       "      <td>0.0</td>\n",
       "      <td>0.0</td>\n",
       "      <td>0.0</td>\n",
       "      <td>0.520343</td>\n",
       "      <td>0.0</td>\n",
       "      <td>0.000000</td>\n",
       "      <td>0.060626</td>\n",
       "      <td>0.0</td>\n",
       "      <td>...</td>\n",
       "      <td>0.000000</td>\n",
       "      <td>0.000000</td>\n",
       "      <td>0.000000</td>\n",
       "      <td>0.0</td>\n",
       "      <td>0.000000</td>\n",
       "      <td>0.000000</td>\n",
       "      <td>0.0</td>\n",
       "      <td>0.000000</td>\n",
       "      <td>0.0</td>\n",
       "      <td>0.391308</td>\n",
       "    </tr>\n",
       "    <tr>\n",
       "      <th>benefit</th>\n",
       "      <td>0.224147</td>\n",
       "      <td>0.0</td>\n",
       "      <td>0.0</td>\n",
       "      <td>0.0</td>\n",
       "      <td>0.0</td>\n",
       "      <td>0.000000</td>\n",
       "      <td>0.0</td>\n",
       "      <td>0.403242</td>\n",
       "      <td>0.042251</td>\n",
       "      <td>0.0</td>\n",
       "      <td>...</td>\n",
       "      <td>0.258482</td>\n",
       "      <td>0.264736</td>\n",
       "      <td>0.207154</td>\n",
       "      <td>0.0</td>\n",
       "      <td>0.613149</td>\n",
       "      <td>0.167711</td>\n",
       "      <td>0.0</td>\n",
       "      <td>0.240744</td>\n",
       "      <td>0.0</td>\n",
       "      <td>0.000000</td>\n",
       "    </tr>\n",
       "    <tr>\n",
       "      <th>person</th>\n",
       "      <td>0.000000</td>\n",
       "      <td>0.0</td>\n",
       "      <td>0.0</td>\n",
       "      <td>0.0</td>\n",
       "      <td>0.0</td>\n",
       "      <td>0.000000</td>\n",
       "      <td>0.0</td>\n",
       "      <td>0.000000</td>\n",
       "      <td>0.000000</td>\n",
       "      <td>0.0</td>\n",
       "      <td>...</td>\n",
       "      <td>0.000000</td>\n",
       "      <td>0.000000</td>\n",
       "      <td>0.000000</td>\n",
       "      <td>0.0</td>\n",
       "      <td>0.000000</td>\n",
       "      <td>0.000000</td>\n",
       "      <td>0.0</td>\n",
       "      <td>0.000000</td>\n",
       "      <td>0.0</td>\n",
       "      <td>0.000000</td>\n",
       "    </tr>\n",
       "    <tr>\n",
       "      <th>pertains</th>\n",
       "      <td>0.000000</td>\n",
       "      <td>0.0</td>\n",
       "      <td>0.0</td>\n",
       "      <td>0.0</td>\n",
       "      <td>0.0</td>\n",
       "      <td>0.000000</td>\n",
       "      <td>0.0</td>\n",
       "      <td>0.000000</td>\n",
       "      <td>0.000000</td>\n",
       "      <td>0.0</td>\n",
       "      <td>...</td>\n",
       "      <td>0.000000</td>\n",
       "      <td>0.000000</td>\n",
       "      <td>0.000000</td>\n",
       "      <td>0.0</td>\n",
       "      <td>0.000000</td>\n",
       "      <td>0.000000</td>\n",
       "      <td>0.0</td>\n",
       "      <td>0.000000</td>\n",
       "      <td>0.0</td>\n",
       "      <td>0.000000</td>\n",
       "    </tr>\n",
       "    <tr>\n",
       "      <th>perspective</th>\n",
       "      <td>0.000000</td>\n",
       "      <td>0.0</td>\n",
       "      <td>0.0</td>\n",
       "      <td>0.0</td>\n",
       "      <td>0.0</td>\n",
       "      <td>0.000000</td>\n",
       "      <td>0.0</td>\n",
       "      <td>0.000000</td>\n",
       "      <td>0.000000</td>\n",
       "      <td>0.0</td>\n",
       "      <td>...</td>\n",
       "      <td>0.000000</td>\n",
       "      <td>0.000000</td>\n",
       "      <td>0.000000</td>\n",
       "      <td>0.0</td>\n",
       "      <td>0.000000</td>\n",
       "      <td>0.000000</td>\n",
       "      <td>0.0</td>\n",
       "      <td>0.000000</td>\n",
       "      <td>0.0</td>\n",
       "      <td>0.000000</td>\n",
       "    </tr>\n",
       "    <tr>\n",
       "      <th>personnel</th>\n",
       "      <td>0.000000</td>\n",
       "      <td>0.0</td>\n",
       "      <td>0.0</td>\n",
       "      <td>0.0</td>\n",
       "      <td>0.0</td>\n",
       "      <td>0.000000</td>\n",
       "      <td>0.0</td>\n",
       "      <td>0.000000</td>\n",
       "      <td>0.000000</td>\n",
       "      <td>0.0</td>\n",
       "      <td>...</td>\n",
       "      <td>0.000000</td>\n",
       "      <td>0.000000</td>\n",
       "      <td>0.000000</td>\n",
       "      <td>0.0</td>\n",
       "      <td>0.000000</td>\n",
       "      <td>0.000000</td>\n",
       "      <td>0.0</td>\n",
       "      <td>0.000000</td>\n",
       "      <td>0.0</td>\n",
       "      <td>0.000000</td>\n",
       "    </tr>\n",
       "  </tbody>\n",
       "</table>\n",
       "<p>10 rows × 9887 columns</p>\n",
       "</div>"
      ],
      "text/plain": [
       "                  0     1     2     3     4         5     6         7     \\\n",
       "transparency  0.539598   0.0   0.0   0.0   0.0  0.000000   0.0  0.000000   \n",
       "leader        0.448614   0.0   0.0   0.0   0.0  0.000000   0.0  0.000000   \n",
       "support       0.426575   0.0   0.0   0.0   0.0  0.000000   0.0  0.000000   \n",
       "worklife      0.414642   0.0   0.0   0.0   0.0  0.000000   0.0  0.000000   \n",
       "balance       0.321626   0.0   0.0   0.0   0.0  0.520343   0.0  0.000000   \n",
       "benefit       0.224147   0.0   0.0   0.0   0.0  0.000000   0.0  0.403242   \n",
       "person        0.000000   0.0   0.0   0.0   0.0  0.000000   0.0  0.000000   \n",
       "pertains      0.000000   0.0   0.0   0.0   0.0  0.000000   0.0  0.000000   \n",
       "perspective   0.000000   0.0   0.0   0.0   0.0  0.000000   0.0  0.000000   \n",
       "personnel     0.000000   0.0   0.0   0.0   0.0  0.000000   0.0  0.000000   \n",
       "\n",
       "                  8     9     ...      9877      9878      9879  9880  \\\n",
       "transparency  0.000000   0.0  ...  0.000000  0.000000  0.000000   0.0   \n",
       "leader        0.000000   0.0  ...  0.000000  0.000000  0.000000   0.0   \n",
       "support       0.160818   0.0  ...  0.000000  0.000000  0.394237   0.0   \n",
       "worklife      0.000000   0.0  ...  0.000000  0.000000  0.000000   0.0   \n",
       "balance       0.060626   0.0  ...  0.000000  0.000000  0.000000   0.0   \n",
       "benefit       0.042251   0.0  ...  0.258482  0.264736  0.207154   0.0   \n",
       "person        0.000000   0.0  ...  0.000000  0.000000  0.000000   0.0   \n",
       "pertains      0.000000   0.0  ...  0.000000  0.000000  0.000000   0.0   \n",
       "perspective   0.000000   0.0  ...  0.000000  0.000000  0.000000   0.0   \n",
       "personnel     0.000000   0.0  ...  0.000000  0.000000  0.000000   0.0   \n",
       "\n",
       "                  9881      9882  9883      9884  9885      9886  \n",
       "transparency  0.000000  0.000000   0.0  0.000000   0.0  0.000000  \n",
       "leader        0.000000  0.000000   0.0  0.000000   0.0  0.000000  \n",
       "support       0.000000  0.000000   0.0  0.000000   0.0  0.000000  \n",
       "worklife      0.000000  0.000000   0.0  0.000000   0.0  0.504476  \n",
       "balance       0.000000  0.000000   0.0  0.000000   0.0  0.391308  \n",
       "benefit       0.613149  0.167711   0.0  0.240744   0.0  0.000000  \n",
       "person        0.000000  0.000000   0.0  0.000000   0.0  0.000000  \n",
       "pertains      0.000000  0.000000   0.0  0.000000   0.0  0.000000  \n",
       "perspective   0.000000  0.000000   0.0  0.000000   0.0  0.000000  \n",
       "personnel     0.000000  0.000000   0.0  0.000000   0.0  0.000000  \n",
       "\n",
       "[10 rows x 9887 columns]"
      ]
     },
     "execution_count": 56,
     "metadata": {},
     "output_type": "execute_result"
    }
   ],
   "source": [
    "matrix = tfvec.fit_transform(df['pros'])\n",
    "tfid = pd.DataFrame(matrix.toarray(),\n",
    "                      columns=tfvec.get_feature_names())\n",
    "\n",
    "# Show us the top 10 most common words\n",
    "counts.T.sort_values(by=0, ascending=False).head(10)"
   ]
  },
  {
   "cell_type": "code",
   "execution_count": null,
   "id": "1ffd7575",
   "metadata": {
    "scrolled": true
   },
   "outputs": [],
   "source": [
    "# docs = list(df['pros'])\n",
    "# tfidf_vectorizer = TfidfVectorizer(use_idf=True, max_features = 20000) \n",
    "# tfidf_vectorizer_vectors = tfidf_vectorizer.fit_transform(docs)\n",
    "# docs = tfidf_vectorizer_vectors.toarray()"
   ]
  },
  {
   "cell_type": "code",
   "execution_count": null,
   "id": "1040ad9a",
   "metadata": {},
   "outputs": [],
   "source": [
    "# tfvec.get_feature_names()[:20]"
   ]
  },
  {
   "cell_type": "code",
   "execution_count": 20,
   "id": "934ccde1",
   "metadata": {},
   "outputs": [
    {
     "data": {
      "text/plain": [
       "TfidfVectorizer(stop_words='english')"
      ]
     },
     "execution_count": 20,
     "metadata": {},
     "output_type": "execute_result"
    }
   ],
   "source": [
    "# a = tfvec_mat.sum(axis=0)\n",
    "# pd.DataFrame(a, columns=words).transpose().sort_values(by=0, ascending=False)[:20]"
   ]
  },
  {
   "cell_type": "markdown",
   "id": "c0d52cb9",
   "metadata": {},
   "source": [
    "## Predicting Using Pro column"
   ]
  },
  {
   "cell_type": "markdown",
   "id": "0d0c6d07",
   "metadata": {},
   "source": [
    "#### Baseline"
   ]
  },
  {
   "cell_type": "code",
   "execution_count": 21,
   "id": "a8f48e9c",
   "metadata": {
    "scrolled": true
   },
   "outputs": [
    {
     "name": "stdout",
     "output_type": "stream",
     "text": [
      "5.0    0.576616\n",
      "4.0    0.241024\n",
      "3.0    0.100435\n",
      "2.0    0.047436\n",
      "1.0    0.034490\n",
      "Name: rating, dtype: float64\n"
     ]
    }
   ],
   "source": [
    "# Baseline Prediction\n",
    "base_line = df['rating'].value_counts(normalize = True)\n",
    "print(base_line)"
   ]
  },
  {
   "cell_type": "code",
   "execution_count": 22,
   "id": "b8a30f97",
   "metadata": {
    "scrolled": false
   },
   "outputs": [
    {
     "data": {
      "text/plain": [
       "<AxesSubplot:>"
      ]
     },
     "execution_count": 22,
     "metadata": {},
     "output_type": "execute_result"
    },
    {
     "data": {
      "image/png": "[encoded data removed]",
      "text/plain": [
       "<Figure size 432x288 with 1 Axes>"
      ]
     },
     "metadata": {
      "needs_background": "light"
     },
     "output_type": "display_data"
    }
   ],
   "source": [
    "pd.value_counts(df['rating']).plot.bar()"
   ]
  },
  {
   "cell_type": "code",
   "execution_count": 57,
   "id": "aca8577b",
   "metadata": {},
   "outputs": [
    {
     "name": "stdout",
     "output_type": "stream",
     "text": [
      "(9887, 6092) (9887,)\n"
     ]
    }
   ],
   "source": [
    "X = tfid \n",
    "y = df['rating']\n",
    "print(X.shape, y.shape)"
   ]
  },
  {
   "cell_type": "code",
   "execution_count": 58,
   "id": "06a27bc0",
   "metadata": {},
   "outputs": [
    {
     "data": {
      "text/plain": [
       "<9887x6092 sparse matrix of type '<class 'numpy.float64'>'\n",
       "\twith 107908 stored elements in Compressed Sparse Row format>"
      ]
     },
     "execution_count": 58,
     "metadata": {},
     "output_type": "execute_result"
    }
   ],
   "source": [
    "matrix"
   ]
  },
  {
   "cell_type": "code",
   "execution_count": 60,
   "id": "b10a4718",
   "metadata": {},
   "outputs": [
    {
     "name": "stdout",
     "output_type": "stream",
     "text": [
      "(7909, 6092) (7909,)\n",
      "(1978, 6092) (1978,)\n"
     ]
    }
   ],
   "source": [
    "# Train test split\n",
    "SEED=123\n",
    "X_train,X_test,y_train,y_test=train_test_split(X, y, test_size=0.2, random_state=SEED, stratify=y)\n",
    "print(X_train.shape, y_train.shape)\n",
    "print(X_test.shape, y_test.shape)"
   ]
  },
  {
   "cell_type": "code",
   "execution_count": 54,
   "id": "cd8a21f8",
   "metadata": {},
   "outputs": [],
   "source": [
    "from sklearn.neighbors import KNeighborsClassifier\n",
    "from sklearn.tree import DecisionTreeClassifier\n",
    "from sklearn.svm import SVC\n",
    "from sklearn.ensemble import RandomForestClassifier, ExtraTreesClassifier\n",
    "\n",
    "from sklearn.model_selection import GridSearchCV"
   ]
  },
  {
   "cell_type": "code",
   "execution_count": 61,
   "id": "2974eb74",
   "metadata": {
    "scrolled": false
   },
   "outputs": [
    {
     "name": "stdout",
     "output_type": "stream",
     "text": [
      "Training score:  0.6471108863320268\n",
      "Testing score:  0.5819009100101112\n",
      "\n",
      "Cross-validated scores: [0.58695652 0.58796764 0.58573596 0.60748609 0.57561963]\n",
      "Average cv score: 0.5887531690272307\n",
      "Standard deviation of cv score: 0.010357227520543712\n"
     ]
    }
   ],
   "source": [
    "# logistic regression\n",
    "from sklearn.linear_model import LogisticRegression\n",
    "\n",
    "lr = LogisticRegression(solver='lbfgs', multi_class='ovr')\n",
    "lr.fit(X_train, y_train)\n",
    "cv = cross_val_score(lr, X, y, cv=5)\n",
    "\n",
    "print('Training score: ', lr.score(X_train, y_train))\n",
    "print('Testing score: ', lr.score(X_test, y_test))\n",
    "\n",
    "print()\n",
    "print('Cross-validated scores:', cv)\n",
    "print('Average cv score:', cv.mean())\n",
    "print('Standard deviation of cv score:', cv.std())"
   ]
  },
  {
   "cell_type": "code",
   "execution_count": 27,
   "id": "c4ea483c",
   "metadata": {},
   "outputs": [
    {
     "name": "stdout",
     "output_type": "stream",
     "text": [
      "Training score:  0.9911493235554432\n",
      "Testing score:  0.6622851365015167\n",
      "\n",
      "Cross-validated scores: [0.66118837 0.65676359 0.66561315 0.65486726 0.65464896]\n",
      "Average cv score: 0.6586162640905635\n",
      "Standard deviation of cv score: 0.004214240027938028\n"
     ]
    }
   ],
   "source": [
    "# Random forest\n",
    "rfc = RandomForestClassifier(n_estimators=100, oob_score=True)\n",
    "rfc.fit(X_train, y_train)\n",
    "cv = cross_val_score(rfc, X_train, y_train, cv=5)\n",
    "\n",
    "print('Training score: ', rfc.score(X_train, y_train))\n",
    "print('Testing score: ', rfc.score(X_test, y_test))\n",
    "\n",
    "print()\n",
    "print('Cross-validated scores:', cv)\n",
    "print('Average cv score:', cv.mean())\n",
    "print('Standard deviation of cv score:', cv.std())"
   ]
  },
  {
   "cell_type": "code",
   "execution_count": 48,
   "id": "5d15fdbc",
   "metadata": {},
   "outputs": [
    {
     "data": {
      "text/plain": [
       "<AxesSubplot:>"
      ]
     },
     "execution_count": 48,
     "metadata": {},
     "output_type": "execute_result"
    },
    {
     "data": {
      "image/png": "[encoded data removed]",
      "text/plain": [
       "<Figure size 576x720 with 1 Axes>"
      ]
     },
     "metadata": {
      "needs_background": "light"
     },
     "output_type": "display_data"
    }
   ],
   "source": [
    "feat_importances = pd.Series(rfc.feature_importances_, \n",
    "                             index=counts.columns)\n",
    "feat_importances.nlargest(20).plot(kind='barh', figsize=(8, 10))"
   ]
  },
  {
   "cell_type": "code",
   "execution_count": 49,
   "id": "91b4416f",
   "metadata": {},
   "outputs": [
    {
     "name": "stdout",
     "output_type": "stream",
     "text": [
      "0.46074092805664435\n",
      "0.3114256825075834\n",
      "\n",
      "Cross-validated scores: [0.32305359 0.49393327 0.47850278 0.31664138 0.34395549]\n",
      "Average score: 0.3912173002675357\n",
      "Standard deviation of score: 0.07824431453309057\n"
     ]
    }
   ],
   "source": [
    "# K Nearest Neighbors\n",
    "\n",
    "knn = KNeighborsClassifier(n_neighbors=5)\n",
    "knn.fit(X_train, y_train)\n",
    "cv = cross_val_score(knn, X, y, cv=5)\n",
    "\n",
    "print(knn.score(X_train, y_train))\n",
    "print(knn.score(X_test, y_test))\n",
    "\n",
    "print()\n",
    "print('Cross-validated scores:', cv)\n",
    "print('Average score:', cv.mean())\n",
    "print('Standard deviation of score:', cv.std())"
   ]
  },
  {
   "cell_type": "code",
   "execution_count": 62,
   "id": "5d014609",
   "metadata": {},
   "outputs": [
    {
     "name": "stdout",
     "output_type": "stream",
     "text": [
      "\n",
      "Cross-validated scores: [0.57522124 0.58533502 0.57206068 0.57142857 0.57938014]\n",
      "Average score: 0.5766851302325098\n",
      "Trainning Score: 0.9911493235554432\n",
      "Test Score: 0.602123356926188\n",
      "\n",
      "Cross-validated scores: [0.59797724 0.59734513 0.59608091 0.58723135 0.58633776]\n",
      "Average score: 0.5929944801214805\n",
      "Trainning Score: 0.6859274244531547\n",
      "Test Score: 0.6031344792719919\n",
      "\n",
      "Cross-validated scores: [0.60366625 0.59608091 0.61946903 0.60493047 0.60847565]\n",
      "Average score: 0.6065244596268424\n",
      "Trainning Score: 0.8030092299911493\n",
      "Test Score: 0.6142568250758341\n"
     ]
    }
   ],
   "source": [
    "# from sklearn.tree import DecisionTreeClassifier\n",
    "dt = DecisionTreeClassifier(random_state=0)\n",
    "dt.fit(X_train, y_train)\n",
    "cv = cross_val_score(dt, X_train, y_train, cv=5)\n",
    "print()\n",
    "print('Cross-validated scores:', cv)\n",
    "print('Average score:', cv.mean())\n",
    "print ('Trainning Score:', dt.score(X_train, y_train))\n",
    "print ('Test Score:', dt.score(X_test, y_test))\n",
    "\n",
    "\n",
    "feat_importances = pd.Series(dt.feature_importances_, \n",
    "                             index=counts.columns)\n",
    "feat_importances.nlargest(20).plot(kind='barh', figsize=(8, 10))\n",
    "\n",
    "\n",
    "\n",
    "\n",
    "\n",
    "# Model3 - Support Vector Machines (SVM)\n",
    "from sklearn.svm import SVC\n",
    "svc = SVC(kernel='linear')\n",
    "\n",
    "svc.fit(X_train, y_train)\n",
    "cv = cross_val_score(svc, X_train, y_train, cv=5)\n",
    "print()\n",
    "print('Cross-validated scores:', cv)\n",
    "print('Average score:', cv.mean())\n",
    "print ('Trainning Score:', svc.score(X_train, y_train))\n",
    "print ('Test Score:', svc.score(X_test, y_test))\n",
    "\n",
    "\n",
    "\n",
    "from sklearn.svm import LinearSVC\n",
    "\n",
    "# Set dual=False to speed up training, and it's not needed\n",
    "svc = LinearSVC(random_state=1, dual=False, max_iter=10000)\n",
    "svc.fit(X_train, y_train)\n",
    "cv = cross_val_score(svc, X_train, y_train, cv=5)\n",
    "\n",
    "print()\n",
    "print('Cross-validated scores:', cv)\n",
    "print('Average score:', cv.mean())\n",
    "print ('Trainning Score:', svc.score(X_train, y_train))\n",
    "print ('Test Score:', svc.score(X_test, y_test))"
   ]
  },
  {
   "cell_type": "code",
   "execution_count": null,
   "id": "21bd2349",
   "metadata": {},
   "outputs": [],
   "source": []
  },
  {
   "cell_type": "code",
   "execution_count": null,
   "id": "8818ebb2",
   "metadata": {},
   "outputs": [],
   "source": []
  },
  {
   "cell_type": "code",
   "execution_count": null,
   "id": "bef8273c",
   "metadata": {},
   "outputs": [],
   "source": []
  },
  {
   "cell_type": "code",
   "execution_count": null,
   "id": "5827b825",
   "metadata": {},
   "outputs": [],
   "source": []
  },
  {
   "cell_type": "code",
   "execution_count": null,
   "id": "82c65f30",
   "metadata": {},
   "outputs": [],
   "source": []
  },
  {
   "cell_type": "code",
   "execution_count": null,
   "id": "3918cfbc",
   "metadata": {},
   "outputs": [],
   "source": []
  },
  {
   "cell_type": "code",
   "execution_count": null,
   "id": "8748e573",
   "metadata": {},
   "outputs": [],
   "source": []
  },
  {
   "cell_type": "code",
   "execution_count": null,
   "id": "355f0919",
   "metadata": {},
   "outputs": [],
   "source": []
  },
  {
   "cell_type": "code",
   "execution_count": null,
   "id": "2595f1f3",
   "metadata": {},
   "outputs": [],
   "source": [
    "# ### Naive Bayes Classifier\n",
    "# #### Gaussian Naive Bayes\n",
    "\n",
    "# from sklearn.naive_bayes import GaussianNB\n",
    "# gnb = GaussianNB() \n",
    "# gnb.fit(X_train, y_train)\n",
    "# cv = cross_val_score(gnb, X, y, cv=5)\n",
    "\n",
    "# print(gnb.score(X_train, y_train))\n",
    "# print(gnb.score(X_test, y_test))\n",
    "\n",
    "# print()\n",
    "# print('Cross-validated scores:', cv)\n",
    "# print('Average score:', cv.mean())\n",
    "# print('Standard deviation of score:', cv.std())"
   ]
  },
  {
   "cell_type": "code",
   "execution_count": null,
   "id": "3eed1162",
   "metadata": {},
   "outputs": [],
   "source": []
  },
  {
   "cell_type": "code",
   "execution_count": null,
   "id": "e8e68ad4",
   "metadata": {},
   "outputs": [],
   "source": []
  },
  {
   "cell_type": "code",
   "execution_count": null,
   "id": "a2e29ccb",
   "metadata": {},
   "outputs": [],
   "source": []
  },
  {
   "cell_type": "markdown",
   "id": "65f65a0b",
   "metadata": {},
   "source": [
    "reference : https://www.datacamp.com/cheat-sheet/scikit-learn-cheat-sheet-python-machine-learning\n",
    "* https://www.datacamp.com/cheat-sheet/machine-learning-cheat-sheet"
   ]
  },
  {
   "cell_type": "code",
   "execution_count": null,
   "id": "c208b6d3",
   "metadata": {},
   "outputs": [],
   "source": []
  }
 ],
 "metadata": {
  "kernelspec": {
   "display_name": "Python 3 (ipykernel)",
   "language": "python",
   "name": "python3"
  },
  "language_info": {
   "codemirror_mode": {
    "name": "ipython",
    "version": 3
   },
   "file_extension": ".py",
   "mimetype": "text/x-python",
   "name": "python",
   "nbconvert_exporter": "python",
   "pygments_lexer": "ipython3",
   "version": "3.8.8"
  },
  "toc": {
   "base_numbering": 1,
   "nav_menu": {},
   "number_sections": true,
   "sideBar": true,
   "skip_h1_title": false,
   "title_cell": "Table of Contents",
   "title_sidebar": "Contents",
   "toc_cell": false,
   "toc_position": {},
   "toc_section_display": true,
   "toc_window_display": false
  }
 },
 "nbformat": 4,
 "nbformat_minor": 5
}
