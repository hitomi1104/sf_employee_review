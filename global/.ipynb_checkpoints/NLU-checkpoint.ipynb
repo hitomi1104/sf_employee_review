{
 "cells": [
  {
   "cell_type": "markdown",
   "id": "efbf5b14",
   "metadata": {},
   "source": [
    "https://www.kaggle.com/code/kasimchristianloan/nlu-covid-emotion-showcase"
   ]
  },
  {
   "cell_type": "code",
   "execution_count": 9,
   "id": "ff5cdac9",
   "metadata": {},
   "outputs": [],
   "source": [
    "import nlu\n",
    "import os\n",
    "import numpy as np \n",
    "import pandas as pd "
   ]
  },
  {
   "cell_type": "code",
   "execution_count": 10,
   "id": "d642e42f",
   "metadata": {},
   "outputs": [],
   "source": [
    "df = pd.read_csv(\"glassdoor_webscraped.csv\")"
   ]
  },
  {
   "cell_type": "code",
   "execution_count": 11,
   "id": "fa015a12",
   "metadata": {},
   "outputs": [],
   "source": [
    "df.drop(columns = ['Unnamed: 0', 'Unnamed: 0.1'], inplace = True)"
   ]
  },
  {
   "cell_type": "code",
   "execution_count": 12,
   "id": "a7ae8c64",
   "metadata": {},
   "outputs": [
    {
     "data": {
      "text/plain": [
       "Index(['title', 'author_info', 'rating', 'pros', 'cons', 'helpful'], dtype='object')"
      ]
     },
     "execution_count": 12,
     "metadata": {},
     "output_type": "execute_result"
    }
   ],
   "source": [
    "df.columns"
   ]
  },
  {
   "cell_type": "code",
   "execution_count": 13,
   "id": "c0145ea1",
   "metadata": {
    "scrolled": false
   },
   "outputs": [
    {
     "data": {
      "text/html": [
       "<div>\n",
       "<style scoped>\n",
       "    .dataframe tbody tr th:only-of-type {\n",
       "        vertical-align: middle;\n",
       "    }\n",
       "\n",
       "    .dataframe tbody tr th {\n",
       "        vertical-align: top;\n",
       "    }\n",
       "\n",
       "    .dataframe thead th {\n",
       "        text-align: right;\n",
       "    }\n",
       "</style>\n",
       "<table border=\"1\" class=\"dataframe\">\n",
       "  <thead>\n",
       "    <tr style=\"text-align: right;\">\n",
       "      <th></th>\n",
       "      <th>title</th>\n",
       "      <th>author_info</th>\n",
       "      <th>rating</th>\n",
       "      <th>pros</th>\n",
       "      <th>cons</th>\n",
       "      <th>helpful</th>\n",
       "    </tr>\n",
       "  </thead>\n",
       "  <tbody>\n",
       "    <tr>\n",
       "      <th>0</th>\n",
       "      <td>Great Place To Work</td>\n",
       "      <td>May 3, 2021 - Partner Account Manager in Washi...</td>\n",
       "      <td>5.0</td>\n",
       "      <td>Leader support, Transparency, Benefits, work/l...</td>\n",
       "      <td>I have not found any cons yet.</td>\n",
       "      <td>Be the first to find this review helpful</td>\n",
       "    </tr>\n",
       "    <tr>\n",
       "      <th>1</th>\n",
       "      <td>Opportunity for Growth</td>\n",
       "      <td>May 3, 2021 - Business Development Representat...</td>\n",
       "      <td>5.0</td>\n",
       "      <td>-Quickly move up -Access to networking with pe...</td>\n",
       "      <td>-Large company, there can be a decent amount o...</td>\n",
       "      <td>Be the first to find this review helpful</td>\n",
       "    </tr>\n",
       "    <tr>\n",
       "      <th>2</th>\n",
       "      <td>Great place to work</td>\n",
       "      <td>May 3, 2021 - Anonymous Employee</td>\n",
       "      <td>5.0</td>\n",
       "      <td>High income potential and upward mobility</td>\n",
       "      <td>Pressure cooker, high expectations and stress ...</td>\n",
       "      <td>Be the first to find this review helpful</td>\n",
       "    </tr>\n",
       "    <tr>\n",
       "      <th>3</th>\n",
       "      <td>Great culture and great opportunity for growth</td>\n",
       "      <td>May 3, 2021 - BDR in San Francisco, CA</td>\n",
       "      <td>5.0</td>\n",
       "      <td>Excellent growth and networking opportunities</td>\n",
       "      <td>Not many cons I can think of</td>\n",
       "      <td>Be the first to find this review helpful</td>\n",
       "    </tr>\n",
       "    <tr>\n",
       "      <th>4</th>\n",
       "      <td>Fabulous Place to Work!</td>\n",
       "      <td>May 3, 2021 - Customer Success Guide in Denver...</td>\n",
       "      <td>5.0</td>\n",
       "      <td>Once you’re in, you’re given the freedom and f...</td>\n",
       "      <td>Still a “startup mentality”—so keep in mind al...</td>\n",
       "      <td>Be the first to find this review helpful</td>\n",
       "    </tr>\n",
       "  </tbody>\n",
       "</table>\n",
       "</div>"
      ],
      "text/plain": [
       "                                            title  \\\n",
       "0                             Great Place To Work   \n",
       "1                          Opportunity for Growth   \n",
       "2                             Great place to work   \n",
       "3  Great culture and great opportunity for growth   \n",
       "4                         Fabulous Place to Work!   \n",
       "\n",
       "                                         author_info  rating  \\\n",
       "0  May 3, 2021 - Partner Account Manager in Washi...     5.0   \n",
       "1  May 3, 2021 - Business Development Representat...     5.0   \n",
       "2                   May 3, 2021 - Anonymous Employee     5.0   \n",
       "3             May 3, 2021 - BDR in San Francisco, CA     5.0   \n",
       "4  May 3, 2021 - Customer Success Guide in Denver...     5.0   \n",
       "\n",
       "                                                pros  \\\n",
       "0  Leader support, Transparency, Benefits, work/l...   \n",
       "1  -Quickly move up -Access to networking with pe...   \n",
       "2          High income potential and upward mobility   \n",
       "3      Excellent growth and networking opportunities   \n",
       "4  Once you’re in, you’re given the freedom and f...   \n",
       "\n",
       "                                                cons  \\\n",
       "0                     I have not found any cons yet.   \n",
       "1  -Large company, there can be a decent amount o...   \n",
       "2  Pressure cooker, high expectations and stress ...   \n",
       "3                       Not many cons I can think of   \n",
       "4  Still a “startup mentality”—so keep in mind al...   \n",
       "\n",
       "                                    helpful  \n",
       "0  Be the first to find this review helpful  \n",
       "1  Be the first to find this review helpful  \n",
       "2  Be the first to find this review helpful  \n",
       "3  Be the first to find this review helpful  \n",
       "4  Be the first to find this review helpful  "
      ]
     },
     "execution_count": 13,
     "metadata": {},
     "output_type": "execute_result"
    }
   ],
   "source": [
    "df.head()"
   ]
  },
  {
   "cell_type": "code",
   "execution_count": 14,
   "id": "2edd56e1",
   "metadata": {},
   "outputs": [
    {
     "data": {
      "text/plain": [
       "(9888, 6)"
      ]
     },
     "execution_count": 14,
     "metadata": {},
     "output_type": "execute_result"
    }
   ],
   "source": [
    "df.shape"
   ]
  },
  {
   "cell_type": "code",
   "execution_count": null,
   "id": "70b9a6bb",
   "metadata": {},
   "outputs": [],
   "source": []
  },
  {
   "cell_type": "code",
   "execution_count": null,
   "id": "7d70ba05",
   "metadata": {},
   "outputs": [],
   "source": []
  },
  {
   "cell_type": "code",
   "execution_count": null,
   "id": "4df4e1f3",
   "metadata": {},
   "outputs": [],
   "source": []
  },
  {
   "cell_type": "markdown",
   "id": "18056919",
   "metadata": {},
   "source": [
    "## Emotion analysis"
   ]
  },
  {
   "cell_type": "code",
   "execution_count": null,
   "id": "70c9e01c",
   "metadata": {
    "scrolled": true
   },
   "outputs": [
    {
     "name": "stderr",
     "output_type": "stream",
     "text": [
      "22/08/12 03:49:14 WARN Utils: Your hostname, HITOMIs-MacBook-Pro.local resolves to a loopback address: 127.0.0.1; using 192.168.84.21 instead (on interface en0)\n",
      "22/08/12 03:49:14 WARN Utils: Set SPARK_LOCAL_IP if you need to bind to another address\n"
     ]
    },
    {
     "name": "stdout",
     "output_type": "stream",
     "text": [
      ":: loading settings :: url = jar:file:/Users/hitomihoshino/opt/anaconda3/lib/python3.8/site-packages/pyspark/jars/ivy-2.4.0.jar!/org/apache/ivy/core/settings/ivysettings.xml\n"
     ]
    },
    {
     "name": "stderr",
     "output_type": "stream",
     "text": [
      "Ivy Default Cache set to: /Users/hitomihoshino/.ivy2/cache\n",
      "The jars for the packages stored in: /Users/hitomihoshino/.ivy2/jars\n",
      "com.johnsnowlabs.nlp#spark-nlp_2.12 added as a dependency\n",
      ":: resolving dependencies :: org.apache.spark#spark-submit-parent-a82d468b-0f5d-464f-950a-61ba4bbf3c5b;1.0\n",
      "\tconfs: [default]\n",
      "\tfound com.johnsnowlabs.nlp#spark-nlp_2.12;4.0.2 in central\n",
      "\tfound com.typesafe#config;1.4.2 in central\n",
      "\tfound org.rocksdb#rocksdbjni;6.29.5 in central\n",
      "\tfound com.amazonaws#aws-java-sdk-bundle;1.11.828 in central\n",
      "\tfound com.github.universal-automata#liblevenshtein;3.0.0 in central\n",
      "\tfound com.google.code.findbugs#annotations;3.0.1 in central\n",
      "\tfound net.jcip#jcip-annotations;1.0 in central\n",
      "\tfound com.google.code.findbugs#jsr305;3.0.1 in central\n",
      "\tfound com.google.protobuf#protobuf-java-util;3.0.0-beta-3 in central\n",
      "\tfound com.google.protobuf#protobuf-java;3.0.0-beta-3 in central\n",
      "\tfound com.google.code.gson#gson;2.3 in central\n",
      "\tfound it.unimi.dsi#fastutil;7.0.12 in central\n",
      "\tfound org.projectlombok#lombok;1.16.8 in central\n",
      "\tfound org.slf4j#slf4j-api;1.7.21 in central\n",
      "\tfound com.navigamez#greex;1.0 in central\n",
      "\tfound dk.brics.automaton#automaton;1.11-8 in central\n",
      "\tfound com.johnsnowlabs.nlp#tensorflow-cpu_2.12;0.4.2 in central\n",
      ":: resolution report :: resolve 404ms :: artifacts dl 14ms\n",
      "\t:: modules in use:\n",
      "\tcom.amazonaws#aws-java-sdk-bundle;1.11.828 from central in [default]\n",
      "\tcom.github.universal-automata#liblevenshtein;3.0.0 from central in [default]\n",
      "\tcom.google.code.findbugs#annotations;3.0.1 from central in [default]\n",
      "\tcom.google.code.findbugs#jsr305;3.0.1 from central in [default]\n",
      "\tcom.google.code.gson#gson;2.3 from central in [default]\n",
      "\tcom.google.protobuf#protobuf-java;3.0.0-beta-3 from central in [default]\n",
      "\tcom.google.protobuf#protobuf-java-util;3.0.0-beta-3 from central in [default]\n",
      "\tcom.johnsnowlabs.nlp#spark-nlp_2.12;4.0.2 from central in [default]\n",
      "\tcom.johnsnowlabs.nlp#tensorflow-cpu_2.12;0.4.2 from central in [default]\n",
      "\tcom.navigamez#greex;1.0 from central in [default]\n",
      "\tcom.typesafe#config;1.4.2 from central in [default]\n",
      "\tdk.brics.automaton#automaton;1.11-8 from central in [default]\n",
      "\tit.unimi.dsi#fastutil;7.0.12 from central in [default]\n",
      "\tnet.jcip#jcip-annotations;1.0 from central in [default]\n",
      "\torg.projectlombok#lombok;1.16.8 from central in [default]\n",
      "\torg.rocksdb#rocksdbjni;6.29.5 from central in [default]\n",
      "\torg.slf4j#slf4j-api;1.7.21 from central in [default]\n",
      "\t---------------------------------------------------------------------\n",
      "\t|                  |            modules            ||   artifacts   |\n",
      "\t|       conf       | number| search|dwnlded|evicted|| number|dwnlded|\n",
      "\t---------------------------------------------------------------------\n",
      "\t|      default     |   17  |   0   |   0   |   0   ||   17  |   0   |\n",
      "\t---------------------------------------------------------------------\n",
      ":: retrieving :: org.apache.spark#spark-submit-parent-a82d468b-0f5d-464f-950a-61ba4bbf3c5b\n",
      "\tconfs: [default]\n",
      "\t0 artifacts copied, 17 already retrieved (0kB/15ms)\n",
      "22/08/12 03:49:16 WARN NativeCodeLoader: Unable to load native-hadoop library for your platform... using builtin-java classes where applicable\n",
      "Using Spark's default log4j profile: org/apache/spark/log4j-defaults.properties\n",
      "Setting default log level to \"WARN\".\n",
      "To adjust logging level use sc.setLogLevel(newLevel). For SparkR, use setLogLevel(newLevel).\n"
     ]
    },
    {
     "name": "stdout",
     "output_type": "stream",
     "text": [
      "classifierdl_use_emotion download started this may take some time.\n",
      "Approximate size to download 21.3 MB\n",
      "[ | ]classifierdl_use_emotion download started this may take some time.\n",
      "Approximate size to download 21.3 MB\n",
      "[ / ]"
     ]
    }
   ],
   "source": [
    "em_sum = nlu.load('emotion').predict(df['Summary'],output_level='document')\n",
    "em_sum['emotion'].value_counts().plot.bar(title='Count of predicted emotion labels')"
   ]
  },
  {
   "cell_type": "code",
   "execution_count": null,
   "id": "1fff3735",
   "metadata": {
    "scrolled": true
   },
   "outputs": [],
   "source": [
    "em_pros = nlu.load('emotion').predict(df['Pros'],output_level='document')\n",
    "em_pros['emotion'].value_counts().plot.bar(title='Count of predicted emotion labels')"
   ]
  },
  {
   "cell_type": "code",
   "execution_count": null,
   "id": "1126de3a",
   "metadata": {},
   "outputs": [],
   "source": [
    "em_cons = nlu.load('emotion').predict(df['Cons'],output_level='document')\n",
    "em_cons['emotion'].value_counts().plot.bar(title='Count of predicted emotion labels')"
   ]
  },
  {
   "cell_type": "code",
   "execution_count": null,
   "id": "52623f61",
   "metadata": {},
   "outputs": [],
   "source": [
    "df['emotion_pros'] = em_pros['emotion']\n",
    "df['emotion_cons'] = em_cons['emotion']\n",
    "df['emotion_sum'] = em_sum['emotion']"
   ]
  },
  {
   "cell_type": "code",
   "execution_count": null,
   "id": "4b3b99ac",
   "metadata": {},
   "outputs": [],
   "source": [
    "df.head(2)"
   ]
  },
  {
   "cell_type": "code",
   "execution_count": null,
   "id": "faf17a6f",
   "metadata": {},
   "outputs": [],
   "source": [
    "df.columns"
   ]
  },
  {
   "cell_type": "code",
   "execution_count": 18,
   "id": "31ab223d",
   "metadata": {},
   "outputs": [],
   "source": [
    "em_con_fear = df[df['emotion_cons'] == 'fear']\n",
    "em_con_fear = em_con_fear[['OverallRating', 'Cons', 'emotion_cons']]"
   ]
  },
  {
   "cell_type": "code",
   "execution_count": 19,
   "id": "d794d50d",
   "metadata": {},
   "outputs": [
    {
     "data": {
      "text/html": [
       "<div>\n",
       "<style scoped>\n",
       "    .dataframe tbody tr th:only-of-type {\n",
       "        vertical-align: middle;\n",
       "    }\n",
       "\n",
       "    .dataframe tbody tr th {\n",
       "        vertical-align: top;\n",
       "    }\n",
       "\n",
       "    .dataframe thead th {\n",
       "        text-align: right;\n",
       "    }\n",
       "</style>\n",
       "<table border=\"1\" class=\"dataframe\">\n",
       "  <thead>\n",
       "    <tr style=\"text-align: right;\">\n",
       "      <th></th>\n",
       "      <th>OverallRating</th>\n",
       "      <th>Cons</th>\n",
       "      <th>emotion_cons</th>\n",
       "    </tr>\n",
       "  </thead>\n",
       "  <tbody>\n",
       "    <tr>\n",
       "      <th>0</th>\n",
       "      <td>5.0</td>\n",
       "      <td>-Hyper growth always means a big work load, bu...</td>\n",
       "      <td>fear</td>\n",
       "    </tr>\n",
       "    <tr>\n",
       "      <th>2</th>\n",
       "      <td>3.0</td>\n",
       "      <td>I came into Salesforce like every rep, excited...</td>\n",
       "      <td>fear</td>\n",
       "    </tr>\n",
       "    <tr>\n",
       "      <th>3</th>\n",
       "      <td>5.0</td>\n",
       "      <td>There are times promotions are political</td>\n",
       "      <td>fear</td>\n",
       "    </tr>\n",
       "    <tr>\n",
       "      <th>9</th>\n",
       "      <td>5.0</td>\n",
       "      <td>Experiencing growing pains transitioning from ...</td>\n",
       "      <td>fear</td>\n",
       "    </tr>\n",
       "    <tr>\n",
       "      <th>10</th>\n",
       "      <td>5.0</td>\n",
       "      <td>-Hyper growth always means a big work load, bu...</td>\n",
       "      <td>fear</td>\n",
       "    </tr>\n",
       "    <tr>\n",
       "      <th>...</th>\n",
       "      <td>...</td>\n",
       "      <td>...</td>\n",
       "      <td>...</td>\n",
       "    </tr>\n",
       "    <tr>\n",
       "      <th>16908</th>\n",
       "      <td>5.0</td>\n",
       "      <td>There are times promotions are political</td>\n",
       "      <td>fear</td>\n",
       "    </tr>\n",
       "    <tr>\n",
       "      <th>16910</th>\n",
       "      <td>5.0</td>\n",
       "      <td>-Hyper growth always means a big work load, bu...</td>\n",
       "      <td>fear</td>\n",
       "    </tr>\n",
       "    <tr>\n",
       "      <th>16911</th>\n",
       "      <td>5.0</td>\n",
       "      <td>Large company. You can get lost in the numbers</td>\n",
       "      <td>fear</td>\n",
       "    </tr>\n",
       "    <tr>\n",
       "      <th>16912</th>\n",
       "      <td>3.0</td>\n",
       "      <td>I came into Salesforce like every rep, excited...</td>\n",
       "      <td>fear</td>\n",
       "    </tr>\n",
       "    <tr>\n",
       "      <th>16918</th>\n",
       "      <td>5.0</td>\n",
       "      <td>There are times promotions are political</td>\n",
       "      <td>fear</td>\n",
       "    </tr>\n",
       "  </tbody>\n",
       "</table>\n",
       "<p>6735 rows × 3 columns</p>\n",
       "</div>"
      ],
      "text/plain": [
       "       OverallRating                                               Cons  \\\n",
       "0                5.0  -Hyper growth always means a big work load, bu...   \n",
       "2                3.0  I came into Salesforce like every rep, excited...   \n",
       "3                5.0           There are times promotions are political   \n",
       "9                5.0  Experiencing growing pains transitioning from ...   \n",
       "10               5.0  -Hyper growth always means a big work load, bu...   \n",
       "...              ...                                                ...   \n",
       "16908            5.0           There are times promotions are political   \n",
       "16910            5.0  -Hyper growth always means a big work load, bu...   \n",
       "16911            5.0     Large company. You can get lost in the numbers   \n",
       "16912            3.0  I came into Salesforce like every rep, excited...   \n",
       "16918            5.0           There are times promotions are political   \n",
       "\n",
       "      emotion_cons  \n",
       "0             fear  \n",
       "2             fear  \n",
       "3             fear  \n",
       "9             fear  \n",
       "10            fear  \n",
       "...            ...  \n",
       "16908         fear  \n",
       "16910         fear  \n",
       "16911         fear  \n",
       "16912         fear  \n",
       "16918         fear  \n",
       "\n",
       "[6735 rows x 3 columns]"
      ]
     },
     "execution_count": 19,
     "metadata": {},
     "output_type": "execute_result"
    }
   ],
   "source": [
    "em_con_fear"
   ]
  },
  {
   "cell_type": "code",
   "execution_count": null,
   "id": "cc0cd664",
   "metadata": {},
   "outputs": [],
   "source": []
  },
  {
   "cell_type": "code",
   "execution_count": null,
   "id": "9a78ae90",
   "metadata": {},
   "outputs": [],
   "source": []
  },
  {
   "cell_type": "code",
   "execution_count": null,
   "id": "e5d936d8",
   "metadata": {},
   "outputs": [],
   "source": []
  },
  {
   "cell_type": "code",
   "execution_count": null,
   "id": "52f40a43",
   "metadata": {},
   "outputs": [],
   "source": []
  },
  {
   "cell_type": "code",
   "execution_count": null,
   "id": "125a2de9",
   "metadata": {},
   "outputs": [],
   "source": []
  },
  {
   "cell_type": "code",
   "execution_count": null,
   "id": "fe4d0949",
   "metadata": {},
   "outputs": [],
   "source": []
  },
  {
   "cell_type": "code",
   "execution_count": null,
   "id": "ffd903df",
   "metadata": {},
   "outputs": [],
   "source": []
  },
  {
   "cell_type": "code",
   "execution_count": null,
   "id": "575aadc7",
   "metadata": {},
   "outputs": [],
   "source": []
  },
  {
   "cell_type": "code",
   "execution_count": null,
   "id": "16c3bfac",
   "metadata": {},
   "outputs": [],
   "source": []
  },
  {
   "cell_type": "markdown",
   "id": "52d9be52",
   "metadata": {},
   "source": [
    "## Sentiment"
   ]
  },
  {
   "cell_type": "code",
   "execution_count": 13,
   "id": "fd62383b",
   "metadata": {
    "scrolled": true
   },
   "outputs": [],
   "source": [
    "# senti_predictions = nlu.load('sentiment').predict(df['Pros'],output_level='document')\n",
    "# senti_predictions['sentiment'].value_counts().plot.bar(title='Count of predicted sentiment labels')"
   ]
  },
  {
   "cell_type": "code",
   "execution_count": 14,
   "id": "35677915",
   "metadata": {
    "scrolled": true
   },
   "outputs": [],
   "source": [
    "# senti_predictions[senti_predictions['sentiment'] == 'neg']"
   ]
  },
  {
   "cell_type": "code",
   "execution_count": null,
   "id": "14b9eafa",
   "metadata": {},
   "outputs": [],
   "source": []
  },
  {
   "cell_type": "code",
   "execution_count": null,
   "id": "5a41af23",
   "metadata": {},
   "outputs": [],
   "source": []
  },
  {
   "cell_type": "code",
   "execution_count": null,
   "id": "7162d546",
   "metadata": {},
   "outputs": [],
   "source": []
  },
  {
   "cell_type": "code",
   "execution_count": null,
   "id": "7abfacf3",
   "metadata": {},
   "outputs": [],
   "source": []
  },
  {
   "cell_type": "code",
   "execution_count": null,
   "id": "75c71d40",
   "metadata": {},
   "outputs": [],
   "source": []
  },
  {
   "cell_type": "code",
   "execution_count": null,
   "id": "12df613f",
   "metadata": {},
   "outputs": [],
   "source": []
  },
  {
   "cell_type": "code",
   "execution_count": null,
   "id": "1e477c93",
   "metadata": {},
   "outputs": [],
   "source": []
  }
 ],
 "metadata": {
  "kernelspec": {
   "display_name": "Python 3 (ipykernel)",
   "language": "python",
   "name": "python3"
  },
  "language_info": {
   "codemirror_mode": {
    "name": "ipython",
    "version": 3
   },
   "file_extension": ".py",
   "mimetype": "text/x-python",
   "name": "python",
   "nbconvert_exporter": "python",
   "pygments_lexer": "ipython3",
   "version": "3.8.8"
  },
  "toc": {
   "base_numbering": 1,
   "nav_menu": {},
   "number_sections": true,
   "sideBar": true,
   "skip_h1_title": false,
   "title_cell": "Table of Contents",
   "title_sidebar": "Contents",
   "toc_cell": false,
   "toc_position": {},
   "toc_section_display": true,
   "toc_window_display": false
  }
 },
 "nbformat": 4,
 "nbformat_minor": 5
}
