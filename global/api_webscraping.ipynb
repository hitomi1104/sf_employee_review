{
 "cells": [
  {
   "cell_type": "code",
   "execution_count": 85,
   "id": "cee6eb30",
   "metadata": {},
   "outputs": [
    {
     "name": "stdout",
     "output_type": "stream",
     "text": [
      "{'result': {'reviews': None}, 'request': {'parse': {'reviews': [{'_parent': 'div.gdReview', 'title': 'a.reviewLink >> text', 'author_info': '.authorInfo >> text', 'rating': 'span.ratingNumber >> text', 'pros': 'span[data-test=pros] >> text', 'cons': 'span[data-test=cons] >> text', 'helpful': 'div.common__EiReviewDetailsStyle__socialHelpfulcontainer >> text'}]}, 'batch': {'urls': ['https://www.glassdoor.com/Reviews/Salesforce-Reviews-E11159_P1175.htm?filter.iso3Language=eng', 'https://www.glassdoor.com/Reviews/Salesforce-Reviews-E11159_P1176.htm?filter.iso3Language=eng', 'https://www.glassdoor.com/Reviews/Salesforce-Reviews-E11159_P1177.htm?filter.iso3Language=eng', 'https://www.glassdoor.com/Reviews/Salesforce-Reviews-E11159_P1178.htm?filter.iso3Language=eng', 'https://www.glassdoor.com/Reviews/Salesforce-Reviews-E11159_P1179.htm?filter.iso3Language=eng', 'https://www.glassdoor.com/Reviews/Salesforce-Reviews-E11159_P1180.htm?filter.iso3Language=eng', 'https://www.glassdoor.com/Reviews/Salesforce-Reviews-E11159_P1181.htm?filter.iso3Language=eng', 'https://www.glassdoor.com/Reviews/Salesforce-Reviews-E11159_P1182.htm?filter.iso3Language=eng', 'https://www.glassdoor.com/Reviews/Salesforce-Reviews-E11159_P1183.htm?filter.iso3Language=eng', 'https://www.glassdoor.com/Reviews/Salesforce-Reviews-E11159_P1184.htm?filter.iso3Language=eng', 'https://www.glassdoor.com/Reviews/Salesforce-Reviews-E11159_P1185.htm?filter.iso3Language=eng', 'https://www.glassdoor.com/Reviews/Salesforce-Reviews-E11159_P1186.htm?filter.iso3Language=eng', 'https://www.glassdoor.com/Reviews/Salesforce-Reviews-E11159_P1187.htm?filter.iso3Language=eng', 'https://www.glassdoor.com/Reviews/Salesforce-Reviews-E11159_P1188.htm?filter.iso3Language=eng', 'https://www.glassdoor.com/Reviews/Salesforce-Reviews-E11159_P1189.htm?filter.iso3Language=eng', 'https://www.glassdoor.com/Reviews/Salesforce-Reviews-E11159_P1190.htm?filter.iso3Language=eng', 'https://www.glassdoor.com/Reviews/Salesforce-Reviews-E11159_P1191.htm?filter.iso3Language=eng', 'https://www.glassdoor.com/Reviews/Salesforce-Reviews-E11159_P1192.htm?filter.iso3Language=eng', 'https://www.glassdoor.com/Reviews/Salesforce-Reviews-E11159_P1193.htm?filter.iso3Language=eng', 'https://www.glassdoor.com/Reviews/Salesforce-Reviews-E11159_P1194.htm?filter.iso3Language=eng', 'https://www.glassdoor.com/Reviews/Salesforce-Reviews-E11159_P1195.htm?filter.iso3Language=eng', 'https://www.glassdoor.com/Reviews/Salesforce-Reviews-E11159_P1196.htm?filter.iso3Language=eng', 'https://www.glassdoor.com/Reviews/Salesforce-Reviews-E11159_P1197.htm?filter.iso3Language=eng', 'https://www.glassdoor.com/Reviews/Salesforce-Reviews-E11159_P1198.htm?filter.iso3Language=eng', 'https://www.glassdoor.com/Reviews/Salesforce-Reviews-E11159_P1199.htm?filter.iso3Language=eng', 'https://www.glassdoor.com/Reviews/Salesforce-Reviews-E11159_P1200.htm?filter.iso3Language=eng'], 'concurrency': 5, 'merge_results': True}, 'scenario': [{'execute': 'parse'}], 'premium_proxy': 'us'}, 'id': 3921302, 'pages_parsed': 26, 'cost': 0.065, 'success': True, 'duration': 36.36}\n"
     ]
    },
    {
     "ename": "TypeError",
     "evalue": "'NoneType' object is not iterable",
     "output_type": "error",
     "traceback": [
      "\u001b[0;31m---------------------------------------------------------------------------\u001b[0m",
      "\u001b[0;31mTypeError\u001b[0m                                 Traceback (most recent call last)",
      "Input \u001b[0;32mIn [85]\u001b[0m, in \u001b[0;36m<cell line: 44>\u001b[0;34m()\u001b[0m\n\u001b[1;32m     39\u001b[0m li \u001b[38;5;241m=\u001b[39m result[\u001b[38;5;124m'\u001b[39m\u001b[38;5;124mresult\u001b[39m\u001b[38;5;124m'\u001b[39m][\u001b[38;5;124m'\u001b[39m\u001b[38;5;124mreviews\u001b[39m\u001b[38;5;124m'\u001b[39m]\n\u001b[1;32m     41\u001b[0m rows \u001b[38;5;241m=\u001b[39m []\n\u001b[0;32m---> 44\u001b[0m \u001b[38;5;28;01mfor\u001b[39;00m i \u001b[38;5;129;01min\u001b[39;00m li:\n\u001b[1;32m     45\u001b[0m     title \u001b[38;5;241m=\u001b[39m df[\u001b[38;5;124m'\u001b[39m\u001b[38;5;124mtitle\u001b[39m\u001b[38;5;124m'\u001b[39m]\n\u001b[1;32m     46\u001b[0m     rows\u001b[38;5;241m.\u001b[39mappend(i)\n",
      "\u001b[0;31mTypeError\u001b[0m: 'NoneType' object is not iterable"
     ]
    }
   ],
   "source": [
    "import requests\n",
    "import json\n",
    "import pandas as pd\n",
    "\n",
    " \n",
    "\n",
    "api_url = 'https://www.page2api.com/api/v1/scrape'\n",
    "payload = {\n",
    "  \"api_key\": \"48e4c40f433ef65a94145ae2a6851d2da0e437c2\",\n",
    "  \"premium_proxy\": \"us\",\n",
    "  \"batch\": {\n",
    "#       1174+1 pages\n",
    "    \"urls\": \"https://www.glassdoor.com/Reviews/Salesforce-Reviews-E11159_P[1175, 1200, 1].htm?filter.iso3Language=eng\",\n",
    "#       Concurrency - how many request will run at the same time\n",
    "    \"concurrency\": 5,\n",
    "    \"merge_results\": True\n",
    "    },\n",
    "  \"parse\": {\n",
    "    \"reviews\": [\n",
    "      {\n",
    "        \"_parent\": \"div.gdReview\",\n",
    "        \"title\": \"a.reviewLink >> text\",\n",
    "        \"author_info\": \".authorInfo >> text\",\n",
    "        \"rating\": \"span.ratingNumber >> text\",\n",
    "        \"pros\": \"span[data-test=pros] >> text\",\n",
    "        \"cons\": \"span[data-test=cons] >> text\",\n",
    "        \"helpful\": \"div.common__EiReviewDetailsStyle__socialHelpfulcontainer >> text\"\n",
    "      }\n",
    "    ]\n",
    "  }\n",
    "}\n",
    "\n",
    "headers = {'Content-type': 'application/json', 'Accept': 'text/plain'}\n",
    "response = requests.post(api_url, data=json.dumps(payload), headers=headers)\n",
    "result = json.loads(response.text)\n",
    "\n",
    "print(result)\n",
    "\n",
    "li = result['result']['reviews']\n",
    "\n",
    "rows = []\n",
    "\n",
    "\n",
    "for i in li:\n",
    "    title = df['title']\n",
    "    rows.append(i)\n",
    "    \n",
    "df = pd.DataFrame(rows)\n",
    "df.drop_duplicates(inplace = True)\n",
    "\n",
    "df.to_csv('scrape1200.csv')"
   ]
  },
  {
   "cell_type": "code",
   "execution_count": null,
   "id": "0029a26f",
   "metadata": {},
   "outputs": [],
   "source": []
  },
  {
   "cell_type": "code",
   "execution_count": null,
   "id": "32bf9d8e",
   "metadata": {},
   "outputs": [],
   "source": []
  },
  {
   "cell_type": "code",
   "execution_count": null,
   "id": "4de5659a",
   "metadata": {},
   "outputs": [],
   "source": []
  }
 ],
 "metadata": {
  "kernelspec": {
   "display_name": "Python 3 (ipykernel)",
   "language": "python",
   "name": "python3"
  },
  "language_info": {
   "codemirror_mode": {
    "name": "ipython",
    "version": 3
   },
   "file_extension": ".py",
   "mimetype": "text/x-python",
   "name": "python",
   "nbconvert_exporter": "python",
   "pygments_lexer": "ipython3",
   "version": "3.8.8"
  },
  "toc": {
   "base_numbering": 1,
   "nav_menu": {},
   "number_sections": true,
   "sideBar": true,
   "skip_h1_title": false,
   "title_cell": "Table of Contents",
   "title_sidebar": "Contents",
   "toc_cell": false,
   "toc_position": {},
   "toc_section_display": true,
   "toc_window_display": false
  }
 },
 "nbformat": 4,
 "nbformat_minor": 5
}
