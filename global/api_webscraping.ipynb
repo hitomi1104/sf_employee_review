{
 "cells": [
  {
   "cell_type": "code",
   "execution_count": null,
   "id": "90b22fa5",
   "metadata": {},
   "outputs": [],
   "source": []
  },
  {
   "cell_type": "code",
   "execution_count": 1,
   "id": "cee6eb30",
   "metadata": {},
   "outputs": [
    {
     "name": "stdout",
     "output_type": "stream",
     "text": [
      "{'error': 'Insufficient funds.'}\n"
     ]
    }
   ],
   "source": [
    "import requests\n",
    "import json\n",
    "\n",
    " \n",
    "\n",
    "api_url = 'https://www.page2api.com/api/v1/scrape'\n",
    "payload = {\n",
    "  \"api_key\": \"48e4c40f433ef65a94145ae2a6851d2da0e437c2\",\n",
    "  \"premium_proxy\": \"us\",\n",
    "  \"batch\": {\n",
    "#       1174+1 pages\n",
    "    \"urls\": \"https://www.glassdoor.com/Reviews/Salesforce-Reviews-E11159_P[121, 130, 1].htm?filter.iso3Language=eng\",\n",
    "    \"concurrency\": 1,\n",
    "    \"merge_results\": True\n",
    "    },\n",
    "  \"parse\": {\n",
    "    \"reviews\": [\n",
    "      {\n",
    "        \"_parent\": \"div.gdReview\",\n",
    "        \"title\": \"a.reviewLink >> text\",\n",
    "        \"author_info\": \".authorInfo >> text\",\n",
    "        \"rating\": \"span.ratingNumber >> text\",\n",
    "        \"pros\": \"span[data-test=pros] >> text\",\n",
    "        \"cons\": \"span[data-test=cons] >> text\",\n",
    "        \"helpful\": \"div.common__EiReviewDetailsStyle__socialHelpfulcontainer >> text\"\n",
    "      }\n",
    "    ]\n",
    "  }\n",
    "}\n",
    "\n",
    "headers = {'Content-type': 'application/json', 'Accept': 'text/plain'}\n",
    "response = requests.post(api_url, data=json.dumps(payload), headers=headers)\n",
    "result = json.loads(response.text)\n",
    "\n",
    "print(result)"
   ]
  },
  {
   "cell_type": "code",
   "execution_count": null,
   "id": "d79aa399",
   "metadata": {},
   "outputs": [],
   "source": [
    "li = result['result']['reviews']"
   ]
  },
  {
   "cell_type": "code",
   "execution_count": null,
   "id": "83ede75f",
   "metadata": {},
   "outputs": [],
   "source": [
    "import pandas as pd\n",
    "\n",
    "rows = []\n",
    "\n",
    "\n",
    "for i in li:\n",
    "    title = df['title']\n",
    "    rows.append(i)\n",
    "    \n",
    "df = pd.DataFrame(rows)"
   ]
  },
  {
   "cell_type": "code",
   "execution_count": null,
   "id": "1db500b2",
   "metadata": {},
   "outputs": [],
   "source": [
    "df.drop_duplicates(inplace = True)"
   ]
  },
  {
   "cell_type": "code",
   "execution_count": null,
   "id": "3a076a7e",
   "metadata": {},
   "outputs": [],
   "source": [
    "# df.to_csv('scrape101-110.csv')\n",
    "# df.to_csv('scrape111-120.csv')\n",
    "df.to_csv('scrape121-130.csv')\n",
    "# df.to_csv('scrape131-140.csv')\n",
    "# df.to_csv('scrape141-150.csv')\n",
    "# df.to_csv('scrape151-160.csv')\n",
    "# df.to_csv('scrape161-170.csv')\n",
    "# df.to_csv('scrape171-180.csv')\n",
    "# df.to_csv('scrape181-190.csv')\n",
    "# df.to_csv('scrape191-200.csv')"
   ]
  },
  {
   "cell_type": "code",
   "execution_count": null,
   "id": "65e06481",
   "metadata": {},
   "outputs": [],
   "source": [
    "# df.to_csv('scrape201-210.csv')\n",
    "# df.to_csv('scrape211-220.csv')\n",
    "# df.to_csv('scrape221-230.csv')\n",
    "# df.to_csv('scrape231-240.csv')\n",
    "# df.to_csv('scrape241-250.csv')\n",
    "# df.to_csv('scrape251-260.csv')\n",
    "# df.to_csv('scrape261-270.csv')\n",
    "# df.to_csv('scrape271-280.csv')\n",
    "# df.to_csv('scrape281-290.csv')\n",
    "# df.to_csv('scrape291-300.csv')"
   ]
  },
  {
   "cell_type": "code",
   "execution_count": null,
   "id": "9b958117",
   "metadata": {},
   "outputs": [],
   "source": [
    "# df.to_csv('scrape301-310.csv')\n",
    "# df.to_csv('scrape311-320.csv')\n",
    "# df.to_csv('scrape321-330.csv')\n",
    "# df.to_csv('scrape331-340.csv')\n",
    "# df.to_csv('scrape341-350.csv')\n",
    "# df.to_csv('scrape351-360.csv')\n",
    "# df.to_csv('scrape361-370.csv')\n",
    "# df.to_csv('scrape371-380.csv')\n",
    "# df.to_csv('scrape381-390.csv')\n",
    "# df.to_csv('scrape391-300.csv')"
   ]
  },
  {
   "cell_type": "code",
   "execution_count": null,
   "id": "32bf9d8e",
   "metadata": {},
   "outputs": [],
   "source": []
  },
  {
   "cell_type": "code",
   "execution_count": null,
   "id": "7308ce65",
   "metadata": {},
   "outputs": [],
   "source": []
  },
  {
   "cell_type": "code",
   "execution_count": null,
   "id": "6bb31be1",
   "metadata": {},
   "outputs": [],
   "source": []
  },
  {
   "cell_type": "code",
   "execution_count": null,
   "id": "77f9bdb9",
   "metadata": {},
   "outputs": [],
   "source": []
  },
  {
   "cell_type": "code",
   "execution_count": null,
   "id": "fe9fa1e2",
   "metadata": {},
   "outputs": [],
   "source": []
  },
  {
   "cell_type": "code",
   "execution_count": null,
   "id": "96f57153",
   "metadata": {},
   "outputs": [],
   "source": []
  },
  {
   "cell_type": "code",
   "execution_count": null,
   "id": "2f80c4c5",
   "metadata": {},
   "outputs": [],
   "source": []
  },
  {
   "cell_type": "code",
   "execution_count": null,
   "id": "0568b937",
   "metadata": {},
   "outputs": [],
   "source": []
  },
  {
   "cell_type": "code",
   "execution_count": null,
   "id": "f93f3882",
   "metadata": {},
   "outputs": [],
   "source": []
  },
  {
   "cell_type": "code",
   "execution_count": null,
   "id": "4de5659a",
   "metadata": {},
   "outputs": [],
   "source": []
  }
 ],
 "metadata": {
  "kernelspec": {
   "display_name": "Python 3 (ipykernel)",
   "language": "python",
   "name": "python3"
  },
  "language_info": {
   "codemirror_mode": {
    "name": "ipython",
    "version": 3
   },
   "file_extension": ".py",
   "mimetype": "text/x-python",
   "name": "python",
   "nbconvert_exporter": "python",
   "pygments_lexer": "ipython3",
   "version": "3.8.8"
  },
  "toc": {
   "base_numbering": 1,
   "nav_menu": {},
   "number_sections": true,
   "sideBar": true,
   "skip_h1_title": false,
   "title_cell": "Table of Contents",
   "title_sidebar": "Contents",
   "toc_cell": false,
   "toc_position": {},
   "toc_section_display": true,
   "toc_window_display": false
  }
 },
 "nbformat": 4,
 "nbformat_minor": 5
}
