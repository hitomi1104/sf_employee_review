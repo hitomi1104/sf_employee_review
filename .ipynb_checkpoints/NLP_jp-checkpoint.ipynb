{
 "cells": [
  {
   "cell_type": "code",
   "execution_count": 108,
   "id": "8699eb40",
   "metadata": {},
   "outputs": [],
   "source": [
    "import pandas as pd\n",
    "import numpy as np\n",
    "\n",
    "\n",
    "# from vaderSentiment.vaderSentiment import SentimentIntensityAnalyzer"
   ]
  },
  {
   "cell_type": "code",
   "execution_count": 125,
   "id": "eb4d2da1",
   "metadata": {},
   "outputs": [
    {
     "data": {
      "text/html": [
       "<div>\n",
       "<style scoped>\n",
       "    .dataframe tbody tr th:only-of-type {\n",
       "        vertical-align: middle;\n",
       "    }\n",
       "\n",
       "    .dataframe tbody tr th {\n",
       "        vertical-align: top;\n",
       "    }\n",
       "\n",
       "    .dataframe thead th {\n",
       "        text-align: right;\n",
       "    }\n",
       "</style>\n",
       "<table border=\"1\" class=\"dataframe\">\n",
       "  <thead>\n",
       "    <tr style=\"text-align: right;\">\n",
       "      <th></th>\n",
       "      <th>タイトル</th>\n",
       "      <th>タイトルリンク</th>\n",
       "      <th>typography-hy</th>\n",
       "      <th>point</th>\n",
       "      <th>w-100</th>\n",
       "      <th>口コミ投稿日</th>\n",
       "      <th>text-center</th>\n",
       "      <th>report</th>\n",
       "      <th>report1</th>\n",
       "    </tr>\n",
       "  </thead>\n",
       "  <tbody>\n",
       "    <tr>\n",
       "      <th>0</th>\n",
       "      <td>男性/ 営業/ 現職（回答時）/ 中途入社/ 在籍3年未満/ 正社員</td>\n",
       "      <td>https://en-hyouban.com/company/10025403019/use...</td>\n",
       "      <td>働き方（勤務時間・休日休暇・制度）</td>\n",
       "      <td>4.7</td>\n",
       "      <td>勤務時間・休日休暇:ワークライフバランスをとるかどうかは自分次第。ベースとなる勤務時間は9：...</td>\n",
       "      <td>2022年03月 6日</td>\n",
       "      <td>2022年時点の情報</td>\n",
       "      <td>https://en-hyouban.com/inquiry/?kuchikomi_id=6...</td>\n",
       "      <td>https://en-hyouban.com/company/10025403019/kuc...</td>\n",
       "    </tr>\n",
       "    <tr>\n",
       "      <th>1</th>\n",
       "      <td>男性/ 営業/ 現職（回答時）/ 中途入社/ 在籍3年未満/ 正社員</td>\n",
       "      <td>https://en-hyouban.com/company/10025403019/use...</td>\n",
       "      <td>働き方（勤務時間・休日休暇・制度）</td>\n",
       "      <td>4.7</td>\n",
       "      <td>勤務時間・休日休暇:ワークライフバランスを保てるかどうかは自分次第。強制的に残業や休日の仕事...</td>\n",
       "      <td>2021年02月23日</td>\n",
       "      <td>2021年時点の情報</td>\n",
       "      <td>https://en-hyouban.com/inquiry/?kuchikomi_id=5...</td>\n",
       "      <td>https://en-hyouban.com/company/10025403019/kuc...</td>\n",
       "    </tr>\n",
       "    <tr>\n",
       "      <th>2</th>\n",
       "      <td>男性/ Solution Engineer/ 現職（回答時）/ 中途入社/ 在籍3～5年/ ...</td>\n",
       "      <td>https://en-hyouban.com/company/10025403019/use...</td>\n",
       "      <td>年収・給与</td>\n",
       "      <td>5.0</td>\n",
       "      <td>給与制度:提示される想定年収の8割が固定給で残り2割がインセンティブインセンティブは四半期ご...</td>\n",
       "      <td>2020年11月20日</td>\n",
       "      <td>2020年時点の情報</td>\n",
       "      <td>https://en-hyouban.com/inquiry/?kuchikomi_id=5...</td>\n",
       "      <td>https://en-hyouban.com/company/10025403019/kuc...</td>\n",
       "    </tr>\n",
       "    <tr>\n",
       "      <th>3</th>\n",
       "      <td>男性/ 6903/ 現職（回答時）/ 中途入社/ 在籍6～10年/ 正社員</td>\n",
       "      <td>https://en-hyouban.com/company/10025403019/use...</td>\n",
       "      <td>企業カルチャー・組織体制</td>\n",
       "      <td>4.9</td>\n",
       "      <td>企業カルチャー・社風:カスタマーサクセスを打ち出しており、導入後も運用をサポートする部門が支...</td>\n",
       "      <td>2021年04月 8日</td>\n",
       "      <td>2021年時点の情報</td>\n",
       "      <td>https://en-hyouban.com/inquiry/?kuchikomi_id=5...</td>\n",
       "      <td>https://en-hyouban.com/company/10025403019/kuc...</td>\n",
       "    </tr>\n",
       "    <tr>\n",
       "      <th>4</th>\n",
       "      <td>男性/ カスタマーサクセス/ 現職（回答時）/ 中途入社/ 在籍11～15年/ 正社員/ デ...</td>\n",
       "      <td>https://en-hyouban.com/company/10025403019/use...</td>\n",
       "      <td>福利厚生・オフィス環境</td>\n",
       "      <td>5.0</td>\n",
       "      <td>福利厚生:オフィス内のカフェテリアは充実している。エスプレッソマシンは自動であるが、豆もそれ...</td>\n",
       "      <td>2020年06月 2日</td>\n",
       "      <td>2020年時点の情報</td>\n",
       "      <td>https://en-hyouban.com/inquiry/?kuchikomi_id=5...</td>\n",
       "      <td>https://en-hyouban.com/company/10025403019/kuc...</td>\n",
       "    </tr>\n",
       "    <tr>\n",
       "      <th>...</th>\n",
       "      <td>...</td>\n",
       "      <td>...</td>\n",
       "      <td>...</td>\n",
       "      <td>...</td>\n",
       "      <td>...</td>\n",
       "      <td>...</td>\n",
       "      <td>...</td>\n",
       "      <td>...</td>\n",
       "      <td>...</td>\n",
       "    </tr>\n",
       "    <tr>\n",
       "      <th>95</th>\n",
       "      <td>女性/ 営業系（営業、MR、営業企画 他）/ 現職（回答時）/ 非正社員</td>\n",
       "      <td>https://en-hyouban.com/company/10025403019/use...</td>\n",
       "      <td>働き方（勤務時間・休日休暇・制度）</td>\n",
       "      <td>NaN</td>\n",
       "      <td>勤務時間・休日休暇：【長期休暇の取得】社員は有給休暇の付与日数が法定よりも多い上に休暇をとて...</td>\n",
       "      <td>2019年11月19日</td>\n",
       "      <td>2019年時点の情報</td>\n",
       "      <td>https://en-hyouban.com/inquiry/?kuchikomi_id=4...</td>\n",
       "      <td>https://en-hyouban.com/company/10025403019/kuc...</td>\n",
       "    </tr>\n",
       "    <tr>\n",
       "      <th>96</th>\n",
       "      <td>女性/ 営業系（営業、MR、営業企画 他）/ 現職（回答時）/ 非正社員</td>\n",
       "      <td>https://en-hyouban.com/company/10025403019/use...</td>\n",
       "      <td>事業展望・強み・弱み</td>\n",
       "      <td>NaN</td>\n",
       "      <td>仕事内容：【個人の裁量】マネジメント能力がない上司をつけられてしまうとあれこれ指示されてまる...</td>\n",
       "      <td>2019年11月13日</td>\n",
       "      <td>2019年時点の情報</td>\n",
       "      <td>https://en-hyouban.com/inquiry/?kuchikomi_id=4...</td>\n",
       "      <td>https://en-hyouban.com/company/10025403019/kuc...</td>\n",
       "    </tr>\n",
       "    <tr>\n",
       "      <th>97</th>\n",
       "      <td>女性/ 営業系（営業、MR、営業企画 他）/ 現職（回答時）/ 非正社員</td>\n",
       "      <td>https://en-hyouban.com/company/10025403019/use...</td>\n",
       "      <td>働き方（勤務時間・休日休暇・制度）</td>\n",
       "      <td>NaN</td>\n",
       "      <td>勤務時間・休日休暇：休日休暇はとても自由に取得させていただけます。派遣社員であっても派遣会社...</td>\n",
       "      <td>2019年11月19日</td>\n",
       "      <td>2019年時点の情報</td>\n",
       "      <td>https://en-hyouban.com/inquiry/?kuchikomi_id=4...</td>\n",
       "      <td>https://en-hyouban.com/company/10025403019/kuc...</td>\n",
       "    </tr>\n",
       "    <tr>\n",
       "      <th>98</th>\n",
       "      <td>女性/ 営業系（営業、MR、営業企画 他）/ 現職（回答時）/ 非正社員</td>\n",
       "      <td>https://en-hyouban.com/company/10025403019/use...</td>\n",
       "      <td>働き方（勤務時間・休日休暇・制度）</td>\n",
       "      <td>NaN</td>\n",
       "      <td>勤務時間・休日休暇：【長期休暇の取得】夏休みやクリスマス～年末年始にかけてアメリカ本社や各国...</td>\n",
       "      <td>2019年11月19日</td>\n",
       "      <td>2019年時点の情報</td>\n",
       "      <td>https://en-hyouban.com/inquiry/?kuchikomi_id=4...</td>\n",
       "      <td>https://en-hyouban.com/company/10025403019/kuc...</td>\n",
       "    </tr>\n",
       "    <tr>\n",
       "      <th>99</th>\n",
       "      <td>女性/ SalesStrategyAccosiate/ 現職（回答時）/ 中途入社/ 在籍3...</td>\n",
       "      <td>https://en-hyouban.com/company/10025403019/use...</td>\n",
       "      <td>福利厚生・オフィス環境</td>\n",
       "      <td>2.8</td>\n",
       "      <td>福利厚生:住宅補助などはないが、月々の健康補助や在宅手当、持株会がある。オフィス環境:新社屋...</td>\n",
       "      <td>2022年02月21日</td>\n",
       "      <td>2022年時点の情報</td>\n",
       "      <td>https://en-hyouban.com/inquiry/?kuchikomi_id=6...</td>\n",
       "      <td>https://en-hyouban.com/company/10025403019/kuc...</td>\n",
       "    </tr>\n",
       "  </tbody>\n",
       "</table>\n",
       "<p>125 rows × 9 columns</p>\n",
       "</div>"
      ],
      "text/plain": [
       "                                                 タイトル  \\\n",
       "0                  男性/ 営業/ 現職（回答時）/ 中途入社/ 在籍3年未満/ 正社員   \n",
       "1                  男性/ 営業/ 現職（回答時）/ 中途入社/ 在籍3年未満/ 正社員   \n",
       "2   男性/ Solution Engineer/ 現職（回答時）/ 中途入社/ 在籍3～5年/ ...   \n",
       "3               男性/ 6903/ 現職（回答時）/ 中途入社/ 在籍6～10年/ 正社員   \n",
       "4   男性/ カスタマーサクセス/ 現職（回答時）/ 中途入社/ 在籍11～15年/ 正社員/ デ...   \n",
       "..                                                ...   \n",
       "95               女性/ 営業系（営業、MR、営業企画 他）/ 現職（回答時）/ 非正社員   \n",
       "96               女性/ 営業系（営業、MR、営業企画 他）/ 現職（回答時）/ 非正社員   \n",
       "97               女性/ 営業系（営業、MR、営業企画 他）/ 現職（回答時）/ 非正社員   \n",
       "98               女性/ 営業系（営業、MR、営業企画 他）/ 現職（回答時）/ 非正社員   \n",
       "99  女性/ SalesStrategyAccosiate/ 現職（回答時）/ 中途入社/ 在籍3...   \n",
       "\n",
       "                                              タイトルリンク      typography-hy  \\\n",
       "0   https://en-hyouban.com/company/10025403019/use...  働き方（勤務時間・休日休暇・制度）   \n",
       "1   https://en-hyouban.com/company/10025403019/use...  働き方（勤務時間・休日休暇・制度）   \n",
       "2   https://en-hyouban.com/company/10025403019/use...              年収・給与   \n",
       "3   https://en-hyouban.com/company/10025403019/use...       企業カルチャー・組織体制   \n",
       "4   https://en-hyouban.com/company/10025403019/use...        福利厚生・オフィス環境   \n",
       "..                                                ...                ...   \n",
       "95  https://en-hyouban.com/company/10025403019/use...  働き方（勤務時間・休日休暇・制度）   \n",
       "96  https://en-hyouban.com/company/10025403019/use...         事業展望・強み・弱み   \n",
       "97  https://en-hyouban.com/company/10025403019/use...  働き方（勤務時間・休日休暇・制度）   \n",
       "98  https://en-hyouban.com/company/10025403019/use...  働き方（勤務時間・休日休暇・制度）   \n",
       "99  https://en-hyouban.com/company/10025403019/use...        福利厚生・オフィス環境   \n",
       "\n",
       "    point                                              w-100       口コミ投稿日  \\\n",
       "0     4.7  勤務時間・休日休暇:ワークライフバランスをとるかどうかは自分次第。ベースとなる勤務時間は9：...  2022年03月 6日   \n",
       "1     4.7  勤務時間・休日休暇:ワークライフバランスを保てるかどうかは自分次第。強制的に残業や休日の仕事...  2021年02月23日   \n",
       "2     5.0  給与制度:提示される想定年収の8割が固定給で残り2割がインセンティブインセンティブは四半期ご...  2020年11月20日   \n",
       "3     4.9  企業カルチャー・社風:カスタマーサクセスを打ち出しており、導入後も運用をサポートする部門が支...  2021年04月 8日   \n",
       "4     5.0  福利厚生:オフィス内のカフェテリアは充実している。エスプレッソマシンは自動であるが、豆もそれ...  2020年06月 2日   \n",
       "..    ...                                                ...          ...   \n",
       "95    NaN  勤務時間・休日休暇：【長期休暇の取得】社員は有給休暇の付与日数が法定よりも多い上に休暇をとて...  2019年11月19日   \n",
       "96    NaN  仕事内容：【個人の裁量】マネジメント能力がない上司をつけられてしまうとあれこれ指示されてまる...  2019年11月13日   \n",
       "97    NaN  勤務時間・休日休暇：休日休暇はとても自由に取得させていただけます。派遣社員であっても派遣会社...  2019年11月19日   \n",
       "98    NaN  勤務時間・休日休暇：【長期休暇の取得】夏休みやクリスマス～年末年始にかけてアメリカ本社や各国...  2019年11月19日   \n",
       "99    2.8  福利厚生:住宅補助などはないが、月々の健康補助や在宅手当、持株会がある。オフィス環境:新社屋...  2022年02月21日   \n",
       "\n",
       "   text-center                                             report  \\\n",
       "0   2022年時点の情報  https://en-hyouban.com/inquiry/?kuchikomi_id=6...   \n",
       "1   2021年時点の情報  https://en-hyouban.com/inquiry/?kuchikomi_id=5...   \n",
       "2   2020年時点の情報  https://en-hyouban.com/inquiry/?kuchikomi_id=5...   \n",
       "3   2021年時点の情報  https://en-hyouban.com/inquiry/?kuchikomi_id=5...   \n",
       "4   2020年時点の情報  https://en-hyouban.com/inquiry/?kuchikomi_id=5...   \n",
       "..         ...                                                ...   \n",
       "95  2019年時点の情報  https://en-hyouban.com/inquiry/?kuchikomi_id=4...   \n",
       "96  2019年時点の情報  https://en-hyouban.com/inquiry/?kuchikomi_id=4...   \n",
       "97  2019年時点の情報  https://en-hyouban.com/inquiry/?kuchikomi_id=4...   \n",
       "98  2019年時点の情報  https://en-hyouban.com/inquiry/?kuchikomi_id=4...   \n",
       "99  2022年時点の情報  https://en-hyouban.com/inquiry/?kuchikomi_id=6...   \n",
       "\n",
       "                                              report1  \n",
       "0   https://en-hyouban.com/company/10025403019/kuc...  \n",
       "1   https://en-hyouban.com/company/10025403019/kuc...  \n",
       "2   https://en-hyouban.com/company/10025403019/kuc...  \n",
       "3   https://en-hyouban.com/company/10025403019/kuc...  \n",
       "4   https://en-hyouban.com/company/10025403019/kuc...  \n",
       "..                                                ...  \n",
       "95  https://en-hyouban.com/company/10025403019/kuc...  \n",
       "96  https://en-hyouban.com/company/10025403019/kuc...  \n",
       "97  https://en-hyouban.com/company/10025403019/kuc...  \n",
       "98  https://en-hyouban.com/company/10025403019/kuc...  \n",
       "99  https://en-hyouban.com/company/10025403019/kuc...  \n",
       "\n",
       "[125 rows x 9 columns]"
      ]
     },
     "execution_count": 125,
     "metadata": {},
     "output_type": "execute_result"
    }
   ],
   "source": [
    "df = pd.read_excel('sf_en_review25.xlsx')\n",
    "df2 = pd.read_excel('scrape2.xlsx')\n",
    "\n",
    "df = pd.concat([df,df2])\n",
    "df.drop_duplicates()"
   ]
  },
  {
   "cell_type": "code",
   "execution_count": 127,
   "id": "65a5d8c5",
   "metadata": {
    "scrolled": true
   },
   "outputs": [
    {
     "data": {
      "text/plain": [
       "Index(['タイトル', 'タイトルリンク', 'typography-hy', 'point', 'w-100', '口コミ投稿日',\n",
       "       'text-center', 'report', 'report1'],\n",
       "      dtype='object')"
      ]
     },
     "execution_count": 127,
     "metadata": {},
     "output_type": "execute_result"
    }
   ],
   "source": [
    "df.columns"
   ]
  },
  {
   "cell_type": "code",
   "execution_count": 128,
   "id": "541df545",
   "metadata": {},
   "outputs": [],
   "source": [
    "df.drop(['タイトルリンク', '口コミ投稿日', 'report', 'report1'], axis = 1, inplace = True)"
   ]
  },
  {
   "cell_type": "code",
   "execution_count": 129,
   "id": "24e88b48",
   "metadata": {},
   "outputs": [
    {
     "data": {
      "text/plain": [
       "(125, 5)"
      ]
     },
     "execution_count": 129,
     "metadata": {},
     "output_type": "execute_result"
    }
   ],
   "source": [
    "df.shape"
   ]
  },
  {
   "cell_type": "code",
   "execution_count": 130,
   "id": "a0e40d54",
   "metadata": {},
   "outputs": [
    {
     "data": {
      "text/plain": [
       "Index(['タイトル', 'typography-hy', 'point', 'w-100', 'text-center'], dtype='object')"
      ]
     },
     "execution_count": 130,
     "metadata": {},
     "output_type": "execute_result"
    }
   ],
   "source": [
    "df.columns"
   ]
  },
  {
   "cell_type": "code",
   "execution_count": 131,
   "id": "2b545c6e",
   "metadata": {},
   "outputs": [],
   "source": [
    "df.rename(columns = {'タイトル': 'reviewer_info', \n",
    "                     'typography-hy': 'title', \n",
    "                     'point' : 'rating', \n",
    "                     'w-100': 'review', \n",
    "                     'text-center': 'year'}, inplace = True)"
   ]
  },
  {
   "cell_type": "code",
   "execution_count": 132,
   "id": "6e5e48e8",
   "metadata": {},
   "outputs": [
    {
     "data": {
      "text/plain": [
       "reviewer_info     object\n",
       "title             object\n",
       "rating           float64\n",
       "review            object\n",
       "year              object\n",
       "dtype: object"
      ]
     },
     "execution_count": 132,
     "metadata": {},
     "output_type": "execute_result"
    }
   ],
   "source": [
    "df.dtypes"
   ]
  },
  {
   "cell_type": "code",
   "execution_count": 133,
   "id": "50c19fe2",
   "metadata": {},
   "outputs": [
    {
     "data": {
      "text/plain": [
       "<AxesSubplot:>"
      ]
     },
     "execution_count": 133,
     "metadata": {},
     "output_type": "execute_result"
    },
    {
     "data": {
      "image/png": "[encoded data removed]",
      "text/plain": [
       "<Figure size 432x288 with 1 Axes>"
      ]
     },
     "metadata": {
      "needs_background": "light"
     },
     "output_type": "display_data"
    }
   ],
   "source": [
    "df['rating'].value_counts().sort_values().plot(kind = 'barh')"
   ]
  },
  {
   "cell_type": "code",
   "execution_count": 134,
   "id": "e120d94b",
   "metadata": {},
   "outputs": [
    {
     "data": {
      "text/plain": [
       "Index(['reviewer_info', 'title', 'rating', 'review', 'year'], dtype='object')"
      ]
     },
     "execution_count": 134,
     "metadata": {},
     "output_type": "execute_result"
    }
   ],
   "source": [
    "df.columns"
   ]
  },
  {
   "cell_type": "code",
   "execution_count": 135,
   "id": "698600d3",
   "metadata": {},
   "outputs": [
    {
     "data": {
      "text/html": [
       "<div>\n",
       "<style scoped>\n",
       "    .dataframe tbody tr th:only-of-type {\n",
       "        vertical-align: middle;\n",
       "    }\n",
       "\n",
       "    .dataframe tbody tr th {\n",
       "        vertical-align: top;\n",
       "    }\n",
       "\n",
       "    .dataframe thead th {\n",
       "        text-align: right;\n",
       "    }\n",
       "</style>\n",
       "<table border=\"1\" class=\"dataframe\">\n",
       "  <thead>\n",
       "    <tr style=\"text-align: right;\">\n",
       "      <th></th>\n",
       "      <th>reviewer_info</th>\n",
       "      <th>title</th>\n",
       "      <th>rating</th>\n",
       "      <th>review</th>\n",
       "      <th>year</th>\n",
       "    </tr>\n",
       "  </thead>\n",
       "  <tbody>\n",
       "    <tr>\n",
       "      <th>0</th>\n",
       "      <td>男性/ 営業/ 現職（回答時）/ 中途入社/ 在籍3年未満/ 正社員</td>\n",
       "      <td>働き方（勤務時間・休日休暇・制度）</td>\n",
       "      <td>4.7</td>\n",
       "      <td>勤務時間・休日休暇:ワークライフバランスをとるかどうかは自分次第。ベースとなる勤務時間は9：...</td>\n",
       "      <td>2022年時点の情報</td>\n",
       "    </tr>\n",
       "    <tr>\n",
       "      <th>1</th>\n",
       "      <td>男性/ 営業/ 現職（回答時）/ 中途入社/ 在籍3年未満/ 正社員</td>\n",
       "      <td>働き方（勤務時間・休日休暇・制度）</td>\n",
       "      <td>4.7</td>\n",
       "      <td>勤務時間・休日休暇:ワークライフバランスを保てるかどうかは自分次第。強制的に残業や休日の仕事...</td>\n",
       "      <td>2021年時点の情報</td>\n",
       "    </tr>\n",
       "  </tbody>\n",
       "</table>\n",
       "</div>"
      ],
      "text/plain": [
       "                        reviewer_info              title  rating  \\\n",
       "0  男性/ 営業/ 現職（回答時）/ 中途入社/ 在籍3年未満/ 正社員  働き方（勤務時間・休日休暇・制度）     4.7   \n",
       "1  男性/ 営業/ 現職（回答時）/ 中途入社/ 在籍3年未満/ 正社員  働き方（勤務時間・休日休暇・制度）     4.7   \n",
       "\n",
       "                                              review        year  \n",
       "0  勤務時間・休日休暇:ワークライフバランスをとるかどうかは自分次第。ベースとなる勤務時間は9：...  2022年時点の情報  \n",
       "1  勤務時間・休日休暇:ワークライフバランスを保てるかどうかは自分次第。強制的に残業や休日の仕事...  2021年時点の情報  "
      ]
     },
     "execution_count": 135,
     "metadata": {},
     "output_type": "execute_result"
    }
   ],
   "source": [
    "df.head(2)"
   ]
  },
  {
   "cell_type": "code",
   "execution_count": null,
   "id": "eae2c8c6",
   "metadata": {},
   "outputs": [],
   "source": []
  },
  {
   "cell_type": "code",
   "execution_count": null,
   "id": "3d62f4b4",
   "metadata": {},
   "outputs": [],
   "source": []
  },
  {
   "cell_type": "code",
   "execution_count": null,
   "id": "ea4f3df5",
   "metadata": {},
   "outputs": [],
   "source": []
  },
  {
   "cell_type": "markdown",
   "id": "7a7f5c00",
   "metadata": {},
   "source": [
    "# Japanese NLP"
   ]
  },
  {
   "cell_type": "code",
   "execution_count": 101,
   "id": "dcba5cb4",
   "metadata": {},
   "outputs": [],
   "source": [
    "li = df.review.tolist()"
   ]
  },
  {
   "cell_type": "code",
   "execution_count": 25,
   "id": "d2869077",
   "metadata": {},
   "outputs": [],
   "source": [
    "import sentencepiece as spm\n",
    "from sentencepiece import SentencePieceTrainer\n",
    "from sentencepiece import SentencePieceProcessor"
   ]
  },
  {
   "cell_type": "code",
   "execution_count": null,
   "id": "ab340017",
   "metadata": {},
   "outputs": [],
   "source": []
  },
  {
   "cell_type": "code",
   "execution_count": 66,
   "id": "b625b273",
   "metadata": {},
   "outputs": [],
   "source": [
    "with open('text.txt', 'w') as f:\n",
    "    f.write(str(li))"
   ]
  },
  {
   "cell_type": "code",
   "execution_count": 67,
   "id": "fba997bc",
   "metadata": {},
   "outputs": [],
   "source": [
    "import nltk\n",
    "from nltk.corpus.reader import *\n",
    "from nltk.corpus.reader.util import *\n",
    "from nltk.text import Text"
   ]
  },
  {
   "cell_type": "code",
   "execution_count": 68,
   "id": "4a9eb373",
   "metadata": {},
   "outputs": [],
   "source": [
    "jp_sent_tokenizer = nltk.RegexpTokenizer(u'[^　「」！？。]*[！？。]')"
   ]
  },
  {
   "cell_type": "code",
   "execution_count": 69,
   "id": "f2f446e8",
   "metadata": {},
   "outputs": [],
   "source": [
    "jp_chartype_tokenizer = nltk.RegexpTokenizer(u'([ぁ-んー]+|[ァ-ンー]+|[\\u4e00-\\u9FFF]+|[^ぁ-んァ-ンー\\u4e00-\\u9FFF]+)')"
   ]
  },
  {
   "cell_type": "code",
   "execution_count": null,
   "id": "bc102d97",
   "metadata": {},
   "outputs": [],
   "source": []
  },
  {
   "cell_type": "code",
   "execution_count": 79,
   "id": "1870ee31",
   "metadata": {},
   "outputs": [],
   "source": [
    "nlp = PlaintextCorpusReader( '/Users/hitomihoshino/Documents/DS/salesforce', r'text.txt',\n",
    "                               encoding='utf-8',\n",
    "                               para_block_reader=read_line_block,\n",
    "                               sent_tokenizer=jp_sent_tokenizer,\n",
    "                               word_tokenizer=jp_chartype_tokenizer)"
   ]
  },
  {
   "cell_type": "code",
   "execution_count": 92,
   "id": "8885c116",
   "metadata": {},
   "outputs": [
    {
     "data": {
      "text/plain": [
       "nltk.text.Text"
      ]
     },
     "execution_count": 92,
     "metadata": {},
     "output_type": "execute_result"
    }
   ],
   "source": [
    "# nlp.raw()\n",
    "\n",
    "type(nlp_t)"
   ]
  },
  {
   "cell_type": "code",
   "execution_count": 94,
   "id": "8f441e20",
   "metadata": {},
   "outputs": [
    {
     "ename": "TypeError",
     "evalue": "write() argument must be str, not <class 'bytes'>",
     "output_type": "error",
     "traceback": [
      "\u001b[0;31m---------------------------------------------------------------------------\u001b[0m",
      "\u001b[0;31mTypeError\u001b[0m                                 Traceback (most recent call last)",
      "Input \u001b[0;32mIn [94]\u001b[0m, in \u001b[0;36m<cell line: 2>\u001b[0;34m()\u001b[0m\n\u001b[1;32m      1\u001b[0m nlp_t \u001b[38;5;241m=\u001b[39m Text(w\u001b[38;5;241m.\u001b[39mencode(\u001b[38;5;124m'\u001b[39m\u001b[38;5;124mutf-8\u001b[39m\u001b[38;5;124m'\u001b[39m) \u001b[38;5;28;01mfor\u001b[39;00m w \u001b[38;5;129;01min\u001b[39;00m nlp\u001b[38;5;241m.\u001b[39mwords() )\n\u001b[0;32m----> 2\u001b[0m \u001b[43mnlp_t\u001b[49m\u001b[38;5;241;43m.\u001b[39;49m\u001b[43mconcordance\u001b[49m\u001b[43m(\u001b[49m\u001b[38;5;124;43m\"\u001b[39;49m\u001b[38;5;124;43mマネージャー\u001b[39;49m\u001b[38;5;124;43m\"\u001b[39;49m\u001b[43m)\u001b[49m\n",
      "File \u001b[0;32m~/opt/anaconda3/lib/python3.8/site-packages/nltk/text.py:387\u001b[0m, in \u001b[0;36mText.concordance\u001b[0;34m(self, word, width, lines)\u001b[0m\n\u001b[1;32m    382\u001b[0m \u001b[38;5;28;01mif\u001b[39;00m \u001b[38;5;124m\"\u001b[39m\u001b[38;5;124m_concordance_index\u001b[39m\u001b[38;5;124m\"\u001b[39m \u001b[38;5;129;01mnot\u001b[39;00m \u001b[38;5;129;01min\u001b[39;00m \u001b[38;5;28mself\u001b[39m\u001b[38;5;241m.\u001b[39m\u001b[38;5;18m__dict__\u001b[39m:\n\u001b[1;32m    383\u001b[0m     \u001b[38;5;28mself\u001b[39m\u001b[38;5;241m.\u001b[39m_concordance_index \u001b[38;5;241m=\u001b[39m ConcordanceIndex(\n\u001b[1;32m    384\u001b[0m         \u001b[38;5;28mself\u001b[39m\u001b[38;5;241m.\u001b[39mtokens, key\u001b[38;5;241m=\u001b[39m\u001b[38;5;28;01mlambda\u001b[39;00m s: s\u001b[38;5;241m.\u001b[39mlower()\n\u001b[1;32m    385\u001b[0m     )\n\u001b[0;32m--> 387\u001b[0m \u001b[38;5;28;01mreturn\u001b[39;00m \u001b[38;5;28;43mself\u001b[39;49m\u001b[38;5;241;43m.\u001b[39;49m\u001b[43m_concordance_index\u001b[49m\u001b[38;5;241;43m.\u001b[39;49m\u001b[43mprint_concordance\u001b[49m\u001b[43m(\u001b[49m\u001b[43mword\u001b[49m\u001b[43m,\u001b[49m\u001b[43m \u001b[49m\u001b[43mwidth\u001b[49m\u001b[43m,\u001b[49m\u001b[43m \u001b[49m\u001b[43mlines\u001b[49m\u001b[43m)\u001b[49m\n",
      "File \u001b[0;32m~/opt/anaconda3/lib/python3.8/site-packages/nltk/text.py:244\u001b[0m, in \u001b[0;36mConcordanceIndex.print_concordance\u001b[0;34m(self, word, width, lines)\u001b[0m\n\u001b[1;32m    241\u001b[0m concordance_list \u001b[38;5;241m=\u001b[39m \u001b[38;5;28mself\u001b[39m\u001b[38;5;241m.\u001b[39mfind_concordance(word, width\u001b[38;5;241m=\u001b[39mwidth)\n\u001b[1;32m    243\u001b[0m \u001b[38;5;28;01mif\u001b[39;00m \u001b[38;5;129;01mnot\u001b[39;00m concordance_list:\n\u001b[0;32m--> 244\u001b[0m     \u001b[38;5;28;43mprint\u001b[39;49m\u001b[43m(\u001b[49m\u001b[38;5;124;43m\"\u001b[39;49m\u001b[38;5;124;43mno matches\u001b[39;49m\u001b[38;5;124;43m\"\u001b[39;49m\u001b[43m)\u001b[49m\n\u001b[1;32m    245\u001b[0m \u001b[38;5;28;01melse\u001b[39;00m:\n\u001b[1;32m    246\u001b[0m     lines \u001b[38;5;241m=\u001b[39m \u001b[38;5;28mmin\u001b[39m(lines, \u001b[38;5;28mlen\u001b[39m(concordance_list))\n",
      "File \u001b[0;32m~/opt/anaconda3/lib/python3.8/codecs.py:378\u001b[0m, in \u001b[0;36mStreamWriter.write\u001b[0;34m(self, object)\u001b[0m\n\u001b[1;32m    375\u001b[0m \u001b[38;5;124;03m\"\"\" Writes the object's contents encoded to self.stream.\u001b[39;00m\n\u001b[1;32m    376\u001b[0m \u001b[38;5;124;03m\"\"\"\u001b[39;00m\n\u001b[1;32m    377\u001b[0m data, consumed \u001b[38;5;241m=\u001b[39m \u001b[38;5;28mself\u001b[39m\u001b[38;5;241m.\u001b[39mencode(\u001b[38;5;28mobject\u001b[39m, \u001b[38;5;28mself\u001b[39m\u001b[38;5;241m.\u001b[39merrors)\n\u001b[0;32m--> 378\u001b[0m \u001b[38;5;28;43mself\u001b[39;49m\u001b[38;5;241;43m.\u001b[39;49m\u001b[43mstream\u001b[49m\u001b[38;5;241;43m.\u001b[39;49m\u001b[43mwrite\u001b[49m\u001b[43m(\u001b[49m\u001b[43mdata\u001b[49m\u001b[43m)\u001b[49m\n",
      "File \u001b[0;32m~/opt/anaconda3/lib/python3.8/site-packages/ipykernel/iostream.py:529\u001b[0m, in \u001b[0;36mOutStream.write\u001b[0;34m(self, string)\u001b[0m\n\u001b[1;32m    519\u001b[0m \u001b[38;5;124;03m\"\"\"Write to current stream after encoding if necessary\u001b[39;00m\n\u001b[1;32m    520\u001b[0m \n\u001b[1;32m    521\u001b[0m \u001b[38;5;124;03mReturns\u001b[39;00m\n\u001b[0;32m   (...)\u001b[0m\n\u001b[1;32m    525\u001b[0m \n\u001b[1;32m    526\u001b[0m \u001b[38;5;124;03m\"\"\"\u001b[39;00m\n\u001b[1;32m    528\u001b[0m \u001b[38;5;28;01mif\u001b[39;00m \u001b[38;5;129;01mnot\u001b[39;00m \u001b[38;5;28misinstance\u001b[39m(string, \u001b[38;5;28mstr\u001b[39m):\n\u001b[0;32m--> 529\u001b[0m     \u001b[38;5;28;01mraise\u001b[39;00m \u001b[38;5;167;01mTypeError\u001b[39;00m(\u001b[38;5;124mf\u001b[39m\u001b[38;5;124m\"\u001b[39m\u001b[38;5;124mwrite() argument must be str, not \u001b[39m\u001b[38;5;132;01m{\u001b[39;00m\u001b[38;5;28mtype\u001b[39m(string)\u001b[38;5;132;01m}\u001b[39;00m\u001b[38;5;124m\"\u001b[39m)\n\u001b[1;32m    531\u001b[0m \u001b[38;5;28;01mif\u001b[39;00m \u001b[38;5;28mself\u001b[39m\u001b[38;5;241m.\u001b[39mecho \u001b[38;5;129;01mis\u001b[39;00m \u001b[38;5;129;01mnot\u001b[39;00m \u001b[38;5;28;01mNone\u001b[39;00m:\n\u001b[1;32m    532\u001b[0m     \u001b[38;5;28;01mtry\u001b[39;00m:\n",
      "\u001b[0;31mTypeError\u001b[0m: write() argument must be str, not <class 'bytes'>"
     ]
    }
   ],
   "source": [
    "nlp_t = Text(w.encode('utf-8') for w in nlp.words() )\n",
    "# nlp_t.concordance(\"マネージャー\") "
   ]
  },
  {
   "cell_type": "code",
   "execution_count": null,
   "id": "516c2b93",
   "metadata": {},
   "outputs": [],
   "source": []
  },
  {
   "cell_type": "code",
   "execution_count": null,
   "id": "3f4600d8",
   "metadata": {},
   "outputs": [],
   "source": []
  },
  {
   "cell_type": "code",
   "execution_count": null,
   "id": "cc2f099d",
   "metadata": {},
   "outputs": [],
   "source": []
  },
  {
   "cell_type": "code",
   "execution_count": null,
   "id": "75731a5c",
   "metadata": {},
   "outputs": [],
   "source": []
  },
  {
   "cell_type": "code",
   "execution_count": null,
   "id": "dada5dad",
   "metadata": {},
   "outputs": [],
   "source": []
  },
  {
   "cell_type": "code",
   "execution_count": null,
   "id": "8d40c702",
   "metadata": {},
   "outputs": [],
   "source": []
  },
  {
   "cell_type": "code",
   "execution_count": null,
   "id": "b850928a",
   "metadata": {},
   "outputs": [],
   "source": []
  },
  {
   "cell_type": "code",
   "execution_count": null,
   "id": "63d99e5d",
   "metadata": {},
   "outputs": [],
   "source": []
  },
  {
   "cell_type": "code",
   "execution_count": null,
   "id": "01c44787",
   "metadata": {},
   "outputs": [],
   "source": []
  },
  {
   "cell_type": "code",
   "execution_count": null,
   "id": "23e2c934",
   "metadata": {},
   "outputs": [],
   "source": []
  },
  {
   "cell_type": "code",
   "execution_count": null,
   "id": "c68f9771",
   "metadata": {},
   "outputs": [],
   "source": []
  }
 ],
 "metadata": {
  "kernelspec": {
   "display_name": "Python 3 (ipykernel)",
   "language": "python",
   "name": "python3"
  },
  "language_info": {
   "codemirror_mode": {
    "name": "ipython",
    "version": 3
   },
   "file_extension": ".py",
   "mimetype": "text/x-python",
   "name": "python",
   "nbconvert_exporter": "python",
   "pygments_lexer": "ipython3",
   "version": "3.8.8"
  },
  "toc": {
   "base_numbering": 1,
   "nav_menu": {},
   "number_sections": true,
   "sideBar": true,
   "skip_h1_title": false,
   "title_cell": "Table of Contents",
   "title_sidebar": "Contents",
   "toc_cell": false,
   "toc_position": {},
   "toc_section_display": true,
   "toc_window_display": false
  }
 },
 "nbformat": 4,
 "nbformat_minor": 5
}
