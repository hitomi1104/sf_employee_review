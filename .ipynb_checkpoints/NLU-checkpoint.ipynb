{
 "cells": [
  {
   "cell_type": "markdown",
   "id": "efbf5b14",
   "metadata": {},
   "source": [
    "https://www.kaggle.com/code/kasimchristianloan/nlu-covid-emotion-showcase"
   ]
  },
  {
   "cell_type": "code",
   "execution_count": 2,
   "id": "9bd70126",
   "metadata": {
    "scrolled": true
   },
   "outputs": [
    {
     "name": "stdout",
     "output_type": "stream",
     "text": [
      "Requirement already satisfied: nlu in /Users/hitomihoshino/opt/anaconda3/lib/python3.8/site-packages (4.0.0)\n",
      "Requirement already satisfied: numpy in /Users/hitomihoshino/opt/anaconda3/lib/python3.8/site-packages (from nlu) (1.19.5)\n",
      "Requirement already satisfied: pyarrow>=0.16.0 in /Users/hitomihoshino/opt/anaconda3/lib/python3.8/site-packages (from nlu) (5.0.0)\n",
      "Requirement already satisfied: spark-nlp<4.1.0,>=4.0.0 in /Users/hitomihoshino/opt/anaconda3/lib/python3.8/site-packages (from nlu) (4.0.2)\n",
      "Requirement already satisfied: dataclasses in /Users/hitomihoshino/opt/anaconda3/lib/python3.8/site-packages (from nlu) (0.6)\n",
      "Requirement already satisfied: pandas>=1.3.5 in /Users/hitomihoshino/opt/anaconda3/lib/python3.8/site-packages (from nlu) (1.3.5)\n",
      "Requirement already satisfied: python-dateutil>=2.7.3 in /Users/hitomihoshino/opt/anaconda3/lib/python3.8/site-packages (from pandas>=1.3.5->nlu) (2.8.1)\n",
      "Requirement already satisfied: pytz>=2017.3 in /Users/hitomihoshino/opt/anaconda3/lib/python3.8/site-packages (from pandas>=1.3.5->nlu) (2021.1)\n",
      "Requirement already satisfied: six>=1.5 in /Users/hitomihoshino/opt/anaconda3/lib/python3.8/site-packages (from python-dateutil>=2.7.3->pandas>=1.3.5->nlu) (1.15.0)\n",
      "Note: you may need to restart the kernel to use updated packages.\n"
     ]
    }
   ],
   "source": [
    "pip install nlu"
   ]
  },
  {
   "cell_type": "code",
   "execution_count": 3,
   "id": "ff5cdac9",
   "metadata": {},
   "outputs": [],
   "source": [
    "import nlu"
   ]
  },
  {
   "cell_type": "code",
   "execution_count": 24,
   "id": "5782b956",
   "metadata": {},
   "outputs": [],
   "source": [
    "import os\n",
    "import numpy as np \n",
    "import pandas as pd \n",
    "\n",
    "df = pd.read_csv(\"review_p1000.csv\")"
   ]
  },
  {
   "cell_type": "code",
   "execution_count": 25,
   "id": "36585eb2",
   "metadata": {
    "scrolled": true
   },
   "outputs": [
    {
     "data": {
      "text/html": [
       "<div>\n",
       "<style scoped>\n",
       "    .dataframe tbody tr th:only-of-type {\n",
       "        vertical-align: middle;\n",
       "    }\n",
       "\n",
       "    .dataframe tbody tr th {\n",
       "        vertical-align: top;\n",
       "    }\n",
       "\n",
       "    .dataframe thead th {\n",
       "        text-align: right;\n",
       "    }\n",
       "</style>\n",
       "<table border=\"1\" class=\"dataframe\">\n",
       "  <thead>\n",
       "    <tr style=\"text-align: right;\">\n",
       "      <th></th>\n",
       "      <th>Unnamed: 0.1</th>\n",
       "      <th>Unnamed: 0</th>\n",
       "      <th>Summary</th>\n",
       "      <th>Date</th>\n",
       "      <th>JobTitle</th>\n",
       "      <th>AuthorLocation</th>\n",
       "      <th>OverallRating</th>\n",
       "      <th>Pros</th>\n",
       "      <th>Cons</th>\n",
       "    </tr>\n",
       "  </thead>\n",
       "  <tbody>\n",
       "    <tr>\n",
       "      <th>0</th>\n",
       "      <td>0</td>\n",
       "      <td>0</td>\n",
       "      <td>Amazing!</td>\n",
       "      <td>Aug 12, 2021</td>\n",
       "      <td>Senior Sales Recruiter</td>\n",
       "      <td>Aug 12, 2021 - Senior Sales Recruiter</td>\n",
       "      <td>5.0</td>\n",
       "      <td>-Unparalleled team, benefits, and overall comp...</td>\n",
       "      <td>-Hyper growth always means a big work load, bu...</td>\n",
       "    </tr>\n",
       "    <tr>\n",
       "      <th>1</th>\n",
       "      <td>1</td>\n",
       "      <td>1</td>\n",
       "      <td>Amazing Company</td>\n",
       "      <td>Aug 6, 2022</td>\n",
       "      <td>LMTS, Software Engineering</td>\n",
       "      <td>Aug 6, 2022 - LMTS, Software Engineering</td>\n",
       "      <td>5.0</td>\n",
       "      <td>Work life balance\\r\\nRespect\\r\\nSalesforce car...</td>\n",
       "      <td>May not offer salary like FAANG companies.</td>\n",
       "    </tr>\n",
       "    <tr>\n",
       "      <th>2</th>\n",
       "      <td>2</td>\n",
       "      <td>2</td>\n",
       "      <td>What a disappointment...</td>\n",
       "      <td>Nov 30, 2020</td>\n",
       "      <td>Account Executive- Core Team</td>\n",
       "      <td>in San Francisco, CA</td>\n",
       "      <td>3.0</td>\n",
       "      <td>- Benefits are top notch\\r\\n- Perks in the tow...</td>\n",
       "      <td>I came into Salesforce like every rep, excited...</td>\n",
       "    </tr>\n",
       "    <tr>\n",
       "      <th>3</th>\n",
       "      <td>3</td>\n",
       "      <td>3</td>\n",
       "      <td>Great Company</td>\n",
       "      <td>Aug 4, 2022</td>\n",
       "      <td>Operations Analyst</td>\n",
       "      <td>Nov 30, 2020 - Account Executive- Core Team</td>\n",
       "      <td>5.0</td>\n",
       "      <td>Company is really great and the working cultur...</td>\n",
       "      <td>There are times promotions are political</td>\n",
       "    </tr>\n",
       "    <tr>\n",
       "      <th>4</th>\n",
       "      <td>4</td>\n",
       "      <td>4</td>\n",
       "      <td>Great Company Good Culture</td>\n",
       "      <td>Aug 5, 2022</td>\n",
       "      <td>Lead Engineer/Technologist</td>\n",
       "      <td>in San Francisco, CA</td>\n",
       "      <td>5.0</td>\n",
       "      <td>PTO\\nSalary\\nCulture\\nCEO &amp; Character</td>\n",
       "      <td>Project teams can be very silo'd which makes i...</td>\n",
       "    </tr>\n",
       "  </tbody>\n",
       "</table>\n",
       "</div>"
      ],
      "text/plain": [
       "   Unnamed: 0.1  Unnamed: 0                     Summary          Date  \\\n",
       "0             0           0                    Amazing!  Aug 12, 2021   \n",
       "1             1           1             Amazing Company   Aug 6, 2022   \n",
       "2             2           2    What a disappointment...  Nov 30, 2020   \n",
       "3             3           3               Great Company   Aug 4, 2022   \n",
       "4             4           4  Great Company Good Culture   Aug 5, 2022   \n",
       "\n",
       "                        JobTitle                               AuthorLocation  \\\n",
       "0         Senior Sales Recruiter        Aug 12, 2021 - Senior Sales Recruiter   \n",
       "1     LMTS, Software Engineering     Aug 6, 2022 - LMTS, Software Engineering   \n",
       "2   Account Executive- Core Team                         in San Francisco, CA   \n",
       "3             Operations Analyst  Nov 30, 2020 - Account Executive- Core Team   \n",
       "4     Lead Engineer/Technologist                         in San Francisco, CA   \n",
       "\n",
       "   OverallRating                                               Pros  \\\n",
       "0            5.0  -Unparalleled team, benefits, and overall comp...   \n",
       "1            5.0  Work life balance\\r\\nRespect\\r\\nSalesforce car...   \n",
       "2            3.0  - Benefits are top notch\\r\\n- Perks in the tow...   \n",
       "3            5.0  Company is really great and the working cultur...   \n",
       "4            5.0              PTO\\nSalary\\nCulture\\nCEO & Character   \n",
       "\n",
       "                                                Cons  \n",
       "0  -Hyper growth always means a big work load, bu...  \n",
       "1         May not offer salary like FAANG companies.  \n",
       "2  I came into Salesforce like every rep, excited...  \n",
       "3           There are times promotions are political  \n",
       "4  Project teams can be very silo'd which makes i...  "
      ]
     },
     "execution_count": 25,
     "metadata": {},
     "output_type": "execute_result"
    }
   ],
   "source": [
    "df.head()"
   ]
  },
  {
   "cell_type": "code",
   "execution_count": 26,
   "id": "0354b801",
   "metadata": {},
   "outputs": [
    {
     "name": "stdout",
     "output_type": "stream",
     "text": [
      "classifierdl_use_emotion download started this may take some time.\n",
      "Approximate size to download 21.3 MB\n",
      "[OK!]\n",
      "tfhub_use download started this may take some time.\n",
      "Approximate size to download 923.7 MB\n",
      "[OK!]\n"
     ]
    },
    {
     "data": {
      "text/plain": [
       "<AxesSubplot:title={'center':'Count of predicted emotion labels'}>"
      ]
     },
     "execution_count": 26,
     "metadata": {},
     "output_type": "execute_result"
    },
    {
     "data": {
      "image/png": "[encoded data removed]",
      "text/plain": [
       "<Figure size 432x288 with 1 Axes>"
      ]
     },
     "metadata": {
      "needs_background": "light"
     },
     "output_type": "display_data"
    }
   ],
   "source": [
    "sentiment_predictions = nlu.load('emotion').predict(df['Pros'],output_level='document')\n",
    "sentiment_predictions['emotion'].value_counts().plot.bar(title='Count of predicted emotion labels')"
   ]
  },
  {
   "cell_type": "code",
   "execution_count": 27,
   "id": "16c32d78",
   "metadata": {},
   "outputs": [
    {
     "name": "stdout",
     "output_type": "stream",
     "text": [
      "classifierdl_use_emotion download started this may take some time.\n",
      "Approximate size to download 21.3 MB\n",
      "[OK!]\n",
      "tfhub_use download started this may take some time.\n",
      "Approximate size to download 923.7 MB\n",
      "[OK!]\n"
     ]
    },
    {
     "data": {
      "text/plain": [
       "<AxesSubplot:title={'center':'Count of predicted emotion labels'}>"
      ]
     },
     "execution_count": 27,
     "metadata": {},
     "output_type": "execute_result"
    },
    {
     "data": {
      "image/png": "[encoded data removed]",
      "text/plain": [
       "<Figure size 432x288 with 1 Axes>"
      ]
     },
     "metadata": {
      "needs_background": "light"
     },
     "output_type": "display_data"
    }
   ],
   "source": [
    "sentiment_predictions = nlu.load('emotion').predict(df['Cons'],output_level='document')\n",
    "sentiment_predictions['emotion'].value_counts().plot.bar(title='Count of predicted emotion labels')"
   ]
  },
  {
   "cell_type": "code",
   "execution_count": 28,
   "id": "70c9e01c",
   "metadata": {},
   "outputs": [
    {
     "name": "stdout",
     "output_type": "stream",
     "text": [
      "classifierdl_use_emotion download started this may take some time.\n",
      "Approximate size to download 21.3 MB\n",
      "[OK!]\n",
      "tfhub_use download started this may take some time.\n",
      "Approximate size to download 923.7 MB\n",
      "[OK!]\n"
     ]
    },
    {
     "data": {
      "text/plain": [
       "<AxesSubplot:title={'center':'Count of predicted emotion labels'}>"
      ]
     },
     "execution_count": 28,
     "metadata": {},
     "output_type": "execute_result"
    },
    {
     "data": {
      "image/png": "[encoded data removed]",
      "text/plain": [
       "<Figure size 432x288 with 1 Axes>"
      ]
     },
     "metadata": {
      "needs_background": "light"
     },
     "output_type": "display_data"
    }
   ],
   "source": [
    "sentiment_predictions = nlu.load('emotion').predict(df['Summary'],output_level='document')\n",
    "sentiment_predictions['emotion'].value_counts().plot.bar(title='Count of predicted emotion labels')"
   ]
  },
  {
   "cell_type": "code",
   "execution_count": null,
   "id": "1126de3a",
   "metadata": {},
   "outputs": [],
   "source": []
  },
  {
   "cell_type": "code",
   "execution_count": null,
   "id": "c878a203",
   "metadata": {},
   "outputs": [],
   "source": []
  },
  {
   "cell_type": "code",
   "execution_count": null,
   "id": "8ea289f6",
   "metadata": {},
   "outputs": [],
   "source": []
  },
  {
   "cell_type": "code",
   "execution_count": null,
   "id": "2c4b911f",
   "metadata": {},
   "outputs": [],
   "source": []
  },
  {
   "cell_type": "code",
   "execution_count": null,
   "id": "0dc5142d",
   "metadata": {},
   "outputs": [],
   "source": []
  },
  {
   "cell_type": "code",
   "execution_count": null,
   "id": "c0043388",
   "metadata": {},
   "outputs": [],
   "source": []
  },
  {
   "cell_type": "code",
   "execution_count": null,
   "id": "bf6386e6",
   "metadata": {},
   "outputs": [],
   "source": []
  },
  {
   "cell_type": "code",
   "execution_count": null,
   "id": "c1c5c5f9",
   "metadata": {},
   "outputs": [],
   "source": []
  },
  {
   "cell_type": "code",
   "execution_count": null,
   "id": "3e397fbb",
   "metadata": {},
   "outputs": [],
   "source": []
  },
  {
   "cell_type": "code",
   "execution_count": null,
   "id": "154442af",
   "metadata": {},
   "outputs": [],
   "source": []
  },
  {
   "cell_type": "code",
   "execution_count": null,
   "id": "7319a1d4",
   "metadata": {},
   "outputs": [],
   "source": []
  },
  {
   "cell_type": "code",
   "execution_count": null,
   "id": "1fff3735",
   "metadata": {},
   "outputs": [],
   "source": []
  },
  {
   "cell_type": "code",
   "execution_count": null,
   "id": "65fc691d",
   "metadata": {},
   "outputs": [],
   "source": []
  }
 ],
 "metadata": {
  "kernelspec": {
   "display_name": "Python 3 (ipykernel)",
   "language": "python",
   "name": "python3"
  },
  "language_info": {
   "codemirror_mode": {
    "name": "ipython",
    "version": 3
   },
   "file_extension": ".py",
   "mimetype": "text/x-python",
   "name": "python",
   "nbconvert_exporter": "python",
   "pygments_lexer": "ipython3",
   "version": "3.8.8"
  },
  "toc": {
   "base_numbering": 1,
   "nav_menu": {},
   "number_sections": true,
   "sideBar": true,
   "skip_h1_title": false,
   "title_cell": "Table of Contents",
   "title_sidebar": "Contents",
   "toc_cell": false,
   "toc_position": {},
   "toc_section_display": true,
   "toc_window_display": false
  }
 },
 "nbformat": 4,
 "nbformat_minor": 5
}
