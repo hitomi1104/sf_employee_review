{
 "cells": [
  {
   "cell_type": "code",
   "execution_count": 1,
   "id": "8699eb40",
   "metadata": {},
   "outputs": [],
   "source": [
    "# import\n",
    "import numpy as np\n",
    "import scipy.stats as stats\n",
    "import seaborn as sns\n",
    "import matplotlib.pyplot as plt\n",
    "import pandas as pd\n",
    "import altair as alt\n",
    "import warnings\n",
    "import streamlit as st\n",
    "from keras.layers import Dense, Activation\n",
    "from keras.models import Sequential\n",
    "from tensorflow import keras\n",
    "from sklearn.cluster import KMeans\n",
    "# folium\n",
    "import folium\n",
    "import folium.plugins as plugins\n",
    "from streamlit_folium import folium_static\n",
    "\n",
    "from sklearn.linear_model import LinearRegression, Lasso\n",
    "from sklearn.preprocessing import StandardScaler\n",
    "from sklearn.model_selection import train_test_split\n",
    "\n",
    "# NLP\n",
    "import nltk\n",
    "from nltk.corpus import stopwords\n",
    "from sklearn.feature_extraction.text import CountVectorizer, TfidfVectorizer\n",
    "from wordcloud import WordCloud, STOPWORDS, ImageColorGenerator\n",
    "from PIL import Image\n",
    "from nltk.tokenize import word_tokenize\n",
    "from nltk.util import ngrams\n",
    "import string\n",
    "\n",
    "# this line tells jupyter notebook to put the plots in the notebook rather than saving them to file\n",
    "%matplotlib inline\n",
    "\n",
    "# this line makes plots prettier on mac retina screens - if you don't have one it shouldn't do anything\n",
    "%config InlineBackend.figure_format = 'retina'\n",
    "\n",
    "\n",
    "# Style\n",
    "sns.set_style(style = 'darkgrid')"
   ]
  },
  {
   "cell_type": "code",
   "execution_count": 3,
   "id": "eb4d2da1",
   "metadata": {},
   "outputs": [],
   "source": [
    "df = pd.read_excel('sf_en_review25.xlsx')"
   ]
  },
  {
   "cell_type": "code",
   "execution_count": 4,
   "id": "13e56cfe",
   "metadata": {},
   "outputs": [
    {
     "data": {
      "text/html": [
       "<div>\n",
       "<style scoped>\n",
       "    .dataframe tbody tr th:only-of-type {\n",
       "        vertical-align: middle;\n",
       "    }\n",
       "\n",
       "    .dataframe tbody tr th {\n",
       "        vertical-align: top;\n",
       "    }\n",
       "\n",
       "    .dataframe thead th {\n",
       "        text-align: right;\n",
       "    }\n",
       "</style>\n",
       "<table border=\"1\" class=\"dataframe\">\n",
       "  <thead>\n",
       "    <tr style=\"text-align: right;\">\n",
       "      <th></th>\n",
       "      <th>タイトル</th>\n",
       "      <th>タイトルリンク</th>\n",
       "      <th>typography-hy</th>\n",
       "      <th>point</th>\n",
       "      <th>w-100</th>\n",
       "      <th>口コミ投稿日</th>\n",
       "      <th>text-center</th>\n",
       "      <th>report</th>\n",
       "      <th>report1</th>\n",
       "    </tr>\n",
       "  </thead>\n",
       "  <tbody>\n",
       "    <tr>\n",
       "      <th>0</th>\n",
       "      <td>男性/ 営業/ 現職（回答時）/ 中途入社/ 在籍3年未満/ 正社員</td>\n",
       "      <td>https://en-hyouban.com/company/10025403019/use...</td>\n",
       "      <td>働き方（勤務時間・休日休暇・制度）</td>\n",
       "      <td>4.7</td>\n",
       "      <td>勤務時間・休日休暇:ワークライフバランスをとるかどうかは自分次第。ベースとなる勤務時間は9：...</td>\n",
       "      <td>2022年03月 6日</td>\n",
       "      <td>2022年時点の情報</td>\n",
       "      <td>https://en-hyouban.com/inquiry/?kuchikomi_id=6...</td>\n",
       "      <td>https://en-hyouban.com/company/10025403019/kuc...</td>\n",
       "    </tr>\n",
       "    <tr>\n",
       "      <th>1</th>\n",
       "      <td>男性/ 営業/ 現職（回答時）/ 中途入社/ 在籍3年未満/ 正社員</td>\n",
       "      <td>https://en-hyouban.com/company/10025403019/use...</td>\n",
       "      <td>働き方（勤務時間・休日休暇・制度）</td>\n",
       "      <td>4.7</td>\n",
       "      <td>勤務時間・休日休暇:ワークライフバランスを保てるかどうかは自分次第。強制的に残業や休日の仕事...</td>\n",
       "      <td>2021年02月23日</td>\n",
       "      <td>2021年時点の情報</td>\n",
       "      <td>https://en-hyouban.com/inquiry/?kuchikomi_id=5...</td>\n",
       "      <td>https://en-hyouban.com/company/10025403019/kuc...</td>\n",
       "    </tr>\n",
       "    <tr>\n",
       "      <th>2</th>\n",
       "      <td>男性/ Solution Engineer/ 現職（回答時）/ 中途入社/ 在籍3～5年/ ...</td>\n",
       "      <td>https://en-hyouban.com/company/10025403019/use...</td>\n",
       "      <td>年収・給与</td>\n",
       "      <td>5.0</td>\n",
       "      <td>給与制度:提示される想定年収の8割が固定給で残り2割がインセンティブインセンティブは四半期ご...</td>\n",
       "      <td>2020年11月20日</td>\n",
       "      <td>2020年時点の情報</td>\n",
       "      <td>https://en-hyouban.com/inquiry/?kuchikomi_id=5...</td>\n",
       "      <td>https://en-hyouban.com/company/10025403019/kuc...</td>\n",
       "    </tr>\n",
       "    <tr>\n",
       "      <th>3</th>\n",
       "      <td>男性/ 6903/ 現職（回答時）/ 中途入社/ 在籍6～10年/ 正社員</td>\n",
       "      <td>https://en-hyouban.com/company/10025403019/use...</td>\n",
       "      <td>企業カルチャー・組織体制</td>\n",
       "      <td>4.9</td>\n",
       "      <td>企業カルチャー・社風:カスタマーサクセスを打ち出しており、導入後も運用をサポートする部門が支...</td>\n",
       "      <td>2021年04月 8日</td>\n",
       "      <td>2021年時点の情報</td>\n",
       "      <td>https://en-hyouban.com/inquiry/?kuchikomi_id=5...</td>\n",
       "      <td>https://en-hyouban.com/company/10025403019/kuc...</td>\n",
       "    </tr>\n",
       "    <tr>\n",
       "      <th>4</th>\n",
       "      <td>男性/ カスタマーサクセス/ 現職（回答時）/ 中途入社/ 在籍11～15年/ 正社員/ デ...</td>\n",
       "      <td>https://en-hyouban.com/company/10025403019/use...</td>\n",
       "      <td>福利厚生・オフィス環境</td>\n",
       "      <td>5.0</td>\n",
       "      <td>福利厚生:オフィス内のカフェテリアは充実している。エスプレッソマシンは自動であるが、豆もそれ...</td>\n",
       "      <td>2020年06月 2日</td>\n",
       "      <td>2020年時点の情報</td>\n",
       "      <td>https://en-hyouban.com/inquiry/?kuchikomi_id=5...</td>\n",
       "      <td>https://en-hyouban.com/company/10025403019/kuc...</td>\n",
       "    </tr>\n",
       "  </tbody>\n",
       "</table>\n",
       "</div>"
      ],
      "text/plain": [
       "                                                タイトル  \\\n",
       "0                 男性/ 営業/ 現職（回答時）/ 中途入社/ 在籍3年未満/ 正社員   \n",
       "1                 男性/ 営業/ 現職（回答時）/ 中途入社/ 在籍3年未満/ 正社員   \n",
       "2  男性/ Solution Engineer/ 現職（回答時）/ 中途入社/ 在籍3～5年/ ...   \n",
       "3              男性/ 6903/ 現職（回答時）/ 中途入社/ 在籍6～10年/ 正社員   \n",
       "4  男性/ カスタマーサクセス/ 現職（回答時）/ 中途入社/ 在籍11～15年/ 正社員/ デ...   \n",
       "\n",
       "                                             タイトルリンク      typography-hy  \\\n",
       "0  https://en-hyouban.com/company/10025403019/use...  働き方（勤務時間・休日休暇・制度）   \n",
       "1  https://en-hyouban.com/company/10025403019/use...  働き方（勤務時間・休日休暇・制度）   \n",
       "2  https://en-hyouban.com/company/10025403019/use...              年収・給与   \n",
       "3  https://en-hyouban.com/company/10025403019/use...       企業カルチャー・組織体制   \n",
       "4  https://en-hyouban.com/company/10025403019/use...        福利厚生・オフィス環境   \n",
       "\n",
       "   point                                              w-100       口コミ投稿日  \\\n",
       "0    4.7  勤務時間・休日休暇:ワークライフバランスをとるかどうかは自分次第。ベースとなる勤務時間は9：...  2022年03月 6日   \n",
       "1    4.7  勤務時間・休日休暇:ワークライフバランスを保てるかどうかは自分次第。強制的に残業や休日の仕事...  2021年02月23日   \n",
       "2    5.0  給与制度:提示される想定年収の8割が固定給で残り2割がインセンティブインセンティブは四半期ご...  2020年11月20日   \n",
       "3    4.9  企業カルチャー・社風:カスタマーサクセスを打ち出しており、導入後も運用をサポートする部門が支...  2021年04月 8日   \n",
       "4    5.0  福利厚生:オフィス内のカフェテリアは充実している。エスプレッソマシンは自動であるが、豆もそれ...  2020年06月 2日   \n",
       "\n",
       "  text-center                                             report  \\\n",
       "0  2022年時点の情報  https://en-hyouban.com/inquiry/?kuchikomi_id=6...   \n",
       "1  2021年時点の情報  https://en-hyouban.com/inquiry/?kuchikomi_id=5...   \n",
       "2  2020年時点の情報  https://en-hyouban.com/inquiry/?kuchikomi_id=5...   \n",
       "3  2021年時点の情報  https://en-hyouban.com/inquiry/?kuchikomi_id=5...   \n",
       "4  2020年時点の情報  https://en-hyouban.com/inquiry/?kuchikomi_id=5...   \n",
       "\n",
       "                                             report1  \n",
       "0  https://en-hyouban.com/company/10025403019/kuc...  \n",
       "1  https://en-hyouban.com/company/10025403019/kuc...  \n",
       "2  https://en-hyouban.com/company/10025403019/kuc...  \n",
       "3  https://en-hyouban.com/company/10025403019/kuc...  \n",
       "4  https://en-hyouban.com/company/10025403019/kuc...  "
      ]
     },
     "execution_count": 4,
     "metadata": {},
     "output_type": "execute_result"
    }
   ],
   "source": [
    "df.head()"
   ]
  },
  {
   "cell_type": "code",
   "execution_count": 5,
   "id": "65a5d8c5",
   "metadata": {},
   "outputs": [
    {
     "data": {
      "text/plain": [
       "Index(['タイトル', 'タイトルリンク', 'typography-hy', 'point', 'w-100', '口コミ投稿日',\n",
       "       'text-center', 'report', 'report1'],\n",
       "      dtype='object')"
      ]
     },
     "execution_count": 5,
     "metadata": {},
     "output_type": "execute_result"
    }
   ],
   "source": [
    "df.columns"
   ]
  },
  {
   "cell_type": "code",
   "execution_count": 9,
   "id": "541df545",
   "metadata": {},
   "outputs": [],
   "source": [
    "df.drop(['タイトルリンク', '口コミ投稿日', 'report', 'report1'], axis = 1, inplace = True)"
   ]
  },
  {
   "cell_type": "code",
   "execution_count": 10,
   "id": "24e88b48",
   "metadata": {},
   "outputs": [
    {
     "data": {
      "text/plain": [
       "(25, 5)"
      ]
     },
     "execution_count": 10,
     "metadata": {},
     "output_type": "execute_result"
    }
   ],
   "source": [
    "df.shape"
   ]
  },
  {
   "cell_type": "code",
   "execution_count": 11,
   "id": "a0e40d54",
   "metadata": {},
   "outputs": [
    {
     "data": {
      "text/plain": [
       "Index(['タイトル', 'typography-hy', 'point', 'w-100', 'text-center'], dtype='object')"
      ]
     },
     "execution_count": 11,
     "metadata": {},
     "output_type": "execute_result"
    }
   ],
   "source": [
    "df.columns"
   ]
  },
  {
   "cell_type": "code",
   "execution_count": 17,
   "id": "2b545c6e",
   "metadata": {},
   "outputs": [],
   "source": [
    "df.rename(columns = {'タイトル': 'reviewer_info', \n",
    "                     'typography-hy': 'title', \n",
    "                     'point' : 'rating', \n",
    "                     'w-100': 'review', \n",
    "                     'text-center': 'year'}, inplace = True)"
   ]
  },
  {
   "cell_type": "code",
   "execution_count": 18,
   "id": "630237c6",
   "metadata": {},
   "outputs": [
    {
     "name": "stdout",
     "output_type": "stream",
     "text": [
      "<class 'pandas.core.frame.DataFrame'>\n",
      "RangeIndex: 25 entries, 0 to 24\n",
      "Data columns (total 5 columns):\n",
      " #   Column         Non-Null Count  Dtype  \n",
      "---  ------         --------------  -----  \n",
      " 0   reviewer_info  25 non-null     object \n",
      " 1   title          25 non-null     object \n",
      " 2   rating         25 non-null     float64\n",
      " 3   review         25 non-null     object \n",
      " 4   year           25 non-null     object \n",
      "dtypes: float64(1), object(4)\n",
      "memory usage: 1.1+ KB\n"
     ]
    }
   ],
   "source": [
    "df.info()"
   ]
  },
  {
   "cell_type": "code",
   "execution_count": 22,
   "id": "50c19fe2",
   "metadata": {},
   "outputs": [
    {
     "data": {
      "text/plain": [
       "<AxesSubplot:>"
      ]
     },
     "execution_count": 22,
     "metadata": {},
     "output_type": "execute_result"
    },
    {
     "data": {
      "image/png": "[encoded data removed]",
      "text/plain": [
       "<Figure size 432x288 with 1 Axes>"
      ]
     },
     "metadata": {
      "image/png": {
       "height": 248,
       "width": 370
      }
     },
     "output_type": "display_data"
    }
   ],
   "source": [
    "df['rating'].value_counts().sort_values().plot(kind = 'barh')"
   ]
  },
  {
   "cell_type": "code",
   "execution_count": 66,
   "id": "026b9c4c",
   "metadata": {},
   "outputs": [
    {
     "name": "stdout",
     "output_type": "stream",
     "text": [
      "Requirement already satisfied: murmurhash in /Users/hitomihoshino/opt/anaconda3/lib/python3.8/site-packages (0.28.0)\n",
      "Note: you may need to restart the kernel to use updated packages.\n"
     ]
    }
   ],
   "source": [
    "pip install murmurhash"
   ]
  },
  {
   "cell_type": "code",
   "execution_count": 69,
   "id": "78eff6f4",
   "metadata": {},
   "outputs": [
    {
     "name": "stdout",
     "output_type": "stream",
     "text": [
      "Collecting murmurhash3\n",
      "  Downloading murmurhash3-2.3.5.tar.gz (3.8 kB)\n",
      "  Preparing metadata (setup.py) ... \u001b[?25ldone\n",
      "\u001b[?25hBuilding wheels for collected packages: murmurhash3\n",
      "  Building wheel for murmurhash3 (setup.py) ... \u001b[?25ldone\n",
      "\u001b[?25h  Created wheel for murmurhash3: filename=murmurhash3-2.3.5-cp38-cp38-macosx_10_9_x86_64.whl size=5293 sha256=4e38cca3f70353e4c72682c7060019f8460a035d9db32189697404cc9376f728\n",
      "  Stored in directory: /Users/hitomihoshino/Library/Caches/pip/wheels/17/ef/5f/144ca0e42b7205633b07144e43c9fd7b3483b1cc21f4bc7778\n",
      "Successfully built murmurhash3\n",
      "Installing collected packages: murmurhash3\n",
      "Successfully installed murmurhash3-2.3.5\n",
      "Note: you may need to restart the kernel to use updated packages.\n"
     ]
    }
   ],
   "source": [
    "pip install murmurhash3"
   ]
  },
  {
   "cell_type": "code",
   "execution_count": 70,
   "id": "baf84083",
   "metadata": {
    "scrolled": true
   },
   "outputs": [
    {
     "ename": "ImportError",
     "evalue": "cannot import name 'hash_unicode' from 'murmurhash' (/Users/hitomihoshino/opt/anaconda3/lib/python3.8/site-packages/murmurhash/__init__.py)",
     "output_type": "error",
     "traceback": [
      "\u001b[0;31m---------------------------------------------------------------------------\u001b[0m",
      "\u001b[0;31mImportError\u001b[0m                               Traceback (most recent call last)",
      "Input \u001b[0;32mIn [70]\u001b[0m, in \u001b[0;36m<cell line: 1>\u001b[0;34m()\u001b[0m\n\u001b[0;32m----> 1\u001b[0m \u001b[38;5;28;01mimport\u001b[39;00m \u001b[38;5;21;01mspacy\u001b[39;00m\n\u001b[1;32m      3\u001b[0m \u001b[38;5;66;03m# Languageクラス 変数名をnlpで宣言するのが一般的（spaCy推奨）\u001b[39;00m\n\u001b[1;32m      4\u001b[0m spacy\u001b[38;5;241m.\u001b[39mLanguage \u001b[38;5;241m=\u001b[39m spacy\u001b[38;5;241m.\u001b[39mload(\u001b[38;5;124m'\u001b[39m\u001b[38;5;124mja_ginza\u001b[39m\u001b[38;5;124m'\u001b[39m)\n",
      "File \u001b[0;32m~/opt/anaconda3/lib/python3.8/site-packages/spacy/__init__.py:11\u001b[0m, in \u001b[0;36m<module>\u001b[0;34m\u001b[0m\n\u001b[1;32m      8\u001b[0m setup_default_warnings()  \u001b[38;5;66;03m# noqa: E402\u001b[39;00m\n\u001b[1;32m     10\u001b[0m \u001b[38;5;66;03m# These are imported as part of the API\u001b[39;00m\n\u001b[0;32m---> 11\u001b[0m \u001b[38;5;28;01mfrom\u001b[39;00m \u001b[38;5;21;01mthinc\u001b[39;00m\u001b[38;5;21;01m.\u001b[39;00m\u001b[38;5;21;01mapi\u001b[39;00m \u001b[38;5;28;01mimport\u001b[39;00m prefer_gpu, require_gpu, require_cpu  \u001b[38;5;66;03m# noqa: F401\u001b[39;00m\n\u001b[1;32m     12\u001b[0m \u001b[38;5;28;01mfrom\u001b[39;00m \u001b[38;5;21;01mthinc\u001b[39;00m\u001b[38;5;21;01m.\u001b[39;00m\u001b[38;5;21;01mapi\u001b[39;00m \u001b[38;5;28;01mimport\u001b[39;00m Config\n\u001b[1;32m     14\u001b[0m \u001b[38;5;28;01mfrom\u001b[39;00m \u001b[38;5;21;01m.\u001b[39;00m \u001b[38;5;28;01mimport\u001b[39;00m pipeline  \u001b[38;5;66;03m# noqa: F401\u001b[39;00m\n",
      "File \u001b[0;32m~/opt/anaconda3/lib/python3.8/site-packages/thinc/api.py:23\u001b[0m, in \u001b[0;36m<module>\u001b[0;34m\u001b[0m\n\u001b[1;32m     20\u001b[0m \u001b[38;5;28;01mfrom\u001b[39;00m \u001b[38;5;21;01m.\u001b[39;00m\u001b[38;5;21;01mbackends\u001b[39;00m \u001b[38;5;28;01mimport\u001b[39;00m Ops, CupyOps, NumpyOps, has_cupy, set_gpu_allocator\n\u001b[1;32m     21\u001b[0m \u001b[38;5;28;01mfrom\u001b[39;00m \u001b[38;5;21;01m.\u001b[39;00m\u001b[38;5;21;01mbackends\u001b[39;00m \u001b[38;5;28;01mimport\u001b[39;00m use_pytorch_for_gpu_memory, use_tensorflow_for_gpu_memory\n\u001b[0;32m---> 23\u001b[0m \u001b[38;5;28;01mfrom\u001b[39;00m \u001b[38;5;21;01m.\u001b[39;00m\u001b[38;5;21;01mlayers\u001b[39;00m \u001b[38;5;28;01mimport\u001b[39;00m Dropout, Embed, expand_window, HashEmbed, LayerNorm, Linear\n\u001b[1;32m     24\u001b[0m \u001b[38;5;28;01mfrom\u001b[39;00m \u001b[38;5;21;01m.\u001b[39;00m\u001b[38;5;21;01mlayers\u001b[39;00m \u001b[38;5;28;01mimport\u001b[39;00m Maxout, Mish, MultiSoftmax, Relu, softmax_activation, Softmax, LSTM\n\u001b[1;32m     25\u001b[0m \u001b[38;5;28;01mfrom\u001b[39;00m \u001b[38;5;21;01m.\u001b[39;00m\u001b[38;5;21;01mlayers\u001b[39;00m \u001b[38;5;28;01mimport\u001b[39;00m CauchySimilarity, ParametricAttention, Logistic\n",
      "File \u001b[0;32m~/opt/anaconda3/lib/python3.8/site-packages/thinc/layers/__init__.py:62\u001b[0m, in \u001b[0;36m<module>\u001b[0;34m\u001b[0m\n\u001b[1;32m     60\u001b[0m \u001b[38;5;28;01mfrom\u001b[39;00m \u001b[38;5;21;01m.\u001b[39;00m\u001b[38;5;21;01mpadded2list\u001b[39;00m \u001b[38;5;28;01mimport\u001b[39;00m padded2list\n\u001b[1;32m     61\u001b[0m \u001b[38;5;28;01mfrom\u001b[39;00m \u001b[38;5;21;01m.\u001b[39;00m\u001b[38;5;21;01mremap_ids\u001b[39;00m \u001b[38;5;28;01mimport\u001b[39;00m remap_ids\n\u001b[0;32m---> 62\u001b[0m \u001b[38;5;28;01mfrom\u001b[39;00m \u001b[38;5;21;01m.\u001b[39;00m\u001b[38;5;21;01mstrings2arrays\u001b[39;00m \u001b[38;5;28;01mimport\u001b[39;00m strings2arrays\n\u001b[1;32m     63\u001b[0m \u001b[38;5;28;01mfrom\u001b[39;00m \u001b[38;5;21;01m.\u001b[39;00m\u001b[38;5;21;01mwith_array\u001b[39;00m \u001b[38;5;28;01mimport\u001b[39;00m with_array\n\u001b[1;32m     64\u001b[0m \u001b[38;5;28;01mfrom\u001b[39;00m \u001b[38;5;21;01m.\u001b[39;00m\u001b[38;5;21;01mwith_array2d\u001b[39;00m \u001b[38;5;28;01mimport\u001b[39;00m with_array2d\n",
      "File \u001b[0;32m~/opt/anaconda3/lib/python3.8/site-packages/thinc/layers/strings2arrays.py:2\u001b[0m, in \u001b[0;36m<module>\u001b[0;34m\u001b[0m\n\u001b[1;32m      1\u001b[0m \u001b[38;5;28;01mfrom\u001b[39;00m \u001b[38;5;21;01mtyping\u001b[39;00m \u001b[38;5;28;01mimport\u001b[39;00m Tuple, List, Callable, Sequence\n\u001b[0;32m----> 2\u001b[0m \u001b[38;5;28;01mfrom\u001b[39;00m \u001b[38;5;21;01mmurmurhash\u001b[39;00m \u001b[38;5;28;01mimport\u001b[39;00m hash_unicode\n\u001b[1;32m      4\u001b[0m \u001b[38;5;28;01mfrom\u001b[39;00m \u001b[38;5;21;01m.\u001b[39;00m\u001b[38;5;21;01m.\u001b[39;00m\u001b[38;5;21;01mmodel\u001b[39;00m \u001b[38;5;28;01mimport\u001b[39;00m Model\n\u001b[1;32m      5\u001b[0m \u001b[38;5;28;01mfrom\u001b[39;00m \u001b[38;5;21;01m.\u001b[39;00m\u001b[38;5;21;01m.\u001b[39;00m\u001b[38;5;21;01mconfig\u001b[39;00m \u001b[38;5;28;01mimport\u001b[39;00m registry\n",
      "\u001b[0;31mImportError\u001b[0m: cannot import name 'hash_unicode' from 'murmurhash' (/Users/hitomihoshino/opt/anaconda3/lib/python3.8/site-packages/murmurhash/__init__.py)"
     ]
    }
   ],
   "source": [
    "import spacy\n",
    "\n",
    "# Languageクラス 変数名をnlpで宣言するのが一般的（spaCy推奨）\n",
    "spacy.Language = spacy.load('ja_ginza')"
   ]
  },
  {
   "cell_type": "code",
   "execution_count": null,
   "id": "99da0f09",
   "metadata": {},
   "outputs": [],
   "source": []
  },
  {
   "cell_type": "code",
   "execution_count": null,
   "id": "ba031310",
   "metadata": {},
   "outputs": [],
   "source": []
  },
  {
   "cell_type": "code",
   "execution_count": null,
   "id": "471cf9fd",
   "metadata": {},
   "outputs": [],
   "source": []
  },
  {
   "cell_type": "code",
   "execution_count": null,
   "id": "164cb7bd",
   "metadata": {},
   "outputs": [],
   "source": []
  },
  {
   "cell_type": "code",
   "execution_count": null,
   "id": "c9695678",
   "metadata": {},
   "outputs": [],
   "source": []
  },
  {
   "cell_type": "code",
   "execution_count": null,
   "id": "0b1d9078",
   "metadata": {},
   "outputs": [],
   "source": []
  },
  {
   "cell_type": "code",
   "execution_count": null,
   "id": "a59f3126",
   "metadata": {},
   "outputs": [],
   "source": []
  },
  {
   "cell_type": "code",
   "execution_count": null,
   "id": "6e1e0b57",
   "metadata": {},
   "outputs": [],
   "source": []
  },
  {
   "cell_type": "code",
   "execution_count": null,
   "id": "1e5edda5",
   "metadata": {},
   "outputs": [],
   "source": []
  },
  {
   "cell_type": "code",
   "execution_count": 72,
   "id": "5f530bb1",
   "metadata": {},
   "outputs": [
    {
     "name": "stdout",
     "output_type": "stream",
     "text": [
      "User Current Version:- 3.8.8 (default, Apr 13 2021, 12:59:45) \n",
      "[Clang 10.0.0 ]\n"
     ]
    }
   ],
   "source": [
    "import sys\n",
    "\n",
    "\n",
    "print(\"User Current Version:-\", sys.version)\n"
   ]
  },
  {
   "cell_type": "code",
   "execution_count": null,
   "id": "1d0df547",
   "metadata": {},
   "outputs": [],
   "source": []
  },
  {
   "cell_type": "code",
   "execution_count": null,
   "id": "c85e3080",
   "metadata": {},
   "outputs": [],
   "source": []
  },
  {
   "cell_type": "code",
   "execution_count": null,
   "id": "66e56db2",
   "metadata": {},
   "outputs": [],
   "source": []
  },
  {
   "cell_type": "code",
   "execution_count": null,
   "id": "17534117",
   "metadata": {},
   "outputs": [],
   "source": []
  }
 ],
 "metadata": {
  "kernelspec": {
   "display_name": "Python 3 (ipykernel)",
   "language": "python",
   "name": "python3"
  },
  "language_info": {
   "codemirror_mode": {
    "name": "ipython",
    "version": 3
   },
   "file_extension": ".py",
   "mimetype": "text/x-python",
   "name": "python",
   "nbconvert_exporter": "python",
   "pygments_lexer": "ipython3",
   "version": "3.8.8"
  },
  "toc": {
   "base_numbering": 1,
   "nav_menu": {},
   "number_sections": true,
   "sideBar": true,
   "skip_h1_title": false,
   "title_cell": "Table of Contents",
   "title_sidebar": "Contents",
   "toc_cell": false,
   "toc_position": {},
   "toc_section_display": true,
   "toc_window_display": false
  }
 },
 "nbformat": 4,
 "nbformat_minor": 5
}
